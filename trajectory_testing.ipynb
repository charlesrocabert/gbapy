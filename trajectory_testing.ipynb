{
 "cells": [
  {
   "cell_type": "markdown",
   "metadata": {},
   "source": [
    "### 1) Load necessary Python packages"
   ]
  },
  {
   "cell_type": "code",
   "execution_count": 6,
   "metadata": {},
   "outputs": [],
   "source": [
    "import os\n",
    "import sys\n",
    "import dill\n",
    "\n",
    "# Add the local src directory to the path\n",
    "sys.path.append('./src/')\n",
    "\n",
    "# Load the GBA_model class\n",
    "from GBA_model import *"
   ]
  },
  {
   "cell_type": "code",
   "execution_count": 7,
   "metadata": {},
   "outputs": [],
   "source": [
    "### Load the model from a binary file ###\n",
    "def load_model( model_name ):\n",
    "    filename = \"./binary_models/\"+model_name+\".gba\"\n",
    "    assert os.path.isfile(filename), \"ERROR: model not found.\"\n",
    "    ifile = open(filename, \"rb\")\n",
    "    model = dill.load(ifile)\n",
    "    ifile.close()\n",
    "    return model"
   ]
  },
  {
   "cell_type": "code",
   "execution_count": 8,
   "metadata": {},
   "outputs": [],
   "source": [
    "def saveValues(model,condition,nameOfCSV=None):\n",
    "  dict_arrays = {\n",
    "    \"Max_growthrate\": model.mu,\n",
    "    \"F-Vector\": model.f,\n",
    "    \"Protein_concentrations vector\" : model.p,\n",
    "    \"GCC_F\": model.GCC_f,\n",
    "    \"Fluxes_vector\" : model.v,\n",
    "    \"Internal_Metabolite_concentrations\": model.c,\n",
    "    \"External_metabolite_concentrations\": model.x,\n",
    "    \"Metabolite_concentrations\": model.xc,\n",
    "  }\n",
    "  dict_arrays_str = {k: [str(v)] for k, v in dict_arrays.items()}\n",
    "\n",
    "  # Erstellen des DataFrames\n",
    "  df = pd.DataFrame(dict_arrays_str)\n",
    "\n",
    "  # Speichern des DataFrames als CSV\n",
    "  df.to_csv(\"Values_at_Max \"+model.model_name+\" \"+condition+\".csv\", sep=',', index=False)\n",
    "\n",
    "  print(df)"
   ]
  },
  {
   "cell_type": "code",
   "execution_count": 9,
   "metadata": {},
   "outputs": [],
   "source": [
    "import matplotlib.pyplot as plt\n",
    "def plotTrajectory(timestamps, muRates):\n",
    "  # Daten für die Zeitachse\n",
    "  t = timestamps  # 100 Zeitpunkte von 0 bis 10\n",
    "\n",
    "  # Daten für die Y-Achse (Beispiel: Sinusfunktion)\n",
    "  mu = muRates\n",
    "\n",
    "  # Erstellung des Plots\n",
    "  plt.figure(figsize=(8, 6))  # Größe des Diagramms festlegen\n",
    "  plt.plot(t, mu, label='mu(t)')  # Plot der Daten\n",
    "  plt.xlabel('Time')  # Beschriftung der X-Achse\n",
    "  plt.ylabel('mu')    # Beschriftung der Y-Achse\n",
    "  plt.title('Plot of mu against Time')  # Titel des Diagramms\n",
    "  plt.grid(True)      # Gitterlinien aktivieren\n",
    "  plt.legend()        # Legende hinzufügen\n",
    "  plt.show()          # Diagramm anzeigen\n",
    "  print(\"max μ rate :\")\n",
    "  print(np.max(mu))\n",
    "  return "
   ]
  },
  {
   "cell_type": "code",
   "execution_count": 10,
   "metadata": {},
   "outputs": [
    {
     "name": "stdout",
     "output_type": "stream",
     "text": [
      ">>> Model state is not consistent:\n",
      "    ------------------------------\n",
      "    • Density constraint: True\n",
      "    • Positive c: False\n",
      "    • Positive p: True\n",
      ">>> Model state is not consistent:\n",
      "    ------------------------------\n",
      "    • Density constraint: True\n",
      "    • Positive c: False\n",
      "    • Positive p: True\n"
     ]
    },
    {
     "data": {
      "image/png": "[encoded data removed]",
      "text/plain": [
       "<Figure size 800x600 with 1 Axes>"
      ]
     },
     "metadata": {},
     "output_type": "display_data"
    },
    {
     "name": "stdout",
     "output_type": "stream",
     "text": [
      "max μ rate :\n",
      "1.708703235027511\n",
      "      Max_growthrate                                           F-Vector  \\\n",
      "0  1.708703235027511  [ 5.77895155e-01  4.22104845e-01 -1.35601430e-...   \n",
      "\n",
      "                       Protein_concentrations vector  \\\n",
      "0  [2.19851259e+01 2.69748216e+01 1.00000000e-10 ...   \n",
      "\n",
      "                                               GCC_F  \\\n",
      "0  [ 0.          0.01318855 -0.13558017 -0.036803...   \n",
      "\n",
      "                                       Fluxes_vector  \\\n",
      "0  [3.35733449e+02 2.45225651e+02 1.00000000e-10 ...   \n",
      "\n",
      "                  Internal_Metabolite_concentrations  \\\n",
      "0  [ 28.22592723  58.59228388  38.88512204 214.29...   \n",
      "\n",
      "  External_metabolite_concentrations  \\\n",
      "0          [66.66666667 10.        ]   \n",
      "\n",
      "                           Metabolite_concentrations  \n",
      "0  [ 66.66666667  10.          28.22592723  58.59...  \n"
     ]
    },
    {
     "ename": "AssertionError",
     "evalue": "trajectory was stopped, because the growthrate did not increase significantly for 5000 tries. ",
     "output_type": "error",
     "traceback": [
      "\u001b[1;31m---------------------------------------------------------------------------\u001b[0m",
      "\u001b[1;31mAssertionError\u001b[0m                            Traceback (most recent call last)",
      "Cell \u001b[1;32mIn[10], line 91\u001b[0m\n\u001b[0;32m     88\u001b[0m   \u001b[38;5;28mprint\u001b[39m (\u001b[38;5;124m\"\u001b[39m\u001b[38;5;124mMaximum was found, Model is consistent\u001b[39m\u001b[38;5;124m\"\u001b[39m)\n\u001b[0;32m     89\u001b[0m   \u001b[38;5;28;01mreturn\u001b[39;00m\n\u001b[1;32m---> 91\u001b[0m \u001b[43mtrajectory\u001b[49m\u001b[43m(\u001b[49m\u001b[43mmodel_name\u001b[49m\u001b[38;5;241;43m=\u001b[39;49m\u001b[38;5;124;43m\"\u001b[39;49m\u001b[38;5;124;43mD\u001b[39;49m\u001b[38;5;124;43m\"\u001b[39;49m\u001b[43m,\u001b[49m\u001b[43mcondition\u001b[49m\u001b[38;5;241;43m=\u001b[39;49m\u001b[38;5;124;43m\"\u001b[39;49m\u001b[38;5;124;43m2\u001b[39;49m\u001b[38;5;124;43m\"\u001b[39;49m\u001b[43m,\u001b[49m\u001b[43mmax_time\u001b[49m\u001b[38;5;241;43m=\u001b[39;49m\u001b[38;5;241;43m2000\u001b[39;49m\u001b[43m,\u001b[49m\u001b[43mfirst_dt\u001b[49m\u001b[43m \u001b[49m\u001b[38;5;241;43m=\u001b[39;49m\u001b[43m \u001b[49m\u001b[38;5;241;43m0.01\u001b[39;49m\u001b[43m,\u001b[49m\u001b[43mdt_changeRate\u001b[49m\u001b[38;5;241;43m=\u001b[39;49m\u001b[38;5;241;43m0.1\u001b[39;49m\u001b[43m)\u001b[49m\n",
      "Cell \u001b[1;32mIn[10], line 39\u001b[0m, in \u001b[0;36mtrajectory\u001b[1;34m(model_name, condition, max_time, first_dt, dt_changeRate, nameOfCSV)\u001b[0m\n\u001b[0;32m     37\u001b[0m     \u001b[38;5;66;03m#print(fluxFractions)\u001b[39;00m\n\u001b[0;32m     38\u001b[0m     saveValues(model,condition,nameOfCSV)\n\u001b[1;32m---> 39\u001b[0m     \u001b[38;5;28;01mraise\u001b[39;00m \u001b[38;5;167;01mAssertionError\u001b[39;00m(\u001b[38;5;124m\"\u001b[39m\u001b[38;5;124mtrajectory was stopped, because the growthrate did not increase significantly for \u001b[39m\u001b[38;5;124m\"\u001b[39m \u001b[38;5;241m+\u001b[39m \u001b[38;5;28mstr\u001b[39m(TRAJECTORY_STABLE_MU_COUNT) \u001b[38;5;241m+\u001b[39m \u001b[38;5;124m\"\u001b[39m\u001b[38;5;124m tries. \u001b[39m\u001b[38;5;124m\"\u001b[39m)\n\u001b[0;32m     41\u001b[0m     \u001b[38;5;28;01mbreak\u001b[39;00m\n\u001b[0;32m     43\u001b[0m \u001b[38;5;28;01mif\u001b[39;00m np\u001b[38;5;241m.\u001b[39many(next_f \u001b[38;5;241m<\u001b[39m \u001b[38;5;241m0\u001b[39m):                                                            \u001b[38;5;66;03m#negative value correction\u001b[39;00m\n\u001b[0;32m     44\u001b[0m    \u001b[38;5;66;03m#print(\"next_f before neg.correction:\", next_f)\u001b[39;00m\n",
      "\u001b[1;31mAssertionError\u001b[0m: trajectory was stopped, because the growthrate did not increase significantly for 5000 tries. "
     ]
    }
   ],
   "source": [
    "def trajectory(model_name=\"A\",condition=\"1\",max_time=5,first_dt = 0.01,dt_changeRate=0.1,nameOfCSV=None):\n",
    "  model = load_model(model_name)      #load and run model\n",
    "  model.set_condition(condition)      #set condition of model\n",
    "  model.solve_local_linear_problem()  #solve first linear problem\n",
    "  model.calculate()                   #calc for the first time (maybe not needed)\n",
    "\n",
    "  dt = first_dt\n",
    "  t = 0                              # time\n",
    "  previous_mu = model.mu\n",
    "  mu_alterationCounter = 0              #setup counter for error criteria\n",
    "  consistent_f = np.copy(model.f_trunc) # saves consistent_f\n",
    "  next_f = np.copy(model.f_trunc)     # the f_trunc, that we are going to change\n",
    "  allGCC_F = [model.GCC_f[1:]]       # to collect all previous GCC_f (just for checking the change of GCC_f)\n",
    "\n",
    "  y_muRates = []                      #save muRates for plotting\n",
    "  timestamps = []                     #save timeStamps for plotting\n",
    "  fluxFractions = []                  #save Fluxfractions for plotting\n",
    "\n",
    "  while (t < max_time):                                                                 # end loop if time is up\n",
    "    #print(\" current mu-Rate\",model.mu)\n",
    "    #print(\"time :\",t)\n",
    "    #print(model.f)\n",
    "    fluxFractions = np.append(fluxFractions, list(model.f))\n",
    "    previous_mu = model.mu\n",
    "    if( ( np.abs(model.GCC_f) <= TRAJECTORY_CONVERGENCE_TOL ).all() and model.consistent):               #(maybe use mu and look if it doesnt change for the next x steps , stop)\n",
    "      \n",
    "      break\n",
    "    \n",
    "    if(model.mu - previous_mu <= TRAJECTORY_CONVERGENCE_TOL):                                            #check if \n",
    "      mu_alterationCounter = mu_alterationCounter + 1\n",
    "      #print(mu_alterationCounter)\n",
    "    else:\n",
    "        mu_alterationCounter = 0\n",
    "\n",
    "    if(mu_alterationCounter >= TRAJECTORY_STABLE_MU_COUNT and model.consistent):\n",
    "        plotTrajectory(timestamps, y_muRates)\n",
    "        #print(fluxFractions)\n",
    "        saveValues(model,condition,nameOfCSV)\n",
    "        raise AssertionError(\"trajectory was stopped, because the model is consistent and the growthrate did not increase significantly for \" + str(TRAJECTORY_STABLE_MU_COUNT) + \" tries. \")\n",
    "\n",
    "        break\n",
    "    \n",
    "    if np.any(next_f < 0):                                                            #negative value correction\n",
    "       #print(\"next_f before neg.correction:\", next_f)\n",
    "       next_f[next_f < 0] = 1e-10\n",
    "       #print(\"next_f after neg.correction:\", next_f)\n",
    "\n",
    "    #print(\"no Mu alterations: \",mu_alterationCounter)\n",
    "    #print(\"current gradient :\", model.GCC_f)\n",
    "    #print(\"current protein\",model.p)\n",
    "    #print(\"current Fluxvector \", model.v)\n",
    "    #print(\"current Tau for protein calc\" , model.tau_j)\n",
    "\n",
    "    #print(\"current Metabolite :\",model.c)\n",
    "\n",
    "    next_f = np.add(next_f, model.GCC_f[1:] * dt)                                      # add without first index of GCC_f\n",
    "\n",
    "    model.set_f(next_f)\n",
    "    model.calculate()\n",
    "    model.v[ model.v < 0 ] = 1e-10                           # enforce positive flux for irreversible reactions\n",
    "    model.p[ model.p < 0 ] = 1e-10                           # enforce positive protein\n",
    "\n",
    "\n",
    "                                                             #calculate everything\n",
    "    model.check_model_consistency()                                               #check consistency\n",
    "\n",
    "    if (model.consistent):\n",
    "      timestamps = np.append(timestamps,t)\n",
    "      y_muRates = np.append(y_muRates,model.mu)\n",
    "\n",
    "      t = t + dt                                                                  # calc. new t\n",
    "      consistent_f = next_f                                                       # saves new f as the consistent f\n",
    "\n",
    "    else:\n",
    "      next_f = consistent_f                                                       #resets next_f to last consistent_f\n",
    "      model.set_f(consistent_f)\n",
    "\n",
    "      if (dt > 1e-100):                                                           # make sure dt is not too small\n",
    "       dt = dt * dt_changeRate\n",
    "       t = t + dt                                                                 # calc. new t\n",
    "\n",
    "      else:\n",
    "        raise AssertionError(\"trajectory was stopped, because dt got too small\")\n",
    "        break\n",
    "      \n",
    "  plotTrajectory(timestamps, y_muRates)\n",
    "  saveValues(model,condition)\n",
    "  print (\"Maximum was found, Model is consistent\")\n",
    "  return\n",
    "\n",
    "trajectory(model_name=\"D\",condition=\"2\",max_time=2000,first_dt = 0.01,dt_changeRate=0.1)\n",
    "\n"
   ]
  }
 ],
 "metadata": {
  "kernelspec": {
   "display_name": "Python 3",
   "language": "python",
   "name": "python3"
  },
  "language_info": {
   "codemirror_mode": {
    "name": "ipython",
    "version": 3
   },
   "file_extension": ".py",
   "mimetype": "text/x-python",
   "name": "python",
   "nbconvert_exporter": "python",
   "pygments_lexer": "ipython3",
   "version": "3.9.10"
  }
 },
 "nbformat": 4,
 "nbformat_minor": 2
}
