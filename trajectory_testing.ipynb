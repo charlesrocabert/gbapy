{
 "cells": [
  {
   "cell_type": "markdown",
   "metadata": {},
   "source": [
    "### 1) Load necessary Python packages"
   ]
  },
  {
   "cell_type": "code",
   "execution_count": 37,
   "metadata": {},
   "outputs": [],
   "source": [
    "import os\n",
    "import sys\n",
    "import dill\n",
    "\n",
    "# Add the local src directory to the path\n",
    "sys.path.append('./src/')\n",
    "\n",
    "# Load the GBA_model class\n",
    "from GBA_model import *"
   ]
  },
  {
   "cell_type": "markdown",
   "metadata": {},
   "source": [
    "### 2) Define a function to load a model from a binary backup\n",
    "See the script `csv_to_binary.py`."
   ]
  },
  {
   "cell_type": "code",
   "execution_count": 38,
   "metadata": {},
   "outputs": [],
   "source": [
    "### Load the model from a binary file ###\n",
    "def load_model( model_name ):\n",
    "    filename = \"./binary_models/\"+model_name+\".gba\"\n",
    "    assert os.path.isfile(filename), \"ERROR: model not found.\"\n",
    "    ifile = open(filename, \"rb\")\n",
    "    model = dill.load(ifile)\n",
    "    ifile.close()\n",
    "    return model"
   ]
  },
  {
   "cell_type": "markdown",
   "metadata": {},
   "source": [
    "### 3) Load the model \"EC12b\" (a very abstract model of <em>E. coli</em>)"
   ]
  },
  {
   "cell_type": "code",
   "execution_count": 39,
   "metadata": {},
   "outputs": [],
   "source": [
    "# I previously saved the model as a binary file with the script `csv_to_binary.py`\n",
    "model = load_model(\"A\")"
   ]
  },
  {
   "cell_type": "markdown",
   "metadata": {},
   "source": [
    "### 4) Define the condition\n",
    "The condition defines the environmental state of the cell (the composition of the medium). External concentrations are stored in the vector $x$.\n",
    "Conditions are listed for the EC12b model in `./csv_models/EC12b/conditions.csv`.\n",
    "We will use the condition 1."
   ]
  },
  {
   "cell_type": "code",
   "execution_count": 40,
   "metadata": {},
   "outputs": [],
   "source": [
    "model.set_condition(\"1\")"
   ]
  },
  {
   "cell_type": "markdown",
   "metadata": {},
   "source": [
    "### 5) Calculate the initial state\n",
    "This little linear program routine allows us to find at least one suboptimal solution for the GBA model.\n",
    "The solution (like every solutions) must satisfy the following constraints:\n",
    "- $c > 0$ (positivity of mass concentrations)\n",
    "- $p > 0$ (positivity of protein mass concentrations)\n",
    "- $sM . f = 1$ (Relative density of 1)\n",
    "\n",
    "The routine requires GUROBIpy to be installed."
   ]
  },
  {
   "cell_type": "code",
   "execution_count": 41,
   "metadata": {},
   "outputs": [],
   "source": [
    "model.solve_local_linear_problem()"
   ]
  },
  {
   "cell_type": "markdown",
   "metadata": {},
   "source": [
    "### 6) Calculate all model variables"
   ]
  },
  {
   "cell_type": "code",
   "execution_count": 42,
   "metadata": {},
   "outputs": [],
   "source": [
    "model.calculate()"
   ]
  },
  {
   "cell_type": "markdown",
   "metadata": {},
   "source": [
    "### 7) Display a few variables"
   ]
  },
  {
   "cell_type": "code",
   "execution_count": 43,
   "metadata": {},
   "outputs": [
    {
     "name": "stdout",
     "output_type": "stream",
     "text": [
      "\n",
      "> Summary of the model:\n",
      "\n",
      " -------- Model report: A --------\n",
      "| • Nb metabolites          = 3\n",
      "| • Nb external metabolites = 1\n",
      "| • Nb internal metabolites = 2\n",
      " ---------------------------------\n",
      "| • Nb reactions          = 2\n",
      "| • Nb exchange reactions = 1\n",
      "| • Nb internal reactions = 0\n",
      " ---------------------------------\n",
      "\n"
     ]
    }
   ],
   "source": [
    "print(\"\\n> Summary of the model:\")\n",
    "print(model)"
   ]
  },
  {
   "cell_type": "code",
   "execution_count": 44,
   "metadata": {},
   "outputs": [
    {
     "name": "stdout",
     "output_type": "stream",
     "text": [
      "\n",
      "> Flux fractions f:\n"
     ]
    },
    {
     "data": {
      "text/html": [
       "<div>\n",
       "<style scoped>\n",
       "    .dataframe tbody tr th:only-of-type {\n",
       "        vertical-align: middle;\n",
       "    }\n",
       "\n",
       "    .dataframe tbody tr th {\n",
       "        vertical-align: top;\n",
       "    }\n",
       "\n",
       "    .dataframe thead th {\n",
       "        text-align: right;\n",
       "    }\n",
       "</style>\n",
       "<table border=\"1\" class=\"dataframe\">\n",
       "  <thead>\n",
       "    <tr style=\"text-align: right;\">\n",
       "      <th></th>\n",
       "      <th>f</th>\n",
       "    </tr>\n",
       "  </thead>\n",
       "  <tbody>\n",
       "    <tr>\n",
       "      <th>rxn1</th>\n",
       "      <td>1.00</td>\n",
       "    </tr>\n",
       "    <tr>\n",
       "      <th>Ribosome</th>\n",
       "      <td>0.95</td>\n",
       "    </tr>\n",
       "  </tbody>\n",
       "</table>\n",
       "</div>"
      ],
      "text/plain": [
       "             f\n",
       "rxn1      1.00\n",
       "Ribosome  0.95"
      ]
     },
     "execution_count": 44,
     "metadata": {},
     "output_type": "execute_result"
    }
   ],
   "source": [
    "print(\"\\n> Flux fractions f:\")\n",
    "df = pd.DataFrame(data=model.f, index=model.reaction_ids, columns=[\"f\"])\n",
    "df"
   ]
  },
  {
   "cell_type": "code",
   "execution_count": 45,
   "metadata": {},
   "outputs": [
    {
     "name": "stdout",
     "output_type": "stream",
     "text": [
      "\n",
      "> Fluxes v:\n"
     ]
    },
    {
     "data": {
      "text/html": [
       "<div>\n",
       "<style scoped>\n",
       "    .dataframe tbody tr th:only-of-type {\n",
       "        vertical-align: middle;\n",
       "    }\n",
       "\n",
       "    .dataframe tbody tr th {\n",
       "        vertical-align: top;\n",
       "    }\n",
       "\n",
       "    .dataframe thead th {\n",
       "        text-align: right;\n",
       "    }\n",
       "</style>\n",
       "<table border=\"1\" class=\"dataframe\">\n",
       "  <thead>\n",
       "    <tr style=\"text-align: right;\">\n",
       "      <th></th>\n",
       "      <th>v</th>\n",
       "    </tr>\n",
       "  </thead>\n",
       "  <tbody>\n",
       "    <tr>\n",
       "      <th>rxn1</th>\n",
       "      <td>784.493843</td>\n",
       "    </tr>\n",
       "    <tr>\n",
       "      <th>Ribosome</th>\n",
       "      <td>745.269151</td>\n",
       "    </tr>\n",
       "  </tbody>\n",
       "</table>\n",
       "</div>"
      ],
      "text/plain": [
       "                   v\n",
       "rxn1      784.493843\n",
       "Ribosome  745.269151"
      ]
     },
     "execution_count": 45,
     "metadata": {},
     "output_type": "execute_result"
    }
   ],
   "source": [
    "print(\"\\n> Fluxes v:\")\n",
    "df = pd.DataFrame(data=model.v, index=model.reaction_ids, columns=[\"v\"])\n",
    "df"
   ]
  },
  {
   "cell_type": "code",
   "execution_count": 46,
   "metadata": {},
   "outputs": [
    {
     "name": "stdout",
     "output_type": "stream",
     "text": [
      "\n",
      "> Mass fractions b:\n"
     ]
    },
    {
     "data": {
      "text/html": [
       "<div>\n",
       "<style scoped>\n",
       "    .dataframe tbody tr th:only-of-type {\n",
       "        vertical-align: middle;\n",
       "    }\n",
       "\n",
       "    .dataframe tbody tr th {\n",
       "        vertical-align: top;\n",
       "    }\n",
       "\n",
       "    .dataframe thead th {\n",
       "        text-align: right;\n",
       "    }\n",
       "</style>\n",
       "<table border=\"1\" class=\"dataframe\">\n",
       "  <thead>\n",
       "    <tr style=\"text-align: right;\">\n",
       "      <th></th>\n",
       "      <th>b</th>\n",
       "    </tr>\n",
       "  </thead>\n",
       "  <tbody>\n",
       "    <tr>\n",
       "      <th>AA</th>\n",
       "      <td>0.05</td>\n",
       "    </tr>\n",
       "    <tr>\n",
       "      <th>Protein</th>\n",
       "      <td>0.95</td>\n",
       "    </tr>\n",
       "  </tbody>\n",
       "</table>\n",
       "</div>"
      ],
      "text/plain": [
       "            b\n",
       "AA       0.05\n",
       "Protein  0.95"
      ]
     },
     "execution_count": 46,
     "metadata": {},
     "output_type": "execute_result"
    }
   ],
   "source": [
    "print(\"\\n> Mass fractions b:\")\n",
    "df = pd.DataFrame(data=model.b, index=model.c_ids, columns=[\"b\"])\n",
    "df"
   ]
  },
  {
   "cell_type": "code",
   "execution_count": 47,
   "metadata": {},
   "outputs": [
    {
     "name": "stdout",
     "output_type": "stream",
     "text": [
      "\n",
      "> Mass concentrations c:\n"
     ]
    },
    {
     "data": {
      "text/html": [
       "<div>\n",
       "<style scoped>\n",
       "    .dataframe tbody tr th:only-of-type {\n",
       "        vertical-align: middle;\n",
       "    }\n",
       "\n",
       "    .dataframe tbody tr th {\n",
       "        vertical-align: top;\n",
       "    }\n",
       "\n",
       "    .dataframe thead th {\n",
       "        text-align: right;\n",
       "    }\n",
       "</style>\n",
       "<table border=\"1\" class=\"dataframe\">\n",
       "  <thead>\n",
       "    <tr style=\"text-align: right;\">\n",
       "      <th></th>\n",
       "      <th>c</th>\n",
       "    </tr>\n",
       "  </thead>\n",
       "  <tbody>\n",
       "    <tr>\n",
       "      <th>AA</th>\n",
       "      <td>17.0</td>\n",
       "    </tr>\n",
       "    <tr>\n",
       "      <th>Protein</th>\n",
       "      <td>323.0</td>\n",
       "    </tr>\n",
       "  </tbody>\n",
       "</table>\n",
       "</div>"
      ],
      "text/plain": [
       "             c\n",
       "AA        17.0\n",
       "Protein  323.0"
      ]
     },
     "execution_count": 47,
     "metadata": {},
     "output_type": "execute_result"
    }
   ],
   "source": [
    "print(\"\\n> Mass concentrations c:\")\n",
    "df = pd.DataFrame(data=model.c, index=model.c_ids, columns=[\"c\"])\n",
    "df"
   ]
  },
  {
   "cell_type": "code",
   "execution_count": 48,
   "metadata": {},
   "outputs": [
    {
     "name": "stdout",
     "output_type": "stream",
     "text": [
      "\n",
      "> Growth rate mu:\n",
      "2.3073348331964825\n"
     ]
    }
   ],
   "source": [
    "print(\"\\n> Growth rate mu:\")\n",
    "print(model.mu)"
   ]
  },
  {
   "cell_type": "markdown",
   "metadata": {},
   "source": [
    "### 8) Test the consistency of the model (positivity + total density)\n",
    "The result of the consistency check is stored in the variable model.consistent"
   ]
  },
  {
   "cell_type": "code",
   "execution_count": 49,
   "metadata": {},
   "outputs": [
    {
     "name": "stdout",
     "output_type": "stream",
     "text": [
      "True\n"
     ]
    }
   ],
   "source": [
    "model.check_model_consistency()\n",
    "print(model.consistent)"
   ]
  },
  {
   "cell_type": "markdown",
   "metadata": {},
   "source": [
    "### 9) Mu derivatives\n",
    "The function `model.calculate()` also calculates derivatives $\\dfrac{d\\mu}{df}$.\n",
    "To follow the fitness gradient, the important variable is `GCC_f`, which corrects for total density."
   ]
  },
  {
   "cell_type": "code",
   "execution_count": 50,
   "metadata": {},
   "outputs": [
    {
     "name": "stdout",
     "output_type": "stream",
     "text": [
      "\n",
      "> dmu/df:\n"
     ]
    },
    {
     "data": {
      "text/html": [
       "<div>\n",
       "<style scoped>\n",
       "    .dataframe tbody tr th:only-of-type {\n",
       "        vertical-align: middle;\n",
       "    }\n",
       "\n",
       "    .dataframe tbody tr th {\n",
       "        vertical-align: top;\n",
       "    }\n",
       "\n",
       "    .dataframe thead th {\n",
       "        text-align: right;\n",
       "    }\n",
       "</style>\n",
       "<table border=\"1\" class=\"dataframe\">\n",
       "  <thead>\n",
       "    <tr style=\"text-align: right;\">\n",
       "      <th></th>\n",
       "      <th>dmu/df</th>\n",
       "    </tr>\n",
       "  </thead>\n",
       "  <tbody>\n",
       "    <tr>\n",
       "      <th>rxn1</th>\n",
       "      <td>10.859334</td>\n",
       "    </tr>\n",
       "    <tr>\n",
       "      <th>Ribosome</th>\n",
       "      <td>-10.829544</td>\n",
       "    </tr>\n",
       "  </tbody>\n",
       "</table>\n",
       "</div>"
      ],
      "text/plain": [
       "             dmu/df\n",
       "rxn1      10.859334\n",
       "Ribosome -10.829544"
      ]
     },
     "execution_count": 50,
     "metadata": {},
     "output_type": "execute_result"
    }
   ],
   "source": [
    "print(\"\\n> dmu/df:\")\n",
    "df = pd.DataFrame(data=model.dmu_f, index=model.reaction_ids, columns=[\"dmu/df\"])\n",
    "df"
   ]
  },
  {
   "cell_type": "code",
   "execution_count": 51,
   "metadata": {},
   "outputs": [
    {
     "name": "stdout",
     "output_type": "stream",
     "text": [
      "\n",
      "> GCC_f:\n"
     ]
    },
    {
     "data": {
      "text/html": [
       "<div>\n",
       "<style scoped>\n",
       "    .dataframe tbody tr th:only-of-type {\n",
       "        vertical-align: middle;\n",
       "    }\n",
       "\n",
       "    .dataframe tbody tr th {\n",
       "        vertical-align: top;\n",
       "    }\n",
       "\n",
       "    .dataframe thead th {\n",
       "        text-align: right;\n",
       "    }\n",
       "</style>\n",
       "<table border=\"1\" class=\"dataframe\">\n",
       "  <thead>\n",
       "    <tr style=\"text-align: right;\">\n",
       "      <th></th>\n",
       "      <th>GCC_f</th>\n",
       "    </tr>\n",
       "  </thead>\n",
       "  <tbody>\n",
       "    <tr>\n",
       "      <th>rxn1</th>\n",
       "      <td>0.000000</td>\n",
       "    </tr>\n",
       "    <tr>\n",
       "      <th>Ribosome</th>\n",
       "      <td>-10.829544</td>\n",
       "    </tr>\n",
       "  </tbody>\n",
       "</table>\n",
       "</div>"
      ],
      "text/plain": [
       "              GCC_f\n",
       "rxn1       0.000000\n",
       "Ribosome -10.829544"
      ]
     },
     "execution_count": 51,
     "metadata": {},
     "output_type": "execute_result"
    }
   ],
   "source": [
    "print(\"\\n> GCC_f:\")\n",
    "df = pd.DataFrame(data=model.GCC_f, index=model.reaction_ids, columns=[\"GCC_f\"])\n",
    "df"
   ]
  },
  {
   "cell_type": "code",
   "execution_count": 52,
   "metadata": {},
   "outputs": [
    {
     "name": "stdout",
     "output_type": "stream",
     "text": [
      "\n",
      "> f_trunc:\n"
     ]
    },
    {
     "data": {
      "text/html": [
       "<div>\n",
       "<style scoped>\n",
       "    .dataframe tbody tr th:only-of-type {\n",
       "        vertical-align: middle;\n",
       "    }\n",
       "\n",
       "    .dataframe tbody tr th {\n",
       "        vertical-align: top;\n",
       "    }\n",
       "\n",
       "    .dataframe thead th {\n",
       "        text-align: right;\n",
       "    }\n",
       "</style>\n",
       "<table border=\"1\" class=\"dataframe\">\n",
       "  <thead>\n",
       "    <tr style=\"text-align: right;\">\n",
       "      <th></th>\n",
       "      <th>f_trunc</th>\n",
       "    </tr>\n",
       "  </thead>\n",
       "  <tbody>\n",
       "    <tr>\n",
       "      <th>Ribosome</th>\n",
       "      <td>0.95</td>\n",
       "    </tr>\n",
       "  </tbody>\n",
       "</table>\n",
       "</div>"
      ],
      "text/plain": [
       "          f_trunc\n",
       "Ribosome     0.95"
      ]
     },
     "execution_count": 52,
     "metadata": {},
     "output_type": "execute_result"
    }
   ],
   "source": [
    "f_truncIndex = ['Ribosome'] #first element index removed\n",
    "print(\"\\n> f_trunc:\")\n",
    "df = pd.DataFrame(data=model.f_trunc, index=f_truncIndex, columns=[\"f_trunc\"])\n",
    "df"
   ]
  },
  {
   "cell_type": "code",
   "execution_count": 53,
   "metadata": {},
   "outputs": [
    {
     "name": "stdout",
     "output_type": "stream",
     "text": [
      "first next_f: \n",
      "[0.95]\n",
      "first GCC_f: \n",
      "[  0.         -10.82954389]\n",
      "absolute of GCC_F is less then threshold in GCC_F : [ 0.00000000e+00 -9.64858268e-06]\n",
      "(array([ 0.00000000e+00, -9.64858268e-06]), array([1.        , 0.81269166]), array([912.25600275, 741.38284929]))\n",
      "True\n"
     ]
    }
   ],
   "source": [
    "def trajectory(model,max_time=1000,first_dt = 0.01,dt_changeRate=0.1):\n",
    "  threshold = 1e-5                   # for gradient \"=\" 0\n",
    "  dt = first_dt\n",
    "  t = 0                              # time\n",
    "  consistent_f = np.copy(model.f_trunc) # safes consistent_f\n",
    "  next_f = np.copy(model.f_trunc)     # the f_trunc, that we are going to change\n",
    "  allGCC_F = [model.GCC_f[1:]]\n",
    "  print(\"first next_f: \")\n",
    "  print(next_f)\n",
    "  print(\"first GCC_f: \")\n",
    "  print(model.GCC_f)\n",
    "  \n",
    "  \n",
    "  while (t < max_time): # end loop if time is up\n",
    "\n",
    "    if((np.abs(model.GCC_f) <= threshold ).all() and model.consistent):\n",
    "      print(\"absolute of GCC_F is less then threshold in GCC_F :\", model.GCC_f)\n",
    "      break\n",
    "\n",
    "    next_f = np.add(next_f, model.GCC_f[1:] * dt)                                      # add without first index of GCC_f\n",
    "    #print(f\"np.add({next_f}, {model.GCC_f[1:]} * {dt})\")                                  # shows the term sum of next_f and GCC_f\n",
    "    model.set_f(next_f)\n",
    "    model.calculate()                                                           #calculate everything\n",
    " \n",
    "    allGCC_F = np.vstack((allGCC_F,model.GCC_f[1:]))                            # collects all previous GCC_f (just for checking the change of GCC_f)\n",
    "    model.check_model_consistency()     #check consistency\n",
    "    if (model.consistent):\n",
    "      #print(\"Model is consistent with GCC_F:\")\n",
    "      #print(model.GCC_f)\n",
    "      t = t + dt                     # calc. new t\n",
    "      consistent_f = next_f            # saves new f as the consistent f\n",
    "\n",
    "    else:\n",
    "      next_f = consistent_f          #resets next_f to last consistent_f\n",
    "      model.set_f(consistent_f)\n",
    "\n",
    "      if (dt > 1e-100):             # make sure dt is not too small\n",
    "       dt = dt * dt_changeRate\n",
    "    \n",
    "       t = t + dt                   # calc. new t\n",
    "      else:\n",
    "        break\n",
    "      \n",
    "\n",
    "  #print(\"consistent_f: \")\n",
    "  #print(consistent_f)\n",
    "  #print('Last GCC_f')\n",
    "  #print(model.GCC_f)\n",
    "  #print(allGCC_F)\n",
    "  \n",
    "  return model.GCC_f, model.f, model.v\n",
    "\n",
    "print(trajectory(model,max_time=1000,first_dt = 0.01,dt_changeRate=0.1))\n",
    "print(model.consistent)"
   ]
  },
  {
   "cell_type": "code",
   "execution_count": 54,
   "metadata": {},
   "outputs": [
    {
     "name": "stdout",
     "output_type": "stream",
     "text": [
      "[False]\n",
      "True\n"
     ]
    }
   ],
   "source": [
    "print((np.abs(model.GCC_f[1:]) > 0.1))\n",
    "print(model.consistent)\n",
    "#4.42560776e-15"
   ]
  },
  {
   "cell_type": "markdown",
   "metadata": {},
   "source": []
  }
 ],
 "metadata": {
  "kernelspec": {
   "display_name": "Python 3",
   "language": "python",
   "name": "python3"
  },
  "language_info": {
   "codemirror_mode": {
    "name": "ipython",
    "version": 3
   },
   "file_extension": ".py",
   "mimetype": "text/x-python",
   "name": "python",
   "nbconvert_exporter": "python",
   "pygments_lexer": "ipython3",
   "version": "3.9.10"
  }
 },
 "nbformat": 4,
 "nbformat_minor": 2
}
