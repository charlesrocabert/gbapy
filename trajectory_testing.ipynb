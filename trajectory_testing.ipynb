{
 "cells": [
  {
   "cell_type": "markdown",
   "metadata": {},
   "source": [
    "### 1) Load necessary Python packages"
   ]
  },
  {
   "cell_type": "code",
   "execution_count": null,
   "metadata": {},
   "outputs": [],
   "source": [
    "import os\n",
    "import sys\n",
    "import dill\n",
    "\n",
    "# Add the local src directory to the path\n",
    "sys.path.append('./src/')\n",
    "\n",
    "# Load the GBA_model class\n",
    "from GBA_model import *"
   ]
  },
  {
   "cell_type": "markdown",
   "metadata": {},
   "source": [
    "### 2) Define a function to load a model from a binary backup\n",
    "See the script `csv_to_binary.py`."
   ]
  },
  {
   "cell_type": "code",
   "execution_count": null,
   "metadata": {},
   "outputs": [],
   "source": [
    "### Load the model from a binary file ###\n",
    "def load_model( model_name ):\n",
    "    filename = \"./binary_models/\"+model_name+\".gba\"\n",
    "    assert os.path.isfile(filename), \"ERROR: model not found.\"\n",
    "    ifile = open(filename, \"rb\")\n",
    "    model = dill.load(ifile)\n",
    "    ifile.close()\n",
    "    return model"
   ]
  },
  {
   "cell_type": "markdown",
   "metadata": {},
   "source": [
    "### 3) Load the model \"EC12b\" (a very abstract model of <em>E. coli</em>)"
   ]
  },
  {
   "cell_type": "code",
   "execution_count": null,
   "metadata": {},
   "outputs": [],
   "source": [
    "# I previously saved the model as a binary file with the script `csv_to_binary.py`\n",
    "model = load_model(\"D\")"
   ]
  },
  {
   "cell_type": "markdown",
   "metadata": {},
   "source": [
    "### 4) Define the condition\n",
    "The condition defines the environmental state of the cell (the composition of the medium). External concentrations are stored in the vector $x$.\n",
    "Conditions are listed for the EC12b model in `./csv_models/EC12b/conditions.csv`.\n",
    "We will use the condition 1."
   ]
  },
  {
   "cell_type": "code",
   "execution_count": null,
   "metadata": {},
   "outputs": [],
   "source": [
    "model.set_condition(\"1\")"
   ]
  },
  {
   "cell_type": "code",
   "execution_count": null,
   "metadata": {},
   "outputs": [],
   "source": [
    "model.solve_local_linear_problem()"
   ]
  },
  {
   "cell_type": "markdown",
   "metadata": {},
   "source": [
    "### 6) Calculate all model variables"
   ]
  },
  {
   "cell_type": "code",
   "execution_count": null,
   "metadata": {},
   "outputs": [],
   "source": [
    "model.calculate()"
   ]
  },
  {
   "cell_type": "code",
   "execution_count": null,
   "metadata": {},
   "outputs": [],
   "source": [
    "def saveValues(model):\n",
    "  dict_arrays = {\n",
    "    \"Max_growthrate\": model.mu,\n",
    "    \"F-Vector\": model.f,\n",
    "    \"Protein_concentrations vector\" : model.p,\n",
    "    \"GCC_F\": model.GCC_f,\n",
    "    \"Fluxes_vector\" : model.v,\n",
    "    \"Internal_Metabolite_concentrations\": model.c,\n",
    "    \"External_metabolite_concentrations\": model.x,\n",
    "    \"Metabolite_concentrations\": model.xc,\n",
    "  }\n",
    "  dict_arrays_str = {k: [str(v)] for k, v in dict_arrays.items()}\n",
    "\n",
    "  # Erstellen des DataFrames\n",
    "  df = pd.DataFrame(dict_arrays_str)\n",
    "\n",
    "  # Speichern des DataFrames als CSV\n",
    "  df.to_csv(\"Values_at_Max.csv\", sep=',', index=False)\n",
    "\n",
    "  print(df)"
   ]
  },
  {
   "cell_type": "code",
   "execution_count": null,
   "metadata": {},
   "outputs": [],
   "source": [
    "import matplotlib.pyplot as plt\n",
    "def plotTrajectory(timestamps, muRates):\n",
    "  # Daten für die Zeitachse\n",
    "  t = timestamps  # 100 Zeitpunkte von 0 bis 10\n",
    "\n",
    "  # Daten für die Y-Achse (Beispiel: Sinusfunktion)\n",
    "  mu = muRates\n",
    "\n",
    "  # Erstellung des Plots\n",
    "  plt.figure(figsize=(8, 6))  # Größe des Diagramms festlegen\n",
    "  plt.plot(t, mu, label='mu(t)')  # Plot der Daten\n",
    "  plt.xlabel('Time')  # Beschriftung der X-Achse\n",
    "  plt.ylabel('mu')    # Beschriftung der Y-Achse\n",
    "  plt.title('Plot of mu against Time')  # Titel des Diagramms\n",
    "  plt.grid(True)      # Gitterlinien aktivieren\n",
    "  plt.legend()        # Legende hinzufügen\n",
    "  plt.show()          # Diagramm anzeigen\n",
    "  print(\"max μ rate :\")\n",
    "  print(np.max(mu))\n",
    "  return "
   ]
  },
  {
   "cell_type": "code",
   "execution_count": null,
   "metadata": {},
   "outputs": [],
   "source": [
    "def trajectory(model,max_time=1000,first_dt = 0.01,dt_changeRate=0.1):\n",
    "                    # for gradient \"=\" 0\n",
    "  dt = first_dt\n",
    "  t = 0                              # time\n",
    "  print(TRAJECTORY_STABLE_MU_COUNT)\n",
    "  previous_mu = model.mu\n",
    "  mu_alterationCounter = 0\n",
    "  consistent_f = np.copy(model.f_trunc) # safes consistent_f\n",
    "  next_f = np.copy(model.f_trunc)     # the f_trunc, that we are going to change\n",
    "  allGCC_F = [model.GCC_f[1:]]       # to collect all previous GCC_f (just for checking the change of GCC_f)\n",
    "  #print(\"first next_f: \")\n",
    "  #print(next_f)\n",
    "  #print(\"first GCC_f: \")\n",
    "  #print(model.GCC_f)\n",
    "  y_muRates = []                      #save muRates for plotting\n",
    "  timestamps = []                     #save timeStamps for plotting\n",
    "  while (t < max_time):                                                                 # end loop if time is up\n",
    "\n",
    "    if( ( np.abs(model.GCC_f) <= TRAJECTORY_CONVERGENCE_TOL ).all() and model.consistent):               #(maybe use mu and look if it doesnt change for the next x steps , stop)\n",
    "      #print(\"absolute of GCC_F is less then threshold in GCC_F :\", model.GCC_f)\n",
    "      break\n",
    "\n",
    "    if(model.mu == previous_mu):\n",
    "      mu_alterationCounter = mu_alterationCounter + 1\n",
    "      #print(mu_alterationCounter)\n",
    "    else:\n",
    "        mu_alterationCounter = 0\n",
    "\n",
    "    if(mu_alterationCounter >= TRAJECTORY_STABLE_MU_COUNT):\n",
    "        break\n",
    "    if np.any(next_f < 0):                                                            #negative value correction\n",
    "       #print(\"next_f before neg.correction:\", next_f)\n",
    "       next_f[next_f < 0] = 1e-10\n",
    "       #print(\"next_f after neg.correction:\", next_f)\n",
    "\n",
    "    print(\"current gradient :\", model.GCC_f[-1])\n",
    "    print(\"current protein\",model.p)\n",
    "\n",
    "    next_f = np.add(next_f, model.GCC_f[1:] * dt)                                      # add without first index of GCC_f\n",
    "\n",
    "    #print(f\"np.add({next_f}, {model.GCC_f[1:]} * {dt})\")                                  # shows the term sum of next_f and GCC_f *dt\n",
    "\n",
    "    model.set_f(next_f)\n",
    "    model.calculate()                                                             #calculate everything\n",
    "    model.check_model_consistency()                                               #check consistency\n",
    "    #allGCC_F = np.vstack((allGCC_F,model.GCC_f[1:]))\n",
    "    if (model.consistent):\n",
    "      timestamps = np.append(timestamps,t)\n",
    "      y_muRates = np.append(y_muRates,model.mu)\n",
    "      #print(y_muRates)\n",
    "      t = t + dt                                                                  # calc. new t\n",
    "      consistent_f = next_f                                                       # saves new f as the consistent f\n",
    "\n",
    "    else:\n",
    "      next_f = consistent_f                                                       #resets next_f to last consistent_f\n",
    "      model.set_f(consistent_f)\n",
    "\n",
    "      if (dt > 1e-100):                                                           # make sure dt is not too small\n",
    "       dt = dt * dt_changeRate\n",
    "    \n",
    "       t = t + dt                                                                 # calc. new t\n",
    "      else:\n",
    "        break\n",
    "      \n",
    "  plotTrajectory(timestamps, y_muRates)\n",
    "  saveValues(model)\n",
    "  #print(timestamps, y_muRates, model.consistent)\n",
    "  #print('Last GCC_f')\n",
    "  #print(model.GCC_f)\n",
    "  #print(allGCC_F)\n",
    "  \n",
    "  return \n",
    "\n",
    "trajectory(model, max_time=200, first_dt = 0.01, dt_changeRate=0.1)\n",
    "\n"
   ]
  },
  {
   "cell_type": "markdown",
   "metadata": {},
   "source": []
  },
  {
   "cell_type": "markdown",
   "metadata": {},
   "source": []
  }
 ],
 "metadata": {
  "kernelspec": {
   "display_name": "Python 3",
   "language": "python",
   "name": "python3"
  },
  "language_info": {
   "codemirror_mode": {
    "name": "ipython",
    "version": 3
   },
   "file_extension": ".py",
   "mimetype": "text/x-python",
   "name": "python",
   "nbconvert_exporter": "python",
   "pygments_lexer": "ipython3",
   "version": "3.9.10"
  }
 },
 "nbformat": 4,
 "nbformat_minor": 2
}
