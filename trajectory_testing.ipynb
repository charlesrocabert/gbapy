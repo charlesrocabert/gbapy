{
 "cells": [
  {
   "cell_type": "markdown",
   "metadata": {},
   "source": [
    "### 1) Load necessary Python packages"
   ]
  },
  {
   "cell_type": "code",
   "execution_count": 9,
   "metadata": {},
   "outputs": [],
   "source": [
    "import os\n",
    "import sys\n",
    "import dill\n",
    "\n",
    "# Add the local src directory to the path\n",
    "sys.path.append('./src/')\n",
    "\n",
    "# Load the GBA_model class\n",
    "from GBA_model import *"
   ]
  },
  {
   "cell_type": "markdown",
   "metadata": {},
   "source": [
    "### 2) Define a function to load a model from a binary backup\n",
    "See the script `csv_to_binary.py`."
   ]
  },
  {
   "cell_type": "code",
   "execution_count": 10,
   "metadata": {},
   "outputs": [],
   "source": [
    "### Load the model from a binary file ###\n",
    "def load_model( model_name ):\n",
    "    filename = \"./binary_models/\"+model_name+\".gba\"\n",
    "    assert os.path.isfile(filename), \"ERROR: model not found.\"\n",
    "    ifile = open(filename, \"rb\")\n",
    "    model = dill.load(ifile)\n",
    "    ifile.close()\n",
    "    return model"
   ]
  },
  {
   "cell_type": "markdown",
   "metadata": {},
   "source": [
    "### 3) Load the model \"EC12b\" (a very abstract model of <em>E. coli</em>)"
   ]
  },
  {
   "cell_type": "code",
   "execution_count": 11,
   "metadata": {},
   "outputs": [],
   "source": [
    "# I previously saved the model as a binary file with the script `csv_to_binary.py`\n",
    "model = load_model(\"B\")"
   ]
  },
  {
   "cell_type": "markdown",
   "metadata": {},
   "source": [
    "### 4) Define the condition\n",
    "The condition defines the environmental state of the cell (the composition of the medium). External concentrations are stored in the vector $x$.\n",
    "Conditions are listed for the EC12b model in `./csv_models/EC12b/conditions.csv`.\n",
    "We will use the condition 1."
   ]
  },
  {
   "cell_type": "code",
   "execution_count": 12,
   "metadata": {},
   "outputs": [],
   "source": [
    "model.set_condition(\"1\")"
   ]
  },
  {
   "cell_type": "code",
   "execution_count": 13,
   "metadata": {},
   "outputs": [],
   "source": [
    "model.solve_local_linear_problem()"
   ]
  },
  {
   "cell_type": "markdown",
   "metadata": {},
   "source": [
    "### 6) Calculate all model variables"
   ]
  },
  {
   "cell_type": "code",
   "execution_count": 14,
   "metadata": {},
   "outputs": [],
   "source": [
    "model.calculate()"
   ]
  },
  {
   "cell_type": "code",
   "execution_count": 15,
   "metadata": {},
   "outputs": [
    {
     "name": "stdout",
     "output_type": "stream",
     "text": [
      "first next_f: \n",
      "[0.96666667 0.93333333]\n",
      "first GCC_f: \n",
      "[ 0.          2.0864082  -8.06052125]\n",
      ">>> Model state is not consistent:\n",
      "    ------------------------------\n",
      "    • Density constraint: True\n",
      "    • Positive c: False\n",
      "    • Positive p: True\n",
      ">>> Model state is not consistent:\n",
      "    ------------------------------\n",
      "    • Density constraint: True\n",
      "    • Positive c: False\n",
      "    • Positive p: False\n",
      ">>> Model state is not consistent:\n",
      "    ------------------------------\n",
      "    • Density constraint: True\n",
      "    • Positive c: False\n",
      "    • Positive p: True\n",
      "absolute of GCC_F is less then threshold in GCC_F : [ 0.00000000e+00 -8.49821884e-06 -9.99532427e-06]\n",
      "Last GCC_f\n",
      "[ 0.00000000e+00 -8.49821884e-06 -9.99532427e-06]\n",
      "[0.      0.015   0.02375 ... 1.99375 1.995   1.99625] [1.14312901 1.21468921 1.23024962 ... 1.69884613 1.69884613 1.69884613] True\n"
     ]
    }
   ],
   "source": [
    "def trajectory(model,max_time=1000,first_dt = 0.01,dt_changeRate=0.1):\n",
    "  threshold = 1e-5                   # for gradient \"=\" 0\n",
    "  dt = first_dt\n",
    "  t = 0                              # time\n",
    "  consistent_f = np.copy(model.f_trunc) # safes consistent_f\n",
    "  next_f = np.copy(model.f_trunc)     # the f_trunc, that we are going to change\n",
    "  #allGCC_F = [model.GCC_f[1:]]       # to collect all previous GCC_f (just for checking the change of GCC_f)\n",
    "  print(\"first next_f: \")\n",
    "  print(next_f)\n",
    "  print(\"first GCC_f: \")\n",
    "  print(model.GCC_f)\n",
    "  y_muRates = []                      #save muRates for plotting\n",
    "  timestamps = []                     #save timeStamps for plotting\n",
    "  while (t < max_time):                                                                 # end loop if time is up\n",
    "\n",
    "    if( ( np.abs(model.GCC_f) <= threshold ).all() and model.consistent):\n",
    "      print(\"absolute of GCC_F is less then threshold in GCC_F :\", model.GCC_f)\n",
    "      break\n",
    "    \n",
    "    \n",
    "    next_f = np.add(next_f, model.GCC_f[1:] * dt)                                      # add without first index of GCC_f\n",
    "    #print(f\"np.add({next_f}, {model.GCC_f[1:]} * {dt})\")                                  # shows the term sum of next_f and GCC_f\n",
    "    model.set_f(next_f)\n",
    "    model.calculate()                                                           #calculate everything\n",
    " \n",
    "    #allGCC_F = np.vstack((allGCC_F,model.GCC_f[1:]))                            # collects all previous GCC_f (just for checking the change of GCC_f)\n",
    "    model.check_model_consistency()                                               #check consistency\n",
    "    if (model.consistent):\n",
    "      timestamps = np.append(timestamps,t)\n",
    "      y_muRates = np.append(y_muRates,model.mu)\n",
    "      t = t + dt                                                                  # calc. new t\n",
    "      consistent_f = next_f                                                       # saves new f as the consistent f\n",
    "\n",
    "    else:\n",
    "      next_f = consistent_f                                                       #resets next_f to last consistent_f\n",
    "      model.set_f(consistent_f)\n",
    "\n",
    "      if (dt > 1e-100):                                                           # make sure dt is not too small\n",
    "       dt = dt * dt_changeRate\n",
    "    \n",
    "       t = t + dt                                                                 # calc. new t\n",
    "      else:\n",
    "        break\n",
    "      \n",
    "\n",
    " \n",
    "  print('Last GCC_f')\n",
    "  print(model.GCC_f)\n",
    "  #print(allGCC_F)\n",
    "  \n",
    "  return timestamps, y_muRates \n",
    "\n",
    "timestamps,muRates = trajectory(model,max_time=200,first_dt = 0.01,dt_changeRate=0.5)\n",
    "print(timestamps,muRates, model.consistent)\n"
   ]
  },
  {
   "cell_type": "code",
   "execution_count": 16,
   "metadata": {},
   "outputs": [
    {
     "data": {
      "image/png": "[encoded data removed]",
      "text/plain": [
       "<Figure size 800x600 with 1 Axes>"
      ]
     },
     "metadata": {},
     "output_type": "display_data"
    },
    {
     "name": "stdout",
     "output_type": "stream",
     "text": [
      "max μ rate :\n",
      "1.6988461296624906\n"
     ]
    }
   ],
   "source": [
    "import matplotlib.pyplot as plt\n",
    "\n",
    "# Daten für die Zeitachse\n",
    "t = timestamps  # 100 Zeitpunkte von 0 bis 10\n",
    "\n",
    "# Daten für die Y-Achse (Beispiel: Sinusfunktion)\n",
    "mu = muRates\n",
    "\n",
    "# Erstellung des Plots\n",
    "plt.figure(figsize=(8, 6))  # Größe des Diagramms festlegen\n",
    "plt.plot(t, mu, label='mu(t)')  # Plot der Daten\n",
    "plt.xlabel('Time')  # Beschriftung der X-Achse\n",
    "plt.ylabel('mu')    # Beschriftung der Y-Achse\n",
    "plt.title('Plot of mu against Time')  # Titel des Diagramms\n",
    "plt.grid(True)      # Gitterlinien aktivieren\n",
    "plt.legend()        # Legende hinzufügen\n",
    "plt.show()          # Diagramm anzeigen\n",
    "print(\"max μ rate :\")\n",
    "print(np.max(mu))"
   ]
  },
  {
   "cell_type": "markdown",
   "metadata": {},
   "source": []
  },
  {
   "cell_type": "markdown",
   "metadata": {},
   "source": []
  }
 ],
 "metadata": {
  "kernelspec": {
   "display_name": "Python 3",
   "language": "python",
   "name": "python3"
  },
  "language_info": {
   "codemirror_mode": {
    "name": "ipython",
    "version": 3
   },
   "file_extension": ".py",
   "mimetype": "text/x-python",
   "name": "python",
   "nbconvert_exporter": "python",
   "pygments_lexer": "ipython3",
   "version": "3.9.10"
  }
 },
 "nbformat": 4,
 "nbformat_minor": 2
}
