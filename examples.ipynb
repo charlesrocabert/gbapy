{
 "cells": [
  {
   "cell_type": "markdown",
   "metadata": {},
   "source": [
    "### 1) Load necessary Python packages"
   ]
  },
  {
   "cell_type": "code",
   "execution_count": 2,
   "metadata": {},
   "outputs": [],
   "source": [
    "import os\n",
    "import sys\n",
    "import dill\n",
    "\n",
    "# Add the local src directory to the path\n",
    "sys.path.append('./src/')\n",
    "\n",
    "# Load the GBA_model class\n",
    "from GBA_model import *"
   ]
  },
  {
   "cell_type": "markdown",
   "metadata": {},
   "source": [
    "### 2) Define a function to load a model from a binary backup\n",
    "See the script `csv_to_binary.py`."
   ]
  },
  {
   "cell_type": "code",
   "execution_count": 3,
   "metadata": {},
   "outputs": [],
   "source": [
    "### Load the model from a binary file ###\n",
    "def load_model( model_name ):\n",
    "    filename = \"./binary_models/\"+model_name+\".gba\"\n",
    "    assert os.path.isfile(filename), \"ERROR: model not found.\"\n",
    "    ifile = open(filename, \"rb\")\n",
    "    model = dill.load(ifile)\n",
    "    ifile.close()\n",
    "    return model"
   ]
  },
  {
   "cell_type": "markdown",
   "metadata": {},
   "source": [
    "### 3) Load the model \"EC12b\" (a very abstract model of <em>E. coli</em>)"
   ]
  },
  {
   "cell_type": "code",
   "execution_count": 4,
   "metadata": {},
   "outputs": [],
   "source": [
    "# I previously saved the model as a binary file with the script `csv_to_binary.py`\n",
    "model = load_model(\"EC12b\")"
   ]
  },
  {
   "cell_type": "markdown",
   "metadata": {},
   "source": [
    "### 4) Define the condition\n",
    "The condition defines the environmental state of the cell (the composition of the medium). External concentrations are stored in the vector $x$.\n",
    "Conditions are listed for the EC12b model in `./csv_models/EC12b/conditions.csv`.\n",
    "We will use the condition 1."
   ]
  },
  {
   "cell_type": "code",
   "execution_count": 5,
   "metadata": {},
   "outputs": [],
   "source": [
    "model.set_condition(\"1\")"
   ]
  },
  {
   "cell_type": "markdown",
   "metadata": {},
   "source": [
    "### 5) Calculate the initial state\n",
    "This little linear program routine allows us to find at least one suboptimal solution for the GBA model.\n",
    "The solution (like every solutions) must satisfy the following constraints:\n",
    "- $c > 0$ (positivity of mass concentrations)\n",
    "- $p > 0$ (positivity of protein mass concentrations)\n",
    "- $sM . f = 1$ (Relative density of 1)\n",
    "\n",
    "The routine requires GUROBIpy to be installed."
   ]
  },
  {
   "cell_type": "code",
   "execution_count": 6,
   "metadata": {},
   "outputs": [],
   "source": [
    "model.solve_local_linear_problem()"
   ]
  },
  {
   "cell_type": "markdown",
   "metadata": {},
   "source": [
    "### 6) Calculate all model variables"
   ]
  },
  {
   "cell_type": "code",
   "execution_count": 7,
   "metadata": {},
   "outputs": [],
   "source": [
    "model.calculate()"
   ]
  },
  {
   "cell_type": "markdown",
   "metadata": {},
   "source": [
    "### 7) Display a few variables"
   ]
  },
  {
   "cell_type": "code",
   "execution_count": 22,
   "metadata": {},
   "outputs": [
    {
     "name": "stdout",
     "output_type": "stream",
     "text": [
      "\n",
      "> Summary of the model:\n",
      "\n",
      " -------- Model report: EC12b --------\n",
      "| • Nb metabolites          = 16\n",
      "| • Nb external metabolites = 4\n",
      "| • Nb internal metabolites = 12\n",
      " -------------------------------------\n",
      "| • Nb reactions          = 12\n",
      "| • Nb exchange reactions = 3\n",
      "| • Nb internal reactions = 8\n",
      " -------------------------------------\n",
      "\n"
     ]
    }
   ],
   "source": [
    "print(\"\\n> Summary of the model:\")\n",
    "print(model)"
   ]
  },
  {
   "cell_type": "code",
   "execution_count": 19,
   "metadata": {},
   "outputs": [
    {
     "name": "stdout",
     "output_type": "stream",
     "text": [
      "\n",
      "> Flux fractions f:\n"
     ]
    },
    {
     "data": {
      "text/html": [
       "<div>\n",
       "<style scoped>\n",
       "    .dataframe tbody tr th:only-of-type {\n",
       "        vertical-align: middle;\n",
       "    }\n",
       "\n",
       "    .dataframe tbody tr th {\n",
       "        vertical-align: top;\n",
       "    }\n",
       "\n",
       "    .dataframe thead th {\n",
       "        text-align: right;\n",
       "    }\n",
       "</style>\n",
       "<table border=\"1\" class=\"dataframe\">\n",
       "  <thead>\n",
       "    <tr style=\"text-align: right;\">\n",
       "      <th></th>\n",
       "      <th>f</th>\n",
       "    </tr>\n",
       "  </thead>\n",
       "  <tbody>\n",
       "    <tr>\n",
       "      <th>tC</th>\n",
       "      <td>0.558586</td>\n",
       "    </tr>\n",
       "    <tr>\n",
       "      <th>tP</th>\n",
       "      <td>0.220707</td>\n",
       "    </tr>\n",
       "    <tr>\n",
       "      <th>tN</th>\n",
       "      <td>0.220707</td>\n",
       "    </tr>\n",
       "    <tr>\n",
       "      <th>tAce</th>\n",
       "      <td>0.000000</td>\n",
       "    </tr>\n",
       "    <tr>\n",
       "      <th>Resp</th>\n",
       "      <td>0.261373</td>\n",
       "    </tr>\n",
       "    <tr>\n",
       "      <th>Ferm</th>\n",
       "      <td>0.041667</td>\n",
       "    </tr>\n",
       "    <tr>\n",
       "      <th>Nucprod</th>\n",
       "      <td>0.683019</td>\n",
       "    </tr>\n",
       "    <tr>\n",
       "      <th>Aaprod</th>\n",
       "      <td>0.227330</td>\n",
       "    </tr>\n",
       "    <tr>\n",
       "      <th>Replication</th>\n",
       "      <td>0.008333</td>\n",
       "    </tr>\n",
       "    <tr>\n",
       "      <th>Transcription</th>\n",
       "      <td>0.598050</td>\n",
       "    </tr>\n",
       "    <tr>\n",
       "      <th>tRNAcharging</th>\n",
       "      <td>0.981318</td>\n",
       "    </tr>\n",
       "    <tr>\n",
       "      <th>Ribosome</th>\n",
       "      <td>0.972059</td>\n",
       "    </tr>\n",
       "  </tbody>\n",
       "</table>\n",
       "</div>"
      ],
      "text/plain": [
       "                      f\n",
       "tC             0.558586\n",
       "tP             0.220707\n",
       "tN             0.220707\n",
       "tAce           0.000000\n",
       "Resp           0.261373\n",
       "Ferm           0.041667\n",
       "Nucprod        0.683019\n",
       "Aaprod         0.227330\n",
       "Replication    0.008333\n",
       "Transcription  0.598050\n",
       "tRNAcharging   0.981318\n",
       "Ribosome       0.972059"
      ]
     },
     "execution_count": 19,
     "metadata": {},
     "output_type": "execute_result"
    }
   ],
   "source": [
    "print(\"\\n> Flux fractions f:\")\n",
    "df = pd.DataFrame(data=model.f, index=model.reaction_ids, columns=[\"f\"])\n",
    "df"
   ]
  },
  {
   "cell_type": "code",
   "execution_count": 20,
   "metadata": {},
   "outputs": [
    {
     "name": "stdout",
     "output_type": "stream",
     "text": [
      "\n",
      "> Fluxes v:\n"
     ]
    },
    {
     "data": {
      "text/html": [
       "<div>\n",
       "<style scoped>\n",
       "    .dataframe tbody tr th:only-of-type {\n",
       "        vertical-align: middle;\n",
       "    }\n",
       "\n",
       "    .dataframe tbody tr th {\n",
       "        vertical-align: top;\n",
       "    }\n",
       "\n",
       "    .dataframe thead th {\n",
       "        text-align: right;\n",
       "    }\n",
       "</style>\n",
       "<table border=\"1\" class=\"dataframe\">\n",
       "  <thead>\n",
       "    <tr style=\"text-align: right;\">\n",
       "      <th></th>\n",
       "      <th>f</th>\n",
       "    </tr>\n",
       "  </thead>\n",
       "  <tbody>\n",
       "    <tr>\n",
       "      <th>tC</th>\n",
       "      <td>25.247762</td>\n",
       "    </tr>\n",
       "    <tr>\n",
       "      <th>tP</th>\n",
       "      <td>9.975826</td>\n",
       "    </tr>\n",
       "    <tr>\n",
       "      <th>tN</th>\n",
       "      <td>9.975826</td>\n",
       "    </tr>\n",
       "    <tr>\n",
       "      <th>tAce</th>\n",
       "      <td>0.000000</td>\n",
       "    </tr>\n",
       "    <tr>\n",
       "      <th>Resp</th>\n",
       "      <td>11.813886</td>\n",
       "    </tr>\n",
       "    <tr>\n",
       "      <th>Ferm</th>\n",
       "      <td>1.883309</td>\n",
       "    </tr>\n",
       "    <tr>\n",
       "      <th>Nucprod</th>\n",
       "      <td>30.872042</td>\n",
       "    </tr>\n",
       "    <tr>\n",
       "      <th>Aaprod</th>\n",
       "      <td>10.275180</td>\n",
       "    </tr>\n",
       "    <tr>\n",
       "      <th>Replication</th>\n",
       "      <td>0.376662</td>\n",
       "    </tr>\n",
       "    <tr>\n",
       "      <th>Transcription</th>\n",
       "      <td>27.031514</td>\n",
       "    </tr>\n",
       "    <tr>\n",
       "      <th>tRNAcharging</th>\n",
       "      <td>44.355002</td>\n",
       "    </tr>\n",
       "    <tr>\n",
       "      <th>Ribosome</th>\n",
       "      <td>43.936489</td>\n",
       "    </tr>\n",
       "  </tbody>\n",
       "</table>\n",
       "</div>"
      ],
      "text/plain": [
       "                       f\n",
       "tC             25.247762\n",
       "tP              9.975826\n",
       "tN              9.975826\n",
       "tAce            0.000000\n",
       "Resp           11.813886\n",
       "Ferm            1.883309\n",
       "Nucprod        30.872042\n",
       "Aaprod         10.275180\n",
       "Replication     0.376662\n",
       "Transcription  27.031514\n",
       "tRNAcharging   44.355002\n",
       "Ribosome       43.936489"
      ]
     },
     "execution_count": 20,
     "metadata": {},
     "output_type": "execute_result"
    }
   ],
   "source": [
    "print(\"\\n> Fluxes v:\")\n",
    "df = pd.DataFrame(data=model.v, index=model.reaction_ids, columns=[\"v\"])\n",
    "df"
   ]
  },
  {
   "cell_type": "code",
   "execution_count": 21,
   "metadata": {},
   "outputs": [
    {
     "name": "stdout",
     "output_type": "stream",
     "text": [
      "\n",
      "> Mass fractions b:\n"
     ]
    },
    {
     "data": {
      "text/html": [
       "<div>\n",
       "<style scoped>\n",
       "    .dataframe tbody tr th:only-of-type {\n",
       "        vertical-align: middle;\n",
       "    }\n",
       "\n",
       "    .dataframe tbody tr th {\n",
       "        vertical-align: top;\n",
       "    }\n",
       "\n",
       "    .dataframe thead th {\n",
       "        text-align: right;\n",
       "    }\n",
       "</style>\n",
       "<table border=\"1\" class=\"dataframe\">\n",
       "  <thead>\n",
       "    <tr style=\"text-align: right;\">\n",
       "      <th></th>\n",
       "      <th>b</th>\n",
       "    </tr>\n",
       "  </thead>\n",
       "  <tbody>\n",
       "    <tr>\n",
       "      <th>C</th>\n",
       "      <td>0.008333</td>\n",
       "    </tr>\n",
       "    <tr>\n",
       "      <th>P</th>\n",
       "      <td>0.008333</td>\n",
       "    </tr>\n",
       "    <tr>\n",
       "      <th>N</th>\n",
       "      <td>0.008333</td>\n",
       "    </tr>\n",
       "    <tr>\n",
       "      <th>Ace</th>\n",
       "      <td>0.008333</td>\n",
       "    </tr>\n",
       "    <tr>\n",
       "      <th>ADP</th>\n",
       "      <td>0.139020</td>\n",
       "    </tr>\n",
       "    <tr>\n",
       "      <th>ATP</th>\n",
       "      <td>0.008333</td>\n",
       "    </tr>\n",
       "    <tr>\n",
       "      <th>AA</th>\n",
       "      <td>0.008333</td>\n",
       "    </tr>\n",
       "    <tr>\n",
       "      <th>Nuc</th>\n",
       "      <td>0.008333</td>\n",
       "    </tr>\n",
       "    <tr>\n",
       "      <th>DNA</th>\n",
       "      <td>0.008333</td>\n",
       "    </tr>\n",
       "    <tr>\n",
       "      <th>tRNA</th>\n",
       "      <td>0.008333</td>\n",
       "    </tr>\n",
       "    <tr>\n",
       "      <th>TC</th>\n",
       "      <td>0.008333</td>\n",
       "    </tr>\n",
       "    <tr>\n",
       "      <th>Protein</th>\n",
       "      <td>0.777647</td>\n",
       "    </tr>\n",
       "  </tbody>\n",
       "</table>\n",
       "</div>"
      ],
      "text/plain": [
       "                b\n",
       "C        0.008333\n",
       "P        0.008333\n",
       "N        0.008333\n",
       "Ace      0.008333\n",
       "ADP      0.139020\n",
       "ATP      0.008333\n",
       "AA       0.008333\n",
       "Nuc      0.008333\n",
       "DNA      0.008333\n",
       "tRNA     0.008333\n",
       "TC       0.008333\n",
       "Protein  0.777647"
      ]
     },
     "execution_count": 21,
     "metadata": {},
     "output_type": "execute_result"
    }
   ],
   "source": [
    "print(\"\\n> Mass fractions b:\")\n",
    "df = pd.DataFrame(data=model.b, index=model.c_ids, columns=[\"b\"])\n",
    "df"
   ]
  },
  {
   "cell_type": "code",
   "execution_count": 23,
   "metadata": {},
   "outputs": [
    {
     "name": "stdout",
     "output_type": "stream",
     "text": [
      "\n",
      "> Mass concentrations c:\n"
     ]
    },
    {
     "data": {
      "text/html": [
       "<div>\n",
       "<style scoped>\n",
       "    .dataframe tbody tr th:only-of-type {\n",
       "        vertical-align: middle;\n",
       "    }\n",
       "\n",
       "    .dataframe tbody tr th {\n",
       "        vertical-align: top;\n",
       "    }\n",
       "\n",
       "    .dataframe thead th {\n",
       "        text-align: right;\n",
       "    }\n",
       "</style>\n",
       "<table border=\"1\" class=\"dataframe\">\n",
       "  <thead>\n",
       "    <tr style=\"text-align: right;\">\n",
       "      <th></th>\n",
       "      <th>c</th>\n",
       "    </tr>\n",
       "  </thead>\n",
       "  <tbody>\n",
       "    <tr>\n",
       "      <th>C</th>\n",
       "      <td>2.833333</td>\n",
       "    </tr>\n",
       "    <tr>\n",
       "      <th>P</th>\n",
       "      <td>2.833333</td>\n",
       "    </tr>\n",
       "    <tr>\n",
       "      <th>N</th>\n",
       "      <td>2.833333</td>\n",
       "    </tr>\n",
       "    <tr>\n",
       "      <th>Ace</th>\n",
       "      <td>2.833333</td>\n",
       "    </tr>\n",
       "    <tr>\n",
       "      <th>ADP</th>\n",
       "      <td>47.266667</td>\n",
       "    </tr>\n",
       "    <tr>\n",
       "      <th>ATP</th>\n",
       "      <td>2.833333</td>\n",
       "    </tr>\n",
       "    <tr>\n",
       "      <th>AA</th>\n",
       "      <td>2.833333</td>\n",
       "    </tr>\n",
       "    <tr>\n",
       "      <th>Nuc</th>\n",
       "      <td>2.833333</td>\n",
       "    </tr>\n",
       "    <tr>\n",
       "      <th>DNA</th>\n",
       "      <td>2.833333</td>\n",
       "    </tr>\n",
       "    <tr>\n",
       "      <th>tRNA</th>\n",
       "      <td>2.833333</td>\n",
       "    </tr>\n",
       "    <tr>\n",
       "      <th>TC</th>\n",
       "      <td>2.833333</td>\n",
       "    </tr>\n",
       "    <tr>\n",
       "      <th>Protein</th>\n",
       "      <td>264.400000</td>\n",
       "    </tr>\n",
       "  </tbody>\n",
       "</table>\n",
       "</div>"
      ],
      "text/plain": [
       "                  c\n",
       "C          2.833333\n",
       "P          2.833333\n",
       "N          2.833333\n",
       "Ace        2.833333\n",
       "ADP       47.266667\n",
       "ATP        2.833333\n",
       "AA         2.833333\n",
       "Nuc        2.833333\n",
       "DNA        2.833333\n",
       "tRNA       2.833333\n",
       "TC         2.833333\n",
       "Protein  264.400000"
      ]
     },
     "execution_count": 23,
     "metadata": {},
     "output_type": "execute_result"
    }
   ],
   "source": [
    "print(\"\\n> Mass concentrations c:\")\n",
    "df = pd.DataFrame(data=model.c, index=model.c_ids, columns=[\"c\"])\n",
    "df"
   ]
  },
  {
   "cell_type": "code",
   "execution_count": 24,
   "metadata": {},
   "outputs": [
    {
     "name": "stdout",
     "output_type": "stream",
     "text": [
      "\n",
      "> Growth rate mu:\n",
      "0.13293945281963943\n"
     ]
    }
   ],
   "source": [
    "print(\"\\n> Growth rate mu:\")\n",
    "print(model.mu)"
   ]
  },
  {
   "cell_type": "markdown",
   "metadata": {},
   "source": [
    "### 8) Test the consistency of the model (positivity + total density)\n",
    "The result of the consistency check is stored in the variable model.consistent"
   ]
  },
  {
   "cell_type": "code",
   "execution_count": 27,
   "metadata": {},
   "outputs": [
    {
     "name": "stdout",
     "output_type": "stream",
     "text": [
      "True\n"
     ]
    }
   ],
   "source": [
    "model.check_model_consistency()\n",
    "print(model.consistent)"
   ]
  },
  {
   "cell_type": "markdown",
   "metadata": {},
   "source": [
    "### 9) Mu derivatives\n",
    "The function `model.calculate()` also calculates derivatives $\\dfrac{d\\mu}{df}$.\n",
    "To follow the fitness gradient, the important variable is `GCC_f`, which corrects for total density."
   ]
  },
  {
   "cell_type": "code",
   "execution_count": 28,
   "metadata": {},
   "outputs": [
    {
     "name": "stdout",
     "output_type": "stream",
     "text": [
      "\n",
      "> dmu/df:\n"
     ]
    },
    {
     "data": {
      "text/html": [
       "<div>\n",
       "<style scoped>\n",
       "    .dataframe tbody tr th:only-of-type {\n",
       "        vertical-align: middle;\n",
       "    }\n",
       "\n",
       "    .dataframe tbody tr th {\n",
       "        vertical-align: top;\n",
       "    }\n",
       "\n",
       "    .dataframe thead th {\n",
       "        text-align: right;\n",
       "    }\n",
       "</style>\n",
       "<table border=\"1\" class=\"dataframe\">\n",
       "  <thead>\n",
       "    <tr style=\"text-align: right;\">\n",
       "      <th></th>\n",
       "      <th>dmu/df</th>\n",
       "    </tr>\n",
       "  </thead>\n",
       "  <tbody>\n",
       "    <tr>\n",
       "      <th>tC</th>\n",
       "      <td>3.601237</td>\n",
       "    </tr>\n",
       "    <tr>\n",
       "      <th>tP</th>\n",
       "      <td>2.782637</td>\n",
       "    </tr>\n",
       "    <tr>\n",
       "      <th>tN</th>\n",
       "      <td>2.477095</td>\n",
       "    </tr>\n",
       "    <tr>\n",
       "      <th>tAce</th>\n",
       "      <td>-0.000615</td>\n",
       "    </tr>\n",
       "    <tr>\n",
       "      <th>Resp</th>\n",
       "      <td>5.261154</td>\n",
       "    </tr>\n",
       "    <tr>\n",
       "      <th>Ferm</th>\n",
       "      <td>3.569710</td>\n",
       "    </tr>\n",
       "    <tr>\n",
       "      <th>Nucprod</th>\n",
       "      <td>-3.325263</td>\n",
       "    </tr>\n",
       "    <tr>\n",
       "      <th>Aaprod</th>\n",
       "      <td>-0.736266</td>\n",
       "    </tr>\n",
       "    <tr>\n",
       "      <th>Replication</th>\n",
       "      <td>0.122090</td>\n",
       "    </tr>\n",
       "    <tr>\n",
       "      <th>Transcription</th>\n",
       "      <td>2.302624</td>\n",
       "    </tr>\n",
       "    <tr>\n",
       "      <th>tRNAcharging</th>\n",
       "      <td>0.928816</td>\n",
       "    </tr>\n",
       "    <tr>\n",
       "      <th>Ribosome</th>\n",
       "      <td>-4.446064</td>\n",
       "    </tr>\n",
       "  </tbody>\n",
       "</table>\n",
       "</div>"
      ],
      "text/plain": [
       "                 dmu/df\n",
       "tC             3.601237\n",
       "tP             2.782637\n",
       "tN             2.477095\n",
       "tAce          -0.000615\n",
       "Resp           5.261154\n",
       "Ferm           3.569710\n",
       "Nucprod       -3.325263\n",
       "Aaprod        -0.736266\n",
       "Replication    0.122090\n",
       "Transcription  2.302624\n",
       "tRNAcharging   0.928816\n",
       "Ribosome      -4.446064"
      ]
     },
     "execution_count": 28,
     "metadata": {},
     "output_type": "execute_result"
    }
   ],
   "source": [
    "print(\"\\n> dmu/df:\")\n",
    "df = pd.DataFrame(data=model.dmu_f, index=model.reaction_ids, columns=[\"dmu/df\"])\n",
    "df"
   ]
  },
  {
   "cell_type": "code",
   "execution_count": 29,
   "metadata": {},
   "outputs": [
    {
     "name": "stdout",
     "output_type": "stream",
     "text": [
      "\n",
      "> GCC_f:\n"
     ]
    },
    {
     "data": {
      "text/html": [
       "<div>\n",
       "<style scoped>\n",
       "    .dataframe tbody tr th:only-of-type {\n",
       "        vertical-align: middle;\n",
       "    }\n",
       "\n",
       "    .dataframe tbody tr th {\n",
       "        vertical-align: top;\n",
       "    }\n",
       "\n",
       "    .dataframe thead th {\n",
       "        text-align: right;\n",
       "    }\n",
       "</style>\n",
       "<table border=\"1\" class=\"dataframe\">\n",
       "  <thead>\n",
       "    <tr style=\"text-align: right;\">\n",
       "      <th></th>\n",
       "      <th>GCC_f</th>\n",
       "    </tr>\n",
       "  </thead>\n",
       "  <tbody>\n",
       "    <tr>\n",
       "      <th>tC</th>\n",
       "      <td>0.000000</td>\n",
       "    </tr>\n",
       "    <tr>\n",
       "      <th>tP</th>\n",
       "      <td>-0.818601</td>\n",
       "    </tr>\n",
       "    <tr>\n",
       "      <th>tN</th>\n",
       "      <td>-1.124143</td>\n",
       "    </tr>\n",
       "    <tr>\n",
       "      <th>tAce</th>\n",
       "      <td>-0.000615</td>\n",
       "    </tr>\n",
       "    <tr>\n",
       "      <th>Resp</th>\n",
       "      <td>5.261154</td>\n",
       "    </tr>\n",
       "    <tr>\n",
       "      <th>Ferm</th>\n",
       "      <td>3.569710</td>\n",
       "    </tr>\n",
       "    <tr>\n",
       "      <th>Nucprod</th>\n",
       "      <td>-3.325263</td>\n",
       "    </tr>\n",
       "    <tr>\n",
       "      <th>Aaprod</th>\n",
       "      <td>-0.736266</td>\n",
       "    </tr>\n",
       "    <tr>\n",
       "      <th>Replication</th>\n",
       "      <td>0.122090</td>\n",
       "    </tr>\n",
       "    <tr>\n",
       "      <th>Transcription</th>\n",
       "      <td>2.302624</td>\n",
       "    </tr>\n",
       "    <tr>\n",
       "      <th>tRNAcharging</th>\n",
       "      <td>0.928816</td>\n",
       "    </tr>\n",
       "    <tr>\n",
       "      <th>Ribosome</th>\n",
       "      <td>-4.446064</td>\n",
       "    </tr>\n",
       "  </tbody>\n",
       "</table>\n",
       "</div>"
      ],
      "text/plain": [
       "                  GCC_f\n",
       "tC             0.000000\n",
       "tP            -0.818601\n",
       "tN            -1.124143\n",
       "tAce          -0.000615\n",
       "Resp           5.261154\n",
       "Ferm           3.569710\n",
       "Nucprod       -3.325263\n",
       "Aaprod        -0.736266\n",
       "Replication    0.122090\n",
       "Transcription  2.302624\n",
       "tRNAcharging   0.928816\n",
       "Ribosome      -4.446064"
      ]
     },
     "execution_count": 29,
     "metadata": {},
     "output_type": "execute_result"
    }
   ],
   "source": [
    "print(\"\\n> GCC_f:\")\n",
    "df = pd.DataFrame(data=model.GCC_f, index=model.reaction_ids, columns=[\"GCC_f\"])\n",
    "df"
   ]
  },
  {
   "cell_type": "markdown",
   "metadata": {},
   "source": []
  }
 ],
 "metadata": {
  "kernelspec": {
   "display_name": "Python 3",
   "language": "python",
   "name": "python3"
  },
  "language_info": {
   "codemirror_mode": {
    "name": "ipython",
    "version": 3
   },
   "file_extension": ".py",
   "mimetype": "text/x-python",
   "name": "python",
   "nbconvert_exporter": "python",
   "pygments_lexer": "ipython3",
   "version": "3.12.4"
  }
 },
 "nbformat": 4,
 "nbformat_minor": 2
}
