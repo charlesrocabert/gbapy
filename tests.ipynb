{
 "cells": [
  {
   "cell_type": "code",
   "execution_count": 6,
   "metadata": {},
   "outputs": [],
   "source": [
    "import os\n",
    "import sys\n",
    "\n",
    "# Add the local src directory to the path\n",
    "sys.path.append('./src/')\n",
    "\n",
    "# Load the GBA_model class\n",
    "from GBA_model import *"
   ]
  },
  {
   "cell_type": "code",
   "execution_count": 7,
   "metadata": {},
   "outputs": [],
   "source": [
    "# Convert to binary (for test)\n",
    "load_and_backup_model(\"D\")"
   ]
  },
  {
   "cell_type": "code",
   "execution_count": 8,
   "metadata": {},
   "outputs": [],
   "source": [
    "### Load the binary model\n",
    "model = load_model(\"D\")"
   ]
  },
  {
   "cell_type": "code",
   "execution_count": 16,
   "metadata": {},
   "outputs": [
    {
     "name": "stdout",
     "output_type": "stream",
     "text": [
      "Growth rate for condition 1 : 0.79034\n",
      "Growth rate for condition 2 : 0.7902\n",
      "Growth rate for condition 3 : 0.79\n",
      "Growth rate for condition 4 : 0.78969\n",
      "Growth rate for condition 5 : 0.78922\n",
      "Growth rate for condition 6 : 0.78852\n",
      "Growth rate for condition 7 : 0.78747\n",
      "Growth rate for condition 8 : 0.7859\n",
      "Growth rate for condition 9 : 0.78357\n",
      "Growth rate for condition 10 : 0.78009\n",
      "Growth rate for condition 11 : 0.77492\n",
      "Growth rate for condition 12 : 0.76731\n",
      "Growth rate for condition 13 : 0.75616\n",
      "Growth rate for condition 14 : 0.74003\n",
      "Growth rate for condition 15 : 0.71709\n",
      "Growth rate for condition 16 : 0.68522\n",
      "Growth rate for condition 17 : 0.6424\n",
      "Growth rate for condition 18 : 0.58735\n",
      "Growth rate for condition 19 : 0.52044\n",
      "Growth rate for condition 20 : 0.44449\n",
      "Growth rate for condition 21 : 0.36467\n",
      "Growth rate for condition 22 : 0.28728\n",
      "Growth rate for condition 23 : 0.21792\n",
      "Growth rate for condition 24 : 0.15998\n",
      "Growth rate for condition 25 : 0.11436\n"
     ]
    }
   ],
   "source": [
    "### Calculate the initial state for each environmental condition\n",
    "for condition in model.condition_ids:\n",
    "    model.set_condition(condition)\n",
    "    model.solve_local_linear_problem()\n",
    "    model.calculate()\n",
    "    model.check_model_consistency()\n",
    "    assert model.consistent\n",
    "    print(\"Growth rate for condition\", condition, \":\", round(model.mu,5))"
   ]
  }
 ],
 "metadata": {
  "kernelspec": {
   "display_name": "Python 3",
   "language": "python",
   "name": "python3"
  },
  "language_info": {
   "codemirror_mode": {
    "name": "ipython",
    "version": 3
   },
   "file_extension": ".py",
   "mimetype": "text/x-python",
   "name": "python",
   "nbconvert_exporter": "python",
   "pygments_lexer": "ipython3",
   "version": "3.12.4"
  }
 },
 "nbformat": 4,
 "nbformat_minor": 2
}
