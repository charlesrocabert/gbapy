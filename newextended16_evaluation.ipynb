{
 "cells": [
  {
   "cell_type": "code",
   "execution_count": 1,
   "metadata": {},
   "outputs": [],
   "source": [
    "import os\n",
    "import sys\n",
    "\n",
    "sys.path.append('./src/')\n",
    "from Model import *"
   ]
  },
  {
   "cell_type": "code",
   "execution_count": 2,
   "metadata": {},
   "outputs": [],
   "source": [
    "data = pd.read_csv(\"/Users/charlesrocabert/Documents/3-Post Doctorats/4 - Martin Lercher 2023:2025/Progress reports/PR2/sajjad_results/runtime_results/newextended16/MMAsolver.csv\", sep=\",\")\n",
    "model = load_model(\"newextended16\")"
   ]
  },
  {
   "cell_type": "code",
   "execution_count": 3,
   "metadata": {},
   "outputs": [
    {
     "name": "stdout",
     "output_type": "stream",
     "text": [
      "Consistent:  ['8', '9', '48', '68', '75', '80', '87', '94', '109', '123', '130', '132', '161', '184', '197']\n"
     ]
    }
   ],
   "source": [
    "c_cond  = []\n",
    "nc_cond = []\n",
    "f_mma   = {}\n",
    "for index, row in data.iterrows():\n",
    "    mma_mu      = row[\"mu\"]\n",
    "    density     = row[\"density\"]\n",
    "    condition   = str(int(row[\"Unnamed: 0\"]))\n",
    "    f           = np.array([row[\"f Carbon met.\"], row[\"f PSII\"], row[\"f PSI\"], row[\"f Cyt6bf\"], row[\"f ATPase\"], row[\"f Rubisco\"], row[\"f AA_s\"], row[\"f Ribosome\"]])\n",
    "    x           = np.array([row[\"CO2\"], row[\"H\"], row[\"PC\"], row[\"PC-\"], row[\"Q\"], row[\"QH2\"], row[\"ATP\"], row[\"NADPH\"], row[\"C3\"], row[\"AA\"], row[\"Protein\"]])\n",
    "    f_mma[condition] = f\n",
    "    mma_density = np.sum(x)/density\n",
    "    model.set_f0(f)\n",
    "    model.set_condition(condition)\n",
    "    model.calculate()\n",
    "    model.check_model_consistency()\n",
    "    if model.consistent:\n",
    "        c_cond.append(condition)\n",
    "    else:\n",
    "        nc_cond.append(condition)\n",
    "print(\"Consistent: \", c_cond)\n",
    "    "
   ]
  },
  {
   "cell_type": "code",
   "execution_count": 4,
   "metadata": {},
   "outputs": [
    {
     "name": "stdout",
     "output_type": "stream",
     "text": [
      "0.09928735991461335 True\n"
     ]
    }
   ],
   "source": [
    "model.set_f0(f_mma[\"8\"])\n",
    "model.set_condition(\"8\")\n",
    "model.calculate()\n",
    "model.check_model_consistency()\n",
    "print(model.mu, model.consistent)"
   ]
  },
  {
   "cell_type": "code",
   "execution_count": 5,
   "metadata": {},
   "outputs": [
    {
     "name": "stdout",
     "output_type": "stream",
     "text": [
      "> Condition 8: convergence reached (mu=0.09928736001509517, nb iterations=1006)\n"
     ]
    },
    {
     "data": {
      "text/plain": [
       "(True, 1.540696144104004)"
      ]
     },
     "execution_count": 5,
     "metadata": {},
     "output_type": "execute_result"
    }
   ],
   "source": [
    "model.mean_evolutionary_trajectory(condition = \"8\")"
   ]
  },
  {
   "cell_type": "code",
   "execution_count": 6,
   "metadata": {},
   "outputs": [
    {
     "name": "stdout",
     "output_type": "stream",
     "text": [
      "> Iteration:  5000  Time:  28.12398529341239  mu:  0.09810542847636997  dt:  0.004611686018427388\n",
      "> Iteration:  10000  Time:  45.49923336288412  mu:  0.09900798204248429  dt:  0.001701411834604693\n",
      "> Iteration:  15000  Time:  60.28264369587996  mu:  0.09937325622488785  dt:  0.001569275433846671\n",
      "> Iteration:  20000  Time:  74.10556555719985  mu:  0.09956890597980916  dt:  0.001447401115466453\n",
      "> Iteration:  25000  Time:  87.22201244797105  mu:  0.09968538740525534  dt:  0.0013349918974505698\n",
      "> Iteration:  30000  Time:  99.70045638183063  mu:  0.09975932318969324  dt:  0.0030782817340933217\n",
      "> Iteration:  35000  Time:  112.05645110442437  mu:  0.0998101425070615  dt:  0.002839213766779717\n",
      "> Iteration:  40000  Time:  124.28009227238977  mu:  0.09984589943852805  dt:  0.0013093562431584582\n",
      "> Iteration:  45000  Time:  136.29333456174354  mu:  0.09987141882586434  dt:  0.0012076679759428946\n",
      "> Iteration:  50000  Time:  147.99623944572278  mu:  0.09988982771280952  dt:  0.0027846927597791754\n",
      "> Iteration:  55000  Time:  159.85851576614175  mu:  0.09990381967935774  dt:  0.0025684257331779203\n",
      "> Iteration:  60000  Time:  171.47688034727562  mu:  0.09991419268600091  dt:  0.002368954608613146\n",
      "> Iteration:  65000  Time:  183.08092378651187  mu:  0.09992211617512377  dt:  0.0010924874846830375\n",
      "> Iteration:  70000  Time:  194.6949286109657  mu:  0.09992821860140025  dt:  0.001007641851683934\n",
      "> Iteration:  75000  Time:  206.1568897244865  mu:  0.09993288414184646  dt:  0.004646927838993082\n"
     ]
    },
    {
     "ename": "KeyboardInterrupt",
     "evalue": "",
     "output_type": "error",
     "traceback": [
      "\u001b[0;31m---------------------------------------------------------------------------\u001b[0m",
      "\u001b[0;31mKeyboardInterrupt\u001b[0m                         Traceback (most recent call last)",
      "Cell \u001b[0;32mIn[6], line 2\u001b[0m\n\u001b[1;32m      1\u001b[0m model\u001b[38;5;241m.\u001b[39mset_f0(model\u001b[38;5;241m.\u001b[39mLP_solution)\n\u001b[0;32m----> 2\u001b[0m \u001b[43mmodel\u001b[49m\u001b[38;5;241;43m.\u001b[39;49m\u001b[43mmean_evolutionary_trajectory\u001b[49m\u001b[43m(\u001b[49m\u001b[43mcondition\u001b[49m\u001b[43m \u001b[49m\u001b[38;5;241;43m=\u001b[39;49m\u001b[43m \u001b[49m\u001b[38;5;124;43m\"\u001b[39;49m\u001b[38;5;124;43m9\u001b[39;49m\u001b[38;5;124;43m\"\u001b[39;49m\u001b[43m,\u001b[49m\u001b[43m \u001b[49m\u001b[43mmax_time\u001b[49m\u001b[38;5;241;43m=\u001b[39;49m\u001b[38;5;241;43m1000000\u001b[39;49m\u001b[43m)\u001b[49m \u001b[38;5;66;03m# 0.0999501470048859\u001b[39;00m\n",
      "File \u001b[0;32m~/git/charlesrocabert/GBA_Evolution/src/Model.py:894\u001b[0m, in \u001b[0;36mModel.mean_evolutionary_trajectory\u001b[0;34m(self, condition, max_time, initial_dt, track, label)\u001b[0m\n\u001b[1;32m    892\u001b[0m \u001b[38;5;66;03m#self.f_trunc[self.f_trunc < MIN_FLUX_FRACTION] = MIN_FLUX_FRACTION\u001b[39;00m\n\u001b[1;32m    893\u001b[0m \u001b[38;5;28mself\u001b[39m\u001b[38;5;241m.\u001b[39mset_f()\n\u001b[0;32m--> 894\u001b[0m \u001b[38;5;28;43mself\u001b[39;49m\u001b[38;5;241;43m.\u001b[39;49m\u001b[43mcalculate\u001b[49m\u001b[43m(\u001b[49m\u001b[43m)\u001b[49m\n\u001b[1;32m    895\u001b[0m \u001b[38;5;28mself\u001b[39m\u001b[38;5;241m.\u001b[39mcheck_model_consistency()\n\u001b[1;32m    896\u001b[0m \u001b[38;5;66;03m### 4.3) If the model is consistent: ###\u001b[39;00m\n",
      "File \u001b[0;32m~/git/charlesrocabert/GBA_Evolution/src/Model.py:703\u001b[0m, in \u001b[0;36mModel.calculate\u001b[0;34m(self)\u001b[0m\n\u001b[1;32m    701\u001b[0m \u001b[38;5;28mself\u001b[39m\u001b[38;5;241m.\u001b[39mcompute_p()\n\u001b[1;32m    702\u001b[0m \u001b[38;5;28mself\u001b[39m\u001b[38;5;241m.\u001b[39mcompute_b()\n\u001b[0;32m--> 703\u001b[0m \u001b[38;5;28;43mself\u001b[39;49m\u001b[38;5;241;43m.\u001b[39;49m\u001b[43mcompute_density\u001b[49m\u001b[43m(\u001b[49m\u001b[43m)\u001b[49m\n\u001b[1;32m    704\u001b[0m \u001b[38;5;28;01mfor\u001b[39;00m j \u001b[38;5;129;01min\u001b[39;00m \u001b[38;5;28mrange\u001b[39m(\u001b[38;5;28mself\u001b[39m\u001b[38;5;241m.\u001b[39mnj):\n\u001b[1;32m    705\u001b[0m     \u001b[38;5;28mself\u001b[39m\u001b[38;5;241m.\u001b[39mcompute_dtau(j)\n",
      "File \u001b[0;32m~/git/charlesrocabert/GBA_Evolution/src/Model.py:680\u001b[0m, in \u001b[0;36mModel.compute_density\u001b[0;34m(self)\u001b[0m\n\u001b[1;32m    679\u001b[0m \u001b[38;5;28;01mdef\u001b[39;00m \u001b[38;5;21mcompute_density\u001b[39m( \u001b[38;5;28mself\u001b[39m ):\n\u001b[0;32m--> 680\u001b[0m     \u001b[38;5;28mself\u001b[39m\u001b[38;5;241m.\u001b[39mdensity \u001b[38;5;241m=\u001b[39m \u001b[38;5;28;43mself\u001b[39;49m\u001b[38;5;241;43m.\u001b[39;49m\u001b[43msM\u001b[49m\u001b[38;5;241;43m.\u001b[39;49m\u001b[43mdot\u001b[49m\u001b[43m(\u001b[49m\u001b[38;5;28;43mself\u001b[39;49m\u001b[38;5;241;43m.\u001b[39;49m\u001b[43mf\u001b[49m\u001b[43m)\u001b[49m\n",
      "\u001b[0;31mKeyboardInterrupt\u001b[0m: "
     ]
    }
   ],
   "source": [
    "model.set_f0(model.LP_solution)\n",
    "model.mean_evolutionary_trajectory(condition = \"9\", max_time=1000000) # 0.0999501470048859"
   ]
  },
  {
   "cell_type": "code",
   "execution_count": null,
   "metadata": {},
   "outputs": [],
   "source": []
  }
 ],
 "metadata": {
  "kernelspec": {
   "display_name": "Python 3",
   "language": "python",
   "name": "python3"
  },
  "language_info": {
   "codemirror_mode": {
    "name": "ipython",
    "version": 3
   },
   "file_extension": ".py",
   "mimetype": "text/x-python",
   "name": "python",
   "nbconvert_exporter": "python",
   "pygments_lexer": "ipython3",
   "version": "3.12.4"
  }
 },
 "nbformat": 4,
 "nbformat_minor": 2
}
