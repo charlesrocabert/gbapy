{
 "cells": [
  {
   "cell_type": "code",
   "execution_count": 1,
   "metadata": {},
   "outputs": [],
   "source": [
    "import os\n",
    "import sys\n",
    "\n",
    "sys.path.append('./src/')\n",
    "from Model import *"
   ]
  },
  {
   "cell_type": "code",
   "execution_count": 2,
   "metadata": {},
   "outputs": [],
   "source": [
    "data = pd.read_csv(\"/Users/charlesrocabert/Documents/3-Post Doctorats/4 - Martin Lercher 2023:2025/Progress reports/PR2/sajjad_results/runtime_results/newextended16/MMAsolver.csv\", sep=\",\")\n",
    "model = load_model(\"newextended16\")"
   ]
  },
  {
   "cell_type": "code",
   "execution_count": 3,
   "metadata": {},
   "outputs": [
    {
     "name": "stdout",
     "output_type": "stream",
     "text": [
      "Consistent:  ['8', '9', '48', '68', '75', '80', '87', '94', '109', '123', '130', '132', '161', '184', '197']\n"
     ]
    }
   ],
   "source": [
    "c_cond  = []\n",
    "nc_cond = []\n",
    "f_mma   = {}\n",
    "for index, row in data.iterrows():\n",
    "    mma_mu      = row[\"mu\"]\n",
    "    density     = row[\"density\"]\n",
    "    condition   = str(int(row[\"Unnamed: 0\"]))\n",
    "    f           = np.array([row[\"f Carbon met.\"], row[\"f PSII\"], row[\"f PSI\"], row[\"f Cyt6bf\"], row[\"f ATPase\"], row[\"f Rubisco\"], row[\"f AA_s\"], row[\"f Ribosome\"]])\n",
    "    x           = np.array([row[\"CO2\"], row[\"H\"], row[\"PC\"], row[\"PC-\"], row[\"Q\"], row[\"QH2\"], row[\"ATP\"], row[\"NADPH\"], row[\"C3\"], row[\"AA\"], row[\"Protein\"]])\n",
    "    f_mma[condition] = f\n",
    "    mma_density = np.sum(x)/density\n",
    "    model.set_f0(f)\n",
    "    model.set_condition(condition)\n",
    "    model.calculate()\n",
    "    model.check_model_consistency()\n",
    "    if model.consistent:\n",
    "        c_cond.append(condition)\n",
    "    else:\n",
    "        nc_cond.append(condition)\n",
    "print(\"Consistent: \", c_cond)\n",
    "    "
   ]
  },
  {
   "cell_type": "code",
   "execution_count": 5,
   "metadata": {},
   "outputs": [
    {
     "name": "stdout",
     "output_type": "stream",
     "text": [
      "> Iteration:  5000  Time:  36.73018960612811  mu:  0.09286773285083015  dt:  0.0018446744073709553\n",
      "> Iteration:  10000  Time:  54.82618580097134  mu:  0.09374544981574633  dt:  0.003402823669209386\n",
      "> Iteration:  15000  Time:  70.14807835087761  mu:  0.09407241716333434  dt:  0.001569275433846671\n",
      "> Iteration:  20000  Time:  84.32424669349155  mu:  0.0942379876541477  dt:  0.001447401115466453\n",
      "> Iteration:  25000  Time:  97.82739625245003  mu:  0.09433429976401032  dt:  0.006674959487252849\n",
      "> Iteration:  30000  Time:  110.79441851967009  mu:  0.094394919283644  dt:  0.0030782817340933217\n",
      "> Iteration:  35000  Time:  123.66518439996146  mu:  0.09443625436859177  dt:  0.0014196068833898586\n",
      "> Iteration:  40000  Time:  136.42630846375394  mu:  0.09446531836327787  dt:  0.0013093562431584582\n",
      "> Iteration:  45000  Time:  148.84157145151605  mu:  0.09448596323674233  dt:  0.0030191699398572367\n",
      "> Iteration:  50000  Time:  161.32079347362975  mu:  0.09450146282082221  dt:  0.0027846927597791754\n",
      "> Iteration:  55000  Time:  173.7650162936582  mu:  0.09451318783522303  dt:  0.0025684257331779203\n",
      "> Iteration:  60000  Time:  186.02936773942423  mu:  0.09452209207907977  dt:  0.001184477304306573\n",
      "> Iteration:  65000  Time:  198.42646611904402  mu:  0.09452911116172133  dt:  0.0010924874846830375\n",
      "> Iteration:  70000  Time:  210.63378440752362  mu:  0.09453455341440706  dt:  0.002519104629209835\n",
      "> Iteration:  75000  Time:  222.75833432775573  mu:  0.09453885625749887  dt:  0.0011617319597482705\n",
      "> Iteration:  80000  Time:  234.620109520623  mu:  0.09454223953786899  dt:  0.0005357543035931348\n",
      "> Iteration:  85000  Time:  243.46293539513246  mu:  0.094544335772478  dt:  0.0019765845049542095\n",
      "> Condition 8: convergence reached (mu=0.09454547337595483, nb iterations=89728)\n"
     ]
    },
    {
     "data": {
      "text/plain": [
       "(True, 141.49137377738953)"
      ]
     },
     "execution_count": 5,
     "metadata": {},
     "output_type": "execute_result"
    }
   ],
   "source": [
    "# MMA mu = 0.0992873599169938\n",
    "# GBAccp mu = 0.0945958\n",
    "# GBApy mu = 0.09454547337595483\n",
    "model.solve_local_linear_problem()\n",
    "model.set_f0(model.LP_solution)\n",
    "model.mean_evolutionary_trajectory(condition=\"8\", max_time=10000)\n"
   ]
  },
  {
   "cell_type": "code",
   "execution_count": 5,
   "metadata": {},
   "outputs": [
    {
     "data": {
      "text/plain": [
       "array([0.25823393, 2.24134857, 5.20213551, 6.86273408, 0.11135822,\n",
       "       0.23903529, 0.2310575 , 0.24009182])"
      ]
     },
     "execution_count": 5,
     "metadata": {},
     "output_type": "execute_result"
    }
   ],
   "source": [
    "f_save = model.f\n",
    "f_save"
   ]
  },
  {
   "cell_type": "code",
   "execution_count": 6,
   "metadata": {},
   "outputs": [],
   "source": [
    "model.set_f0(f_save)\n",
    "model.set_condition(\"8\")\n",
    "model.calculate()\n",
    "model.check_model_consistency()"
   ]
  },
  {
   "cell_type": "code",
   "execution_count": 7,
   "metadata": {},
   "outputs": [
    {
     "name": "stdout",
     "output_type": "stream",
     "text": [
      "[0.25823393 2.24134857 5.20213551 6.86273408 0.11135822 0.23903529\n",
      " 0.2310575  0.24009182]\n",
      "[0.27905147 2.18733298 5.05005745 7.08650608 0.11248626 0.24826039\n",
      " 0.23656004 0.24078545]\n",
      "[ 0.00000000e+00 -9.91308482e-06 -2.28766906e-05 -3.09244138e-05\n",
      " -4.82263779e-07  9.05890966e-07  4.72479915e-08 -1.22620784e-06]\n"
     ]
    }
   ],
   "source": [
    "print(model.f)\n",
    "print(f_mma[\"8\"])\n",
    "print(model.GCC_f)"
   ]
  },
  {
   "cell_type": "code",
   "execution_count": 8,
   "metadata": {},
   "outputs": [
    {
     "name": "stdout",
     "output_type": "stream",
     "text": [
      "True\n",
      "0.09455456021207977\n",
      "True\n",
      "0.09455456021343475\n"
     ]
    }
   ],
   "source": [
    "model.set_f0(f_save)\n",
    "model.set_condition(\"8\")\n",
    "model.calculate()\n",
    "model.check_model_consistency()\n",
    "print(model.consistent)\n",
    "print(model.mu)\n",
    "\n",
    "model.set_f0(f_save+model.dmu_f*1e-9)\n",
    "model.calculate()\n",
    "model.check_model_consistency()\n",
    "print(model.consistent)\n",
    "print(model.mu)"
   ]
  },
  {
   "cell_type": "code",
   "execution_count": null,
   "metadata": {},
   "outputs": [],
   "source": []
  }
 ],
 "metadata": {
  "kernelspec": {
   "display_name": "Python 3",
   "language": "python",
   "name": "python3"
  },
  "language_info": {
   "codemirror_mode": {
    "name": "ipython",
    "version": 3
   },
   "file_extension": ".py",
   "mimetype": "text/x-python",
   "name": "python",
   "nbconvert_exporter": "python",
   "pygments_lexer": "ipython3",
   "version": "3.12.4"
  }
 },
 "nbformat": 4,
 "nbformat_minor": 2
}
