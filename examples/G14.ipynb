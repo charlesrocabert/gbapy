{
 "cells": [
  {
   "cell_type": "code",
   "execution_count": 1,
   "metadata": {},
   "outputs": [],
   "source": [
    "import os\n",
    "import gba"
   ]
  },
  {
   "cell_type": "code",
   "execution_count": 10,
   "metadata": {},
   "outputs": [],
   "source": [
    "path   = \"/Users/charlesrocabert/git/charlesrocabert/gbammsyn\"\n",
    "models = [\"G14\", \"EC11rev\", \"L3rev2\"]\n",
    "for m_name in models:\n",
    "    model = gba.read_ods_model(path=path+\"/models\", name=m_name)\n",
    "    model.write_to_csv(path=path+\"/models\", name=m_name)\n",
    "    os.system(\"Rscript \"+path+\"/pipeline/rcode/Calculate_q0.R \"+path+\"/models \"+m_name+\" -> /dev/null 2>&1\")"
   ]
  }
 ],
 "metadata": {
  "kernelspec": {
   "display_name": "Python 3",
   "language": "python",
   "name": "python3"
  },
  "language_info": {
   "codemirror_mode": {
    "name": "ipython",
    "version": 3
   },
   "file_extension": ".py",
   "mimetype": "text/x-python",
   "name": "python",
   "nbconvert_exporter": "python",
   "pygments_lexer": "ipython3",
   "version": "3.13.3"
  }
 },
 "nbformat": 4,
 "nbformat_minor": 2
}
