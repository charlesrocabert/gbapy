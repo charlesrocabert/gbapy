{
 "cells": [
  {
   "cell_type": "markdown",
   "metadata": {},
   "source": [
    "<h3>The goal of this notebook is to re-generate model outputs (in CSV and ODS format) to satisfy the last standard. All models are lcoated in the repository <code>gbamodels</code> (not yet public on Github)</h3>"
   ]
  },
  {
   "cell_type": "code",
   "execution_count": 1,
   "metadata": {},
   "outputs": [],
   "source": [
    "import gba\n",
    "\n",
    "VERBOSE = True"
   ]
  },
  {
   "cell_type": "markdown",
   "metadata": {},
   "source": [
    "# Model <code>A</code>"
   ]
  },
  {
   "cell_type": "code",
   "execution_count": 2,
   "metadata": {},
   "outputs": [
    {
     "data": {
      "text/html": [
       "<table><tr style='text-align:left'><td style='vertical-align:top'><td style='color:rgba(0,85,194);'><strong>&#10095; Info</strong></td><td>Best initial solution found with rhs factor = 10.0 and maximal mu = 2.5929933494367225.</td></tr></table>"
      ]
     },
     "metadata": {},
     "output_type": "display_data"
    },
    {
     "data": {
      "text/html": [
       "<table><tr style='text-align:left'><td style='vertical-align:top'><td style='color:rgba(0,85,194);'><strong>&#10095; Info</strong></td><td>Model converged with mu = 2.68311 after 0.01 seconds.</td></tr></table>"
      ]
     },
     "metadata": {},
     "output_type": "display_data"
    },
    {
     "data": {
      "text/html": [
       "<table><tr style='text-align:left'><td style='vertical-align:top'><td style='color:rgba(0,85,194);'><strong>&#10095; Info</strong></td><td>Model converged with mu = 2.67869 after 0.01 seconds.</td></tr></table>"
      ]
     },
     "metadata": {},
     "output_type": "display_data"
    },
    {
     "data": {
      "text/html": [
       "<table><tr style='text-align:left'><td style='vertical-align:top'><td style='color:rgba(0,85,194);'><strong>&#10095; Info</strong></td><td>Model converged with mu = 2.67208 after 0.01 seconds.</td></tr></table>"
      ]
     },
     "metadata": {},
     "output_type": "display_data"
    },
    {
     "data": {
      "text/html": [
       "<table><tr style='text-align:left'><td style='vertical-align:top'><td style='color:rgba(0,85,194);'><strong>&#10095; Info</strong></td><td>Model converged with mu = 2.66225 after 0.01 seconds.</td></tr></table>"
      ]
     },
     "metadata": {},
     "output_type": "display_data"
    },
    {
     "data": {
      "text/html": [
       "<table><tr style='text-align:left'><td style='vertical-align:top'><td style='color:rgba(0,85,194);'><strong>&#10095; Info</strong></td><td>Model converged with mu = 2.64766 after 0.01 seconds.</td></tr></table>"
      ]
     },
     "metadata": {},
     "output_type": "display_data"
    },
    {
     "data": {
      "text/html": [
       "<table><tr style='text-align:left'><td style='vertical-align:top'><td style='color:rgba(0,85,194);'><strong>&#10095; Info</strong></td><td>Model converged with mu = 2.62611 after 0.01 seconds.</td></tr></table>"
      ]
     },
     "metadata": {},
     "output_type": "display_data"
    },
    {
     "data": {
      "text/html": [
       "<table><tr style='text-align:left'><td style='vertical-align:top'><td style='color:rgba(0,85,194);'><strong>&#10095; Info</strong></td><td>Model converged with mu = 2.59451 after 0.01 seconds.</td></tr></table>"
      ]
     },
     "metadata": {},
     "output_type": "display_data"
    },
    {
     "data": {
      "text/html": [
       "<table><tr style='text-align:left'><td style='vertical-align:top'><td style='color:rgba(0,85,194);'><strong>&#10095; Info</strong></td><td>Model converged with mu = 2.54869 after 0.01 seconds.</td></tr></table>"
      ]
     },
     "metadata": {},
     "output_type": "display_data"
    },
    {
     "data": {
      "text/html": [
       "<table><tr style='text-align:left'><td style='vertical-align:top'><td style='color:rgba(0,85,194);'><strong>&#10095; Info</strong></td><td>Model converged with mu = 2.48325 after 0.01 seconds.</td></tr></table>"
      ]
     },
     "metadata": {},
     "output_type": "display_data"
    },
    {
     "data": {
      "text/html": [
       "<table><tr style='text-align:left'><td style='vertical-align:top'><td style='color:rgba(0,85,194);'><strong>&#10095; Info</strong></td><td>Model converged with mu = 2.39179 after 0.01 seconds.</td></tr></table>"
      ]
     },
     "metadata": {},
     "output_type": "display_data"
    },
    {
     "data": {
      "text/html": [
       "<table><tr style='text-align:left'><td style='vertical-align:top'><td style='color:rgba(0,85,194);'><strong>&#10095; Info</strong></td><td>Model converged with mu = 2.26768 after 0.01 seconds.</td></tr></table>"
      ]
     },
     "metadata": {},
     "output_type": "display_data"
    },
    {
     "data": {
      "text/html": [
       "<table><tr style='text-align:left'><td style='vertical-align:top'><td style='color:rgba(0,85,194);'><strong>&#10095; Info</strong></td><td>Model converged with mu = 2.10567 after 0.01 seconds.</td></tr></table>"
      ]
     },
     "metadata": {},
     "output_type": "display_data"
    },
    {
     "data": {
      "text/html": [
       "<table><tr style='text-align:left'><td style='vertical-align:top'><td style='color:rgba(0,85,194);'><strong>&#10095; Info</strong></td><td>Model converged with mu = 1.90436 after 0.01 seconds.</td></tr></table>"
      ]
     },
     "metadata": {},
     "output_type": "display_data"
    },
    {
     "data": {
      "text/html": [
       "<table><tr style='text-align:left'><td style='vertical-align:top'><td style='color:rgba(0,85,194);'><strong>&#10095; Info</strong></td><td>Model converged with mu = 1.66867 after 0.01 seconds.</td></tr></table>"
      ]
     },
     "metadata": {},
     "output_type": "display_data"
    },
    {
     "data": {
      "text/html": [
       "<table><tr style='text-align:left'><td style='vertical-align:top'><td style='color:rgba(0,85,194);'><strong>&#10095; Info</strong></td><td>Model converged with mu = 1.41086 after 0.01 seconds.</td></tr></table>"
      ]
     },
     "metadata": {},
     "output_type": "display_data"
    },
    {
     "data": {
      "text/html": [
       "<table><tr style='text-align:left'><td style='vertical-align:top'><td style='color:rgba(0,85,194);'><strong>&#10095; Info</strong></td><td>Model converged with mu = 1.14879 after 0.01 seconds.</td></tr></table>"
      ]
     },
     "metadata": {},
     "output_type": "display_data"
    },
    {
     "data": {
      "text/html": [
       "<table><tr style='text-align:left'><td style='vertical-align:top'><td style='color:rgba(0,85,194);'><strong>&#10095; Info</strong></td><td>Model converged with mu = 0.901362 after 0.01 seconds.</td></tr></table>"
      ]
     },
     "metadata": {},
     "output_type": "display_data"
    },
    {
     "data": {
      "text/html": [
       "<table><tr style='text-align:left'><td style='vertical-align:top'><td style='color:rgba(0,85,194);'><strong>&#10095; Info</strong></td><td>Model converged with mu = 0.683518 after 0.01 seconds.</td></tr></table>"
      ]
     },
     "metadata": {},
     "output_type": "display_data"
    },
    {
     "data": {
      "text/html": [
       "<table><tr style='text-align:left'><td style='vertical-align:top'><td style='color:rgba(0,85,194);'><strong>&#10095; Info</strong></td><td>Model converged with mu = 0.503257 after 0.01 seconds.</td></tr></table>"
      ]
     },
     "metadata": {},
     "output_type": "display_data"
    },
    {
     "data": {
      "text/html": [
       "<table><tr style='text-align:left'><td style='vertical-align:top'><td style='color:rgba(0,85,194);'><strong>&#10095; Info</strong></td><td>Model converged with mu = 0.361668 after 0.01 seconds.</td></tr></table>"
      ]
     },
     "metadata": {},
     "output_type": "display_data"
    },
    {
     "data": {
      "text/html": [
       "<table><tr style='text-align:left'><td style='vertical-align:top'><td style='color:rgba(0,85,194);'><strong>&#10095; Info</strong></td><td>Model converged with mu = 0.255003 after 0.01 seconds.</td></tr></table>"
      ]
     },
     "metadata": {},
     "output_type": "display_data"
    },
    {
     "data": {
      "text/html": [
       "<table><tr style='text-align:left'><td style='vertical-align:top'><td style='color:rgba(0,85,194);'><strong>&#10095; Info</strong></td><td>Model converged with mu = 0.177196 after 0.01 seconds.</td></tr></table>"
      ]
     },
     "metadata": {},
     "output_type": "display_data"
    },
    {
     "data": {
      "text/html": [
       "<table><tr style='text-align:left'><td style='vertical-align:top'><td style='color:rgba(0,85,194);'><strong>&#10095; Info</strong></td><td>Model converged with mu = 0.121797 after 0.01 seconds.</td></tr></table>"
      ]
     },
     "metadata": {},
     "output_type": "display_data"
    },
    {
     "data": {
      "text/html": [
       "<table><tr style='text-align:left'><td style='vertical-align:top'><td style='color:rgba(0,85,194);'><strong>&#10095; Info</strong></td><td>Model converged with mu = 0.0830507 after 0.01 seconds.</td></tr></table>"
      ]
     },
     "metadata": {},
     "output_type": "display_data"
    },
    {
     "data": {
      "text/html": [
       "<table><tr style='text-align:left'><td style='vertical-align:top'><td style='color:rgba(0,85,194);'><strong>&#10095; Info</strong></td><td>Model converged with mu = 0.0562996 after 0.01 seconds.</td></tr></table>"
      ]
     },
     "metadata": {},
     "output_type": "display_data"
    }
   ],
   "source": [
    "# Load model\n",
    "model = gba.read_ods_model(path=\"../../gbamodels/ODS\", name=\"A\")\n",
    "\n",
    "# Generate accurate initial solution\n",
    "model.find_best_initial_solution(verbose=VERBOSE)\n",
    "\n",
    "# Find optimal solutions\n",
    "for condition_id in model.condition_ids:\n",
    "    model.set_condition(condition_id)\n",
    "    model.find_optimum(verbose=VERBOSE)\n",
    "\n",
    "# Modify infos\n",
    "model.add_info(category=\"Sheets\", key=\"q0\", content=\"Initial flux fraction vector\")\n",
    "model.add_info(category=\"Sheets\", key=\"qopt\", content=\"Optimal solutions per condition\")\n",
    "del model.info[\"Sheets\"][\"KI\"]\n",
    "\n",
    "# Save model\n",
    "model.write_to_ods(path=\"/Users/charlesrocabert/Desktop/new_models\", name=\"A\")\n",
    "model.write_to_csv(path=\"/Users/charlesrocabert/Desktop/new_models\", name=\"A\")"
   ]
  },
  {
   "cell_type": "markdown",
   "metadata": {},
   "source": [
    "# Model <code>B</code>"
   ]
  },
  {
   "cell_type": "code",
   "execution_count": null,
   "metadata": {},
   "outputs": [
    {
     "data": {
      "text/html": [
       "<table><tr style='text-align:left'><td style='vertical-align:top'><td style='color:rgba(0,85,194);'><strong>&#10095; Info</strong></td><td>Best initial solution found with rhs factor = 10.0 and maximal mu = 1.686574588270566.</td></tr></table>"
      ]
     },
     "metadata": {},
     "output_type": "display_data"
    },
    {
     "data": {
      "text/html": [
       "<table><tr style='text-align:left'><td style='vertical-align:top'><td style='color:rgba(0,85,194);'><strong>&#10095; Info</strong></td><td>Model converged with mu = 1.69885 after 0.01 seconds.</td></tr></table>"
      ]
     },
     "metadata": {},
     "output_type": "display_data"
    },
    {
     "data": {
      "text/html": [
       "<table><tr style='text-align:left'><td style='vertical-align:top'><td style='color:rgba(0,85,194);'><strong>&#10095; Info</strong></td><td>Model converged with mu = 1.67988 after 0.01 seconds.</td></tr></table>"
      ]
     },
     "metadata": {},
     "output_type": "display_data"
    },
    {
     "data": {
      "text/html": [
       "<table><tr style='text-align:left'><td style='vertical-align:top'><td style='color:rgba(0,85,194);'><strong>&#10095; Info</strong></td><td>Model converged with mu = 1.65235 after 0.01 seconds.</td></tr></table>"
      ]
     },
     "metadata": {},
     "output_type": "display_data"
    },
    {
     "data": {
      "text/html": [
       "<table><tr style='text-align:left'><td style='vertical-align:top'><td style='color:rgba(0,85,194);'><strong>&#10095; Info</strong></td><td>Model converged with mu = 1.61297 after 0.01 seconds.</td></tr></table>"
      ]
     },
     "metadata": {},
     "output_type": "display_data"
    },
    {
     "data": {
      "text/html": [
       "<table><tr style='text-align:left'><td style='vertical-align:top'><td style='color:rgba(0,85,194);'><strong>&#10095; Info</strong></td><td>Model converged with mu = 1.55778 after 0.01 seconds.</td></tr></table>"
      ]
     },
     "metadata": {},
     "output_type": "display_data"
    },
    {
     "data": {
      "text/html": [
       "<table><tr style='text-align:left'><td style='vertical-align:top'><td style='color:rgba(0,85,194);'><strong>&#10095; Info</strong></td><td>Model converged with mu = 1.48259 after 0.01 seconds.</td></tr></table>"
      ]
     },
     "metadata": {},
     "output_type": "display_data"
    },
    {
     "data": {
      "text/html": [
       "<table><tr style='text-align:left'><td style='vertical-align:top'><td style='color:rgba(0,85,194);'><strong>&#10095; Info</strong></td><td>Model converged with mu = 1.3839 after 0.01 seconds.</td></tr></table>"
      ]
     },
     "metadata": {},
     "output_type": "display_data"
    },
    {
     "data": {
      "text/html": [
       "<table><tr style='text-align:left'><td style='vertical-align:top'><td style='color:rgba(0,85,194);'><strong>&#10095; Info</strong></td><td>Model converged with mu = 1.2603 after 0.01 seconds.</td></tr></table>"
      ]
     },
     "metadata": {},
     "output_type": "display_data"
    },
    {
     "data": {
      "text/html": [
       "<table><tr style='text-align:left'><td style='vertical-align:top'><td style='color:rgba(0,85,194);'><strong>&#10095; Info</strong></td><td>Model converged with mu = 1.11405 after 0.01 seconds.</td></tr></table>"
      ]
     },
     "metadata": {},
     "output_type": "display_data"
    },
    {
     "data": {
      "text/html": [
       "<table><tr style='text-align:left'><td style='vertical-align:top'><td style='color:rgba(0,85,194);'><strong>&#10095; Info</strong></td><td>Model converged with mu = 0.951897 after 0.01 seconds.</td></tr></table>"
      ]
     },
     "metadata": {},
     "output_type": "display_data"
    },
    {
     "data": {
      "text/html": [
       "<table><tr style='text-align:left'><td style='vertical-align:top'><td style='color:rgba(0,85,194);'><strong>&#10095; Info</strong></td><td>Model converged with mu = 0.78437 after 0.01 seconds.</td></tr></table>"
      ]
     },
     "metadata": {},
     "output_type": "display_data"
    },
    {
     "data": {
      "text/html": [
       "<table><tr style='text-align:left'><td style='vertical-align:top'><td style='color:rgba(0,85,194);'><strong>&#10095; Info</strong></td><td>Model converged with mu = 0.623291 after 0.01 seconds.</td></tr></table>"
      ]
     },
     "metadata": {},
     "output_type": "display_data"
    },
    {
     "data": {
      "text/html": [
       "<table><tr style='text-align:left'><td style='vertical-align:top'><td style='color:rgba(0,85,194);'><strong>&#10095; Info</strong></td><td>Model converged with mu = 0.478717 after 0.01 seconds.</td></tr></table>"
      ]
     },
     "metadata": {},
     "output_type": "display_data"
    },
    {
     "data": {
      "text/html": [
       "<table><tr style='text-align:left'><td style='vertical-align:top'><td style='color:rgba(0,85,194);'><strong>&#10095; Info</strong></td><td>Model converged with mu = 0.35678 after 0.01 seconds.</td></tr></table>"
      ]
     },
     "metadata": {},
     "output_type": "display_data"
    },
    {
     "data": {
      "text/html": [
       "<table><tr style='text-align:left'><td style='vertical-align:top'><td style='color:rgba(0,85,194);'><strong>&#10095; Info</strong></td><td>Model converged with mu = 0.259263 after 0.01 seconds.</td></tr></table>"
      ]
     },
     "metadata": {},
     "output_type": "display_data"
    },
    {
     "data": {
      "text/html": [
       "<table><tr style='text-align:left'><td style='vertical-align:top'><td style='color:rgba(0,85,194);'><strong>&#10095; Info</strong></td><td>Model converged with mu = 0.184597 after 0.01 seconds.</td></tr></table>"
      ]
     },
     "metadata": {},
     "output_type": "display_data"
    },
    {
     "data": {
      "text/html": [
       "<table><tr style='text-align:left'><td style='vertical-align:top'><td style='color:rgba(0,85,194);'><strong>&#10095; Info</strong></td><td>Model converged with mu = 0.129355 after 0.01 seconds.</td></tr></table>"
      ]
     },
     "metadata": {},
     "output_type": "display_data"
    },
    {
     "data": {
      "text/html": [
       "<table><tr style='text-align:left'><td style='vertical-align:top'><td style='color:rgba(0,85,194);'><strong>&#10095; Info</strong></td><td>Model converged with mu = 0.0895456 after 0.01 seconds.</td></tr></table>"
      ]
     },
     "metadata": {},
     "output_type": "display_data"
    },
    {
     "data": {
      "text/html": [
       "<table><tr style='text-align:left'><td style='vertical-align:top'><td style='color:rgba(0,85,194);'><strong>&#10095; Info</strong></td><td>Model converged with mu = 0.0614199 after 0.01 seconds.</td></tr></table>"
      ]
     },
     "metadata": {},
     "output_type": "display_data"
    },
    {
     "data": {
      "text/html": [
       "<table><tr style='text-align:left'><td style='vertical-align:top'><td style='color:rgba(0,85,194);'><strong>&#10095; Info</strong></td><td>Model converged with mu = 0.0418391 after 0.01 seconds.</td></tr></table>"
      ]
     },
     "metadata": {},
     "output_type": "display_data"
    },
    {
     "data": {
      "text/html": [
       "<table><tr style='text-align:left'><td style='vertical-align:top'><td style='color:rgba(0,85,194);'><strong>&#10095; Info</strong></td><td>Model converged with mu = 0.0283545 after 0.01 seconds.</td></tr></table>"
      ]
     },
     "metadata": {},
     "output_type": "display_data"
    },
    {
     "data": {
      "text/html": [
       "<table><tr style='text-align:left'><td style='vertical-align:top'><td style='color:rgba(0,85,194);'><strong>&#10095; Info</strong></td><td>Model converged with mu = 0.0191423 after 0.01 seconds.</td></tr></table>"
      ]
     },
     "metadata": {},
     "output_type": "display_data"
    },
    {
     "data": {
      "text/html": [
       "<table><tr style='text-align:left'><td style='vertical-align:top'><td style='color:rgba(0,85,194);'><strong>&#10095; Info</strong></td><td>Model converged with mu = 0.0128859 after 0.01 seconds.</td></tr></table>"
      ]
     },
     "metadata": {},
     "output_type": "display_data"
    },
    {
     "data": {
      "text/html": [
       "<table><tr style='text-align:left'><td style='vertical-align:top'><td style='color:rgba(0,85,194);'><strong>&#10095; Info</strong></td><td>Model converged with mu = 0.00865551 after 0.01 seconds.</td></tr></table>"
      ]
     },
     "metadata": {},
     "output_type": "display_data"
    },
    {
     "data": {
      "text/html": [
       "<table><tr style='text-align:left'><td style='vertical-align:top'><td style='color:rgba(0,85,194);'><strong>&#10095; Info</strong></td><td>Model converged with mu = 0.00580436 after 0.01 seconds.</td></tr></table>"
      ]
     },
     "metadata": {},
     "output_type": "display_data"
    }
   ],
   "source": [
    "# Load model\n",
    "model = gba.read_ods_model(path=\"../../gbamodels/ODS\", name=\"B\")\n",
    "\n",
    "# Generate accurate initial solution\n",
    "model.find_best_initial_solution(verbose=VERBOSE)\n",
    "\n",
    "# Find optimal solutions\n",
    "for condition_id in model.condition_ids:\n",
    "    model.set_condition(condition_id)\n",
    "    model.find_optimum(verbose=VERBOSE)\n",
    "\n",
    "# Modify infos\n",
    "model.add_info(category=\"Sheets\", key=\"q0\", content=\"Initial flux fraction vector\")\n",
    "model.add_info(category=\"Sheets\", key=\"qopt\", content=\"Optimal solutions per condition\")\n",
    "del model.info[\"Sheets\"][\"KI\"]\n",
    "\n",
    "# Save model\n",
    "model.write_to_ods(path=\"/Users/charlesrocabert/Desktop/new_models\", name=\"B\")\n",
    "model.write_to_csv(path=\"/Users/charlesrocabert/Desktop/new_models\", name=\"B\")"
   ]
  },
  {
   "cell_type": "markdown",
   "metadata": {},
   "source": [
    "# Model <code>C</code>"
   ]
  },
  {
   "cell_type": "code",
   "execution_count": null,
   "metadata": {},
   "outputs": [
    {
     "data": {
      "text/html": [
       "<table><tr style='text-align:left'><td style='vertical-align:top'><td style='color:rgba(0,85,194);'><strong>&#10095; Info</strong></td><td>Best initial solution found with rhs factor = 10.0 and maximal mu = 1.4722536806342017.</td></tr></table>"
      ]
     },
     "metadata": {},
     "output_type": "display_data"
    },
    {
     "data": {
      "text/html": [
       "<table><tr style='text-align:left'><td style='vertical-align:top'><td style='color:rgba(0,85,194);'><strong>&#10095; Info</strong></td><td>Model converged with mu = 1.49131 after 0.02 seconds.</td></tr></table>"
      ]
     },
     "metadata": {},
     "output_type": "display_data"
    },
    {
     "data": {
      "text/html": [
       "<table><tr style='text-align:left'><td style='vertical-align:top'><td style='color:rgba(0,85,194);'><strong>&#10095; Info</strong></td><td>Model converged with mu = 1.47351 after 0.02 seconds.</td></tr></table>"
      ]
     },
     "metadata": {},
     "output_type": "display_data"
    },
    {
     "data": {
      "text/html": [
       "<table><tr style='text-align:left'><td style='vertical-align:top'><td style='color:rgba(0,85,194);'><strong>&#10095; Info</strong></td><td>Model converged with mu = 1.44769 after 0.02 seconds.</td></tr></table>"
      ]
     },
     "metadata": {},
     "output_type": "display_data"
    },
    {
     "data": {
      "text/html": [
       "<table><tr style='text-align:left'><td style='vertical-align:top'><td style='color:rgba(0,85,194);'><strong>&#10095; Info</strong></td><td>Model converged with mu = 1.41085 after 0.02 seconds.</td></tr></table>"
      ]
     },
     "metadata": {},
     "output_type": "display_data"
    },
    {
     "data": {
      "text/html": [
       "<table><tr style='text-align:left'><td style='vertical-align:top'><td style='color:rgba(0,85,194);'><strong>&#10095; Info</strong></td><td>Model converged with mu = 1.35939 after 0.02 seconds.</td></tr></table>"
      ]
     },
     "metadata": {},
     "output_type": "display_data"
    },
    {
     "data": {
      "text/html": [
       "<table><tr style='text-align:left'><td style='vertical-align:top'><td style='color:rgba(0,85,194);'><strong>&#10095; Info</strong></td><td>Model converged with mu = 1.2896 after 0.02 seconds.</td></tr></table>"
      ]
     },
     "metadata": {},
     "output_type": "display_data"
    },
    {
     "data": {
      "text/html": [
       "<table><tr style='text-align:left'><td style='vertical-align:top'><td style='color:rgba(0,85,194);'><strong>&#10095; Info</strong></td><td>Model converged with mu = 1.19858 after 0.02 seconds.</td></tr></table>"
      ]
     },
     "metadata": {},
     "output_type": "display_data"
    },
    {
     "data": {
      "text/html": [
       "<table><tr style='text-align:left'><td style='vertical-align:top'><td style='color:rgba(0,85,194);'><strong>&#10095; Info</strong></td><td>Model converged with mu = 1.08552 after 0.02 seconds.</td></tr></table>"
      ]
     },
     "metadata": {},
     "output_type": "display_data"
    },
    {
     "data": {
      "text/html": [
       "<table><tr style='text-align:left'><td style='vertical-align:top'><td style='color:rgba(0,85,194);'><strong>&#10095; Info</strong></td><td>Model converged with mu = 0.953144 after 0.02 seconds.</td></tr></table>"
      ]
     },
     "metadata": {},
     "output_type": "display_data"
    },
    {
     "data": {
      "text/html": [
       "<table><tr style='text-align:left'><td style='vertical-align:top'><td style='color:rgba(0,85,194);'><strong>&#10095; Info</strong></td><td>Model converged with mu = 0.808215 after 0.02 seconds.</td></tr></table>"
      ]
     },
     "metadata": {},
     "output_type": "display_data"
    },
    {
     "data": {
      "text/html": [
       "<table><tr style='text-align:left'><td style='vertical-align:top'><td style='color:rgba(0,85,194);'><strong>&#10095; Info</strong></td><td>Model converged with mu = 0.660559 after 0.02 seconds.</td></tr></table>"
      ]
     },
     "metadata": {},
     "output_type": "display_data"
    },
    {
     "data": {
      "text/html": [
       "<table><tr style='text-align:left'><td style='vertical-align:top'><td style='color:rgba(0,85,194);'><strong>&#10095; Info</strong></td><td>Model converged with mu = 0.520637 after 0.02 seconds.</td></tr></table>"
      ]
     },
     "metadata": {},
     "output_type": "display_data"
    },
    {
     "data": {
      "text/html": [
       "<table><tr style='text-align:left'><td style='vertical-align:top'><td style='color:rgba(0,85,194);'><strong>&#10095; Info</strong></td><td>Model converged with mu = 0.396818 after 0.02 seconds.</td></tr></table>"
      ]
     },
     "metadata": {},
     "output_type": "display_data"
    },
    {
     "data": {
      "text/html": [
       "<table><tr style='text-align:left'><td style='vertical-align:top'><td style='color:rgba(0,85,194);'><strong>&#10095; Info</strong></td><td>Model converged with mu = 0.29373 after 0.02 seconds.</td></tr></table>"
      ]
     },
     "metadata": {},
     "output_type": "display_data"
    },
    {
     "data": {
      "text/html": [
       "<table><tr style='text-align:left'><td style='vertical-align:top'><td style='color:rgba(0,85,194);'><strong>&#10095; Info</strong></td><td>Model converged with mu = 0.21221 after 0.02 seconds.</td></tr></table>"
      ]
     },
     "metadata": {},
     "output_type": "display_data"
    },
    {
     "data": {
      "text/html": [
       "<table><tr style='text-align:left'><td style='vertical-align:top'><td style='color:rgba(0,85,194);'><strong>&#10095; Info</strong></td><td>Model converged with mu = 0.150375 after 0.02 seconds.</td></tr></table>"
      ]
     },
     "metadata": {},
     "output_type": "display_data"
    },
    {
     "data": {
      "text/html": [
       "<table><tr style='text-align:left'><td style='vertical-align:top'><td style='color:rgba(0,85,194);'><strong>&#10095; Info</strong></td><td>Model converged with mu = 0.104971 after 0.02 seconds.</td></tr></table>"
      ]
     },
     "metadata": {},
     "output_type": "display_data"
    },
    {
     "data": {
      "text/html": [
       "<table><tr style='text-align:left'><td style='vertical-align:top'><td style='color:rgba(0,85,194);'><strong>&#10095; Info</strong></td><td>Model converged with mu = 0.0724459 after 0.02 seconds.</td></tr></table>"
      ]
     },
     "metadata": {},
     "output_type": "display_data"
    },
    {
     "data": {
      "text/html": [
       "<table><tr style='text-align:left'><td style='vertical-align:top'><td style='color:rgba(0,85,194);'><strong>&#10095; Info</strong></td><td>Model converged with mu = 0.0495732 after 0.03 seconds.</td></tr></table>"
      ]
     },
     "metadata": {},
     "output_type": "display_data"
    },
    {
     "data": {
      "text/html": [
       "<table><tr style='text-align:left'><td style='vertical-align:top'><td style='color:rgba(0,85,194);'><strong>&#10095; Info</strong></td><td>Model converged with mu = 0.0337066 after 0.03 seconds.</td></tr></table>"
      ]
     },
     "metadata": {},
     "output_type": "display_data"
    },
    {
     "data": {
      "text/html": [
       "<table><tr style='text-align:left'><td style='vertical-align:top'><td style='color:rgba(0,85,194);'><strong>&#10095; Info</strong></td><td>Model converged with mu = 0.02281 after 0.04 seconds.</td></tr></table>"
      ]
     },
     "metadata": {},
     "output_type": "display_data"
    },
    {
     "data": {
      "text/html": [
       "<table><tr style='text-align:left'><td style='vertical-align:top'><td style='color:rgba(0,85,194);'><strong>&#10095; Info</strong></td><td>Model converged with mu = 0.0153818 after 0.05 seconds.</td></tr></table>"
      ]
     },
     "metadata": {},
     "output_type": "display_data"
    },
    {
     "data": {
      "text/html": [
       "<table><tr style='text-align:left'><td style='vertical-align:top'><td style='color:rgba(0,85,194);'><strong>&#10095; Info</strong></td><td>Model converged with mu = 0.0103453 after 0.06 seconds.</td></tr></table>"
      ]
     },
     "metadata": {},
     "output_type": "display_data"
    },
    {
     "data": {
      "text/html": [
       "<table><tr style='text-align:left'><td style='vertical-align:top'><td style='color:rgba(0,85,194);'><strong>&#10095; Info</strong></td><td>Model converged with mu = 0.00694408 after 0.07 seconds.</td></tr></table>"
      ]
     },
     "metadata": {},
     "output_type": "display_data"
    },
    {
     "data": {
      "text/html": [
       "<table><tr style='text-align:left'><td style='vertical-align:top'><td style='color:rgba(0,85,194);'><strong>&#10095; Info</strong></td><td>Model converged with mu = 0.0046541 after 0.09 seconds.</td></tr></table>"
      ]
     },
     "metadata": {},
     "output_type": "display_data"
    }
   ],
   "source": [
    "# Load model\n",
    "model = gba.read_ods_model(path=\"../../gbamodels/ODS\", name=\"C\")\n",
    "\n",
    "# Generate accurate initial solution\n",
    "model.find_best_initial_solution(verbose=VERBOSE)\n",
    "\n",
    "# Find optimal solutions\n",
    "for condition_id in model.condition_ids:\n",
    "    model.set_condition(condition_id)\n",
    "    model.find_optimum(verbose=VERBOSE)\n",
    "\n",
    "# Modify infos\n",
    "model.add_info(category=\"Sheets\", key=\"q0\", content=\"Initial flux fraction vector\")\n",
    "model.add_info(category=\"Sheets\", key=\"qopt\", content=\"Optimal solutions per condition\")\n",
    "del model.info[\"Sheets\"][\"KI\"]\n",
    "\n",
    "# Save model\n",
    "model.write_to_ods(path=\"/Users/charlesrocabert/Desktop/new_models\", name=\"C\")\n",
    "model.write_to_csv(path=\"/Users/charlesrocabert/Desktop/new_models\", name=\"C\")"
   ]
  },
  {
   "cell_type": "markdown",
   "metadata": {},
   "source": [
    "# Model <code>D</code>"
   ]
  },
  {
   "cell_type": "code",
   "execution_count": null,
   "metadata": {},
   "outputs": [
    {
     "data": {
      "text/html": [
       "<table><tr style='text-align:left'><td style='vertical-align:top'><td style='color:rgba(0,85,194);'><strong>&#10095; Info</strong></td><td>Best initial solution found with rhs factor = 10.0 and maximal mu = 1.580024345495728.</td></tr></table>"
      ]
     },
     "metadata": {},
     "output_type": "display_data"
    },
    {
     "data": {
      "text/html": [
       "<table><tr style='text-align:left'><td style='vertical-align:top'><td style='color:rgba(0,85,194);'><strong>&#10095; Info</strong></td><td>Model converged with mu = 1.70994 after 0.03 seconds.</td></tr></table>"
      ]
     },
     "metadata": {},
     "output_type": "display_data"
    },
    {
     "data": {
      "text/html": [
       "<table><tr style='text-align:left'><td style='vertical-align:top'><td style='color:rgba(0,85,194);'><strong>&#10095; Info</strong></td><td>Model converged with mu = 1.70907 after 0.03 seconds.</td></tr></table>"
      ]
     },
     "metadata": {},
     "output_type": "display_data"
    },
    {
     "data": {
      "text/html": [
       "<table><tr style='text-align:left'><td style='vertical-align:top'><td style='color:rgba(0,85,194);'><strong>&#10095; Info</strong></td><td>Model converged with mu = 1.70776 after 0.03 seconds.</td></tr></table>"
      ]
     },
     "metadata": {},
     "output_type": "display_data"
    },
    {
     "data": {
      "text/html": [
       "<table><tr style='text-align:left'><td style='vertical-align:top'><td style='color:rgba(0,85,194);'><strong>&#10095; Info</strong></td><td>Model converged with mu = 1.7058 after 0.03 seconds.</td></tr></table>"
      ]
     },
     "metadata": {},
     "output_type": "display_data"
    },
    {
     "data": {
      "text/html": [
       "<table><tr style='text-align:left'><td style='vertical-align:top'><td style='color:rgba(0,85,194);'><strong>&#10095; Info</strong></td><td>Model converged with mu = 1.70288 after 0.03 seconds.</td></tr></table>"
      ]
     },
     "metadata": {},
     "output_type": "display_data"
    },
    {
     "data": {
      "text/html": [
       "<table><tr style='text-align:left'><td style='vertical-align:top'><td style='color:rgba(0,85,194);'><strong>&#10095; Info</strong></td><td>Model converged with mu = 1.69852 after 0.03 seconds.</td></tr></table>"
      ]
     },
     "metadata": {},
     "output_type": "display_data"
    },
    {
     "data": {
      "text/html": [
       "<table><tr style='text-align:left'><td style='vertical-align:top'><td style='color:rgba(0,85,194);'><strong>&#10095; Info</strong></td><td>Model converged with mu = 1.69203 after 0.03 seconds.</td></tr></table>"
      ]
     },
     "metadata": {},
     "output_type": "display_data"
    },
    {
     "data": {
      "text/html": [
       "<table><tr style='text-align:left'><td style='vertical-align:top'><td style='color:rgba(0,85,194);'><strong>&#10095; Info</strong></td><td>Model converged with mu = 1.68242 after 0.03 seconds.</td></tr></table>"
      ]
     },
     "metadata": {},
     "output_type": "display_data"
    },
    {
     "data": {
      "text/html": [
       "<table><tr style='text-align:left'><td style='vertical-align:top'><td style='color:rgba(0,85,194);'><strong>&#10095; Info</strong></td><td>Model converged with mu = 1.66826 after 0.03 seconds.</td></tr></table>"
      ]
     },
     "metadata": {},
     "output_type": "display_data"
    },
    {
     "data": {
      "text/html": [
       "<table><tr style='text-align:left'><td style='vertical-align:top'><td style='color:rgba(0,85,194);'><strong>&#10095; Info</strong></td><td>Model converged with mu = 1.64759 after 0.03 seconds.</td></tr></table>"
      ]
     },
     "metadata": {},
     "output_type": "display_data"
    },
    {
     "data": {
      "text/html": [
       "<table><tr style='text-align:left'><td style='vertical-align:top'><td style='color:rgba(0,85,194);'><strong>&#10095; Info</strong></td><td>Model converged with mu = 1.61778 after 0.03 seconds.</td></tr></table>"
      ]
     },
     "metadata": {},
     "output_type": "display_data"
    },
    {
     "data": {
      "text/html": [
       "<table><tr style='text-align:left'><td style='vertical-align:top'><td style='color:rgba(0,85,194);'><strong>&#10095; Info</strong></td><td>Model converged with mu = 1.57549 after 0.03 seconds.</td></tr></table>"
      ]
     },
     "metadata": {},
     "output_type": "display_data"
    },
    {
     "data": {
      "text/html": [
       "<table><tr style='text-align:left'><td style='vertical-align:top'><td style='color:rgba(0,85,194);'><strong>&#10095; Info</strong></td><td>Model converged with mu = 1.51689 after 0.03 seconds.</td></tr></table>"
      ]
     },
     "metadata": {},
     "output_type": "display_data"
    },
    {
     "data": {
      "text/html": [
       "<table><tr style='text-align:left'><td style='vertical-align:top'><td style='color:rgba(0,85,194);'><strong>&#10095; Info</strong></td><td>Model converged with mu = 1.4381 after 0.03 seconds.</td></tr></table>"
      ]
     },
     "metadata": {},
     "output_type": "display_data"
    },
    {
     "data": {
      "text/html": [
       "<table><tr style='text-align:left'><td style='vertical-align:top'><td style='color:rgba(0,85,194);'><strong>&#10095; Info</strong></td><td>Model converged with mu = 1.33625 after 0.04 seconds.</td></tr></table>"
      ]
     },
     "metadata": {},
     "output_type": "display_data"
    },
    {
     "data": {
      "text/html": [
       "<table><tr style='text-align:left'><td style='vertical-align:top'><td style='color:rgba(0,85,194);'><strong>&#10095; Info</strong></td><td>Model converged with mu = 1.20986 after 0.02 seconds.</td></tr></table>"
      ]
     },
     "metadata": {},
     "output_type": "display_data"
    },
    {
     "data": {
      "text/html": [
       "<table><tr style='text-align:left'><td style='vertical-align:top'><td style='color:rgba(0,85,194);'><strong>&#10095; Info</strong></td><td>Model converged with mu = 1.07433 after 0.02 seconds.</td></tr></table>"
      ]
     },
     "metadata": {},
     "output_type": "display_data"
    },
    {
     "data": {
      "text/html": [
       "<table><tr style='text-align:left'><td style='vertical-align:top'><td style='color:rgba(0,85,194);'><strong>&#10095; Info</strong></td><td>Model converged with mu = 0.924068 after 0.02 seconds.</td></tr></table>"
      ]
     },
     "metadata": {},
     "output_type": "display_data"
    },
    {
     "data": {
      "text/html": [
       "<table><tr style='text-align:left'><td style='vertical-align:top'><td style='color:rgba(0,85,194);'><strong>&#10095; Info</strong></td><td>Model converged with mu = 0.768015 after 0.02 seconds.</td></tr></table>"
      ]
     },
     "metadata": {},
     "output_type": "display_data"
    },
    {
     "data": {
      "text/html": [
       "<table><tr style='text-align:left'><td style='vertical-align:top'><td style='color:rgba(0,85,194);'><strong>&#10095; Info</strong></td><td>Model converged with mu = 0.61649 after 0.02 seconds.</td></tr></table>"
      ]
     },
     "metadata": {},
     "output_type": "display_data"
    },
    {
     "data": {
      "text/html": [
       "<table><tr style='text-align:left'><td style='vertical-align:top'><td style='color:rgba(0,85,194);'><strong>&#10095; Info</strong></td><td>Model converged with mu = 0.478677 after 0.03 seconds.</td></tr></table>"
      ]
     },
     "metadata": {},
     "output_type": "display_data"
    },
    {
     "data": {
      "text/html": [
       "<table><tr style='text-align:left'><td style='vertical-align:top'><td style='color:rgba(0,85,194);'><strong>&#10095; Info</strong></td><td>Model converged with mu = 0.360665 after 0.03 seconds.</td></tr></table>"
      ]
     },
     "metadata": {},
     "output_type": "display_data"
    },
    {
     "data": {
      "text/html": [
       "<table><tr style='text-align:left'><td style='vertical-align:top'><td style='color:rgba(0,85,194);'><strong>&#10095; Info</strong></td><td>Model converged with mu = 0.264805 after 0.03 seconds.</td></tr></table>"
      ]
     },
     "metadata": {},
     "output_type": "display_data"
    },
    {
     "data": {
      "text/html": [
       "<table><tr style='text-align:left'><td style='vertical-align:top'><td style='color:rgba(0,85,194);'><strong>&#10095; Info</strong></td><td>Model converged with mu = 0.190307 after 0.03 seconds.</td></tr></table>"
      ]
     },
     "metadata": {},
     "output_type": "display_data"
    },
    {
     "data": {
      "text/html": [
       "<table><tr style='text-align:left'><td style='vertical-align:top'><td style='color:rgba(0,85,194);'><strong>&#10095; Info</strong></td><td>Model converged with mu = 0.134445 after 0.03 seconds.</td></tr></table>"
      ]
     },
     "metadata": {},
     "output_type": "display_data"
    }
   ],
   "source": [
    "# Load model\n",
    "model = gba.read_ods_model(path=\"../../gbamodels/ODS\", name=\"D\")\n",
    "\n",
    "# Generate accurate initial solution\n",
    "model.find_best_initial_solution(verbose=VERBOSE)\n",
    "\n",
    "# Find optimal solutions\n",
    "for condition_id in model.condition_ids:\n",
    "    model.set_condition(condition_id)\n",
    "    model.find_optimum(verbose=VERBOSE)\n",
    "\n",
    "# Modify infos\n",
    "model.add_info(category=\"Sheets\", key=\"q0\", content=\"Initial flux fraction vector\")\n",
    "model.add_info(category=\"Sheets\", key=\"qopt\", content=\"Optimal solutions per condition\")\n",
    "del model.info[\"Sheets\"][\"KI\"]\n",
    "\n",
    "# Save model\n",
    "model.write_to_ods(path=\"/Users/charlesrocabert/Desktop/new_models\", name=\"D\")\n",
    "model.write_to_csv(path=\"/Users/charlesrocabert/Desktop/new_models\", name=\"D\")"
   ]
  },
  {
   "cell_type": "markdown",
   "metadata": {},
   "source": [
    "# Model <code>EC12b</code>"
   ]
  },
  {
   "cell_type": "code",
   "execution_count": null,
   "metadata": {},
   "outputs": [
    {
     "data": {
      "text/html": [
       "<table><tr style='text-align:left'><td style='vertical-align:top'><td style='color:rgba(236,3,3);'><strong>&#10006; Error</strong></td><td>Local linear problem could not be solved.</td></tr></table>"
      ]
     },
     "metadata": {},
     "output_type": "display_data"
    },
    {
     "data": {
      "text/html": [
       "<table><tr style='text-align:left'><td style='vertical-align:top'><td style='color:rgba(0,85,194);'><strong>&#10095; Info</strong></td><td>Best initial solution found with rhs factor = 20.0 and maximal mu = 0.7753958615604659.</td></tr></table>"
      ]
     },
     "metadata": {},
     "output_type": "display_data"
    },
    {
     "data": {
      "text/html": [
       "<table><tr style='text-align:left'><td style='vertical-align:top'><td style='color:rgba(0,85,194);'><strong>&#10095; Info</strong></td><td>Model converged with mu = 0.84937 after 0.29 seconds.</td></tr></table>"
      ]
     },
     "metadata": {},
     "output_type": "display_data"
    },
    {
     "data": {
      "text/html": [
       "<table><tr style='text-align:left'><td style='vertical-align:top'><td style='color:rgba(0,85,194);'><strong>&#10095; Info</strong></td><td>Model converged with mu = 0.847446 after 0.29 seconds.</td></tr></table>"
      ]
     },
     "metadata": {},
     "output_type": "display_data"
    },
    {
     "data": {
      "text/html": [
       "<table><tr style='text-align:left'><td style='vertical-align:top'><td style='color:rgba(0,85,194);'><strong>&#10095; Info</strong></td><td>Model converged with mu = 0.845153 after 0.30 seconds.</td></tr></table>"
      ]
     },
     "metadata": {},
     "output_type": "display_data"
    },
    {
     "data": {
      "text/html": [
       "<table><tr style='text-align:left'><td style='vertical-align:top'><td style='color:rgba(0,85,194);'><strong>&#10095; Info</strong></td><td>Model converged with mu = 0.842422 after 0.31 seconds.</td></tr></table>"
      ]
     },
     "metadata": {},
     "output_type": "display_data"
    },
    {
     "data": {
      "text/html": [
       "<table><tr style='text-align:left'><td style='vertical-align:top'><td style='color:rgba(0,85,194);'><strong>&#10095; Info</strong></td><td>Model converged with mu = 0.839176 after 0.30 seconds.</td></tr></table>"
      ]
     },
     "metadata": {},
     "output_type": "display_data"
    },
    {
     "data": {
      "text/html": [
       "<table><tr style='text-align:left'><td style='vertical-align:top'><td style='color:rgba(0,85,194);'><strong>&#10095; Info</strong></td><td>Model converged with mu = 0.835324 after 0.29 seconds.</td></tr></table>"
      ]
     },
     "metadata": {},
     "output_type": "display_data"
    },
    {
     "data": {
      "text/html": [
       "<table><tr style='text-align:left'><td style='vertical-align:top'><td style='color:rgba(0,85,194);'><strong>&#10095; Info</strong></td><td>Model converged with mu = 0.830762 after 0.29 seconds.</td></tr></table>"
      ]
     },
     "metadata": {},
     "output_type": "display_data"
    },
    {
     "data": {
      "text/html": [
       "<table><tr style='text-align:left'><td style='vertical-align:top'><td style='color:rgba(0,85,194);'><strong>&#10095; Info</strong></td><td>Model converged with mu = 0.825373 after 0.29 seconds.</td></tr></table>"
      ]
     },
     "metadata": {},
     "output_type": "display_data"
    },
    {
     "data": {
      "text/html": [
       "<table><tr style='text-align:left'><td style='vertical-align:top'><td style='color:rgba(0,85,194);'><strong>&#10095; Info</strong></td><td>Model converged with mu = 0.819025 after 0.29 seconds.</td></tr></table>"
      ]
     },
     "metadata": {},
     "output_type": "display_data"
    },
    {
     "data": {
      "text/html": [
       "<table><tr style='text-align:left'><td style='vertical-align:top'><td style='color:rgba(0,85,194);'><strong>&#10095; Info</strong></td><td>Model converged with mu = 0.811571 after 0.31 seconds.</td></tr></table>"
      ]
     },
     "metadata": {},
     "output_type": "display_data"
    },
    {
     "data": {
      "text/html": [
       "<table><tr style='text-align:left'><td style='vertical-align:top'><td style='color:rgba(0,85,194);'><strong>&#10095; Info</strong></td><td>Model converged with mu = 0.802854 after 0.31 seconds.</td></tr></table>"
      ]
     },
     "metadata": {},
     "output_type": "display_data"
    },
    {
     "data": {
      "text/html": [
       "<table><tr style='text-align:left'><td style='vertical-align:top'><td style='color:rgba(0,85,194);'><strong>&#10095; Info</strong></td><td>Model converged with mu = 0.792704 after 0.29 seconds.</td></tr></table>"
      ]
     },
     "metadata": {},
     "output_type": "display_data"
    },
    {
     "data": {
      "text/html": [
       "<table><tr style='text-align:left'><td style='vertical-align:top'><td style='color:rgba(0,85,194);'><strong>&#10095; Info</strong></td><td>Model converged with mu = 0.780946 after 0.32 seconds.</td></tr></table>"
      ]
     },
     "metadata": {},
     "output_type": "display_data"
    },
    {
     "data": {
      "text/html": [
       "<table><tr style='text-align:left'><td style='vertical-align:top'><td style='color:rgba(0,85,194);'><strong>&#10095; Info</strong></td><td>Model converged with mu = 0.767401 after 0.29 seconds.</td></tr></table>"
      ]
     },
     "metadata": {},
     "output_type": "display_data"
    },
    {
     "data": {
      "text/html": [
       "<table><tr style='text-align:left'><td style='vertical-align:top'><td style='color:rgba(0,85,194);'><strong>&#10095; Info</strong></td><td>Model converged with mu = 0.751902 after 0.29 seconds.</td></tr></table>"
      ]
     },
     "metadata": {},
     "output_type": "display_data"
    },
    {
     "data": {
      "text/html": [
       "<table><tr style='text-align:left'><td style='vertical-align:top'><td style='color:rgba(0,85,194);'><strong>&#10095; Info</strong></td><td>Model converged with mu = 0.734294 after 0.32 seconds.</td></tr></table>"
      ]
     },
     "metadata": {},
     "output_type": "display_data"
    },
    {
     "data": {
      "text/html": [
       "<table><tr style='text-align:left'><td style='vertical-align:top'><td style='color:rgba(0,85,194);'><strong>&#10095; Info</strong></td><td>Model converged with mu = 0.714452 after 0.34 seconds.</td></tr></table>"
      ]
     },
     "metadata": {},
     "output_type": "display_data"
    },
    {
     "data": {
      "text/html": [
       "<table><tr style='text-align:left'><td style='vertical-align:top'><td style='color:rgba(0,85,194);'><strong>&#10095; Info</strong></td><td>Model converged with mu = 0.692291 after 0.32 seconds.</td></tr></table>"
      ]
     },
     "metadata": {},
     "output_type": "display_data"
    },
    {
     "data": {
      "text/html": [
       "<table><tr style='text-align:left'><td style='vertical-align:top'><td style='color:rgba(0,85,194);'><strong>&#10095; Info</strong></td><td>Model converged with mu = 0.667778 after 0.33 seconds.</td></tr></table>"
      ]
     },
     "metadata": {},
     "output_type": "display_data"
    },
    {
     "data": {
      "text/html": [
       "<table><tr style='text-align:left'><td style='vertical-align:top'><td style='color:rgba(0,85,194);'><strong>&#10095; Info</strong></td><td>Model converged with mu = 0.64095 after 0.36 seconds.</td></tr></table>"
      ]
     },
     "metadata": {},
     "output_type": "display_data"
    },
    {
     "data": {
      "text/html": [
       "<table><tr style='text-align:left'><td style='vertical-align:top'><td style='color:rgba(0,85,194);'><strong>&#10095; Info</strong></td><td>Model converged with mu = 0.611913 after 0.31 seconds.</td></tr></table>"
      ]
     },
     "metadata": {},
     "output_type": "display_data"
    },
    {
     "data": {
      "text/html": [
       "<table><tr style='text-align:left'><td style='vertical-align:top'><td style='color:rgba(0,85,194);'><strong>&#10095; Info</strong></td><td>Model converged with mu = 0.583019 after 1.06 seconds.</td></tr></table>"
      ]
     },
     "metadata": {},
     "output_type": "display_data"
    },
    {
     "data": {
      "text/html": [
       "<table><tr style='text-align:left'><td style='vertical-align:top'><td style='color:rgba(0,85,194);'><strong>&#10095; Info</strong></td><td>Model converged with mu = 0.552586 after 0.84 seconds.</td></tr></table>"
      ]
     },
     "metadata": {},
     "output_type": "display_data"
    },
    {
     "data": {
      "text/html": [
       "<table><tr style='text-align:left'><td style='vertical-align:top'><td style='color:rgba(0,85,194);'><strong>&#10095; Info</strong></td><td>Model converged with mu = 0.520565 after 0.85 seconds.</td></tr></table>"
      ]
     },
     "metadata": {},
     "output_type": "display_data"
    },
    {
     "data": {
      "text/html": [
       "<table><tr style='text-align:left'><td style='vertical-align:top'><td style='color:rgba(0,85,194);'><strong>&#10095; Info</strong></td><td>Model converged with mu = 0.487303 after 0.91 seconds.</td></tr></table>"
      ]
     },
     "metadata": {},
     "output_type": "display_data"
    },
    {
     "data": {
      "text/html": [
       "<table><tr style='text-align:left'><td style='vertical-align:top'><td style='color:rgba(0,85,194);'><strong>&#10095; Info</strong></td><td>Model converged with mu = 0.453199 after 0.97 seconds.</td></tr></table>"
      ]
     },
     "metadata": {},
     "output_type": "display_data"
    },
    {
     "data": {
      "text/html": [
       "<table><tr style='text-align:left'><td style='vertical-align:top'><td style='color:rgba(0,85,194);'><strong>&#10095; Info</strong></td><td>Model converged with mu = 0.418694 after 1.07 seconds.</td></tr></table>"
      ]
     },
     "metadata": {},
     "output_type": "display_data"
    },
    {
     "data": {
      "text/html": [
       "<table><tr style='text-align:left'><td style='vertical-align:top'><td style='color:rgba(0,85,194);'><strong>&#10095; Info</strong></td><td>Model converged with mu = 0.38424 after 1.14 seconds.</td></tr></table>"
      ]
     },
     "metadata": {},
     "output_type": "display_data"
    },
    {
     "data": {
      "text/html": [
       "<table><tr style='text-align:left'><td style='vertical-align:top'><td style='color:rgba(0,85,194);'><strong>&#10095; Info</strong></td><td>Model converged with mu = 0.350286 after 1.25 seconds.</td></tr></table>"
      ]
     },
     "metadata": {},
     "output_type": "display_data"
    },
    {
     "data": {
      "text/html": [
       "<table><tr style='text-align:left'><td style='vertical-align:top'><td style='color:rgba(0,85,194);'><strong>&#10095; Info</strong></td><td>Model converged with mu = 0.317252 after 1.50 seconds.</td></tr></table>"
      ]
     },
     "metadata": {},
     "output_type": "display_data"
    },
    {
     "data": {
      "text/html": [
       "<table><tr style='text-align:left'><td style='vertical-align:top'><td style='color:rgba(0,85,194);'><strong>&#10095; Info</strong></td><td>Model converged with mu = 0.285509 after 1.51 seconds.</td></tr></table>"
      ]
     },
     "metadata": {},
     "output_type": "display_data"
    },
    {
     "data": {
      "text/html": [
       "<table><tr style='text-align:left'><td style='vertical-align:top'><td style='color:rgba(0,85,194);'><strong>&#10095; Info</strong></td><td>Model converged with mu = 0.255369 after 1.55 seconds.</td></tr></table>"
      ]
     },
     "metadata": {},
     "output_type": "display_data"
    },
    {
     "data": {
      "text/html": [
       "<table><tr style='text-align:left'><td style='vertical-align:top'><td style='color:rgba(0,85,194);'><strong>&#10095; Info</strong></td><td>Model converged with mu = 0.227071 after 1.78 seconds.</td></tr></table>"
      ]
     },
     "metadata": {},
     "output_type": "display_data"
    },
    {
     "data": {
      "text/html": [
       "<table><tr style='text-align:left'><td style='vertical-align:top'><td style='color:rgba(0,85,194);'><strong>&#10095; Info</strong></td><td>Model converged with mu = 0.200775 after 2.29 seconds.</td></tr></table>"
      ]
     },
     "metadata": {},
     "output_type": "display_data"
    },
    {
     "data": {
      "text/html": [
       "<table><tr style='text-align:left'><td style='vertical-align:top'><td style='color:rgba(0,85,194);'><strong>&#10095; Info</strong></td><td>Model converged with mu = 0.176583 after 7.03 seconds.</td></tr></table>"
      ]
     },
     "metadata": {},
     "output_type": "display_data"
    },
    {
     "data": {
      "text/html": [
       "<table><tr style='text-align:left'><td style='vertical-align:top'><td style='color:rgba(0,85,194);'><strong>&#10095; Info</strong></td><td>Model converged with mu = 0.154559 after 19.41 seconds.</td></tr></table>"
      ]
     },
     "metadata": {},
     "output_type": "display_data"
    },
    {
     "data": {
      "text/html": [
       "<table><tr style='text-align:left'><td style='vertical-align:top'><td style='color:rgba(0,85,194);'><strong>&#10095; Info</strong></td><td>Model converged with mu = 0.134663 after 33.47 seconds.</td></tr></table>"
      ]
     },
     "metadata": {},
     "output_type": "display_data"
    },
    {
     "data": {
      "text/html": [
       "<table><tr style='text-align:left'><td style='vertical-align:top'><td style='color:rgba(0,85,194);'><strong>&#10095; Info</strong></td><td>Model converged with mu = 0.116827 after 49.07 seconds.</td></tr></table>"
      ]
     },
     "metadata": {},
     "output_type": "display_data"
    }
   ],
   "source": [
    "# Load model\n",
    "model = gba.read_ods_model(path=\"../../gbamodels/ODS\", name=\"EC12b\")\n",
    "\n",
    "# Generate accurate initial solution\n",
    "model.find_best_initial_solution(verbose=VERBOSE)\n",
    "\n",
    "# Find optimal solutions\n",
    "for condition_id in model.condition_ids:\n",
    "    model.set_condition(condition_id)\n",
    "    model.find_optimum(verbose=VERBOSE)\n",
    "\n",
    "# Modify infos\n",
    "model.add_info(category=\"Sheets\", key=\"q0\", content=\"Initial flux fraction vector\")\n",
    "model.add_info(category=\"Sheets\", key=\"qopt\", content=\"Optimal solutions per condition\")\n",
    "del model.info[\"Sheets\"][\"KI\"]\n",
    "\n",
    "# Save model\n",
    "model.write_to_ods(path=\"/Users/charlesrocabert/Desktop/new_models\", name=\"EC12b\")\n",
    "model.write_to_csv(path=\"/Users/charlesrocabert/Desktop/new_models\", name=\"EC12b\")"
   ]
  },
  {
   "cell_type": "markdown",
   "metadata": {},
   "source": [
    "# Model <code>BaseModel</code>"
   ]
  },
  {
   "cell_type": "code",
   "execution_count": null,
   "metadata": {},
   "outputs": [
    {
     "data": {
      "text/html": [
       "<table><tr style='text-align:left'><td style='vertical-align:top'><td style='color:rgba(0,85,194);'><strong>&#10095; Info</strong></td><td>Model is consistent with mu = 0.09334859237379001.</td></tr></table>"
      ]
     },
     "metadata": {},
     "output_type": "display_data"
    }
   ],
   "source": [
    "# Load model\n",
    "model = gba.read_ods_model(path=\"../../gbamodels/ODS\", name=\"BaseModel\")\n",
    "\n",
    "# Generate accurate initial solution\n",
    "model.find_best_initial_solution(verbose=VERBOSE)\n",
    "\n",
    "# Find optimal solutions\n",
    "for condition_id in model.condition_ids:\n",
    "    model.set_condition(condition_id)\n",
    "    model.find_optimum(verbose=VERBOSE)\n",
    "\n",
    "# Modify infos\n",
    "model.add_info(category=\"Sheets\", key=\"M\", content=\"Mass fraction matrix\")\n",
    "model.add_info(category=\"Sheets\", key=\"K\", content=\"Michaelis constant matrix\")\n",
    "model.add_info(category=\"Sheets\", key=\"KI\", content=\"Inhibition constant matrix\")\n",
    "model.add_info(category=\"Sheets\", key=\"kcat\", content=\"Turnover numbers\")\n",
    "model.add_info(category=\"Sheets\", key=\"conditions\", content=\"Value of rho and external concentrations at different growth conditions\")\n",
    "model.add_info(category=\"Sheets\", key=\"q0\", content=\"Initial flux fraction vector\")\n",
    "model.add_info(category=\"Sheets\", key=\"qopt\", content=\"Optimal solutions per condition\")\n",
    "\n",
    "# Save model\n",
    "model.write_to_ods(path=\"/Users/charlesrocabert/Desktop/new_models\", name=\"BaseModel\")\n",
    "model.write_to_csv(path=\"/Users/charlesrocabert/Desktop/new_models\", name=\"BaseModel\")"
   ]
  },
  {
   "cell_type": "markdown",
   "metadata": {},
   "source": [
    "# Model <code>EC3rev</code>"
   ]
  },
  {
   "cell_type": "code",
   "execution_count": null,
   "metadata": {},
   "outputs": [
    {
     "data": {
      "text/html": [
       "<table><tr style='text-align:left'><td style='vertical-align:top'><td style='color:rgba(0,85,194);'><strong>&#10095; Info</strong></td><td>Model is consistent with mu = 0.12172713934102171.</td></tr></table>"
      ]
     },
     "metadata": {},
     "output_type": "display_data"
    },
    {
     "name": "stdout",
     "output_type": "stream",
     "text": [
      "Inconsistent for condition 25 : False\n"
     ]
    }
   ],
   "source": [
    "# Load model\n",
    "model = gba.read_ods_model(path=\"../../gbamodels/ODS\", name=\"EC3rev\")\n",
    "\n",
    "# Generate accurate initial solution\n",
    "model.find_best_initial_solution(verbose=VERBOSE)\n",
    "\n",
    "# Find optimal solutions\n",
    "for condition_id in model.condition_ids:\n",
    "    model.set_condition(condition_id)\n",
    "    model.find_optimum(verbose=VERBOSE)\n",
    "\n",
    "# Modify infos\n",
    "model.add_info(category=\"Sheets\", key=\"q0\", content=\"Initial flux fraction vector\")\n",
    "model.add_info(category=\"Sheets\", key=\"qopt\", content=\"Optimal solutions per condition\")\n",
    "del model.info[\"Sheets\"][\"KI\"]\n",
    "\n",
    "# Save model\n",
    "model.write_to_ods(path=\"/Users/charlesrocabert/Desktop/new_models\", name=\"EC3rev\")\n",
    "model.write_to_csv(path=\"/Users/charlesrocabert/Desktop/new_models\", name=\"EC3rev\")"
   ]
  },
  {
   "cell_type": "markdown",
   "metadata": {},
   "source": [
    "# Model <code>ExtendedModel</code>"
   ]
  },
  {
   "cell_type": "code",
   "execution_count": null,
   "metadata": {},
   "outputs": [
    {
     "data": {
      "text/html": [
       "<table><tr style='text-align:left'><td style='vertical-align:top'><td style='color:rgba(0,85,194);'><strong>&#10095; Info</strong></td><td>Model is inconsistent.</td></tr></table>"
      ]
     },
     "metadata": {},
     "output_type": "display_data"
    },
    {
     "name": "stdout",
     "output_type": "stream",
     "text": [
      "Inconsistent for condition 1 : False\n",
      "Inconsistent for condition 2 : False\n",
      "Inconsistent for condition 3 : False\n",
      "Inconsistent for condition 4 : False\n",
      "Inconsistent for condition 5 : False\n",
      "Inconsistent for condition 6 : False\n",
      "Inconsistent for condition 7 : False\n",
      "Inconsistent for condition 8 : False\n",
      "Inconsistent for condition 9 : False\n",
      "Inconsistent for condition 10 : False\n",
      "Inconsistent for condition 11 : False\n",
      "Inconsistent for condition 12 : False\n",
      "Inconsistent for condition 13 : False\n",
      "Inconsistent for condition 14 : False\n",
      "Inconsistent for condition 15 : False\n",
      "Inconsistent for condition 16 : False\n",
      "Inconsistent for condition 17 : False\n",
      "Inconsistent for condition 18 : False\n",
      "Inconsistent for condition 19 : False\n",
      "Inconsistent for condition 20 : False\n",
      "Inconsistent for condition 21 : False\n",
      "Inconsistent for condition 22 : False\n",
      "Inconsistent for condition 23 : False\n",
      "Inconsistent for condition 24 : False\n",
      "Inconsistent for condition 25 : False\n",
      "Inconsistent for condition 26 : False\n",
      "Inconsistent for condition 27 : False\n",
      "Inconsistent for condition 28 : False\n",
      "Inconsistent for condition 29 : False\n",
      "Inconsistent for condition 30 : False\n",
      "Inconsistent for condition 31 : False\n",
      "Inconsistent for condition 32 : False\n",
      "Inconsistent for condition 33 : False\n",
      "Inconsistent for condition 34 : False\n",
      "Inconsistent for condition 35 : False\n",
      "Inconsistent for condition 36 : False\n",
      "Inconsistent for condition 37 : False\n",
      "Inconsistent for condition 38 : False\n",
      "Inconsistent for condition 39 : False\n",
      "Inconsistent for condition 40 : False\n",
      "Inconsistent for condition 41 : False\n",
      "Inconsistent for condition 42 : False\n",
      "Inconsistent for condition 43 : False\n",
      "Inconsistent for condition 44 : False\n",
      "Inconsistent for condition 45 : False\n",
      "Inconsistent for condition 46 : False\n",
      "Inconsistent for condition 47 : False\n",
      "Inconsistent for condition 48 : False\n",
      "Inconsistent for condition 49 : False\n",
      "Inconsistent for condition 50 : False\n",
      "Inconsistent for condition 51 : False\n",
      "Inconsistent for condition 52 : False\n",
      "Inconsistent for condition 53 : False\n",
      "Inconsistent for condition 54 : False\n",
      "Inconsistent for condition 55 : False\n",
      "Inconsistent for condition 56 : False\n",
      "Inconsistent for condition 57 : False\n",
      "Inconsistent for condition 58 : False\n",
      "Inconsistent for condition 59 : False\n",
      "Inconsistent for condition 60 : False\n",
      "Inconsistent for condition 61 : False\n",
      "Inconsistent for condition 62 : False\n",
      "Inconsistent for condition 63 : False\n",
      "Inconsistent for condition 64 : False\n",
      "Inconsistent for condition 65 : False\n",
      "Inconsistent for condition 66 : False\n",
      "Inconsistent for condition 67 : False\n",
      "Inconsistent for condition 68 : False\n",
      "Inconsistent for condition 69 : False\n",
      "Inconsistent for condition 70 : False\n",
      "Inconsistent for condition 71 : False\n",
      "Inconsistent for condition 72 : False\n",
      "Inconsistent for condition 73 : False\n",
      "Inconsistent for condition 74 : False\n",
      "Inconsistent for condition 75 : False\n",
      "Inconsistent for condition 76 : False\n",
      "Inconsistent for condition 77 : False\n",
      "Inconsistent for condition 78 : False\n",
      "Inconsistent for condition 79 : False\n",
      "Inconsistent for condition 80 : False\n",
      "Inconsistent for condition 81 : False\n",
      "Inconsistent for condition 82 : False\n",
      "Inconsistent for condition 83 : False\n",
      "Inconsistent for condition 84 : False\n",
      "Inconsistent for condition 85 : False\n",
      "Inconsistent for condition 86 : False\n",
      "Inconsistent for condition 87 : False\n",
      "Inconsistent for condition 88 : False\n",
      "Inconsistent for condition 89 : False\n",
      "Inconsistent for condition 90 : False\n",
      "Inconsistent for condition 91 : False\n",
      "Inconsistent for condition 92 : False\n",
      "Inconsistent for condition 93 : False\n",
      "Inconsistent for condition 94 : False\n",
      "Inconsistent for condition 95 : False\n",
      "Inconsistent for condition 96 : False\n",
      "Inconsistent for condition 97 : False\n",
      "Inconsistent for condition 98 : False\n",
      "Inconsistent for condition 99 : False\n",
      "Inconsistent for condition 100 : False\n",
      "Inconsistent for condition 101 : False\n",
      "Inconsistent for condition 102 : False\n",
      "Inconsistent for condition 103 : False\n",
      "Inconsistent for condition 104 : False\n",
      "Inconsistent for condition 105 : False\n",
      "Inconsistent for condition 106 : False\n",
      "Inconsistent for condition 107 : False\n",
      "Inconsistent for condition 108 : False\n",
      "Inconsistent for condition 109 : False\n",
      "Inconsistent for condition 110 : False\n",
      "Inconsistent for condition 111 : False\n",
      "Inconsistent for condition 112 : False\n",
      "Inconsistent for condition 113 : False\n",
      "Inconsistent for condition 114 : False\n",
      "Inconsistent for condition 115 : False\n",
      "Inconsistent for condition 116 : False\n",
      "Inconsistent for condition 117 : False\n",
      "Inconsistent for condition 118 : False\n",
      "Inconsistent for condition 119 : False\n",
      "Inconsistent for condition 120 : False\n",
      "Inconsistent for condition 121 : False\n",
      "Inconsistent for condition 122 : False\n",
      "Inconsistent for condition 123 : False\n",
      "Inconsistent for condition 124 : False\n",
      "Inconsistent for condition 125 : False\n",
      "Inconsistent for condition 126 : False\n",
      "Inconsistent for condition 127 : False\n",
      "Inconsistent for condition 128 : False\n",
      "Inconsistent for condition 129 : False\n",
      "Inconsistent for condition 130 : False\n",
      "Inconsistent for condition 131 : False\n",
      "Inconsistent for condition 132 : False\n",
      "Inconsistent for condition 133 : False\n",
      "Inconsistent for condition 134 : False\n",
      "Inconsistent for condition 135 : False\n",
      "Inconsistent for condition 136 : False\n",
      "Inconsistent for condition 137 : False\n",
      "Inconsistent for condition 138 : False\n",
      "Inconsistent for condition 139 : False\n",
      "Inconsistent for condition 140 : False\n",
      "Inconsistent for condition 141 : False\n",
      "Inconsistent for condition 142 : False\n",
      "Inconsistent for condition 143 : False\n",
      "Inconsistent for condition 144 : False\n",
      "Inconsistent for condition 145 : False\n",
      "Inconsistent for condition 146 : False\n",
      "Inconsistent for condition 147 : False\n",
      "Inconsistent for condition 148 : False\n",
      "Inconsistent for condition 149 : False\n",
      "Inconsistent for condition 150 : False\n",
      "Inconsistent for condition 151 : False\n",
      "Inconsistent for condition 152 : False\n",
      "Inconsistent for condition 153 : False\n",
      "Inconsistent for condition 154 : False\n",
      "Inconsistent for condition 155 : False\n",
      "Inconsistent for condition 156 : False\n",
      "Inconsistent for condition 157 : False\n",
      "Inconsistent for condition 158 : False\n",
      "Inconsistent for condition 159 : False\n",
      "Inconsistent for condition 160 : False\n",
      "Inconsistent for condition 161 : False\n",
      "Inconsistent for condition 162 : False\n",
      "Inconsistent for condition 163 : False\n",
      "Inconsistent for condition 164 : False\n",
      "Inconsistent for condition 165 : False\n",
      "Inconsistent for condition 166 : False\n",
      "Inconsistent for condition 167 : False\n",
      "Inconsistent for condition 168 : False\n",
      "Inconsistent for condition 169 : False\n",
      "Inconsistent for condition 170 : False\n",
      "Inconsistent for condition 171 : False\n",
      "Inconsistent for condition 172 : False\n",
      "Inconsistent for condition 173 : False\n",
      "Inconsistent for condition 174 : False\n",
      "Inconsistent for condition 175 : False\n",
      "Inconsistent for condition 176 : False\n",
      "Inconsistent for condition 177 : False\n",
      "Inconsistent for condition 178 : False\n",
      "Inconsistent for condition 179 : False\n",
      "Inconsistent for condition 180 : False\n",
      "Inconsistent for condition 181 : False\n",
      "Inconsistent for condition 182 : False\n",
      "Inconsistent for condition 183 : False\n",
      "Inconsistent for condition 184 : False\n",
      "Inconsistent for condition 185 : False\n",
      "Inconsistent for condition 186 : False\n",
      "Inconsistent for condition 187 : False\n",
      "Inconsistent for condition 188 : False\n",
      "Inconsistent for condition 189 : False\n",
      "Inconsistent for condition 190 : False\n",
      "Inconsistent for condition 191 : False\n",
      "Inconsistent for condition 192 : False\n",
      "Inconsistent for condition 193 : False\n",
      "Inconsistent for condition 194 : False\n",
      "Inconsistent for condition 195 : False\n",
      "Inconsistent for condition 196 : False\n",
      "Inconsistent for condition 197 : False\n",
      "Inconsistent for condition 198 : False\n",
      "Inconsistent for condition 199 : False\n",
      "Inconsistent for condition 200 : False\n"
     ]
    }
   ],
   "source": [
    "# Load model\n",
    "model = gba.read_ods_model(path=\"../../gbamodels/ODS\", name=\"ExtendedModel\")\n",
    "\n",
    "# Generate accurate initial solution\n",
    "model.find_best_initial_solution(verbose=VERBOSE)\n",
    "\n",
    "# Find optimal solutions\n",
    "for condition_id in model.condition_ids:\n",
    "    model.set_condition(condition_id)\n",
    "    model.find_optimum(verbose=VERBOSE)\n",
    "\n",
    "# Modify infos\n",
    "model.add_info(category=\"Sheets\", key=\"q0\", content=\"Initial flux fraction vector\")\n",
    "model.add_info(category=\"Sheets\", key=\"qopt\", content=\"Optimal solutions per condition\")\n",
    "del model.info[\"Sheets\"][\"KA\"]\n",
    "\n",
    "# Save model\n",
    "model.write_to_ods(path=\"/Users/charlesrocabert/Desktop/new_models\", name=\"ExtendedModel\")\n",
    "model.write_to_csv(path=\"/Users/charlesrocabert/Desktop/new_models\", name=\"ExtendedModel\")"
   ]
  }
 ],
 "metadata": {
  "kernelspec": {
   "display_name": "Python 3",
   "language": "python",
   "name": "python3"
  },
  "language_info": {
   "codemirror_mode": {
    "name": "ipython",
    "version": 3
   },
   "file_extension": ".py",
   "mimetype": "text/x-python",
   "name": "python",
   "nbconvert_exporter": "python",
   "pygments_lexer": "ipython3",
   "version": "3.13.3"
  }
 },
 "nbformat": 4,
 "nbformat_minor": 2
}
