{
 "cells": [
  {
   "cell_type": "markdown",
   "metadata": {},
   "source": [
    "<h3>The goal of this notebook is to re-generate model outputs (in CSV and ODS format) to satisfy the last standard. All models are lcoated in the repository <code>gbamodels</code> (not yet public on Github)</h3>"
   ]
  },
  {
   "cell_type": "code",
   "execution_count": 4,
   "metadata": {},
   "outputs": [],
   "source": [
    "import gba\n",
    "\n",
    "VERBOSE = True"
   ]
  },
  {
   "cell_type": "markdown",
   "metadata": {},
   "source": [
    "# Model <code>A</code>"
   ]
  },
  {
   "cell_type": "code",
   "execution_count": 5,
   "metadata": {},
   "outputs": [
    {
     "data": {
      "text/html": [
       "<table><tr style='text-align:left'><td style='vertical-align:top'><td style='color:rgba(0,85,194);'><strong>&#10095; Info</strong></td><td>Best initial solution found with rhs factor = 10.0 and maximal mu = 2.5929933494367225.</td></tr></table>"
      ]
     },
     "metadata": {},
     "output_type": "display_data"
    },
    {
     "data": {
      "text/html": [
       "<table><tr style='text-align:left'><td style='vertical-align:top'><td style='color:rgba(0,85,194);'><strong>&#10095; Info</strong></td><td>Condition 1: model converged with mu = 2.68311 after 0.01 seconds.</td></tr></table>"
      ]
     },
     "metadata": {},
     "output_type": "display_data"
    },
    {
     "data": {
      "text/html": [
       "<table><tr style='text-align:left'><td style='vertical-align:top'><td style='color:rgba(0,85,194);'><strong>&#10095; Info</strong></td><td>Condition 2: model converged with mu = 2.67869 after 0.01 seconds.</td></tr></table>"
      ]
     },
     "metadata": {},
     "output_type": "display_data"
    },
    {
     "data": {
      "text/html": [
       "<table><tr style='text-align:left'><td style='vertical-align:top'><td style='color:rgba(0,85,194);'><strong>&#10095; Info</strong></td><td>Condition 3: model converged with mu = 2.67208 after 0.01 seconds.</td></tr></table>"
      ]
     },
     "metadata": {},
     "output_type": "display_data"
    },
    {
     "data": {
      "text/html": [
       "<table><tr style='text-align:left'><td style='vertical-align:top'><td style='color:rgba(0,85,194);'><strong>&#10095; Info</strong></td><td>Condition 4: model converged with mu = 2.66225 after 0.01 seconds.</td></tr></table>"
      ]
     },
     "metadata": {},
     "output_type": "display_data"
    },
    {
     "data": {
      "text/html": [
       "<table><tr style='text-align:left'><td style='vertical-align:top'><td style='color:rgba(0,85,194);'><strong>&#10095; Info</strong></td><td>Condition 5: model converged with mu = 2.64766 after 0.01 seconds.</td></tr></table>"
      ]
     },
     "metadata": {},
     "output_type": "display_data"
    },
    {
     "data": {
      "text/html": [
       "<table><tr style='text-align:left'><td style='vertical-align:top'><td style='color:rgba(0,85,194);'><strong>&#10095; Info</strong></td><td>Condition 6: model converged with mu = 2.62611 after 0.01 seconds.</td></tr></table>"
      ]
     },
     "metadata": {},
     "output_type": "display_data"
    },
    {
     "data": {
      "text/html": [
       "<table><tr style='text-align:left'><td style='vertical-align:top'><td style='color:rgba(0,85,194);'><strong>&#10095; Info</strong></td><td>Condition 7: model converged with mu = 2.59451 after 0.01 seconds.</td></tr></table>"
      ]
     },
     "metadata": {},
     "output_type": "display_data"
    },
    {
     "data": {
      "text/html": [
       "<table><tr style='text-align:left'><td style='vertical-align:top'><td style='color:rgba(0,85,194);'><strong>&#10095; Info</strong></td><td>Condition 8: model converged with mu = 2.54869 after 0.01 seconds.</td></tr></table>"
      ]
     },
     "metadata": {},
     "output_type": "display_data"
    },
    {
     "data": {
      "text/html": [
       "<table><tr style='text-align:left'><td style='vertical-align:top'><td style='color:rgba(0,85,194);'><strong>&#10095; Info</strong></td><td>Condition 9: model converged with mu = 2.48325 after 0.01 seconds.</td></tr></table>"
      ]
     },
     "metadata": {},
     "output_type": "display_data"
    },
    {
     "data": {
      "text/html": [
       "<table><tr style='text-align:left'><td style='vertical-align:top'><td style='color:rgba(0,85,194);'><strong>&#10095; Info</strong></td><td>Condition 10: model converged with mu = 2.39179 after 0.01 seconds.</td></tr></table>"
      ]
     },
     "metadata": {},
     "output_type": "display_data"
    },
    {
     "data": {
      "text/html": [
       "<table><tr style='text-align:left'><td style='vertical-align:top'><td style='color:rgba(0,85,194);'><strong>&#10095; Info</strong></td><td>Condition 11: model converged with mu = 2.26768 after 0.01 seconds.</td></tr></table>"
      ]
     },
     "metadata": {},
     "output_type": "display_data"
    },
    {
     "data": {
      "text/html": [
       "<table><tr style='text-align:left'><td style='vertical-align:top'><td style='color:rgba(0,85,194);'><strong>&#10095; Info</strong></td><td>Condition 12: model converged with mu = 2.10567 after 0.01 seconds.</td></tr></table>"
      ]
     },
     "metadata": {},
     "output_type": "display_data"
    },
    {
     "data": {
      "text/html": [
       "<table><tr style='text-align:left'><td style='vertical-align:top'><td style='color:rgba(0,85,194);'><strong>&#10095; Info</strong></td><td>Condition 13: model converged with mu = 1.90436 after 0.01 seconds.</td></tr></table>"
      ]
     },
     "metadata": {},
     "output_type": "display_data"
    },
    {
     "data": {
      "text/html": [
       "<table><tr style='text-align:left'><td style='vertical-align:top'><td style='color:rgba(0,85,194);'><strong>&#10095; Info</strong></td><td>Condition 14: model converged with mu = 1.66867 after 0.01 seconds.</td></tr></table>"
      ]
     },
     "metadata": {},
     "output_type": "display_data"
    },
    {
     "data": {
      "text/html": [
       "<table><tr style='text-align:left'><td style='vertical-align:top'><td style='color:rgba(0,85,194);'><strong>&#10095; Info</strong></td><td>Condition 15: model converged with mu = 1.41086 after 0.01 seconds.</td></tr></table>"
      ]
     },
     "metadata": {},
     "output_type": "display_data"
    },
    {
     "data": {
      "text/html": [
       "<table><tr style='text-align:left'><td style='vertical-align:top'><td style='color:rgba(0,85,194);'><strong>&#10095; Info</strong></td><td>Condition 16: model converged with mu = 1.14879 after 0.01 seconds.</td></tr></table>"
      ]
     },
     "metadata": {},
     "output_type": "display_data"
    },
    {
     "data": {
      "text/html": [
       "<table><tr style='text-align:left'><td style='vertical-align:top'><td style='color:rgba(0,85,194);'><strong>&#10095; Info</strong></td><td>Condition 17: model converged with mu = 0.901362 after 0.01 seconds.</td></tr></table>"
      ]
     },
     "metadata": {},
     "output_type": "display_data"
    },
    {
     "data": {
      "text/html": [
       "<table><tr style='text-align:left'><td style='vertical-align:top'><td style='color:rgba(0,85,194);'><strong>&#10095; Info</strong></td><td>Condition 18: model converged with mu = 0.683518 after 0.01 seconds.</td></tr></table>"
      ]
     },
     "metadata": {},
     "output_type": "display_data"
    },
    {
     "data": {
      "text/html": [
       "<table><tr style='text-align:left'><td style='vertical-align:top'><td style='color:rgba(0,85,194);'><strong>&#10095; Info</strong></td><td>Condition 19: model converged with mu = 0.503257 after 0.01 seconds.</td></tr></table>"
      ]
     },
     "metadata": {},
     "output_type": "display_data"
    },
    {
     "data": {
      "text/html": [
       "<table><tr style='text-align:left'><td style='vertical-align:top'><td style='color:rgba(0,85,194);'><strong>&#10095; Info</strong></td><td>Condition 20: model converged with mu = 0.361668 after 0.01 seconds.</td></tr></table>"
      ]
     },
     "metadata": {},
     "output_type": "display_data"
    },
    {
     "data": {
      "text/html": [
       "<table><tr style='text-align:left'><td style='vertical-align:top'><td style='color:rgba(0,85,194);'><strong>&#10095; Info</strong></td><td>Condition 21: model converged with mu = 0.255003 after 0.01 seconds.</td></tr></table>"
      ]
     },
     "metadata": {},
     "output_type": "display_data"
    },
    {
     "data": {
      "text/html": [
       "<table><tr style='text-align:left'><td style='vertical-align:top'><td style='color:rgba(0,85,194);'><strong>&#10095; Info</strong></td><td>Condition 22: model converged with mu = 0.177196 after 0.01 seconds.</td></tr></table>"
      ]
     },
     "metadata": {},
     "output_type": "display_data"
    },
    {
     "data": {
      "text/html": [
       "<table><tr style='text-align:left'><td style='vertical-align:top'><td style='color:rgba(0,85,194);'><strong>&#10095; Info</strong></td><td>Condition 23: model converged with mu = 0.121797 after 0.01 seconds.</td></tr></table>"
      ]
     },
     "metadata": {},
     "output_type": "display_data"
    },
    {
     "data": {
      "text/html": [
       "<table><tr style='text-align:left'><td style='vertical-align:top'><td style='color:rgba(0,85,194);'><strong>&#10095; Info</strong></td><td>Condition 24: model converged with mu = 0.0830507 after 0.01 seconds.</td></tr></table>"
      ]
     },
     "metadata": {},
     "output_type": "display_data"
    },
    {
     "data": {
      "text/html": [
       "<table><tr style='text-align:left'><td style='vertical-align:top'><td style='color:rgba(0,85,194);'><strong>&#10095; Info</strong></td><td>Condition 25: model converged with mu = 0.0562996 after 0.01 seconds.</td></tr></table>"
      ]
     },
     "metadata": {},
     "output_type": "display_data"
    }
   ],
   "source": [
    "# Load model\n",
    "model = gba.read_ods_model(path=\"../../gbamodels/ODS\", name=\"A\")\n",
    "\n",
    "# Generate accurate initial solution\n",
    "model.find_best_initial_solution(verbose=VERBOSE)\n",
    "\n",
    "# Find optimal solutions\n",
    "for condition_id in model.condition_ids:\n",
    "    model.set_condition(condition_id)\n",
    "    model.find_optimum(verbose=VERBOSE)\n",
    "\n",
    "# Modify infos\n",
    "model.add_info(category=\"Sheets\", key=\"q0\", content=\"Initial flux fraction vector\")\n",
    "model.add_info(category=\"Sheets\", key=\"qopt\", content=\"Optimal solutions per condition\")\n",
    "del model.info[\"Sheets\"][\"KI\"]\n",
    "\n",
    "# Save model\n",
    "model.write_to_ods(path=\"/Users/charlesrocabert/Desktop/new_models\", name=\"A\")\n",
    "model.write_to_csv(path=\"/Users/charlesrocabert/Desktop/new_models\", name=\"A\")"
   ]
  },
  {
   "cell_type": "markdown",
   "metadata": {},
   "source": [
    "# Model <code>B</code>"
   ]
  },
  {
   "cell_type": "code",
   "execution_count": null,
   "metadata": {},
   "outputs": [
    {
     "data": {
      "text/html": [
       "<table><tr style='text-align:left'><td style='vertical-align:top'><td style='color:rgba(0,85,194);'><strong>&#10095; Info</strong></td><td>Best initial solution found with rhs factor = 10.0 and maximal mu = 1.686574588270566.</td></tr></table>"
      ]
     },
     "metadata": {},
     "output_type": "display_data"
    },
    {
     "data": {
      "text/html": [
       "<table><tr style='text-align:left'><td style='vertical-align:top'><td style='color:rgba(0,85,194);'><strong>&#10095; Info</strong></td><td>Model converged with mu = 1.69885 after 0.01 seconds.</td></tr></table>"
      ]
     },
     "metadata": {},
     "output_type": "display_data"
    },
    {
     "data": {
      "text/html": [
       "<table><tr style='text-align:left'><td style='vertical-align:top'><td style='color:rgba(0,85,194);'><strong>&#10095; Info</strong></td><td>Model converged with mu = 1.67988 after 0.01 seconds.</td></tr></table>"
      ]
     },
     "metadata": {},
     "output_type": "display_data"
    },
    {
     "data": {
      "text/html": [
       "<table><tr style='text-align:left'><td style='vertical-align:top'><td style='color:rgba(0,85,194);'><strong>&#10095; Info</strong></td><td>Model converged with mu = 1.65235 after 0.01 seconds.</td></tr></table>"
      ]
     },
     "metadata": {},
     "output_type": "display_data"
    },
    {
     "data": {
      "text/html": [
       "<table><tr style='text-align:left'><td style='vertical-align:top'><td style='color:rgba(0,85,194);'><strong>&#10095; Info</strong></td><td>Model converged with mu = 1.61297 after 0.01 seconds.</td></tr></table>"
      ]
     },
     "metadata": {},
     "output_type": "display_data"
    },
    {
     "data": {
      "text/html": [
       "<table><tr style='text-align:left'><td style='vertical-align:top'><td style='color:rgba(0,85,194);'><strong>&#10095; Info</strong></td><td>Model converged with mu = 1.55778 after 0.01 seconds.</td></tr></table>"
      ]
     },
     "metadata": {},
     "output_type": "display_data"
    },
    {
     "data": {
      "text/html": [
       "<table><tr style='text-align:left'><td style='vertical-align:top'><td style='color:rgba(0,85,194);'><strong>&#10095; Info</strong></td><td>Model converged with mu = 1.48259 after 0.01 seconds.</td></tr></table>"
      ]
     },
     "metadata": {},
     "output_type": "display_data"
    },
    {
     "data": {
      "text/html": [
       "<table><tr style='text-align:left'><td style='vertical-align:top'><td style='color:rgba(0,85,194);'><strong>&#10095; Info</strong></td><td>Model converged with mu = 1.3839 after 0.01 seconds.</td></tr></table>"
      ]
     },
     "metadata": {},
     "output_type": "display_data"
    },
    {
     "data": {
      "text/html": [
       "<table><tr style='text-align:left'><td style='vertical-align:top'><td style='color:rgba(0,85,194);'><strong>&#10095; Info</strong></td><td>Model converged with mu = 1.2603 after 0.01 seconds.</td></tr></table>"
      ]
     },
     "metadata": {},
     "output_type": "display_data"
    },
    {
     "data": {
      "text/html": [
       "<table><tr style='text-align:left'><td style='vertical-align:top'><td style='color:rgba(0,85,194);'><strong>&#10095; Info</strong></td><td>Model converged with mu = 1.11405 after 0.01 seconds.</td></tr></table>"
      ]
     },
     "metadata": {},
     "output_type": "display_data"
    },
    {
     "data": {
      "text/html": [
       "<table><tr style='text-align:left'><td style='vertical-align:top'><td style='color:rgba(0,85,194);'><strong>&#10095; Info</strong></td><td>Model converged with mu = 0.951897 after 0.01 seconds.</td></tr></table>"
      ]
     },
     "metadata": {},
     "output_type": "display_data"
    },
    {
     "data": {
      "text/html": [
       "<table><tr style='text-align:left'><td style='vertical-align:top'><td style='color:rgba(0,85,194);'><strong>&#10095; Info</strong></td><td>Model converged with mu = 0.78437 after 0.01 seconds.</td></tr></table>"
      ]
     },
     "metadata": {},
     "output_type": "display_data"
    },
    {
     "data": {
      "text/html": [
       "<table><tr style='text-align:left'><td style='vertical-align:top'><td style='color:rgba(0,85,194);'><strong>&#10095; Info</strong></td><td>Model converged with mu = 0.623291 after 0.01 seconds.</td></tr></table>"
      ]
     },
     "metadata": {},
     "output_type": "display_data"
    },
    {
     "data": {
      "text/html": [
       "<table><tr style='text-align:left'><td style='vertical-align:top'><td style='color:rgba(0,85,194);'><strong>&#10095; Info</strong></td><td>Model converged with mu = 0.478717 after 0.01 seconds.</td></tr></table>"
      ]
     },
     "metadata": {},
     "output_type": "display_data"
    },
    {
     "data": {
      "text/html": [
       "<table><tr style='text-align:left'><td style='vertical-align:top'><td style='color:rgba(0,85,194);'><strong>&#10095; Info</strong></td><td>Model converged with mu = 0.35678 after 0.01 seconds.</td></tr></table>"
      ]
     },
     "metadata": {},
     "output_type": "display_data"
    },
    {
     "data": {
      "text/html": [
       "<table><tr style='text-align:left'><td style='vertical-align:top'><td style='color:rgba(0,85,194);'><strong>&#10095; Info</strong></td><td>Model converged with mu = 0.259263 after 0.01 seconds.</td></tr></table>"
      ]
     },
     "metadata": {},
     "output_type": "display_data"
    },
    {
     "data": {
      "text/html": [
       "<table><tr style='text-align:left'><td style='vertical-align:top'><td style='color:rgba(0,85,194);'><strong>&#10095; Info</strong></td><td>Model converged with mu = 0.184597 after 0.01 seconds.</td></tr></table>"
      ]
     },
     "metadata": {},
     "output_type": "display_data"
    },
    {
     "data": {
      "text/html": [
       "<table><tr style='text-align:left'><td style='vertical-align:top'><td style='color:rgba(0,85,194);'><strong>&#10095; Info</strong></td><td>Model converged with mu = 0.129355 after 0.01 seconds.</td></tr></table>"
      ]
     },
     "metadata": {},
     "output_type": "display_data"
    },
    {
     "data": {
      "text/html": [
       "<table><tr style='text-align:left'><td style='vertical-align:top'><td style='color:rgba(0,85,194);'><strong>&#10095; Info</strong></td><td>Model converged with mu = 0.0895456 after 0.01 seconds.</td></tr></table>"
      ]
     },
     "metadata": {},
     "output_type": "display_data"
    },
    {
     "data": {
      "text/html": [
       "<table><tr style='text-align:left'><td style='vertical-align:top'><td style='color:rgba(0,85,194);'><strong>&#10095; Info</strong></td><td>Model converged with mu = 0.0614199 after 0.01 seconds.</td></tr></table>"
      ]
     },
     "metadata": {},
     "output_type": "display_data"
    },
    {
     "data": {
      "text/html": [
       "<table><tr style='text-align:left'><td style='vertical-align:top'><td style='color:rgba(0,85,194);'><strong>&#10095; Info</strong></td><td>Model converged with mu = 0.0418391 after 0.01 seconds.</td></tr></table>"
      ]
     },
     "metadata": {},
     "output_type": "display_data"
    },
    {
     "data": {
      "text/html": [
       "<table><tr style='text-align:left'><td style='vertical-align:top'><td style='color:rgba(0,85,194);'><strong>&#10095; Info</strong></td><td>Model converged with mu = 0.0283545 after 0.01 seconds.</td></tr></table>"
      ]
     },
     "metadata": {},
     "output_type": "display_data"
    },
    {
     "data": {
      "text/html": [
       "<table><tr style='text-align:left'><td style='vertical-align:top'><td style='color:rgba(0,85,194);'><strong>&#10095; Info</strong></td><td>Model converged with mu = 0.0191423 after 0.01 seconds.</td></tr></table>"
      ]
     },
     "metadata": {},
     "output_type": "display_data"
    },
    {
     "data": {
      "text/html": [
       "<table><tr style='text-align:left'><td style='vertical-align:top'><td style='color:rgba(0,85,194);'><strong>&#10095; Info</strong></td><td>Model converged with mu = 0.0128859 after 0.01 seconds.</td></tr></table>"
      ]
     },
     "metadata": {},
     "output_type": "display_data"
    },
    {
     "data": {
      "text/html": [
       "<table><tr style='text-align:left'><td style='vertical-align:top'><td style='color:rgba(0,85,194);'><strong>&#10095; Info</strong></td><td>Model converged with mu = 0.00865551 after 0.01 seconds.</td></tr></table>"
      ]
     },
     "metadata": {},
     "output_type": "display_data"
    },
    {
     "data": {
      "text/html": [
       "<table><tr style='text-align:left'><td style='vertical-align:top'><td style='color:rgba(0,85,194);'><strong>&#10095; Info</strong></td><td>Model converged with mu = 0.00580436 after 0.01 seconds.</td></tr></table>"
      ]
     },
     "metadata": {},
     "output_type": "display_data"
    }
   ],
   "source": [
    "# Load model\n",
    "model = gba.read_ods_model(path=\"../../gbamodels/ODS\", name=\"B\")\n",
    "\n",
    "# Generate accurate initial solution\n",
    "model.find_best_initial_solution(verbose=VERBOSE)\n",
    "\n",
    "# Find optimal solutions\n",
    "for condition_id in model.condition_ids:\n",
    "    model.set_condition(condition_id)\n",
    "    model.find_optimum(verbose=VERBOSE)\n",
    "\n",
    "# Modify infos\n",
    "model.add_info(category=\"Sheets\", key=\"q0\", content=\"Initial flux fraction vector\")\n",
    "model.add_info(category=\"Sheets\", key=\"qopt\", content=\"Optimal solutions per condition\")\n",
    "del model.info[\"Sheets\"][\"KI\"]\n",
    "\n",
    "# Save model\n",
    "model.write_to_ods(path=\"/Users/charlesrocabert/Desktop/new_models\", name=\"B\")\n",
    "model.write_to_csv(path=\"/Users/charlesrocabert/Desktop/new_models\", name=\"B\")"
   ]
  },
  {
   "cell_type": "markdown",
   "metadata": {},
   "source": [
    "# Model <code>C</code>"
   ]
  },
  {
   "cell_type": "code",
   "execution_count": null,
   "metadata": {},
   "outputs": [
    {
     "data": {
      "text/html": [
       "<table><tr style='text-align:left'><td style='vertical-align:top'><td style='color:rgba(0,85,194);'><strong>&#10095; Info</strong></td><td>Best initial solution found with rhs factor = 10.0 and maximal mu = 1.4722536806342017.</td></tr></table>"
      ]
     },
     "metadata": {},
     "output_type": "display_data"
    },
    {
     "data": {
      "text/html": [
       "<table><tr style='text-align:left'><td style='vertical-align:top'><td style='color:rgba(0,85,194);'><strong>&#10095; Info</strong></td><td>Model converged with mu = 1.49131 after 0.02 seconds.</td></tr></table>"
      ]
     },
     "metadata": {},
     "output_type": "display_data"
    },
    {
     "data": {
      "text/html": [
       "<table><tr style='text-align:left'><td style='vertical-align:top'><td style='color:rgba(0,85,194);'><strong>&#10095; Info</strong></td><td>Model converged with mu = 1.47351 after 0.02 seconds.</td></tr></table>"
      ]
     },
     "metadata": {},
     "output_type": "display_data"
    },
    {
     "data": {
      "text/html": [
       "<table><tr style='text-align:left'><td style='vertical-align:top'><td style='color:rgba(0,85,194);'><strong>&#10095; Info</strong></td><td>Model converged with mu = 1.44769 after 0.02 seconds.</td></tr></table>"
      ]
     },
     "metadata": {},
     "output_type": "display_data"
    },
    {
     "data": {
      "text/html": [
       "<table><tr style='text-align:left'><td style='vertical-align:top'><td style='color:rgba(0,85,194);'><strong>&#10095; Info</strong></td><td>Model converged with mu = 1.41085 after 0.02 seconds.</td></tr></table>"
      ]
     },
     "metadata": {},
     "output_type": "display_data"
    },
    {
     "data": {
      "text/html": [
       "<table><tr style='text-align:left'><td style='vertical-align:top'><td style='color:rgba(0,85,194);'><strong>&#10095; Info</strong></td><td>Model converged with mu = 1.35939 after 0.02 seconds.</td></tr></table>"
      ]
     },
     "metadata": {},
     "output_type": "display_data"
    },
    {
     "data": {
      "text/html": [
       "<table><tr style='text-align:left'><td style='vertical-align:top'><td style='color:rgba(0,85,194);'><strong>&#10095; Info</strong></td><td>Model converged with mu = 1.2896 after 0.02 seconds.</td></tr></table>"
      ]
     },
     "metadata": {},
     "output_type": "display_data"
    },
    {
     "data": {
      "text/html": [
       "<table><tr style='text-align:left'><td style='vertical-align:top'><td style='color:rgba(0,85,194);'><strong>&#10095; Info</strong></td><td>Model converged with mu = 1.19858 after 0.02 seconds.</td></tr></table>"
      ]
     },
     "metadata": {},
     "output_type": "display_data"
    },
    {
     "data": {
      "text/html": [
       "<table><tr style='text-align:left'><td style='vertical-align:top'><td style='color:rgba(0,85,194);'><strong>&#10095; Info</strong></td><td>Model converged with mu = 1.08552 after 0.02 seconds.</td></tr></table>"
      ]
     },
     "metadata": {},
     "output_type": "display_data"
    },
    {
     "data": {
      "text/html": [
       "<table><tr style='text-align:left'><td style='vertical-align:top'><td style='color:rgba(0,85,194);'><strong>&#10095; Info</strong></td><td>Model converged with mu = 0.953144 after 0.02 seconds.</td></tr></table>"
      ]
     },
     "metadata": {},
     "output_type": "display_data"
    },
    {
     "data": {
      "text/html": [
       "<table><tr style='text-align:left'><td style='vertical-align:top'><td style='color:rgba(0,85,194);'><strong>&#10095; Info</strong></td><td>Model converged with mu = 0.808215 after 0.02 seconds.</td></tr></table>"
      ]
     },
     "metadata": {},
     "output_type": "display_data"
    },
    {
     "data": {
      "text/html": [
       "<table><tr style='text-align:left'><td style='vertical-align:top'><td style='color:rgba(0,85,194);'><strong>&#10095; Info</strong></td><td>Model converged with mu = 0.660559 after 0.02 seconds.</td></tr></table>"
      ]
     },
     "metadata": {},
     "output_type": "display_data"
    },
    {
     "data": {
      "text/html": [
       "<table><tr style='text-align:left'><td style='vertical-align:top'><td style='color:rgba(0,85,194);'><strong>&#10095; Info</strong></td><td>Model converged with mu = 0.520637 after 0.02 seconds.</td></tr></table>"
      ]
     },
     "metadata": {},
     "output_type": "display_data"
    },
    {
     "data": {
      "text/html": [
       "<table><tr style='text-align:left'><td style='vertical-align:top'><td style='color:rgba(0,85,194);'><strong>&#10095; Info</strong></td><td>Model converged with mu = 0.396818 after 0.02 seconds.</td></tr></table>"
      ]
     },
     "metadata": {},
     "output_type": "display_data"
    },
    {
     "data": {
      "text/html": [
       "<table><tr style='text-align:left'><td style='vertical-align:top'><td style='color:rgba(0,85,194);'><strong>&#10095; Info</strong></td><td>Model converged with mu = 0.29373 after 0.02 seconds.</td></tr></table>"
      ]
     },
     "metadata": {},
     "output_type": "display_data"
    },
    {
     "data": {
      "text/html": [
       "<table><tr style='text-align:left'><td style='vertical-align:top'><td style='color:rgba(0,85,194);'><strong>&#10095; Info</strong></td><td>Model converged with mu = 0.21221 after 0.02 seconds.</td></tr></table>"
      ]
     },
     "metadata": {},
     "output_type": "display_data"
    },
    {
     "data": {
      "text/html": [
       "<table><tr style='text-align:left'><td style='vertical-align:top'><td style='color:rgba(0,85,194);'><strong>&#10095; Info</strong></td><td>Model converged with mu = 0.150375 after 0.02 seconds.</td></tr></table>"
      ]
     },
     "metadata": {},
     "output_type": "display_data"
    },
    {
     "data": {
      "text/html": [
       "<table><tr style='text-align:left'><td style='vertical-align:top'><td style='color:rgba(0,85,194);'><strong>&#10095; Info</strong></td><td>Model converged with mu = 0.104971 after 0.02 seconds.</td></tr></table>"
      ]
     },
     "metadata": {},
     "output_type": "display_data"
    },
    {
     "data": {
      "text/html": [
       "<table><tr style='text-align:left'><td style='vertical-align:top'><td style='color:rgba(0,85,194);'><strong>&#10095; Info</strong></td><td>Model converged with mu = 0.0724459 after 0.02 seconds.</td></tr></table>"
      ]
     },
     "metadata": {},
     "output_type": "display_data"
    },
    {
     "data": {
      "text/html": [
       "<table><tr style='text-align:left'><td style='vertical-align:top'><td style='color:rgba(0,85,194);'><strong>&#10095; Info</strong></td><td>Model converged with mu = 0.0495732 after 0.03 seconds.</td></tr></table>"
      ]
     },
     "metadata": {},
     "output_type": "display_data"
    },
    {
     "data": {
      "text/html": [
       "<table><tr style='text-align:left'><td style='vertical-align:top'><td style='color:rgba(0,85,194);'><strong>&#10095; Info</strong></td><td>Model converged with mu = 0.0337066 after 0.03 seconds.</td></tr></table>"
      ]
     },
     "metadata": {},
     "output_type": "display_data"
    },
    {
     "data": {
      "text/html": [
       "<table><tr style='text-align:left'><td style='vertical-align:top'><td style='color:rgba(0,85,194);'><strong>&#10095; Info</strong></td><td>Model converged with mu = 0.02281 after 0.04 seconds.</td></tr></table>"
      ]
     },
     "metadata": {},
     "output_type": "display_data"
    },
    {
     "data": {
      "text/html": [
       "<table><tr style='text-align:left'><td style='vertical-align:top'><td style='color:rgba(0,85,194);'><strong>&#10095; Info</strong></td><td>Model converged with mu = 0.0153818 after 0.05 seconds.</td></tr></table>"
      ]
     },
     "metadata": {},
     "output_type": "display_data"
    },
    {
     "data": {
      "text/html": [
       "<table><tr style='text-align:left'><td style='vertical-align:top'><td style='color:rgba(0,85,194);'><strong>&#10095; Info</strong></td><td>Model converged with mu = 0.0103453 after 0.06 seconds.</td></tr></table>"
      ]
     },
     "metadata": {},
     "output_type": "display_data"
    },
    {
     "data": {
      "text/html": [
       "<table><tr style='text-align:left'><td style='vertical-align:top'><td style='color:rgba(0,85,194);'><strong>&#10095; Info</strong></td><td>Model converged with mu = 0.00694408 after 0.07 seconds.</td></tr></table>"
      ]
     },
     "metadata": {},
     "output_type": "display_data"
    },
    {
     "data": {
      "text/html": [
       "<table><tr style='text-align:left'><td style='vertical-align:top'><td style='color:rgba(0,85,194);'><strong>&#10095; Info</strong></td><td>Model converged with mu = 0.0046541 after 0.09 seconds.</td></tr></table>"
      ]
     },
     "metadata": {},
     "output_type": "display_data"
    }
   ],
   "source": [
    "# Load model\n",
    "model = gba.read_ods_model(path=\"../../gbamodels/ODS\", name=\"C\")\n",
    "\n",
    "# Generate accurate initial solution\n",
    "model.find_best_initial_solution(verbose=VERBOSE)\n",
    "\n",
    "# Find optimal solutions\n",
    "for condition_id in model.condition_ids:\n",
    "    model.set_condition(condition_id)\n",
    "    model.find_optimum(verbose=VERBOSE)\n",
    "\n",
    "# Modify infos\n",
    "model.add_info(category=\"Sheets\", key=\"q0\", content=\"Initial flux fraction vector\")\n",
    "model.add_info(category=\"Sheets\", key=\"qopt\", content=\"Optimal solutions per condition\")\n",
    "del model.info[\"Sheets\"][\"KI\"]\n",
    "\n",
    "# Save model\n",
    "model.write_to_ods(path=\"/Users/charlesrocabert/Desktop/new_models\", name=\"C\")\n",
    "model.write_to_csv(path=\"/Users/charlesrocabert/Desktop/new_models\", name=\"C\")"
   ]
  },
  {
   "cell_type": "markdown",
   "metadata": {},
   "source": [
    "# Model <code>D</code>"
   ]
  },
  {
   "cell_type": "code",
   "execution_count": null,
   "metadata": {},
   "outputs": [
    {
     "data": {
      "text/html": [
       "<table><tr style='text-align:left'><td style='vertical-align:top'><td style='color:rgba(0,85,194);'><strong>&#10095; Info</strong></td><td>Best initial solution found with rhs factor = 10.0 and maximal mu = 1.580024345495728.</td></tr></table>"
      ]
     },
     "metadata": {},
     "output_type": "display_data"
    },
    {
     "data": {
      "text/html": [
       "<table><tr style='text-align:left'><td style='vertical-align:top'><td style='color:rgba(0,85,194);'><strong>&#10095; Info</strong></td><td>Model converged with mu = 1.70994 after 0.03 seconds.</td></tr></table>"
      ]
     },
     "metadata": {},
     "output_type": "display_data"
    },
    {
     "data": {
      "text/html": [
       "<table><tr style='text-align:left'><td style='vertical-align:top'><td style='color:rgba(0,85,194);'><strong>&#10095; Info</strong></td><td>Model converged with mu = 1.70907 after 0.03 seconds.</td></tr></table>"
      ]
     },
     "metadata": {},
     "output_type": "display_data"
    },
    {
     "data": {
      "text/html": [
       "<table><tr style='text-align:left'><td style='vertical-align:top'><td style='color:rgba(0,85,194);'><strong>&#10095; Info</strong></td><td>Model converged with mu = 1.70776 after 0.03 seconds.</td></tr></table>"
      ]
     },
     "metadata": {},
     "output_type": "display_data"
    },
    {
     "data": {
      "text/html": [
       "<table><tr style='text-align:left'><td style='vertical-align:top'><td style='color:rgba(0,85,194);'><strong>&#10095; Info</strong></td><td>Model converged with mu = 1.7058 after 0.03 seconds.</td></tr></table>"
      ]
     },
     "metadata": {},
     "output_type": "display_data"
    },
    {
     "data": {
      "text/html": [
       "<table><tr style='text-align:left'><td style='vertical-align:top'><td style='color:rgba(0,85,194);'><strong>&#10095; Info</strong></td><td>Model converged with mu = 1.70288 after 0.03 seconds.</td></tr></table>"
      ]
     },
     "metadata": {},
     "output_type": "display_data"
    },
    {
     "data": {
      "text/html": [
       "<table><tr style='text-align:left'><td style='vertical-align:top'><td style='color:rgba(0,85,194);'><strong>&#10095; Info</strong></td><td>Model converged with mu = 1.69852 after 0.03 seconds.</td></tr></table>"
      ]
     },
     "metadata": {},
     "output_type": "display_data"
    },
    {
     "data": {
      "text/html": [
       "<table><tr style='text-align:left'><td style='vertical-align:top'><td style='color:rgba(0,85,194);'><strong>&#10095; Info</strong></td><td>Model converged with mu = 1.69203 after 0.03 seconds.</td></tr></table>"
      ]
     },
     "metadata": {},
     "output_type": "display_data"
    },
    {
     "data": {
      "text/html": [
       "<table><tr style='text-align:left'><td style='vertical-align:top'><td style='color:rgba(0,85,194);'><strong>&#10095; Info</strong></td><td>Model converged with mu = 1.68242 after 0.03 seconds.</td></tr></table>"
      ]
     },
     "metadata": {},
     "output_type": "display_data"
    },
    {
     "data": {
      "text/html": [
       "<table><tr style='text-align:left'><td style='vertical-align:top'><td style='color:rgba(0,85,194);'><strong>&#10095; Info</strong></td><td>Model converged with mu = 1.66826 after 0.03 seconds.</td></tr></table>"
      ]
     },
     "metadata": {},
     "output_type": "display_data"
    },
    {
     "data": {
      "text/html": [
       "<table><tr style='text-align:left'><td style='vertical-align:top'><td style='color:rgba(0,85,194);'><strong>&#10095; Info</strong></td><td>Model converged with mu = 1.64759 after 0.03 seconds.</td></tr></table>"
      ]
     },
     "metadata": {},
     "output_type": "display_data"
    },
    {
     "data": {
      "text/html": [
       "<table><tr style='text-align:left'><td style='vertical-align:top'><td style='color:rgba(0,85,194);'><strong>&#10095; Info</strong></td><td>Model converged with mu = 1.61778 after 0.03 seconds.</td></tr></table>"
      ]
     },
     "metadata": {},
     "output_type": "display_data"
    },
    {
     "data": {
      "text/html": [
       "<table><tr style='text-align:left'><td style='vertical-align:top'><td style='color:rgba(0,85,194);'><strong>&#10095; Info</strong></td><td>Model converged with mu = 1.57549 after 0.03 seconds.</td></tr></table>"
      ]
     },
     "metadata": {},
     "output_type": "display_data"
    },
    {
     "data": {
      "text/html": [
       "<table><tr style='text-align:left'><td style='vertical-align:top'><td style='color:rgba(0,85,194);'><strong>&#10095; Info</strong></td><td>Model converged with mu = 1.51689 after 0.03 seconds.</td></tr></table>"
      ]
     },
     "metadata": {},
     "output_type": "display_data"
    },
    {
     "data": {
      "text/html": [
       "<table><tr style='text-align:left'><td style='vertical-align:top'><td style='color:rgba(0,85,194);'><strong>&#10095; Info</strong></td><td>Model converged with mu = 1.4381 after 0.03 seconds.</td></tr></table>"
      ]
     },
     "metadata": {},
     "output_type": "display_data"
    },
    {
     "data": {
      "text/html": [
       "<table><tr style='text-align:left'><td style='vertical-align:top'><td style='color:rgba(0,85,194);'><strong>&#10095; Info</strong></td><td>Model converged with mu = 1.33625 after 0.04 seconds.</td></tr></table>"
      ]
     },
     "metadata": {},
     "output_type": "display_data"
    },
    {
     "data": {
      "text/html": [
       "<table><tr style='text-align:left'><td style='vertical-align:top'><td style='color:rgba(0,85,194);'><strong>&#10095; Info</strong></td><td>Model converged with mu = 1.20986 after 0.02 seconds.</td></tr></table>"
      ]
     },
     "metadata": {},
     "output_type": "display_data"
    },
    {
     "data": {
      "text/html": [
       "<table><tr style='text-align:left'><td style='vertical-align:top'><td style='color:rgba(0,85,194);'><strong>&#10095; Info</strong></td><td>Model converged with mu = 1.07433 after 0.02 seconds.</td></tr></table>"
      ]
     },
     "metadata": {},
     "output_type": "display_data"
    },
    {
     "data": {
      "text/html": [
       "<table><tr style='text-align:left'><td style='vertical-align:top'><td style='color:rgba(0,85,194);'><strong>&#10095; Info</strong></td><td>Model converged with mu = 0.924068 after 0.02 seconds.</td></tr></table>"
      ]
     },
     "metadata": {},
     "output_type": "display_data"
    },
    {
     "data": {
      "text/html": [
       "<table><tr style='text-align:left'><td style='vertical-align:top'><td style='color:rgba(0,85,194);'><strong>&#10095; Info</strong></td><td>Model converged with mu = 0.768015 after 0.02 seconds.</td></tr></table>"
      ]
     },
     "metadata": {},
     "output_type": "display_data"
    },
    {
     "data": {
      "text/html": [
       "<table><tr style='text-align:left'><td style='vertical-align:top'><td style='color:rgba(0,85,194);'><strong>&#10095; Info</strong></td><td>Model converged with mu = 0.61649 after 0.02 seconds.</td></tr></table>"
      ]
     },
     "metadata": {},
     "output_type": "display_data"
    },
    {
     "data": {
      "text/html": [
       "<table><tr style='text-align:left'><td style='vertical-align:top'><td style='color:rgba(0,85,194);'><strong>&#10095; Info</strong></td><td>Model converged with mu = 0.478677 after 0.03 seconds.</td></tr></table>"
      ]
     },
     "metadata": {},
     "output_type": "display_data"
    },
    {
     "data": {
      "text/html": [
       "<table><tr style='text-align:left'><td style='vertical-align:top'><td style='color:rgba(0,85,194);'><strong>&#10095; Info</strong></td><td>Model converged with mu = 0.360665 after 0.03 seconds.</td></tr></table>"
      ]
     },
     "metadata": {},
     "output_type": "display_data"
    },
    {
     "data": {
      "text/html": [
       "<table><tr style='text-align:left'><td style='vertical-align:top'><td style='color:rgba(0,85,194);'><strong>&#10095; Info</strong></td><td>Model converged with mu = 0.264805 after 0.03 seconds.</td></tr></table>"
      ]
     },
     "metadata": {},
     "output_type": "display_data"
    },
    {
     "data": {
      "text/html": [
       "<table><tr style='text-align:left'><td style='vertical-align:top'><td style='color:rgba(0,85,194);'><strong>&#10095; Info</strong></td><td>Model converged with mu = 0.190307 after 0.03 seconds.</td></tr></table>"
      ]
     },
     "metadata": {},
     "output_type": "display_data"
    },
    {
     "data": {
      "text/html": [
       "<table><tr style='text-align:left'><td style='vertical-align:top'><td style='color:rgba(0,85,194);'><strong>&#10095; Info</strong></td><td>Model converged with mu = 0.134445 after 0.03 seconds.</td></tr></table>"
      ]
     },
     "metadata": {},
     "output_type": "display_data"
    }
   ],
   "source": [
    "# Load model\n",
    "model = gba.read_ods_model(path=\"../../gbamodels/ODS\", name=\"D\")\n",
    "\n",
    "# Generate accurate initial solution\n",
    "model.find_best_initial_solution(verbose=VERBOSE)\n",
    "\n",
    "# Find optimal solutions\n",
    "for condition_id in model.condition_ids:\n",
    "    model.set_condition(condition_id)\n",
    "    model.find_optimum(verbose=VERBOSE)\n",
    "\n",
    "# Modify infos\n",
    "model.add_info(category=\"Sheets\", key=\"q0\", content=\"Initial flux fraction vector\")\n",
    "model.add_info(category=\"Sheets\", key=\"qopt\", content=\"Optimal solutions per condition\")\n",
    "del model.info[\"Sheets\"][\"KI\"]\n",
    "\n",
    "# Save model\n",
    "model.write_to_ods(path=\"/Users/charlesrocabert/Desktop/new_models\", name=\"D\")\n",
    "model.write_to_csv(path=\"/Users/charlesrocabert/Desktop/new_models\", name=\"D\")"
   ]
  },
  {
   "cell_type": "markdown",
   "metadata": {},
   "source": [
    "# Model <code>EC12b</code>"
   ]
  },
  {
   "cell_type": "code",
   "execution_count": 6,
   "metadata": {},
   "outputs": [
    {
     "data": {
      "text/html": [
       "<table><tr style='text-align:left'><td style='vertical-align:top'><td style='color:rgba(236,3,3);'><strong>&#10006; Error</strong></td><td>Local linear problem could not be solved.</td></tr></table>"
      ]
     },
     "metadata": {},
     "output_type": "display_data"
    },
    {
     "data": {
      "text/html": [
       "<table><tr style='text-align:left'><td style='vertical-align:top'><td style='color:rgba(0,85,194);'><strong>&#10095; Info</strong></td><td>Best initial solution found with rhs factor = 20.0 and maximal mu = 0.7753958615604659.</td></tr></table>"
      ]
     },
     "metadata": {},
     "output_type": "display_data"
    },
    {
     "data": {
      "text/html": [
       "<table><tr style='text-align:left'><td style='vertical-align:top'><td style='color:rgba(0,85,194);'><strong>&#10095; Info</strong></td><td>Model converged with mu = 0.84937 after 0.29 seconds.</td></tr></table>"
      ]
     },
     "metadata": {},
     "output_type": "display_data"
    },
    {
     "data": {
      "text/html": [
       "<table><tr style='text-align:left'><td style='vertical-align:top'><td style='color:rgba(0,85,194);'><strong>&#10095; Info</strong></td><td>Model converged with mu = 0.847446 after 0.29 seconds.</td></tr></table>"
      ]
     },
     "metadata": {},
     "output_type": "display_data"
    },
    {
     "data": {
      "text/html": [
       "<table><tr style='text-align:left'><td style='vertical-align:top'><td style='color:rgba(0,85,194);'><strong>&#10095; Info</strong></td><td>Model converged with mu = 0.845153 after 0.30 seconds.</td></tr></table>"
      ]
     },
     "metadata": {},
     "output_type": "display_data"
    },
    {
     "data": {
      "text/html": [
       "<table><tr style='text-align:left'><td style='vertical-align:top'><td style='color:rgba(0,85,194);'><strong>&#10095; Info</strong></td><td>Model converged with mu = 0.842422 after 0.31 seconds.</td></tr></table>"
      ]
     },
     "metadata": {},
     "output_type": "display_data"
    },
    {
     "data": {
      "text/html": [
       "<table><tr style='text-align:left'><td style='vertical-align:top'><td style='color:rgba(0,85,194);'><strong>&#10095; Info</strong></td><td>Model converged with mu = 0.839176 after 0.30 seconds.</td></tr></table>"
      ]
     },
     "metadata": {},
     "output_type": "display_data"
    },
    {
     "data": {
      "text/html": [
       "<table><tr style='text-align:left'><td style='vertical-align:top'><td style='color:rgba(0,85,194);'><strong>&#10095; Info</strong></td><td>Model converged with mu = 0.835324 after 0.29 seconds.</td></tr></table>"
      ]
     },
     "metadata": {},
     "output_type": "display_data"
    },
    {
     "data": {
      "text/html": [
       "<table><tr style='text-align:left'><td style='vertical-align:top'><td style='color:rgba(0,85,194);'><strong>&#10095; Info</strong></td><td>Model converged with mu = 0.830762 after 0.29 seconds.</td></tr></table>"
      ]
     },
     "metadata": {},
     "output_type": "display_data"
    },
    {
     "data": {
      "text/html": [
       "<table><tr style='text-align:left'><td style='vertical-align:top'><td style='color:rgba(0,85,194);'><strong>&#10095; Info</strong></td><td>Model converged with mu = 0.825373 after 0.29 seconds.</td></tr></table>"
      ]
     },
     "metadata": {},
     "output_type": "display_data"
    },
    {
     "data": {
      "text/html": [
       "<table><tr style='text-align:left'><td style='vertical-align:top'><td style='color:rgba(0,85,194);'><strong>&#10095; Info</strong></td><td>Model converged with mu = 0.819025 after 0.29 seconds.</td></tr></table>"
      ]
     },
     "metadata": {},
     "output_type": "display_data"
    },
    {
     "data": {
      "text/html": [
       "<table><tr style='text-align:left'><td style='vertical-align:top'><td style='color:rgba(0,85,194);'><strong>&#10095; Info</strong></td><td>Model converged with mu = 0.811571 after 0.31 seconds.</td></tr></table>"
      ]
     },
     "metadata": {},
     "output_type": "display_data"
    },
    {
     "data": {
      "text/html": [
       "<table><tr style='text-align:left'><td style='vertical-align:top'><td style='color:rgba(0,85,194);'><strong>&#10095; Info</strong></td><td>Model converged with mu = 0.802854 after 0.31 seconds.</td></tr></table>"
      ]
     },
     "metadata": {},
     "output_type": "display_data"
    },
    {
     "data": {
      "text/html": [
       "<table><tr style='text-align:left'><td style='vertical-align:top'><td style='color:rgba(0,85,194);'><strong>&#10095; Info</strong></td><td>Model converged with mu = 0.792704 after 0.29 seconds.</td></tr></table>"
      ]
     },
     "metadata": {},
     "output_type": "display_data"
    },
    {
     "data": {
      "text/html": [
       "<table><tr style='text-align:left'><td style='vertical-align:top'><td style='color:rgba(0,85,194);'><strong>&#10095; Info</strong></td><td>Model converged with mu = 0.780946 after 0.32 seconds.</td></tr></table>"
      ]
     },
     "metadata": {},
     "output_type": "display_data"
    },
    {
     "data": {
      "text/html": [
       "<table><tr style='text-align:left'><td style='vertical-align:top'><td style='color:rgba(0,85,194);'><strong>&#10095; Info</strong></td><td>Model converged with mu = 0.767401 after 0.29 seconds.</td></tr></table>"
      ]
     },
     "metadata": {},
     "output_type": "display_data"
    },
    {
     "data": {
      "text/html": [
       "<table><tr style='text-align:left'><td style='vertical-align:top'><td style='color:rgba(0,85,194);'><strong>&#10095; Info</strong></td><td>Model converged with mu = 0.751902 after 0.29 seconds.</td></tr></table>"
      ]
     },
     "metadata": {},
     "output_type": "display_data"
    },
    {
     "data": {
      "text/html": [
       "<table><tr style='text-align:left'><td style='vertical-align:top'><td style='color:rgba(0,85,194);'><strong>&#10095; Info</strong></td><td>Model converged with mu = 0.734294 after 0.32 seconds.</td></tr></table>"
      ]
     },
     "metadata": {},
     "output_type": "display_data"
    },
    {
     "data": {
      "text/html": [
       "<table><tr style='text-align:left'><td style='vertical-align:top'><td style='color:rgba(0,85,194);'><strong>&#10095; Info</strong></td><td>Model converged with mu = 0.714452 after 0.34 seconds.</td></tr></table>"
      ]
     },
     "metadata": {},
     "output_type": "display_data"
    },
    {
     "data": {
      "text/html": [
       "<table><tr style='text-align:left'><td style='vertical-align:top'><td style='color:rgba(0,85,194);'><strong>&#10095; Info</strong></td><td>Model converged with mu = 0.692291 after 0.32 seconds.</td></tr></table>"
      ]
     },
     "metadata": {},
     "output_type": "display_data"
    },
    {
     "data": {
      "text/html": [
       "<table><tr style='text-align:left'><td style='vertical-align:top'><td style='color:rgba(0,85,194);'><strong>&#10095; Info</strong></td><td>Model converged with mu = 0.667778 after 0.33 seconds.</td></tr></table>"
      ]
     },
     "metadata": {},
     "output_type": "display_data"
    },
    {
     "data": {
      "text/html": [
       "<table><tr style='text-align:left'><td style='vertical-align:top'><td style='color:rgba(0,85,194);'><strong>&#10095; Info</strong></td><td>Model converged with mu = 0.64095 after 0.36 seconds.</td></tr></table>"
      ]
     },
     "metadata": {},
     "output_type": "display_data"
    },
    {
     "data": {
      "text/html": [
       "<table><tr style='text-align:left'><td style='vertical-align:top'><td style='color:rgba(0,85,194);'><strong>&#10095; Info</strong></td><td>Model converged with mu = 0.611913 after 0.31 seconds.</td></tr></table>"
      ]
     },
     "metadata": {},
     "output_type": "display_data"
    },
    {
     "data": {
      "text/html": [
       "<table><tr style='text-align:left'><td style='vertical-align:top'><td style='color:rgba(0,85,194);'><strong>&#10095; Info</strong></td><td>Model converged with mu = 0.583019 after 1.06 seconds.</td></tr></table>"
      ]
     },
     "metadata": {},
     "output_type": "display_data"
    },
    {
     "data": {
      "text/html": [
       "<table><tr style='text-align:left'><td style='vertical-align:top'><td style='color:rgba(0,85,194);'><strong>&#10095; Info</strong></td><td>Model converged with mu = 0.552586 after 0.84 seconds.</td></tr></table>"
      ]
     },
     "metadata": {},
     "output_type": "display_data"
    },
    {
     "data": {
      "text/html": [
       "<table><tr style='text-align:left'><td style='vertical-align:top'><td style='color:rgba(0,85,194);'><strong>&#10095; Info</strong></td><td>Model converged with mu = 0.520565 after 0.85 seconds.</td></tr></table>"
      ]
     },
     "metadata": {},
     "output_type": "display_data"
    },
    {
     "data": {
      "text/html": [
       "<table><tr style='text-align:left'><td style='vertical-align:top'><td style='color:rgba(0,85,194);'><strong>&#10095; Info</strong></td><td>Model converged with mu = 0.487303 after 0.91 seconds.</td></tr></table>"
      ]
     },
     "metadata": {},
     "output_type": "display_data"
    },
    {
     "data": {
      "text/html": [
       "<table><tr style='text-align:left'><td style='vertical-align:top'><td style='color:rgba(0,85,194);'><strong>&#10095; Info</strong></td><td>Model converged with mu = 0.453199 after 0.97 seconds.</td></tr></table>"
      ]
     },
     "metadata": {},
     "output_type": "display_data"
    },
    {
     "data": {
      "text/html": [
       "<table><tr style='text-align:left'><td style='vertical-align:top'><td style='color:rgba(0,85,194);'><strong>&#10095; Info</strong></td><td>Model converged with mu = 0.418694 after 1.07 seconds.</td></tr></table>"
      ]
     },
     "metadata": {},
     "output_type": "display_data"
    },
    {
     "data": {
      "text/html": [
       "<table><tr style='text-align:left'><td style='vertical-align:top'><td style='color:rgba(0,85,194);'><strong>&#10095; Info</strong></td><td>Model converged with mu = 0.38424 after 1.14 seconds.</td></tr></table>"
      ]
     },
     "metadata": {},
     "output_type": "display_data"
    },
    {
     "data": {
      "text/html": [
       "<table><tr style='text-align:left'><td style='vertical-align:top'><td style='color:rgba(0,85,194);'><strong>&#10095; Info</strong></td><td>Model converged with mu = 0.350286 after 1.25 seconds.</td></tr></table>"
      ]
     },
     "metadata": {},
     "output_type": "display_data"
    },
    {
     "data": {
      "text/html": [
       "<table><tr style='text-align:left'><td style='vertical-align:top'><td style='color:rgba(0,85,194);'><strong>&#10095; Info</strong></td><td>Model converged with mu = 0.317252 after 1.50 seconds.</td></tr></table>"
      ]
     },
     "metadata": {},
     "output_type": "display_data"
    },
    {
     "data": {
      "text/html": [
       "<table><tr style='text-align:left'><td style='vertical-align:top'><td style='color:rgba(0,85,194);'><strong>&#10095; Info</strong></td><td>Model converged with mu = 0.285509 after 1.51 seconds.</td></tr></table>"
      ]
     },
     "metadata": {},
     "output_type": "display_data"
    },
    {
     "data": {
      "text/html": [
       "<table><tr style='text-align:left'><td style='vertical-align:top'><td style='color:rgba(0,85,194);'><strong>&#10095; Info</strong></td><td>Model converged with mu = 0.255369 after 1.55 seconds.</td></tr></table>"
      ]
     },
     "metadata": {},
     "output_type": "display_data"
    },
    {
     "data": {
      "text/html": [
       "<table><tr style='text-align:left'><td style='vertical-align:top'><td style='color:rgba(0,85,194);'><strong>&#10095; Info</strong></td><td>Model converged with mu = 0.227071 after 1.78 seconds.</td></tr></table>"
      ]
     },
     "metadata": {},
     "output_type": "display_data"
    },
    {
     "data": {
      "text/html": [
       "<table><tr style='text-align:left'><td style='vertical-align:top'><td style='color:rgba(0,85,194);'><strong>&#10095; Info</strong></td><td>Model converged with mu = 0.200775 after 2.29 seconds.</td></tr></table>"
      ]
     },
     "metadata": {},
     "output_type": "display_data"
    },
    {
     "data": {
      "text/html": [
       "<table><tr style='text-align:left'><td style='vertical-align:top'><td style='color:rgba(0,85,194);'><strong>&#10095; Info</strong></td><td>Model converged with mu = 0.176583 after 7.03 seconds.</td></tr></table>"
      ]
     },
     "metadata": {},
     "output_type": "display_data"
    },
    {
     "data": {
      "text/html": [
       "<table><tr style='text-align:left'><td style='vertical-align:top'><td style='color:rgba(0,85,194);'><strong>&#10095; Info</strong></td><td>Model converged with mu = 0.154559 after 19.41 seconds.</td></tr></table>"
      ]
     },
     "metadata": {},
     "output_type": "display_data"
    },
    {
     "data": {
      "text/html": [
       "<table><tr style='text-align:left'><td style='vertical-align:top'><td style='color:rgba(0,85,194);'><strong>&#10095; Info</strong></td><td>Model converged with mu = 0.134663 after 33.47 seconds.</td></tr></table>"
      ]
     },
     "metadata": {},
     "output_type": "display_data"
    },
    {
     "data": {
      "text/html": [
       "<table><tr style='text-align:left'><td style='vertical-align:top'><td style='color:rgba(0,85,194);'><strong>&#10095; Info</strong></td><td>Model converged with mu = 0.116827 after 49.07 seconds.</td></tr></table>"
      ]
     },
     "metadata": {},
     "output_type": "display_data"
    },
    {
     "data": {
      "text/html": [
       "<table><tr style='text-align:left'><td style='vertical-align:top'><td style='color:rgba(0,85,194);'><strong>&#10095; Info</strong></td><td>Model converged with mu = 0.100945 after 61.96 seconds.</td></tr></table>"
      ]
     },
     "metadata": {},
     "output_type": "display_data"
    },
    {
     "data": {
      "text/html": [
       "<table><tr style='text-align:left'><td style='vertical-align:top'><td style='color:rgba(0,85,194);'><strong>&#10095; Info</strong></td><td>Model converged with mu = 0.0868816 after 69.51 seconds.</td></tr></table>"
      ]
     },
     "metadata": {},
     "output_type": "display_data"
    }
   ],
   "source": [
    "# Load model\n",
    "model = gba.read_ods_model(path=\"../../gbamodels/ODS\", name=\"EC12b\")\n",
    "\n",
    "# Generate accurate initial solution\n",
    "model.find_best_initial_solution(verbose=VERBOSE)\n",
    "\n",
    "# Find optimal solutions\n",
    "for condition_id in model.condition_ids:\n",
    "    model.set_condition(condition_id)\n",
    "    model.find_optimum(verbose=VERBOSE)\n",
    "\n",
    "# Modify infos\n",
    "model.add_info(category=\"Sheets\", key=\"q0\", content=\"Initial flux fraction vector\")\n",
    "model.add_info(category=\"Sheets\", key=\"qopt\", content=\"Optimal solutions per condition\")\n",
    "del model.info[\"Sheets\"][\"KI\"]\n",
    "\n",
    "# Save model\n",
    "model.write_to_ods(path=\"/Users/charlesrocabert/Desktop/new_models\", name=\"EC12b\")\n",
    "model.write_to_csv(path=\"/Users/charlesrocabert/Desktop/new_models\", name=\"EC12b\")"
   ]
  },
  {
   "cell_type": "markdown",
   "metadata": {},
   "source": [
    "# Model <code>BaseModel</code>"
   ]
  },
  {
   "cell_type": "code",
   "execution_count": 7,
   "metadata": {},
   "outputs": [
    {
     "data": {
      "text/html": [
       "<table><tr style='text-align:left'><td style='vertical-align:top'><td style='color:rgba(0,85,194);'><strong>&#10095; Info</strong></td><td>Best initial solution found with rhs factor = 10.0 and maximal mu = 0.0765389198951944.</td></tr></table>"
      ]
     },
     "metadata": {},
     "output_type": "display_data"
    },
    {
     "data": {
      "text/html": [
       "<table><tr style='text-align:left'><td style='vertical-align:top'><td style='color:rgba(0,85,194);'><strong>&#10095; Info</strong></td><td>Model converged with mu = 0.0936198 after 1.04 seconds.</td></tr></table>"
      ]
     },
     "metadata": {},
     "output_type": "display_data"
    },
    {
     "data": {
      "text/html": [
       "<table><tr style='text-align:left'><td style='vertical-align:top'><td style='color:rgba(0,85,194);'><strong>&#10095; Info</strong></td><td>Model converged with mu = 0.0953166 after 1.12 seconds.</td></tr></table>"
      ]
     },
     "metadata": {},
     "output_type": "display_data"
    },
    {
     "data": {
      "text/html": [
       "<table><tr style='text-align:left'><td style='vertical-align:top'><td style='color:rgba(0,85,194);'><strong>&#10095; Info</strong></td><td>Model converged with mu = 0.0969404 after 1.17 seconds.</td></tr></table>"
      ]
     },
     "metadata": {},
     "output_type": "display_data"
    },
    {
     "data": {
      "text/html": [
       "<table><tr style='text-align:left'><td style='vertical-align:top'><td style='color:rgba(0,85,194);'><strong>&#10095; Info</strong></td><td>Model converged with mu = 0.0984845 after 1.16 seconds.</td></tr></table>"
      ]
     },
     "metadata": {},
     "output_type": "display_data"
    },
    {
     "data": {
      "text/html": [
       "<table><tr style='text-align:left'><td style='vertical-align:top'><td style='color:rgba(0,85,194);'><strong>&#10095; Info</strong></td><td>Model converged with mu = 0.0999425 after 1.23 seconds.</td></tr></table>"
      ]
     },
     "metadata": {},
     "output_type": "display_data"
    },
    {
     "data": {
      "text/html": [
       "<table><tr style='text-align:left'><td style='vertical-align:top'><td style='color:rgba(0,85,194);'><strong>&#10095; Info</strong></td><td>Model converged with mu = 0.101308 after 1.17 seconds.</td></tr></table>"
      ]
     },
     "metadata": {},
     "output_type": "display_data"
    },
    {
     "data": {
      "text/html": [
       "<table><tr style='text-align:left'><td style='vertical-align:top'><td style='color:rgba(0,85,194);'><strong>&#10095; Info</strong></td><td>Model converged with mu = 0.102575 after 1.25 seconds.</td></tr></table>"
      ]
     },
     "metadata": {},
     "output_type": "display_data"
    },
    {
     "data": {
      "text/html": [
       "<table><tr style='text-align:left'><td style='vertical-align:top'><td style='color:rgba(0,85,194);'><strong>&#10095; Info</strong></td><td>Model converged with mu = 0.103738 after 1.24 seconds.</td></tr></table>"
      ]
     },
     "metadata": {},
     "output_type": "display_data"
    },
    {
     "data": {
      "text/html": [
       "<table><tr style='text-align:left'><td style='vertical-align:top'><td style='color:rgba(0,85,194);'><strong>&#10095; Info</strong></td><td>Model converged with mu = 0.104792 after 1.28 seconds.</td></tr></table>"
      ]
     },
     "metadata": {},
     "output_type": "display_data"
    },
    {
     "data": {
      "text/html": [
       "<table><tr style='text-align:left'><td style='vertical-align:top'><td style='color:rgba(0,85,194);'><strong>&#10095; Info</strong></td><td>Model converged with mu = 0.105731 after 1.35 seconds.</td></tr></table>"
      ]
     },
     "metadata": {},
     "output_type": "display_data"
    },
    {
     "data": {
      "text/html": [
       "<table><tr style='text-align:left'><td style='vertical-align:top'><td style='color:rgba(0,85,194);'><strong>&#10095; Info</strong></td><td>Model converged with mu = 0.106551 after 1.40 seconds.</td></tr></table>"
      ]
     },
     "metadata": {},
     "output_type": "display_data"
    },
    {
     "data": {
      "text/html": [
       "<table><tr style='text-align:left'><td style='vertical-align:top'><td style='color:rgba(0,85,194);'><strong>&#10095; Info</strong></td><td>Model converged with mu = 0.107248 after 1.43 seconds.</td></tr></table>"
      ]
     },
     "metadata": {},
     "output_type": "display_data"
    },
    {
     "data": {
      "text/html": [
       "<table><tr style='text-align:left'><td style='vertical-align:top'><td style='color:rgba(0,85,194);'><strong>&#10095; Info</strong></td><td>Model converged with mu = 0.107819 after 1.47 seconds.</td></tr></table>"
      ]
     },
     "metadata": {},
     "output_type": "display_data"
    },
    {
     "data": {
      "text/html": [
       "<table><tr style='text-align:left'><td style='vertical-align:top'><td style='color:rgba(0,85,194);'><strong>&#10095; Info</strong></td><td>Model converged with mu = 0.108261 after 1.48 seconds.</td></tr></table>"
      ]
     },
     "metadata": {},
     "output_type": "display_data"
    },
    {
     "data": {
      "text/html": [
       "<table><tr style='text-align:left'><td style='vertical-align:top'><td style='color:rgba(0,85,194);'><strong>&#10095; Info</strong></td><td>Model converged with mu = 0.108572 after 1.61 seconds.</td></tr></table>"
      ]
     },
     "metadata": {},
     "output_type": "display_data"
    },
    {
     "data": {
      "text/html": [
       "<table><tr style='text-align:left'><td style='vertical-align:top'><td style='color:rgba(0,85,194);'><strong>&#10095; Info</strong></td><td>Model converged with mu = 0.10875 after 1.62 seconds.</td></tr></table>"
      ]
     },
     "metadata": {},
     "output_type": "display_data"
    },
    {
     "data": {
      "text/html": [
       "<table><tr style='text-align:left'><td style='vertical-align:top'><td style='color:rgba(0,85,194);'><strong>&#10095; Info</strong></td><td>Model converged with mu = 0.108794 after 1.81 seconds.</td></tr></table>"
      ]
     },
     "metadata": {},
     "output_type": "display_data"
    },
    {
     "data": {
      "text/html": [
       "<table><tr style='text-align:left'><td style='vertical-align:top'><td style='color:rgba(0,85,194);'><strong>&#10095; Info</strong></td><td>Model converged with mu = 0.108705 after 1.91 seconds.</td></tr></table>"
      ]
     },
     "metadata": {},
     "output_type": "display_data"
    },
    {
     "data": {
      "text/html": [
       "<table><tr style='text-align:left'><td style='vertical-align:top'><td style='color:rgba(0,85,194);'><strong>&#10095; Info</strong></td><td>Model converged with mu = 0.108482 after 1.91 seconds.</td></tr></table>"
      ]
     },
     "metadata": {},
     "output_type": "display_data"
    },
    {
     "data": {
      "text/html": [
       "<table><tr style='text-align:left'><td style='vertical-align:top'><td style='color:rgba(0,85,194);'><strong>&#10095; Info</strong></td><td>Model converged with mu = 0.108127 after 1.98 seconds.</td></tr></table>"
      ]
     },
     "metadata": {},
     "output_type": "display_data"
    },
    {
     "data": {
      "text/html": [
       "<table><tr style='text-align:left'><td style='vertical-align:top'><td style='color:rgba(0,85,194);'><strong>&#10095; Info</strong></td><td>Model converged with mu = 0.107641 after 2.00 seconds.</td></tr></table>"
      ]
     },
     "metadata": {},
     "output_type": "display_data"
    },
    {
     "data": {
      "text/html": [
       "<table><tr style='text-align:left'><td style='vertical-align:top'><td style='color:rgba(0,85,194);'><strong>&#10095; Info</strong></td><td>Model converged with mu = 0.107027 after 2.08 seconds.</td></tr></table>"
      ]
     },
     "metadata": {},
     "output_type": "display_data"
    },
    {
     "data": {
      "text/html": [
       "<table><tr style='text-align:left'><td style='vertical-align:top'><td style='color:rgba(0,85,194);'><strong>&#10095; Info</strong></td><td>Model converged with mu = 0.106287 after 2.08 seconds.</td></tr></table>"
      ]
     },
     "metadata": {},
     "output_type": "display_data"
    },
    {
     "data": {
      "text/html": [
       "<table><tr style='text-align:left'><td style='vertical-align:top'><td style='color:rgba(0,85,194);'><strong>&#10095; Info</strong></td><td>Model converged with mu = 0.105427 after 2.24 seconds.</td></tr></table>"
      ]
     },
     "metadata": {},
     "output_type": "display_data"
    },
    {
     "data": {
      "text/html": [
       "<table><tr style='text-align:left'><td style='vertical-align:top'><td style='color:rgba(0,85,194);'><strong>&#10095; Info</strong></td><td>Model converged with mu = 0.104448 after 2.28 seconds.</td></tr></table>"
      ]
     },
     "metadata": {},
     "output_type": "display_data"
    },
    {
     "data": {
      "text/html": [
       "<table><tr style='text-align:left'><td style='vertical-align:top'><td style='color:rgba(0,85,194);'><strong>&#10095; Info</strong></td><td>Model converged with mu = 0.103357 after 2.41 seconds.</td></tr></table>"
      ]
     },
     "metadata": {},
     "output_type": "display_data"
    },
    {
     "data": {
      "text/html": [
       "<table><tr style='text-align:left'><td style='vertical-align:top'><td style='color:rgba(0,85,194);'><strong>&#10095; Info</strong></td><td>Model converged with mu = 0.102158 after 2.48 seconds.</td></tr></table>"
      ]
     },
     "metadata": {},
     "output_type": "display_data"
    },
    {
     "data": {
      "text/html": [
       "<table><tr style='text-align:left'><td style='vertical-align:top'><td style='color:rgba(0,85,194);'><strong>&#10095; Info</strong></td><td>Model converged with mu = 0.100857 after 2.60 seconds.</td></tr></table>"
      ]
     },
     "metadata": {},
     "output_type": "display_data"
    },
    {
     "data": {
      "text/html": [
       "<table><tr style='text-align:left'><td style='vertical-align:top'><td style='color:rgba(0,85,194);'><strong>&#10095; Info</strong></td><td>Model converged with mu = 0.0994596 after 2.84 seconds.</td></tr></table>"
      ]
     },
     "metadata": {},
     "output_type": "display_data"
    },
    {
     "data": {
      "text/html": [
       "<table><tr style='text-align:left'><td style='vertical-align:top'><td style='color:rgba(0,85,194);'><strong>&#10095; Info</strong></td><td>Model converged with mu = 0.0979716 after 2.99 seconds.</td></tr></table>"
      ]
     },
     "metadata": {},
     "output_type": "display_data"
    },
    {
     "data": {
      "text/html": [
       "<table><tr style='text-align:left'><td style='vertical-align:top'><td style='color:rgba(0,85,194);'><strong>&#10095; Info</strong></td><td>Model converged with mu = 0.0963998 after 2.92 seconds.</td></tr></table>"
      ]
     },
     "metadata": {},
     "output_type": "display_data"
    },
    {
     "data": {
      "text/html": [
       "<table><tr style='text-align:left'><td style='vertical-align:top'><td style='color:rgba(0,85,194);'><strong>&#10095; Info</strong></td><td>Model converged with mu = 0.0947504 after 3.01 seconds.</td></tr></table>"
      ]
     },
     "metadata": {},
     "output_type": "display_data"
    },
    {
     "data": {
      "text/html": [
       "<table><tr style='text-align:left'><td style='vertical-align:top'><td style='color:rgba(0,85,194);'><strong>&#10095; Info</strong></td><td>Model converged with mu = 0.0930304 after 3.21 seconds.</td></tr></table>"
      ]
     },
     "metadata": {},
     "output_type": "display_data"
    },
    {
     "data": {
      "text/html": [
       "<table><tr style='text-align:left'><td style='vertical-align:top'><td style='color:rgba(0,85,194);'><strong>&#10095; Info</strong></td><td>Model converged with mu = 0.0912464 after 3.19 seconds.</td></tr></table>"
      ]
     },
     "metadata": {},
     "output_type": "display_data"
    },
    {
     "data": {
      "text/html": [
       "<table><tr style='text-align:left'><td style='vertical-align:top'><td style='color:rgba(0,85,194);'><strong>&#10095; Info</strong></td><td>Model converged with mu = 0.0894052 after 3.34 seconds.</td></tr></table>"
      ]
     },
     "metadata": {},
     "output_type": "display_data"
    },
    {
     "data": {
      "text/html": [
       "<table><tr style='text-align:left'><td style='vertical-align:top'><td style='color:rgba(0,85,194);'><strong>&#10095; Info</strong></td><td>Model converged with mu = 0.0875137 after 3.83 seconds.</td></tr></table>"
      ]
     },
     "metadata": {},
     "output_type": "display_data"
    },
    {
     "data": {
      "text/html": [
       "<table><tr style='text-align:left'><td style='vertical-align:top'><td style='color:rgba(0,85,194);'><strong>&#10095; Info</strong></td><td>Model converged with mu = 0.0855785 after 3.51 seconds.</td></tr></table>"
      ]
     },
     "metadata": {},
     "output_type": "display_data"
    },
    {
     "data": {
      "text/html": [
       "<table><tr style='text-align:left'><td style='vertical-align:top'><td style='color:rgba(0,85,194);'><strong>&#10095; Info</strong></td><td>Model converged with mu = 0.0836062 after 3.75 seconds.</td></tr></table>"
      ]
     },
     "metadata": {},
     "output_type": "display_data"
    },
    {
     "data": {
      "text/html": [
       "<table><tr style='text-align:left'><td style='vertical-align:top'><td style='color:rgba(0,85,194);'><strong>&#10095; Info</strong></td><td>Model converged with mu = 0.0816033 after 3.93 seconds.</td></tr></table>"
      ]
     },
     "metadata": {},
     "output_type": "display_data"
    },
    {
     "data": {
      "text/html": [
       "<table><tr style='text-align:left'><td style='vertical-align:top'><td style='color:rgba(0,85,194);'><strong>&#10095; Info</strong></td><td>Model converged with mu = 0.0795761 after 4.09 seconds.</td></tr></table>"
      ]
     },
     "metadata": {},
     "output_type": "display_data"
    },
    {
     "data": {
      "text/html": [
       "<table><tr style='text-align:left'><td style='vertical-align:top'><td style='color:rgba(0,85,194);'><strong>&#10095; Info</strong></td><td>Model converged with mu = 0.0775307 after 4.24 seconds.</td></tr></table>"
      ]
     },
     "metadata": {},
     "output_type": "display_data"
    },
    {
     "data": {
      "text/html": [
       "<table><tr style='text-align:left'><td style='vertical-align:top'><td style='color:rgba(0,85,194);'><strong>&#10095; Info</strong></td><td>Model converged with mu = 0.0754728 after 4.35 seconds.</td></tr></table>"
      ]
     },
     "metadata": {},
     "output_type": "display_data"
    },
    {
     "data": {
      "text/html": [
       "<table><tr style='text-align:left'><td style='vertical-align:top'><td style='color:rgba(0,85,194);'><strong>&#10095; Info</strong></td><td>Model converged with mu = 0.0734082 after 4.53 seconds.</td></tr></table>"
      ]
     },
     "metadata": {},
     "output_type": "display_data"
    },
    {
     "data": {
      "text/html": [
       "<table><tr style='text-align:left'><td style='vertical-align:top'><td style='color:rgba(0,85,194);'><strong>&#10095; Info</strong></td><td>Model converged with mu = 0.0713418 after 4.71 seconds.</td></tr></table>"
      ]
     },
     "metadata": {},
     "output_type": "display_data"
    },
    {
     "data": {
      "text/html": [
       "<table><tr style='text-align:left'><td style='vertical-align:top'><td style='color:rgba(0,85,194);'><strong>&#10095; Info</strong></td><td>Model converged with mu = 0.0692792 after 4.80 seconds.</td></tr></table>"
      ]
     },
     "metadata": {},
     "output_type": "display_data"
    },
    {
     "data": {
      "text/html": [
       "<table><tr style='text-align:left'><td style='vertical-align:top'><td style='color:rgba(0,85,194);'><strong>&#10095; Info</strong></td><td>Model converged with mu = 0.0672245 after 5.17 seconds.</td></tr></table>"
      ]
     },
     "metadata": {},
     "output_type": "display_data"
    },
    {
     "data": {
      "text/html": [
       "<table><tr style='text-align:left'><td style='vertical-align:top'><td style='color:rgba(0,85,194);'><strong>&#10095; Info</strong></td><td>Model converged with mu = 0.0651827 after 4.96 seconds.</td></tr></table>"
      ]
     },
     "metadata": {},
     "output_type": "display_data"
    },
    {
     "data": {
      "text/html": [
       "<table><tr style='text-align:left'><td style='vertical-align:top'><td style='color:rgba(0,85,194);'><strong>&#10095; Info</strong></td><td>Model converged with mu = 0.0631574 after 5.24 seconds.</td></tr></table>"
      ]
     },
     "metadata": {},
     "output_type": "display_data"
    },
    {
     "data": {
      "text/html": [
       "<table><tr style='text-align:left'><td style='vertical-align:top'><td style='color:rgba(0,85,194);'><strong>&#10095; Info</strong></td><td>Model converged with mu = 0.0611524 after 5.31 seconds.</td></tr></table>"
      ]
     },
     "metadata": {},
     "output_type": "display_data"
    },
    {
     "data": {
      "text/html": [
       "<table><tr style='text-align:left'><td style='vertical-align:top'><td style='color:rgba(0,85,194);'><strong>&#10095; Info</strong></td><td>Model converged with mu = 0.0591714 after 5.43 seconds.</td></tr></table>"
      ]
     },
     "metadata": {},
     "output_type": "display_data"
    },
    {
     "data": {
      "text/html": [
       "<table><tr style='text-align:left'><td style='vertical-align:top'><td style='color:rgba(0,85,194);'><strong>&#10095; Info</strong></td><td>Model converged with mu = 0.0572173 after 5.60 seconds.</td></tr></table>"
      ]
     },
     "metadata": {},
     "output_type": "display_data"
    },
    {
     "data": {
      "text/html": [
       "<table><tr style='text-align:left'><td style='vertical-align:top'><td style='color:rgba(0,85,194);'><strong>&#10095; Info</strong></td><td>Model converged with mu = 0.055293 after 5.79 seconds.</td></tr></table>"
      ]
     },
     "metadata": {},
     "output_type": "display_data"
    },
    {
     "data": {
      "text/html": [
       "<table><tr style='text-align:left'><td style='vertical-align:top'><td style='color:rgba(0,85,194);'><strong>&#10095; Info</strong></td><td>Model converged with mu = 0.0534011 after 6.20 seconds.</td></tr></table>"
      ]
     },
     "metadata": {},
     "output_type": "display_data"
    },
    {
     "data": {
      "text/html": [
       "<table><tr style='text-align:left'><td style='vertical-align:top'><td style='color:rgba(0,85,194);'><strong>&#10095; Info</strong></td><td>Model converged with mu = 0.0515439 after 6.20 seconds.</td></tr></table>"
      ]
     },
     "metadata": {},
     "output_type": "display_data"
    },
    {
     "data": {
      "text/html": [
       "<table><tr style='text-align:left'><td style='vertical-align:top'><td style='color:rgba(0,85,194);'><strong>&#10095; Info</strong></td><td>Model converged with mu = 0.0497231 after 6.99 seconds.</td></tr></table>"
      ]
     },
     "metadata": {},
     "output_type": "display_data"
    },
    {
     "data": {
      "text/html": [
       "<table><tr style='text-align:left'><td style='vertical-align:top'><td style='color:rgba(0,85,194);'><strong>&#10095; Info</strong></td><td>Model converged with mu = 0.0479406 after 6.80 seconds.</td></tr></table>"
      ]
     },
     "metadata": {},
     "output_type": "display_data"
    },
    {
     "data": {
      "text/html": [
       "<table><tr style='text-align:left'><td style='vertical-align:top'><td style='color:rgba(0,85,194);'><strong>&#10095; Info</strong></td><td>Model converged with mu = 0.0461977 after 7.20 seconds.</td></tr></table>"
      ]
     },
     "metadata": {},
     "output_type": "display_data"
    },
    {
     "data": {
      "text/html": [
       "<table><tr style='text-align:left'><td style='vertical-align:top'><td style='color:rgba(0,85,194);'><strong>&#10095; Info</strong></td><td>Model converged with mu = 0.0444958 after 7.25 seconds.</td></tr></table>"
      ]
     },
     "metadata": {},
     "output_type": "display_data"
    },
    {
     "data": {
      "text/html": [
       "<table><tr style='text-align:left'><td style='vertical-align:top'><td style='color:rgba(0,85,194);'><strong>&#10095; Info</strong></td><td>Model converged with mu = 0.0428356 after 7.51 seconds.</td></tr></table>"
      ]
     },
     "metadata": {},
     "output_type": "display_data"
    },
    {
     "data": {
      "text/html": [
       "<table><tr style='text-align:left'><td style='vertical-align:top'><td style='color:rgba(0,85,194);'><strong>&#10095; Info</strong></td><td>Model converged with mu = 0.0412179 after 10.54 seconds.</td></tr></table>"
      ]
     },
     "metadata": {},
     "output_type": "display_data"
    },
    {
     "data": {
      "text/html": [
       "<table><tr style='text-align:left'><td style='vertical-align:top'><td style='color:rgba(0,85,194);'><strong>&#10095; Info</strong></td><td>Model converged with mu = 0.0396432 after 7.74 seconds.</td></tr></table>"
      ]
     },
     "metadata": {},
     "output_type": "display_data"
    },
    {
     "data": {
      "text/html": [
       "<table><tr style='text-align:left'><td style='vertical-align:top'><td style='color:rgba(0,85,194);'><strong>&#10095; Info</strong></td><td>Model converged with mu = 0.0381113 after 8.04 seconds.</td></tr></table>"
      ]
     },
     "metadata": {},
     "output_type": "display_data"
    },
    {
     "data": {
      "text/html": [
       "<table><tr style='text-align:left'><td style='vertical-align:top'><td style='color:rgba(0,85,194);'><strong>&#10095; Info</strong></td><td>Model converged with mu = 0.0366221 after 8.91 seconds.</td></tr></table>"
      ]
     },
     "metadata": {},
     "output_type": "display_data"
    },
    {
     "data": {
      "text/html": [
       "<table><tr style='text-align:left'><td style='vertical-align:top'><td style='color:rgba(0,85,194);'><strong>&#10095; Info</strong></td><td>Model converged with mu = 0.0351705 after 8.46 seconds.</td></tr></table>"
      ]
     },
     "metadata": {},
     "output_type": "display_data"
    },
    {
     "data": {
      "text/html": [
       "<table><tr style='text-align:left'><td style='vertical-align:top'><td style='color:rgba(0,85,194);'><strong>&#10095; Info</strong></td><td>Model converged with mu = 0.0337369 after 7.88 seconds.</td></tr></table>"
      ]
     },
     "metadata": {},
     "output_type": "display_data"
    },
    {
     "data": {
      "text/html": [
       "<table><tr style='text-align:left'><td style='vertical-align:top'><td style='color:rgba(0,85,194);'><strong>&#10095; Info</strong></td><td>Model converged with mu = 0.0323157 after 7.16 seconds.</td></tr></table>"
      ]
     },
     "metadata": {},
     "output_type": "display_data"
    },
    {
     "data": {
      "text/html": [
       "<table><tr style='text-align:left'><td style='vertical-align:top'><td style='color:rgba(0,85,194);'><strong>&#10095; Info</strong></td><td>Model converged with mu = 0.0309273 after 6.21 seconds.</td></tr></table>"
      ]
     },
     "metadata": {},
     "output_type": "display_data"
    },
    {
     "data": {
      "text/html": [
       "<table><tr style='text-align:left'><td style='vertical-align:top'><td style='color:rgba(0,85,194);'><strong>&#10095; Info</strong></td><td>Model converged with mu = 0.0295855 after 5.29 seconds.</td></tr></table>"
      ]
     },
     "metadata": {},
     "output_type": "display_data"
    },
    {
     "data": {
      "text/html": [
       "<table><tr style='text-align:left'><td style='vertical-align:top'><td style='color:rgba(0,85,194);'><strong>&#10095; Info</strong></td><td>Model converged with mu = 0.0282891 after 4.18 seconds.</td></tr></table>"
      ]
     },
     "metadata": {},
     "output_type": "display_data"
    },
    {
     "data": {
      "text/html": [
       "<table><tr style='text-align:left'><td style='vertical-align:top'><td style='color:rgba(0,85,194);'><strong>&#10095; Info</strong></td><td>Model converged with mu = 0.0270407 after 3.22 seconds.</td></tr></table>"
      ]
     },
     "metadata": {},
     "output_type": "display_data"
    },
    {
     "data": {
      "text/html": [
       "<table><tr style='text-align:left'><td style='vertical-align:top'><td style='color:rgba(0,85,194);'><strong>&#10095; Info</strong></td><td>Model converged with mu = 0.0258367 after 2.20 seconds.</td></tr></table>"
      ]
     },
     "metadata": {},
     "output_type": "display_data"
    },
    {
     "data": {
      "text/html": [
       "<table><tr style='text-align:left'><td style='vertical-align:top'><td style='color:rgba(0,85,194);'><strong>&#10095; Info</strong></td><td>Model converged with mu = 0.0246776 after 1.14 seconds.</td></tr></table>"
      ]
     },
     "metadata": {},
     "output_type": "display_data"
    },
    {
     "data": {
      "text/html": [
       "<table><tr style='text-align:left'><td style='vertical-align:top'><td style='color:rgba(0,85,194);'><strong>&#10095; Info</strong></td><td>Model converged with mu = 0.0235812 after 0.35 seconds.</td></tr></table>"
      ]
     },
     "metadata": {},
     "output_type": "display_data"
    },
    {
     "data": {
      "text/html": [
       "<table><tr style='text-align:left'><td style='vertical-align:top'><td style='color:rgba(0,85,194);'><strong>&#10095; Info</strong></td><td>Model converged with mu = 0.0225718 after 0.22 seconds.</td></tr></table>"
      ]
     },
     "metadata": {},
     "output_type": "display_data"
    },
    {
     "data": {
      "text/html": [
       "<table><tr style='text-align:left'><td style='vertical-align:top'><td style='color:rgba(0,85,194);'><strong>&#10095; Info</strong></td><td>Model converged with mu = 0.0216073 after 0.17 seconds.</td></tr></table>"
      ]
     },
     "metadata": {},
     "output_type": "display_data"
    },
    {
     "data": {
      "text/html": [
       "<table><tr style='text-align:left'><td style='vertical-align:top'><td style='color:rgba(0,85,194);'><strong>&#10095; Info</strong></td><td>Model converged with mu = 0.0206801 after 0.15 seconds.</td></tr></table>"
      ]
     },
     "metadata": {},
     "output_type": "display_data"
    },
    {
     "data": {
      "text/html": [
       "<table><tr style='text-align:left'><td style='vertical-align:top'><td style='color:rgba(0,85,194);'><strong>&#10095; Info</strong></td><td>Model converged with mu = 0.019789 after 0.14 seconds.</td></tr></table>"
      ]
     },
     "metadata": {},
     "output_type": "display_data"
    },
    {
     "data": {
      "text/html": [
       "<table><tr style='text-align:left'><td style='vertical-align:top'><td style='color:rgba(0,85,194);'><strong>&#10095; Info</strong></td><td>Model converged with mu = 0.0189325 after 0.14 seconds.</td></tr></table>"
      ]
     },
     "metadata": {},
     "output_type": "display_data"
    },
    {
     "data": {
      "text/html": [
       "<table><tr style='text-align:left'><td style='vertical-align:top'><td style='color:rgba(0,85,194);'><strong>&#10095; Info</strong></td><td>Model converged with mu = 0.0181094 after 0.14 seconds.</td></tr></table>"
      ]
     },
     "metadata": {},
     "output_type": "display_data"
    },
    {
     "data": {
      "text/html": [
       "<table><tr style='text-align:left'><td style='vertical-align:top'><td style='color:rgba(0,85,194);'><strong>&#10095; Info</strong></td><td>Model converged with mu = 0.0173186 after 0.13 seconds.</td></tr></table>"
      ]
     },
     "metadata": {},
     "output_type": "display_data"
    },
    {
     "data": {
      "text/html": [
       "<table><tr style='text-align:left'><td style='vertical-align:top'><td style='color:rgba(0,85,194);'><strong>&#10095; Info</strong></td><td>Model converged with mu = 0.0165593 after 0.13 seconds.</td></tr></table>"
      ]
     },
     "metadata": {},
     "output_type": "display_data"
    },
    {
     "data": {
      "text/html": [
       "<table><tr style='text-align:left'><td style='vertical-align:top'><td style='color:rgba(0,85,194);'><strong>&#10095; Info</strong></td><td>Model converged with mu = 0.0158304 after 0.13 seconds.</td></tr></table>"
      ]
     },
     "metadata": {},
     "output_type": "display_data"
    },
    {
     "data": {
      "text/html": [
       "<table><tr style='text-align:left'><td style='vertical-align:top'><td style='color:rgba(0,85,194);'><strong>&#10095; Info</strong></td><td>Model converged with mu = 0.015131 after 0.14 seconds.</td></tr></table>"
      ]
     },
     "metadata": {},
     "output_type": "display_data"
    },
    {
     "data": {
      "text/html": [
       "<table><tr style='text-align:left'><td style='vertical-align:top'><td style='color:rgba(0,85,194);'><strong>&#10095; Info</strong></td><td>Model converged with mu = 0.0144601 after 0.14 seconds.</td></tr></table>"
      ]
     },
     "metadata": {},
     "output_type": "display_data"
    },
    {
     "data": {
      "text/html": [
       "<table><tr style='text-align:left'><td style='vertical-align:top'><td style='color:rgba(0,85,194);'><strong>&#10095; Info</strong></td><td>Model converged with mu = 0.0138168 after 0.14 seconds.</td></tr></table>"
      ]
     },
     "metadata": {},
     "output_type": "display_data"
    },
    {
     "data": {
      "text/html": [
       "<table><tr style='text-align:left'><td style='vertical-align:top'><td style='color:rgba(0,85,194);'><strong>&#10095; Info</strong></td><td>Model converged with mu = 0.0132001 after 0.15 seconds.</td></tr></table>"
      ]
     },
     "metadata": {},
     "output_type": "display_data"
    },
    {
     "data": {
      "text/html": [
       "<table><tr style='text-align:left'><td style='vertical-align:top'><td style='color:rgba(0,85,194);'><strong>&#10095; Info</strong></td><td>Model converged with mu = 0.0126091 after 0.14 seconds.</td></tr></table>"
      ]
     },
     "metadata": {},
     "output_type": "display_data"
    },
    {
     "data": {
      "text/html": [
       "<table><tr style='text-align:left'><td style='vertical-align:top'><td style='color:rgba(0,85,194);'><strong>&#10095; Info</strong></td><td>Model converged with mu = 0.0120429 after 0.15 seconds.</td></tr></table>"
      ]
     },
     "metadata": {},
     "output_type": "display_data"
    },
    {
     "data": {
      "text/html": [
       "<table><tr style='text-align:left'><td style='vertical-align:top'><td style='color:rgba(0,85,194);'><strong>&#10095; Info</strong></td><td>Model converged with mu = 0.0115006 after 0.15 seconds.</td></tr></table>"
      ]
     },
     "metadata": {},
     "output_type": "display_data"
    },
    {
     "data": {
      "text/html": [
       "<table><tr style='text-align:left'><td style='vertical-align:top'><td style='color:rgba(0,85,194);'><strong>&#10095; Info</strong></td><td>Model converged with mu = 0.0109813 after 0.16 seconds.</td></tr></table>"
      ]
     },
     "metadata": {},
     "output_type": "display_data"
    },
    {
     "data": {
      "text/html": [
       "<table><tr style='text-align:left'><td style='vertical-align:top'><td style='color:rgba(0,85,194);'><strong>&#10095; Info</strong></td><td>Model converged with mu = 0.0104842 after 0.16 seconds.</td></tr></table>"
      ]
     },
     "metadata": {},
     "output_type": "display_data"
    },
    {
     "data": {
      "text/html": [
       "<table><tr style='text-align:left'><td style='vertical-align:top'><td style='color:rgba(0,85,194);'><strong>&#10095; Info</strong></td><td>Model converged with mu = 0.0100085 after 0.17 seconds.</td></tr></table>"
      ]
     },
     "metadata": {},
     "output_type": "display_data"
    },
    {
     "data": {
      "text/html": [
       "<table><tr style='text-align:left'><td style='vertical-align:top'><td style='color:rgba(0,85,194);'><strong>&#10095; Info</strong></td><td>Model converged with mu = 0.00955332 after 0.16 seconds.</td></tr></table>"
      ]
     },
     "metadata": {},
     "output_type": "display_data"
    },
    {
     "data": {
      "text/html": [
       "<table><tr style='text-align:left'><td style='vertical-align:top'><td style='color:rgba(0,85,194);'><strong>&#10095; Info</strong></td><td>Model converged with mu = 0.00911788 after 0.17 seconds.</td></tr></table>"
      ]
     },
     "metadata": {},
     "output_type": "display_data"
    },
    {
     "data": {
      "text/html": [
       "<table><tr style='text-align:left'><td style='vertical-align:top'><td style='color:rgba(0,85,194);'><strong>&#10095; Info</strong></td><td>Model converged with mu = 0.00870142 after 0.17 seconds.</td></tr></table>"
      ]
     },
     "metadata": {},
     "output_type": "display_data"
    },
    {
     "data": {
      "text/html": [
       "<table><tr style='text-align:left'><td style='vertical-align:top'><td style='color:rgba(0,85,194);'><strong>&#10095; Info</strong></td><td>Model converged with mu = 0.00830319 after 0.17 seconds.</td></tr></table>"
      ]
     },
     "metadata": {},
     "output_type": "display_data"
    },
    {
     "data": {
      "text/html": [
       "<table><tr style='text-align:left'><td style='vertical-align:top'><td style='color:rgba(0,85,194);'><strong>&#10095; Info</strong></td><td>Model converged with mu = 0.00792247 after 0.18 seconds.</td></tr></table>"
      ]
     },
     "metadata": {},
     "output_type": "display_data"
    },
    {
     "data": {
      "text/html": [
       "<table><tr style='text-align:left'><td style='vertical-align:top'><td style='color:rgba(0,85,194);'><strong>&#10095; Info</strong></td><td>Model converged with mu = 0.00755854 after 0.19 seconds.</td></tr></table>"
      ]
     },
     "metadata": {},
     "output_type": "display_data"
    },
    {
     "data": {
      "text/html": [
       "<table><tr style='text-align:left'><td style='vertical-align:top'><td style='color:rgba(0,85,194);'><strong>&#10095; Info</strong></td><td>Model converged with mu = 0.00721074 after 0.19 seconds.</td></tr></table>"
      ]
     },
     "metadata": {},
     "output_type": "display_data"
    },
    {
     "data": {
      "text/html": [
       "<table><tr style='text-align:left'><td style='vertical-align:top'><td style='color:rgba(0,85,194);'><strong>&#10095; Info</strong></td><td>Model converged with mu = 0.0068784 after 0.19 seconds.</td></tr></table>"
      ]
     },
     "metadata": {},
     "output_type": "display_data"
    },
    {
     "data": {
      "text/html": [
       "<table><tr style='text-align:left'><td style='vertical-align:top'><td style='color:rgba(0,85,194);'><strong>&#10095; Info</strong></td><td>Model converged with mu = 0.00656088 after 0.21 seconds.</td></tr></table>"
      ]
     },
     "metadata": {},
     "output_type": "display_data"
    },
    {
     "data": {
      "text/html": [
       "<table><tr style='text-align:left'><td style='vertical-align:top'><td style='color:rgba(0,85,194);'><strong>&#10095; Info</strong></td><td>Model converged with mu = 0.00625756 after 0.20 seconds.</td></tr></table>"
      ]
     },
     "metadata": {},
     "output_type": "display_data"
    },
    {
     "data": {
      "text/html": [
       "<table><tr style='text-align:left'><td style='vertical-align:top'><td style='color:rgba(0,85,194);'><strong>&#10095; Info</strong></td><td>Model converged with mu = 0.00596787 after 0.21 seconds.</td></tr></table>"
      ]
     },
     "metadata": {},
     "output_type": "display_data"
    },
    {
     "data": {
      "text/html": [
       "<table><tr style='text-align:left'><td style='vertical-align:top'><td style='color:rgba(0,85,194);'><strong>&#10095; Info</strong></td><td>Model converged with mu = 0.00569121 after 0.21 seconds.</td></tr></table>"
      ]
     },
     "metadata": {},
     "output_type": "display_data"
    },
    {
     "data": {
      "text/html": [
       "<table><tr style='text-align:left'><td style='vertical-align:top'><td style='color:rgba(0,85,194);'><strong>&#10095; Info</strong></td><td>Model converged with mu = 0.00542704 after 0.22 seconds.</td></tr></table>"
      ]
     },
     "metadata": {},
     "output_type": "display_data"
    },
    {
     "data": {
      "text/html": [
       "<table><tr style='text-align:left'><td style='vertical-align:top'><td style='color:rgba(0,85,194);'><strong>&#10095; Info</strong></td><td>Model converged with mu = 0.00517482 after 0.22 seconds.</td></tr></table>"
      ]
     },
     "metadata": {},
     "output_type": "display_data"
    },
    {
     "data": {
      "text/html": [
       "<table><tr style='text-align:left'><td style='vertical-align:top'><td style='color:rgba(0,85,194);'><strong>&#10095; Info</strong></td><td>Model converged with mu = 0.00493405 after 0.23 seconds.</td></tr></table>"
      ]
     },
     "metadata": {},
     "output_type": "display_data"
    },
    {
     "data": {
      "text/html": [
       "<table><tr style='text-align:left'><td style='vertical-align:top'><td style='color:rgba(0,85,194);'><strong>&#10095; Info</strong></td><td>Model converged with mu = 0.00470422 after 0.23 seconds.</td></tr></table>"
      ]
     },
     "metadata": {},
     "output_type": "display_data"
    },
    {
     "data": {
      "text/html": [
       "<table><tr style='text-align:left'><td style='vertical-align:top'><td style='color:rgba(0,85,194);'><strong>&#10095; Info</strong></td><td>Model converged with mu = 0.00448488 after 0.24 seconds.</td></tr></table>"
      ]
     },
     "metadata": {},
     "output_type": "display_data"
    },
    {
     "data": {
      "text/html": [
       "<table><tr style='text-align:left'><td style='vertical-align:top'><td style='color:rgba(0,85,194);'><strong>&#10095; Info</strong></td><td>Model converged with mu = 0.00427554 after 0.24 seconds.</td></tr></table>"
      ]
     },
     "metadata": {},
     "output_type": "display_data"
    },
    {
     "data": {
      "text/html": [
       "<table><tr style='text-align:left'><td style='vertical-align:top'><td style='color:rgba(0,85,194);'><strong>&#10095; Info</strong></td><td>Model converged with mu = 0.00407579 after 0.25 seconds.</td></tr></table>"
      ]
     },
     "metadata": {},
     "output_type": "display_data"
    },
    {
     "data": {
      "text/html": [
       "<table><tr style='text-align:left'><td style='vertical-align:top'><td style='color:rgba(0,85,194);'><strong>&#10095; Info</strong></td><td>Model converged with mu = 0.0038852 after 0.26 seconds.</td></tr></table>"
      ]
     },
     "metadata": {},
     "output_type": "display_data"
    },
    {
     "data": {
      "text/html": [
       "<table><tr style='text-align:left'><td style='vertical-align:top'><td style='color:rgba(0,85,194);'><strong>&#10095; Info</strong></td><td>Model converged with mu = 0.00370336 after 0.26 seconds.</td></tr></table>"
      ]
     },
     "metadata": {},
     "output_type": "display_data"
    },
    {
     "data": {
      "text/html": [
       "<table><tr style='text-align:left'><td style='vertical-align:top'><td style='color:rgba(0,85,194);'><strong>&#10095; Info</strong></td><td>Model converged with mu = 0.00352989 after 0.28 seconds.</td></tr></table>"
      ]
     },
     "metadata": {},
     "output_type": "display_data"
    },
    {
     "data": {
      "text/html": [
       "<table><tr style='text-align:left'><td style='vertical-align:top'><td style='color:rgba(0,85,194);'><strong>&#10095; Info</strong></td><td>Model converged with mu = 0.00336442 after 0.28 seconds.</td></tr></table>"
      ]
     },
     "metadata": {},
     "output_type": "display_data"
    },
    {
     "data": {
      "text/html": [
       "<table><tr style='text-align:left'><td style='vertical-align:top'><td style='color:rgba(0,85,194);'><strong>&#10095; Info</strong></td><td>Model converged with mu = 0.00320658 after 0.29 seconds.</td></tr></table>"
      ]
     },
     "metadata": {},
     "output_type": "display_data"
    },
    {
     "data": {
      "text/html": [
       "<table><tr style='text-align:left'><td style='vertical-align:top'><td style='color:rgba(0,85,194);'><strong>&#10095; Info</strong></td><td>Model converged with mu = 0.00305605 after 0.29 seconds.</td></tr></table>"
      ]
     },
     "metadata": {},
     "output_type": "display_data"
    },
    {
     "data": {
      "text/html": [
       "<table><tr style='text-align:left'><td style='vertical-align:top'><td style='color:rgba(0,85,194);'><strong>&#10095; Info</strong></td><td>Model converged with mu = 0.00291248 after 0.29 seconds.</td></tr></table>"
      ]
     },
     "metadata": {},
     "output_type": "display_data"
    },
    {
     "data": {
      "text/html": [
       "<table><tr style='text-align:left'><td style='vertical-align:top'><td style='color:rgba(0,85,194);'><strong>&#10095; Info</strong></td><td>Model converged with mu = 0.00277557 after 0.30 seconds.</td></tr></table>"
      ]
     },
     "metadata": {},
     "output_type": "display_data"
    },
    {
     "data": {
      "text/html": [
       "<table><tr style='text-align:left'><td style='vertical-align:top'><td style='color:rgba(0,85,194);'><strong>&#10095; Info</strong></td><td>Model converged with mu = 0.00264501 after 0.31 seconds.</td></tr></table>"
      ]
     },
     "metadata": {},
     "output_type": "display_data"
    },
    {
     "data": {
      "text/html": [
       "<table><tr style='text-align:left'><td style='vertical-align:top'><td style='color:rgba(0,85,194);'><strong>&#10095; Info</strong></td><td>Model converged with mu = 0.00252052 after 0.33 seconds.</td></tr></table>"
      ]
     },
     "metadata": {},
     "output_type": "display_data"
    },
    {
     "data": {
      "text/html": [
       "<table><tr style='text-align:left'><td style='vertical-align:top'><td style='color:rgba(0,85,194);'><strong>&#10095; Info</strong></td><td>Model converged with mu = 0.00240183 after 0.32 seconds.</td></tr></table>"
      ]
     },
     "metadata": {},
     "output_type": "display_data"
    },
    {
     "data": {
      "text/html": [
       "<table><tr style='text-align:left'><td style='vertical-align:top'><td style='color:rgba(0,85,194);'><strong>&#10095; Info</strong></td><td>Model converged with mu = 0.00228866 after 0.33 seconds.</td></tr></table>"
      ]
     },
     "metadata": {},
     "output_type": "display_data"
    },
    {
     "data": {
      "text/html": [
       "<table><tr style='text-align:left'><td style='vertical-align:top'><td style='color:rgba(0,85,194);'><strong>&#10095; Info</strong></td><td>Model converged with mu = 0.00218078 after 0.33 seconds.</td></tr></table>"
      ]
     },
     "metadata": {},
     "output_type": "display_data"
    },
    {
     "data": {
      "text/html": [
       "<table><tr style='text-align:left'><td style='vertical-align:top'><td style='color:rgba(0,85,194);'><strong>&#10095; Info</strong></td><td>Model converged with mu = 0.00207792 after 0.34 seconds.</td></tr></table>"
      ]
     },
     "metadata": {},
     "output_type": "display_data"
    },
    {
     "data": {
      "text/html": [
       "<table><tr style='text-align:left'><td style='vertical-align:top'><td style='color:rgba(0,85,194);'><strong>&#10095; Info</strong></td><td>Model converged with mu = 0.00197988 after 0.34 seconds.</td></tr></table>"
      ]
     },
     "metadata": {},
     "output_type": "display_data"
    },
    {
     "data": {
      "text/html": [
       "<table><tr style='text-align:left'><td style='vertical-align:top'><td style='color:rgba(0,85,194);'><strong>&#10095; Info</strong></td><td>Model converged with mu = 0.00188642 after 0.37 seconds.</td></tr></table>"
      ]
     },
     "metadata": {},
     "output_type": "display_data"
    },
    {
     "data": {
      "text/html": [
       "<table><tr style='text-align:left'><td style='vertical-align:top'><td style='color:rgba(0,85,194);'><strong>&#10095; Info</strong></td><td>Model converged with mu = 0.00179733 after 0.37 seconds.</td></tr></table>"
      ]
     },
     "metadata": {},
     "output_type": "display_data"
    },
    {
     "data": {
      "text/html": [
       "<table><tr style='text-align:left'><td style='vertical-align:top'><td style='color:rgba(0,85,194);'><strong>&#10095; Info</strong></td><td>Model converged with mu = 0.00171242 after 0.38 seconds.</td></tr></table>"
      ]
     },
     "metadata": {},
     "output_type": "display_data"
    },
    {
     "data": {
      "text/html": [
       "<table><tr style='text-align:left'><td style='vertical-align:top'><td style='color:rgba(0,85,194);'><strong>&#10095; Info</strong></td><td>Model converged with mu = 0.00163149 after 0.39 seconds.</td></tr></table>"
      ]
     },
     "metadata": {},
     "output_type": "display_data"
    },
    {
     "data": {
      "text/html": [
       "<table><tr style='text-align:left'><td style='vertical-align:top'><td style='color:rgba(0,85,194);'><strong>&#10095; Info</strong></td><td>Model converged with mu = 0.00155436 after 0.39 seconds.</td></tr></table>"
      ]
     },
     "metadata": {},
     "output_type": "display_data"
    },
    {
     "data": {
      "text/html": [
       "<table><tr style='text-align:left'><td style='vertical-align:top'><td style='color:rgba(0,85,194);'><strong>&#10095; Info</strong></td><td>Model converged with mu = 0.00148084 after 0.41 seconds.</td></tr></table>"
      ]
     },
     "metadata": {},
     "output_type": "display_data"
    },
    {
     "data": {
      "text/html": [
       "<table><tr style='text-align:left'><td style='vertical-align:top'><td style='color:rgba(0,85,194);'><strong>&#10095; Info</strong></td><td>Model converged with mu = 0.00141079 after 0.41 seconds.</td></tr></table>"
      ]
     },
     "metadata": {},
     "output_type": "display_data"
    },
    {
     "data": {
      "text/html": [
       "<table><tr style='text-align:left'><td style='vertical-align:top'><td style='color:rgba(0,85,194);'><strong>&#10095; Info</strong></td><td>Model converged with mu = 0.00134402 after 0.42 seconds.</td></tr></table>"
      ]
     },
     "metadata": {},
     "output_type": "display_data"
    },
    {
     "data": {
      "text/html": [
       "<table><tr style='text-align:left'><td style='vertical-align:top'><td style='color:rgba(0,85,194);'><strong>&#10095; Info</strong></td><td>Model converged with mu = 0.0012804 after 0.43 seconds.</td></tr></table>"
      ]
     },
     "metadata": {},
     "output_type": "display_data"
    },
    {
     "data": {
      "text/html": [
       "<table><tr style='text-align:left'><td style='vertical-align:top'><td style='color:rgba(0,85,194);'><strong>&#10095; Info</strong></td><td>Model converged with mu = 0.00121977 after 0.46 seconds.</td></tr></table>"
      ]
     },
     "metadata": {},
     "output_type": "display_data"
    },
    {
     "data": {
      "text/html": [
       "<table><tr style='text-align:left'><td style='vertical-align:top'><td style='color:rgba(0,85,194);'><strong>&#10095; Info</strong></td><td>Model converged with mu = 0.00116199 after 0.45 seconds.</td></tr></table>"
      ]
     },
     "metadata": {},
     "output_type": "display_data"
    },
    {
     "data": {
      "text/html": [
       "<table><tr style='text-align:left'><td style='vertical-align:top'><td style='color:rgba(0,85,194);'><strong>&#10095; Info</strong></td><td>Model converged with mu = 0.00110694 after 0.47 seconds.</td></tr></table>"
      ]
     },
     "metadata": {},
     "output_type": "display_data"
    },
    {
     "data": {
      "text/html": [
       "<table><tr style='text-align:left'><td style='vertical-align:top'><td style='color:rgba(0,85,194);'><strong>&#10095; Info</strong></td><td>Model converged with mu = 0.00105449 after 0.51 seconds.</td></tr></table>"
      ]
     },
     "metadata": {},
     "output_type": "display_data"
    },
    {
     "data": {
      "text/html": [
       "<table><tr style='text-align:left'><td style='vertical-align:top'><td style='color:rgba(0,85,194);'><strong>&#10095; Info</strong></td><td>Model converged with mu = 0.00100451 after 0.49 seconds.</td></tr></table>"
      ]
     },
     "metadata": {},
     "output_type": "display_data"
    },
    {
     "data": {
      "text/html": [
       "<table><tr style='text-align:left'><td style='vertical-align:top'><td style='color:rgba(0,85,194);'><strong>&#10095; Info</strong></td><td>Model converged with mu = 0.000956883 after 0.50 seconds.</td></tr></table>"
      ]
     },
     "metadata": {},
     "output_type": "display_data"
    },
    {
     "data": {
      "text/html": [
       "<table><tr style='text-align:left'><td style='vertical-align:top'><td style='color:rgba(0,85,194);'><strong>&#10095; Info</strong></td><td>Model converged with mu = 0.000911508 after 0.51 seconds.</td></tr></table>"
      ]
     },
     "metadata": {},
     "output_type": "display_data"
    },
    {
     "data": {
      "text/html": [
       "<table><tr style='text-align:left'><td style='vertical-align:top'><td style='color:rgba(0,85,194);'><strong>&#10095; Info</strong></td><td>Model converged with mu = 0.000868277 after 0.53 seconds.</td></tr></table>"
      ]
     },
     "metadata": {},
     "output_type": "display_data"
    },
    {
     "data": {
      "text/html": [
       "<table><tr style='text-align:left'><td style='vertical-align:top'><td style='color:rgba(0,85,194);'><strong>&#10095; Info</strong></td><td>Model converged with mu = 0.000827087 after 0.56 seconds.</td></tr></table>"
      ]
     },
     "metadata": {},
     "output_type": "display_data"
    },
    {
     "data": {
      "text/html": [
       "<table><tr style='text-align:left'><td style='vertical-align:top'><td style='color:rgba(0,85,194);'><strong>&#10095; Info</strong></td><td>Model converged with mu = 0.000787845 after 0.55 seconds.</td></tr></table>"
      ]
     },
     "metadata": {},
     "output_type": "display_data"
    },
    {
     "data": {
      "text/html": [
       "<table><tr style='text-align:left'><td style='vertical-align:top'><td style='color:rgba(0,85,194);'><strong>&#10095; Info</strong></td><td>Model converged with mu = 0.000750458 after 0.57 seconds.</td></tr></table>"
      ]
     },
     "metadata": {},
     "output_type": "display_data"
    },
    {
     "data": {
      "text/html": [
       "<table><tr style='text-align:left'><td style='vertical-align:top'><td style='color:rgba(0,85,194);'><strong>&#10095; Info</strong></td><td>Model converged with mu = 0.000714839 after 0.58 seconds.</td></tr></table>"
      ]
     },
     "metadata": {},
     "output_type": "display_data"
    },
    {
     "data": {
      "text/html": [
       "<table><tr style='text-align:left'><td style='vertical-align:top'><td style='color:rgba(0,85,194);'><strong>&#10095; Info</strong></td><td>Model converged with mu = 0.000680906 after 0.61 seconds.</td></tr></table>"
      ]
     },
     "metadata": {},
     "output_type": "display_data"
    },
    {
     "data": {
      "text/html": [
       "<table><tr style='text-align:left'><td style='vertical-align:top'><td style='color:rgba(0,85,194);'><strong>&#10095; Info</strong></td><td>Model converged with mu = 0.000648579 after 0.60 seconds.</td></tr></table>"
      ]
     },
     "metadata": {},
     "output_type": "display_data"
    },
    {
     "data": {
      "text/html": [
       "<table><tr style='text-align:left'><td style='vertical-align:top'><td style='color:rgba(0,85,194);'><strong>&#10095; Info</strong></td><td>Model converged with mu = 0.000617781 after 0.62 seconds.</td></tr></table>"
      ]
     },
     "metadata": {},
     "output_type": "display_data"
    },
    {
     "data": {
      "text/html": [
       "<table><tr style='text-align:left'><td style='vertical-align:top'><td style='color:rgba(0,85,194);'><strong>&#10095; Info</strong></td><td>Model converged with mu = 0.00058844 after 0.61 seconds.</td></tr></table>"
      ]
     },
     "metadata": {},
     "output_type": "display_data"
    },
    {
     "data": {
      "text/html": [
       "<table><tr style='text-align:left'><td style='vertical-align:top'><td style='color:rgba(0,85,194);'><strong>&#10095; Info</strong></td><td>Model converged with mu = 0.000528317 after 0.16 seconds.</td></tr></table>"
      ]
     },
     "metadata": {},
     "output_type": "display_data"
    },
    {
     "data": {
      "text/html": [
       "<table><tr style='text-align:left'><td style='vertical-align:top'><td style='color:rgba(0,85,194);'><strong>&#10095; Info</strong></td><td>Model converged with mu = 0.000498915 after 0.10 seconds.</td></tr></table>"
      ]
     },
     "metadata": {},
     "output_type": "display_data"
    },
    {
     "data": {
      "text/html": [
       "<table><tr style='text-align:left'><td style='vertical-align:top'><td style='color:rgba(0,85,194);'><strong>&#10095; Info</strong></td><td>Model converged with mu = 0.000473403 after 0.07 seconds.</td></tr></table>"
      ]
     },
     "metadata": {},
     "output_type": "display_data"
    },
    {
     "data": {
      "text/html": [
       "<table><tr style='text-align:left'><td style='vertical-align:top'><td style='color:rgba(0,85,194);'><strong>&#10095; Info</strong></td><td>Model converged with mu = 0.000449958 after 0.05 seconds.</td></tr></table>"
      ]
     },
     "metadata": {},
     "output_type": "display_data"
    },
    {
     "data": {
      "text/html": [
       "<table><tr style='text-align:left'><td style='vertical-align:top'><td style='color:rgba(0,85,194);'><strong>&#10095; Info</strong></td><td>Model converged with mu = 0.000428099 after 0.04 seconds.</td></tr></table>"
      ]
     },
     "metadata": {},
     "output_type": "display_data"
    },
    {
     "data": {
      "text/html": [
       "<table><tr style='text-align:left'><td style='vertical-align:top'><td style='color:rgba(0,85,194);'><strong>&#10095; Info</strong></td><td>Model converged with mu = 0.000407477 after 0.04 seconds.</td></tr></table>"
      ]
     },
     "metadata": {},
     "output_type": "display_data"
    },
    {
     "data": {
      "text/html": [
       "<table><tr style='text-align:left'><td style='vertical-align:top'><td style='color:rgba(0,85,194);'><strong>&#10095; Info</strong></td><td>Model converged with mu = 0.000387905 after 0.04 seconds.</td></tr></table>"
      ]
     },
     "metadata": {},
     "output_type": "display_data"
    },
    {
     "data": {
      "text/html": [
       "<table><tr style='text-align:left'><td style='vertical-align:top'><td style='color:rgba(0,85,194);'><strong>&#10095; Info</strong></td><td>Model converged with mu = 0.000369283 after 0.03 seconds.</td></tr></table>"
      ]
     },
     "metadata": {},
     "output_type": "display_data"
    },
    {
     "data": {
      "text/html": [
       "<table><tr style='text-align:left'><td style='vertical-align:top'><td style='color:rgba(0,85,194);'><strong>&#10095; Info</strong></td><td>Model converged with mu = 0.000351592 after 0.04 seconds.</td></tr></table>"
      ]
     },
     "metadata": {},
     "output_type": "display_data"
    },
    {
     "data": {
      "text/html": [
       "<table><tr style='text-align:left'><td style='vertical-align:top'><td style='color:rgba(0,85,194);'><strong>&#10095; Info</strong></td><td>Model converged with mu = 0.000334844 after 0.03 seconds.</td></tr></table>"
      ]
     },
     "metadata": {},
     "output_type": "display_data"
    },
    {
     "data": {
      "text/html": [
       "<table><tr style='text-align:left'><td style='vertical-align:top'><td style='color:rgba(0,85,194);'><strong>&#10095; Info</strong></td><td>Model converged with mu = 0.000318883 after 0.02 seconds.</td></tr></table>"
      ]
     },
     "metadata": {},
     "output_type": "display_data"
    },
    {
     "data": {
      "text/html": [
       "<table><tr style='text-align:left'><td style='vertical-align:top'><td style='color:rgba(0,85,194);'><strong>&#10095; Info</strong></td><td>Model converged with mu = 0.000303684 after 0.02 seconds.</td></tr></table>"
      ]
     },
     "metadata": {},
     "output_type": "display_data"
    },
    {
     "data": {
      "text/html": [
       "<table><tr style='text-align:left'><td style='vertical-align:top'><td style='color:rgba(0,85,194);'><strong>&#10095; Info</strong></td><td>Model converged with mu = 0.000289216 after 0.02 seconds.</td></tr></table>"
      ]
     },
     "metadata": {},
     "output_type": "display_data"
    },
    {
     "data": {
      "text/html": [
       "<table><tr style='text-align:left'><td style='vertical-align:top'><td style='color:rgba(0,85,194);'><strong>&#10095; Info</strong></td><td>Model converged with mu = 0.000275434 after 0.02 seconds.</td></tr></table>"
      ]
     },
     "metadata": {},
     "output_type": "display_data"
    },
    {
     "data": {
      "text/html": [
       "<table><tr style='text-align:left'><td style='vertical-align:top'><td style='color:rgba(0,85,194);'><strong>&#10095; Info</strong></td><td>Model converged with mu = 0.000262315 after 0.02 seconds.</td></tr></table>"
      ]
     },
     "metadata": {},
     "output_type": "display_data"
    },
    {
     "data": {
      "text/html": [
       "<table><tr style='text-align:left'><td style='vertical-align:top'><td style='color:rgba(0,85,194);'><strong>&#10095; Info</strong></td><td>Model converged with mu = 0.000249813 after 0.02 seconds.</td></tr></table>"
      ]
     },
     "metadata": {},
     "output_type": "display_data"
    },
    {
     "data": {
      "text/html": [
       "<table><tr style='text-align:left'><td style='vertical-align:top'><td style='color:rgba(0,85,194);'><strong>&#10095; Info</strong></td><td>Model converged with mu = 0.000237924 after 0.02 seconds.</td></tr></table>"
      ]
     },
     "metadata": {},
     "output_type": "display_data"
    },
    {
     "data": {
      "text/html": [
       "<table><tr style='text-align:left'><td style='vertical-align:top'><td style='color:rgba(0,85,194);'><strong>&#10095; Info</strong></td><td>Model converged with mu = 0.000226598 after 0.02 seconds.</td></tr></table>"
      ]
     },
     "metadata": {},
     "output_type": "display_data"
    },
    {
     "data": {
      "text/html": [
       "<table><tr style='text-align:left'><td style='vertical-align:top'><td style='color:rgba(0,85,194);'><strong>&#10095; Info</strong></td><td>Model converged with mu = 0.000215814 after 0.02 seconds.</td></tr></table>"
      ]
     },
     "metadata": {},
     "output_type": "display_data"
    },
    {
     "data": {
      "text/html": [
       "<table><tr style='text-align:left'><td style='vertical-align:top'><td style='color:rgba(0,85,194);'><strong>&#10095; Info</strong></td><td>Model converged with mu = 0.000205543 after 0.02 seconds.</td></tr></table>"
      ]
     },
     "metadata": {},
     "output_type": "display_data"
    },
    {
     "data": {
      "text/html": [
       "<table><tr style='text-align:left'><td style='vertical-align:top'><td style='color:rgba(0,85,194);'><strong>&#10095; Info</strong></td><td>Model converged with mu = 0.000195759 after 0.02 seconds.</td></tr></table>"
      ]
     },
     "metadata": {},
     "output_type": "display_data"
    },
    {
     "data": {
      "text/html": [
       "<table><tr style='text-align:left'><td style='vertical-align:top'><td style='color:rgba(0,85,194);'><strong>&#10095; Info</strong></td><td>Model converged with mu = 0.000186439 after 0.02 seconds.</td></tr></table>"
      ]
     },
     "metadata": {},
     "output_type": "display_data"
    },
    {
     "data": {
      "text/html": [
       "<table><tr style='text-align:left'><td style='vertical-align:top'><td style='color:rgba(0,85,194);'><strong>&#10095; Info</strong></td><td>Model converged with mu = 0.000177565 after 0.02 seconds.</td></tr></table>"
      ]
     },
     "metadata": {},
     "output_type": "display_data"
    },
    {
     "data": {
      "text/html": [
       "<table><tr style='text-align:left'><td style='vertical-align:top'><td style='color:rgba(0,85,194);'><strong>&#10095; Info</strong></td><td>Model converged with mu = 0.000169107 after 0.02 seconds.</td></tr></table>"
      ]
     },
     "metadata": {},
     "output_type": "display_data"
    },
    {
     "data": {
      "text/html": [
       "<table><tr style='text-align:left'><td style='vertical-align:top'><td style='color:rgba(0,85,194);'><strong>&#10095; Info</strong></td><td>Model converged with mu = 0.000161055 after 0.02 seconds.</td></tr></table>"
      ]
     },
     "metadata": {},
     "output_type": "display_data"
    },
    {
     "data": {
      "text/html": [
       "<table><tr style='text-align:left'><td style='vertical-align:top'><td style='color:rgba(0,85,194);'><strong>&#10095; Info</strong></td><td>Model converged with mu = 0.000153387 after 0.02 seconds.</td></tr></table>"
      ]
     },
     "metadata": {},
     "output_type": "display_data"
    },
    {
     "data": {
      "text/html": [
       "<table><tr style='text-align:left'><td style='vertical-align:top'><td style='color:rgba(0,85,194);'><strong>&#10095; Info</strong></td><td>Model converged with mu = 0.000146081 after 0.02 seconds.</td></tr></table>"
      ]
     },
     "metadata": {},
     "output_type": "display_data"
    },
    {
     "data": {
      "text/html": [
       "<table><tr style='text-align:left'><td style='vertical-align:top'><td style='color:rgba(0,85,194);'><strong>&#10095; Info</strong></td><td>Model converged with mu = 0.000139129 after 0.02 seconds.</td></tr></table>"
      ]
     },
     "metadata": {},
     "output_type": "display_data"
    },
    {
     "data": {
      "text/html": [
       "<table><tr style='text-align:left'><td style='vertical-align:top'><td style='color:rgba(0,85,194);'><strong>&#10095; Info</strong></td><td>Model converged with mu = 0.000132503 after 0.02 seconds.</td></tr></table>"
      ]
     },
     "metadata": {},
     "output_type": "display_data"
    },
    {
     "data": {
      "text/html": [
       "<table><tr style='text-align:left'><td style='vertical-align:top'><td style='color:rgba(0,85,194);'><strong>&#10095; Info</strong></td><td>Model converged with mu = 0.000126199 after 0.02 seconds.</td></tr></table>"
      ]
     },
     "metadata": {},
     "output_type": "display_data"
    },
    {
     "data": {
      "text/html": [
       "<table><tr style='text-align:left'><td style='vertical-align:top'><td style='color:rgba(0,85,194);'><strong>&#10095; Info</strong></td><td>Model converged with mu = 0.000120187 after 0.02 seconds.</td></tr></table>"
      ]
     },
     "metadata": {},
     "output_type": "display_data"
    },
    {
     "data": {
      "text/html": [
       "<table><tr style='text-align:left'><td style='vertical-align:top'><td style='color:rgba(0,85,194);'><strong>&#10095; Info</strong></td><td>Model converged with mu = 0.000114465 after 0.02 seconds.</td></tr></table>"
      ]
     },
     "metadata": {},
     "output_type": "display_data"
    },
    {
     "data": {
      "text/html": [
       "<table><tr style='text-align:left'><td style='vertical-align:top'><td style='color:rgba(0,85,194);'><strong>&#10095; Info</strong></td><td>Model converged with mu = 0.000109014 after 0.02 seconds.</td></tr></table>"
      ]
     },
     "metadata": {},
     "output_type": "display_data"
    },
    {
     "data": {
      "text/html": [
       "<table><tr style='text-align:left'><td style='vertical-align:top'><td style='color:rgba(0,85,194);'><strong>&#10095; Info</strong></td><td>Model converged with mu = 0.000103822 after 0.02 seconds.</td></tr></table>"
      ]
     },
     "metadata": {},
     "output_type": "display_data"
    },
    {
     "data": {
      "text/html": [
       "<table><tr style='text-align:left'><td style='vertical-align:top'><td style='color:rgba(0,85,194);'><strong>&#10095; Info</strong></td><td>Model converged with mu = 9.88798e-05 after 0.02 seconds.</td></tr></table>"
      ]
     },
     "metadata": {},
     "output_type": "display_data"
    },
    {
     "data": {
      "text/html": [
       "<table><tr style='text-align:left'><td style='vertical-align:top'><td style='color:rgba(0,85,194);'><strong>&#10095; Info</strong></td><td>Model converged with mu = 9.41709e-05 after 0.02 seconds.</td></tr></table>"
      ]
     },
     "metadata": {},
     "output_type": "display_data"
    },
    {
     "data": {
      "text/html": [
       "<table><tr style='text-align:left'><td style='vertical-align:top'><td style='color:rgba(0,85,194);'><strong>&#10095; Info</strong></td><td>Model converged with mu = 8.96856e-05 after 0.02 seconds.</td></tr></table>"
      ]
     },
     "metadata": {},
     "output_type": "display_data"
    },
    {
     "data": {
      "text/html": [
       "<table><tr style='text-align:left'><td style='vertical-align:top'><td style='color:rgba(0,85,194);'><strong>&#10095; Info</strong></td><td>Model converged with mu = 8.54134e-05 after 0.02 seconds.</td></tr></table>"
      ]
     },
     "metadata": {},
     "output_type": "display_data"
    },
    {
     "data": {
      "text/html": [
       "<table><tr style='text-align:left'><td style='vertical-align:top'><td style='color:rgba(0,85,194);'><strong>&#10095; Info</strong></td><td>Model converged with mu = 8.13491e-05 after 0.02 seconds.</td></tr></table>"
      ]
     },
     "metadata": {},
     "output_type": "display_data"
    },
    {
     "data": {
      "text/html": [
       "<table><tr style='text-align:left'><td style='vertical-align:top'><td style='color:rgba(0,85,194);'><strong>&#10095; Info</strong></td><td>Model converged with mu = 7.74754e-05 after 0.02 seconds.</td></tr></table>"
      ]
     },
     "metadata": {},
     "output_type": "display_data"
    },
    {
     "data": {
      "text/html": [
       "<table><tr style='text-align:left'><td style='vertical-align:top'><td style='color:rgba(0,85,194);'><strong>&#10095; Info</strong></td><td>Model converged with mu = 7.37856e-05 after 0.02 seconds.</td></tr></table>"
      ]
     },
     "metadata": {},
     "output_type": "display_data"
    },
    {
     "data": {
      "text/html": [
       "<table><tr style='text-align:left'><td style='vertical-align:top'><td style='color:rgba(0,85,194);'><strong>&#10095; Info</strong></td><td>Model converged with mu = 7.02716e-05 after 0.02 seconds.</td></tr></table>"
      ]
     },
     "metadata": {},
     "output_type": "display_data"
    },
    {
     "data": {
      "text/html": [
       "<table><tr style='text-align:left'><td style='vertical-align:top'><td style='color:rgba(0,85,194);'><strong>&#10095; Info</strong></td><td>Model converged with mu = 6.6925e-05 after 0.02 seconds.</td></tr></table>"
      ]
     },
     "metadata": {},
     "output_type": "display_data"
    },
    {
     "data": {
      "text/html": [
       "<table><tr style='text-align:left'><td style='vertical-align:top'><td style='color:rgba(0,85,194);'><strong>&#10095; Info</strong></td><td>Model converged with mu = 6.37376e-05 after 0.02 seconds.</td></tr></table>"
      ]
     },
     "metadata": {},
     "output_type": "display_data"
    },
    {
     "data": {
      "text/html": [
       "<table><tr style='text-align:left'><td style='vertical-align:top'><td style='color:rgba(0,85,194);'><strong>&#10095; Info</strong></td><td>Model converged with mu = 6.07021e-05 after 0.02 seconds.</td></tr></table>"
      ]
     },
     "metadata": {},
     "output_type": "display_data"
    },
    {
     "data": {
      "text/html": [
       "<table><tr style='text-align:left'><td style='vertical-align:top'><td style='color:rgba(0,85,194);'><strong>&#10095; Info</strong></td><td>Model converged with mu = 5.78115e-05 after 0.02 seconds.</td></tr></table>"
      ]
     },
     "metadata": {},
     "output_type": "display_data"
    },
    {
     "data": {
      "text/html": [
       "<table><tr style='text-align:left'><td style='vertical-align:top'><td style='color:rgba(0,85,194);'><strong>&#10095; Info</strong></td><td>Model converged with mu = 5.50586e-05 after 0.02 seconds.</td></tr></table>"
      ]
     },
     "metadata": {},
     "output_type": "display_data"
    },
    {
     "data": {
      "text/html": [
       "<table><tr style='text-align:left'><td style='vertical-align:top'><td style='color:rgba(0,85,194);'><strong>&#10095; Info</strong></td><td>Model converged with mu = 5.24368e-05 after 0.02 seconds.</td></tr></table>"
      ]
     },
     "metadata": {},
     "output_type": "display_data"
    },
    {
     "data": {
      "text/html": [
       "<table><tr style='text-align:left'><td style='vertical-align:top'><td style='color:rgba(0,85,194);'><strong>&#10095; Info</strong></td><td>Model converged with mu = 4.99397e-05 after 0.02 seconds.</td></tr></table>"
      ]
     },
     "metadata": {},
     "output_type": "display_data"
    }
   ],
   "source": [
    "# Load model\n",
    "model = gba.read_ods_model(path=\"../../gbamodels/ODS\", name=\"BaseModel\")\n",
    "\n",
    "# Generate accurate initial solution\n",
    "model.find_best_initial_solution(verbose=VERBOSE)\n",
    "\n",
    "# Find optimal solutions\n",
    "for condition_id in model.condition_ids:\n",
    "    model.set_condition(condition_id)\n",
    "    model.find_optimum(verbose=VERBOSE)\n",
    "\n",
    "# Modify infos\n",
    "model.add_info(category=\"Sheets\", key=\"M\", content=\"Mass fraction matrix\")\n",
    "model.add_info(category=\"Sheets\", key=\"K\", content=\"Michaelis constant matrix\")\n",
    "model.add_info(category=\"Sheets\", key=\"KI\", content=\"Inhibition constant matrix\")\n",
    "model.add_info(category=\"Sheets\", key=\"kcat\", content=\"Turnover numbers\")\n",
    "model.add_info(category=\"Sheets\", key=\"conditions\", content=\"Value of rho and external concentrations at different growth conditions\")\n",
    "model.add_info(category=\"Sheets\", key=\"q0\", content=\"Initial flux fraction vector\")\n",
    "model.add_info(category=\"Sheets\", key=\"qopt\", content=\"Optimal solutions per condition\")\n",
    "\n",
    "# Save model\n",
    "model.write_to_ods(path=\"/Users/charlesrocabert/Desktop/new_models\", name=\"BaseModel\")\n",
    "model.write_to_csv(path=\"/Users/charlesrocabert/Desktop/new_models\", name=\"BaseModel\")"
   ]
  },
  {
   "cell_type": "markdown",
   "metadata": {},
   "source": [
    "# Model <code>EC3rev</code>"
   ]
  },
  {
   "cell_type": "code",
   "execution_count": 8,
   "metadata": {},
   "outputs": [
    {
     "name": "stderr",
     "output_type": "stream",
     "text": [
      "/usr/local/lib/python3.13/site-packages/gba/Model.py:1542: RuntimeWarning: invalid value encountered in log\n",
      "  self.doubling_time = np.log(2)/np.log(1+self.mu)\n"
     ]
    },
    {
     "data": {
      "text/html": [
       "<table><tr style='text-align:left'><td style='vertical-align:top'><td style='color:rgba(0,85,194);'><strong>&#10095; Info</strong></td><td>Best initial solution found with rhs factor = 1370.0 and maximal mu = 0.08982422466910925.</td></tr></table>"
      ]
     },
     "metadata": {},
     "output_type": "display_data"
    },
    {
     "data": {
      "text/html": [
       "<table><tr style='text-align:left'><td style='vertical-align:top'><td style='color:rgba(0,85,194);'><strong>&#10095; Info</strong></td><td>Model converged with mu = 2.18337 after 0.02 seconds.</td></tr></table>"
      ]
     },
     "metadata": {},
     "output_type": "display_data"
    },
    {
     "data": {
      "text/html": [
       "<table><tr style='text-align:left'><td style='vertical-align:top'><td style='color:rgba(0,85,194);'><strong>&#10095; Info</strong></td><td>Model converged with mu = 2.15863 after 0.02 seconds.</td></tr></table>"
      ]
     },
     "metadata": {},
     "output_type": "display_data"
    },
    {
     "data": {
      "text/html": [
       "<table><tr style='text-align:left'><td style='vertical-align:top'><td style='color:rgba(0,85,194);'><strong>&#10095; Info</strong></td><td>Model converged with mu = 2.12461 after 0.02 seconds.</td></tr></table>"
      ]
     },
     "metadata": {},
     "output_type": "display_data"
    },
    {
     "data": {
      "text/html": [
       "<table><tr style='text-align:left'><td style='vertical-align:top'><td style='color:rgba(0,85,194);'><strong>&#10095; Info</strong></td><td>Model converged with mu = 2.0782 after 0.02 seconds.</td></tr></table>"
      ]
     },
     "metadata": {},
     "output_type": "display_data"
    },
    {
     "data": {
      "text/html": [
       "<table><tr style='text-align:left'><td style='vertical-align:top'><td style='color:rgba(0,85,194);'><strong>&#10095; Info</strong></td><td>Model converged with mu = 2.01567 after 0.02 seconds.</td></tr></table>"
      ]
     },
     "metadata": {},
     "output_type": "display_data"
    },
    {
     "data": {
      "text/html": [
       "<table><tr style='text-align:left'><td style='vertical-align:top'><td style='color:rgba(0,85,194);'><strong>&#10095; Info</strong></td><td>Model converged with mu = 1.93289 after 0.02 seconds.</td></tr></table>"
      ]
     },
     "metadata": {},
     "output_type": "display_data"
    },
    {
     "data": {
      "text/html": [
       "<table><tr style='text-align:left'><td style='vertical-align:top'><td style='color:rgba(0,85,194);'><strong>&#10095; Info</strong></td><td>Model converged with mu = 1.8261 after 0.02 seconds.</td></tr></table>"
      ]
     },
     "metadata": {},
     "output_type": "display_data"
    },
    {
     "data": {
      "text/html": [
       "<table><tr style='text-align:left'><td style='vertical-align:top'><td style='color:rgba(0,85,194);'><strong>&#10095; Info</strong></td><td>Model converged with mu = 1.69303 after 0.02 seconds.</td></tr></table>"
      ]
     },
     "metadata": {},
     "output_type": "display_data"
    },
    {
     "data": {
      "text/html": [
       "<table><tr style='text-align:left'><td style='vertical-align:top'><td style='color:rgba(0,85,194);'><strong>&#10095; Info</strong></td><td>Model converged with mu = 1.5344 after 0.02 seconds.</td></tr></table>"
      ]
     },
     "metadata": {},
     "output_type": "display_data"
    },
    {
     "data": {
      "text/html": [
       "<table><tr style='text-align:left'><td style='vertical-align:top'><td style='color:rgba(0,85,194);'><strong>&#10095; Info</strong></td><td>Model converged with mu = 1.35486 after 0.02 seconds.</td></tr></table>"
      ]
     },
     "metadata": {},
     "output_type": "display_data"
    },
    {
     "data": {
      "text/html": [
       "<table><tr style='text-align:left'><td style='vertical-align:top'><td style='color:rgba(0,85,194);'><strong>&#10095; Info</strong></td><td>Model converged with mu = 1.163 after 0.02 seconds.</td></tr></table>"
      ]
     },
     "metadata": {},
     "output_type": "display_data"
    },
    {
     "data": {
      "text/html": [
       "<table><tr style='text-align:left'><td style='vertical-align:top'><td style='color:rgba(0,85,194);'><strong>&#10095; Info</strong></td><td>Model converged with mu = 0.969831 after 0.02 seconds.</td></tr></table>"
      ]
     },
     "metadata": {},
     "output_type": "display_data"
    },
    {
     "data": {
      "text/html": [
       "<table><tr style='text-align:left'><td style='vertical-align:top'><td style='color:rgba(0,85,194);'><strong>&#10095; Info</strong></td><td>Model converged with mu = 0.786424 after 0.02 seconds.</td></tr></table>"
      ]
     },
     "metadata": {},
     "output_type": "display_data"
    },
    {
     "data": {
      "text/html": [
       "<table><tr style='text-align:left'><td style='vertical-align:top'><td style='color:rgba(0,85,194);'><strong>&#10095; Info</strong></td><td>Model converged with mu = 0.621568 after 0.02 seconds.</td></tr></table>"
      ]
     },
     "metadata": {},
     "output_type": "display_data"
    },
    {
     "data": {
      "text/html": [
       "<table><tr style='text-align:left'><td style='vertical-align:top'><td style='color:rgba(0,85,194);'><strong>&#10095; Info</strong></td><td>Model converged with mu = 0.480428 after 0.02 seconds.</td></tr></table>"
      ]
     },
     "metadata": {},
     "output_type": "display_data"
    },
    {
     "data": {
      "text/html": [
       "<table><tr style='text-align:left'><td style='vertical-align:top'><td style='color:rgba(0,85,194);'><strong>&#10095; Info</strong></td><td>Model converged with mu = 0.36449 after 0.02 seconds.</td></tr></table>"
      ]
     },
     "metadata": {},
     "output_type": "display_data"
    },
    {
     "data": {
      "text/html": [
       "<table><tr style='text-align:left'><td style='vertical-align:top'><td style='color:rgba(0,85,194);'><strong>&#10095; Info</strong></td><td>Model converged with mu = 0.272423 after 0.02 seconds.</td></tr></table>"
      ]
     },
     "metadata": {},
     "output_type": "display_data"
    },
    {
     "data": {
      "text/html": [
       "<table><tr style='text-align:left'><td style='vertical-align:top'><td style='color:rgba(0,85,194);'><strong>&#10095; Info</strong></td><td>Model converged with mu = 0.201245 after 0.02 seconds.</td></tr></table>"
      ]
     },
     "metadata": {},
     "output_type": "display_data"
    },
    {
     "data": {
      "text/html": [
       "<table><tr style='text-align:left'><td style='vertical-align:top'><td style='color:rgba(0,85,194);'><strong>&#10095; Info</strong></td><td>Model converged with mu = 0.147344 after 0.02 seconds.</td></tr></table>"
      ]
     },
     "metadata": {},
     "output_type": "display_data"
    },
    {
     "data": {
      "text/html": [
       "<table><tr style='text-align:left'><td style='vertical-align:top'><td style='color:rgba(0,85,194);'><strong>&#10095; Info</strong></td><td>Model converged with mu = 0.107159 after 0.02 seconds.</td></tr></table>"
      ]
     },
     "metadata": {},
     "output_type": "display_data"
    },
    {
     "data": {
      "text/html": [
       "<table><tr style='text-align:left'><td style='vertical-align:top'><td style='color:rgba(0,85,194);'><strong>&#10095; Info</strong></td><td>Model converged with mu = 0.0775494 after 0.02 seconds.</td></tr></table>"
      ]
     },
     "metadata": {},
     "output_type": "display_data"
    },
    {
     "data": {
      "text/html": [
       "<table><tr style='text-align:left'><td style='vertical-align:top'><td style='color:rgba(0,85,194);'><strong>&#10095; Info</strong></td><td>Model converged with mu = 0.0559176 after 0.02 seconds.</td></tr></table>"
      ]
     },
     "metadata": {},
     "output_type": "display_data"
    },
    {
     "data": {
      "text/html": [
       "<table><tr style='text-align:left'><td style='vertical-align:top'><td style='color:rgba(0,85,194);'><strong>&#10095; Info</strong></td><td>Model converged with mu = 0.0402134 after 0.02 seconds.</td></tr></table>"
      ]
     },
     "metadata": {},
     "output_type": "display_data"
    },
    {
     "data": {
      "text/html": [
       "<table><tr style='text-align:left'><td style='vertical-align:top'><td style='color:rgba(0,85,194);'><strong>&#10095; Info</strong></td><td>Model converged with mu = 0.0288644 after 0.02 seconds.</td></tr></table>"
      ]
     },
     "metadata": {},
     "output_type": "display_data"
    },
    {
     "data": {
      "text/html": [
       "<table><tr style='text-align:left'><td style='vertical-align:top'><td style='color:rgba(0,85,194);'><strong>&#10095; Info</strong></td><td>Model converged with mu = 0.0206897 after 0.02 seconds.</td></tr></table>"
      ]
     },
     "metadata": {},
     "output_type": "display_data"
    }
   ],
   "source": [
    "# Load model\n",
    "model = gba.read_ods_model(path=\"../../gbamodels/ODS\", name=\"EC3rev\")\n",
    "\n",
    "# Generate accurate initial solution\n",
    "model.find_best_initial_solution(verbose=VERBOSE)\n",
    "\n",
    "# Find optimal solutions\n",
    "for condition_id in model.condition_ids:\n",
    "    model.set_condition(condition_id)\n",
    "    model.find_optimum(verbose=VERBOSE)\n",
    "\n",
    "# Modify infos\n",
    "model.add_info(category=\"Sheets\", key=\"q0\", content=\"Initial flux fraction vector\")\n",
    "model.add_info(category=\"Sheets\", key=\"qopt\", content=\"Optimal solutions per condition\")\n",
    "del model.info[\"Sheets\"][\"KI\"]\n",
    "\n",
    "# Save model\n",
    "model.write_to_ods(path=\"/Users/charlesrocabert/Desktop/new_models\", name=\"EC3rev\")\n",
    "model.write_to_csv(path=\"/Users/charlesrocabert/Desktop/new_models\", name=\"EC3rev\")"
   ]
  },
  {
   "cell_type": "markdown",
   "metadata": {},
   "source": [
    "# Model <code>ExtendedModel</code>"
   ]
  },
  {
   "cell_type": "code",
   "execution_count": 9,
   "metadata": {},
   "outputs": [
    {
     "data": {
      "text/html": [
       "<table><tr style='text-align:left'><td style='vertical-align:top'><td style='color:rgba(236,3,3);'><strong>&#10006; Error</strong></td><td>Local linear problem could not be solved.</td></tr></table>"
      ]
     },
     "metadata": {},
     "output_type": "display_data"
    },
    {
     "data": {
      "text/html": [
       "<table><tr style='text-align:left'><td style='vertical-align:top'><td style='color:rgba(236,3,3);'><strong>&#10006; Error</strong></td><td>Local linear problem could not be solved.</td></tr></table>"
      ]
     },
     "metadata": {},
     "output_type": "display_data"
    },
    {
     "data": {
      "text/html": [
       "<table><tr style='text-align:left'><td style='vertical-align:top'><td style='color:rgba(0,85,194);'><strong>&#10095; Info</strong></td><td>Best initial solution found with rhs factor = 30.0 and maximal mu = 0.06806871503555205.</td></tr></table>"
      ]
     },
     "metadata": {},
     "output_type": "display_data"
    },
    {
     "data": {
      "text/html": [
       "<table><tr style='text-align:left'><td style='vertical-align:top'><td style='color:rgba(0,85,194);'><strong>&#10095; Info</strong></td><td>Model converged with mu = 0.0931949 after 1.62 seconds.</td></tr></table>"
      ]
     },
     "metadata": {},
     "output_type": "display_data"
    },
    {
     "data": {
      "text/html": [
       "<table><tr style='text-align:left'><td style='vertical-align:top'><td style='color:rgba(0,85,194);'><strong>&#10095; Info</strong></td><td>Model converged with mu = 0.0942065 after 1.64 seconds.</td></tr></table>"
      ]
     },
     "metadata": {},
     "output_type": "display_data"
    },
    {
     "data": {
      "text/html": [
       "<table><tr style='text-align:left'><td style='vertical-align:top'><td style='color:rgba(0,85,194);'><strong>&#10095; Info</strong></td><td>Model converged with mu = 0.0951745 after 1.66 seconds.</td></tr></table>"
      ]
     },
     "metadata": {},
     "output_type": "display_data"
    },
    {
     "data": {
      "text/html": [
       "<table><tr style='text-align:left'><td style='vertical-align:top'><td style='color:rgba(0,85,194);'><strong>&#10095; Info</strong></td><td>Model converged with mu = 0.0960967 after 1.67 seconds.</td></tr></table>"
      ]
     },
     "metadata": {},
     "output_type": "display_data"
    },
    {
     "data": {
      "text/html": [
       "<table><tr style='text-align:left'><td style='vertical-align:top'><td style='color:rgba(0,85,194);'><strong>&#10095; Info</strong></td><td>Model converged with mu = 0.096971 after 1.68 seconds.</td></tr></table>"
      ]
     },
     "metadata": {},
     "output_type": "display_data"
    },
    {
     "data": {
      "text/html": [
       "<table><tr style='text-align:left'><td style='vertical-align:top'><td style='color:rgba(0,85,194);'><strong>&#10095; Info</strong></td><td>Model converged with mu = 0.0977954 after 1.70 seconds.</td></tr></table>"
      ]
     },
     "metadata": {},
     "output_type": "display_data"
    },
    {
     "data": {
      "text/html": [
       "<table><tr style='text-align:left'><td style='vertical-align:top'><td style='color:rgba(0,85,194);'><strong>&#10095; Info</strong></td><td>Model converged with mu = 0.0985678 after 1.72 seconds.</td></tr></table>"
      ]
     },
     "metadata": {},
     "output_type": "display_data"
    },
    {
     "data": {
      "text/html": [
       "<table><tr style='text-align:left'><td style='vertical-align:top'><td style='color:rgba(0,85,194);'><strong>&#10095; Info</strong></td><td>Model converged with mu = 0.0992863 after 1.76 seconds.</td></tr></table>"
      ]
     },
     "metadata": {},
     "output_type": "display_data"
    },
    {
     "data": {
      "text/html": [
       "<table><tr style='text-align:left'><td style='vertical-align:top'><td style='color:rgba(0,85,194);'><strong>&#10095; Info</strong></td><td>Model converged with mu = 0.0999491 after 1.75 seconds.</td></tr></table>"
      ]
     },
     "metadata": {},
     "output_type": "display_data"
    },
    {
     "data": {
      "text/html": [
       "<table><tr style='text-align:left'><td style='vertical-align:top'><td style='color:rgba(0,85,194);'><strong>&#10095; Info</strong></td><td>Model converged with mu = 0.100554 after 1.80 seconds.</td></tr></table>"
      ]
     },
     "metadata": {},
     "output_type": "display_data"
    },
    {
     "data": {
      "text/html": [
       "<table><tr style='text-align:left'><td style='vertical-align:top'><td style='color:rgba(0,85,194);'><strong>&#10095; Info</strong></td><td>Model converged with mu = 0.101101 after 1.80 seconds.</td></tr></table>"
      ]
     },
     "metadata": {},
     "output_type": "display_data"
    },
    {
     "data": {
      "text/html": [
       "<table><tr style='text-align:left'><td style='vertical-align:top'><td style='color:rgba(0,85,194);'><strong>&#10095; Info</strong></td><td>Model converged with mu = 0.101586 after 1.80 seconds.</td></tr></table>"
      ]
     },
     "metadata": {},
     "output_type": "display_data"
    },
    {
     "data": {
      "text/html": [
       "<table><tr style='text-align:left'><td style='vertical-align:top'><td style='color:rgba(0,85,194);'><strong>&#10095; Info</strong></td><td>Model converged with mu = 0.10201 after 1.82 seconds.</td></tr></table>"
      ]
     },
     "metadata": {},
     "output_type": "display_data"
    },
    {
     "data": {
      "text/html": [
       "<table><tr style='text-align:left'><td style='vertical-align:top'><td style='color:rgba(0,85,194);'><strong>&#10095; Info</strong></td><td>Model converged with mu = 0.102371 after 1.84 seconds.</td></tr></table>"
      ]
     },
     "metadata": {},
     "output_type": "display_data"
    },
    {
     "data": {
      "text/html": [
       "<table><tr style='text-align:left'><td style='vertical-align:top'><td style='color:rgba(0,85,194);'><strong>&#10095; Info</strong></td><td>Model converged with mu = 0.102667 after 2.01 seconds.</td></tr></table>"
      ]
     },
     "metadata": {},
     "output_type": "display_data"
    },
    {
     "data": {
      "text/html": [
       "<table><tr style='text-align:left'><td style='vertical-align:top'><td style='color:rgba(0,85,194);'><strong>&#10095; Info</strong></td><td>Model converged with mu = 0.102898 after 2.19 seconds.</td></tr></table>"
      ]
     },
     "metadata": {},
     "output_type": "display_data"
    },
    {
     "data": {
      "text/html": [
       "<table><tr style='text-align:left'><td style='vertical-align:top'><td style='color:rgba(0,85,194);'><strong>&#10095; Info</strong></td><td>Model converged with mu = 0.103064 after 2.14 seconds.</td></tr></table>"
      ]
     },
     "metadata": {},
     "output_type": "display_data"
    },
    {
     "data": {
      "text/html": [
       "<table><tr style='text-align:left'><td style='vertical-align:top'><td style='color:rgba(0,85,194);'><strong>&#10095; Info</strong></td><td>Model converged with mu = 0.103162 after 1.99 seconds.</td></tr></table>"
      ]
     },
     "metadata": {},
     "output_type": "display_data"
    },
    {
     "data": {
      "text/html": [
       "<table><tr style='text-align:left'><td style='vertical-align:top'><td style='color:rgba(0,85,194);'><strong>&#10095; Info</strong></td><td>Model converged with mu = 0.103194 after 2.17 seconds.</td></tr></table>"
      ]
     },
     "metadata": {},
     "output_type": "display_data"
    },
    {
     "data": {
      "text/html": [
       "<table><tr style='text-align:left'><td style='vertical-align:top'><td style='color:rgba(0,85,194);'><strong>&#10095; Info</strong></td><td>Model converged with mu = 0.103158 after 2.03 seconds.</td></tr></table>"
      ]
     },
     "metadata": {},
     "output_type": "display_data"
    },
    {
     "data": {
      "text/html": [
       "<table><tr style='text-align:left'><td style='vertical-align:top'><td style='color:rgba(0,85,194);'><strong>&#10095; Info</strong></td><td>Model converged with mu = 0.103055 after 2.06 seconds.</td></tr></table>"
      ]
     },
     "metadata": {},
     "output_type": "display_data"
    },
    {
     "data": {
      "text/html": [
       "<table><tr style='text-align:left'><td style='vertical-align:top'><td style='color:rgba(0,85,194);'><strong>&#10095; Info</strong></td><td>Model converged with mu = 0.102885 after 2.03 seconds.</td></tr></table>"
      ]
     },
     "metadata": {},
     "output_type": "display_data"
    },
    {
     "data": {
      "text/html": [
       "<table><tr style='text-align:left'><td style='vertical-align:top'><td style='color:rgba(0,85,194);'><strong>&#10095; Info</strong></td><td>Model converged with mu = 0.102647 after 2.04 seconds.</td></tr></table>"
      ]
     },
     "metadata": {},
     "output_type": "display_data"
    },
    {
     "data": {
      "text/html": [
       "<table><tr style='text-align:left'><td style='vertical-align:top'><td style='color:rgba(0,85,194);'><strong>&#10095; Info</strong></td><td>Model converged with mu = 0.102343 after 2.08 seconds.</td></tr></table>"
      ]
     },
     "metadata": {},
     "output_type": "display_data"
    },
    {
     "data": {
      "text/html": [
       "<table><tr style='text-align:left'><td style='vertical-align:top'><td style='color:rgba(0,85,194);'><strong>&#10095; Info</strong></td><td>Model converged with mu = 0.101972 after 2.09 seconds.</td></tr></table>"
      ]
     },
     "metadata": {},
     "output_type": "display_data"
    },
    {
     "data": {
      "text/html": [
       "<table><tr style='text-align:left'><td style='vertical-align:top'><td style='color:rgba(0,85,194);'><strong>&#10095; Info</strong></td><td>Model converged with mu = 0.101536 after 2.12 seconds.</td></tr></table>"
      ]
     },
     "metadata": {},
     "output_type": "display_data"
    },
    {
     "data": {
      "text/html": [
       "<table><tr style='text-align:left'><td style='vertical-align:top'><td style='color:rgba(0,85,194);'><strong>&#10095; Info</strong></td><td>Model converged with mu = 0.101035 after 2.11 seconds.</td></tr></table>"
      ]
     },
     "metadata": {},
     "output_type": "display_data"
    },
    {
     "data": {
      "text/html": [
       "<table><tr style='text-align:left'><td style='vertical-align:top'><td style='color:rgba(0,85,194);'><strong>&#10095; Info</strong></td><td>Model converged with mu = 0.100472 after 2.13 seconds.</td></tr></table>"
      ]
     },
     "metadata": {},
     "output_type": "display_data"
    },
    {
     "data": {
      "text/html": [
       "<table><tr style='text-align:left'><td style='vertical-align:top'><td style='color:rgba(0,85,194);'><strong>&#10095; Info</strong></td><td>Model converged with mu = 0.0998456 after 2.19 seconds.</td></tr></table>"
      ]
     },
     "metadata": {},
     "output_type": "display_data"
    },
    {
     "data": {
      "text/html": [
       "<table><tr style='text-align:left'><td style='vertical-align:top'><td style='color:rgba(0,85,194);'><strong>&#10095; Info</strong></td><td>Model converged with mu = 0.0991586 after 2.22 seconds.</td></tr></table>"
      ]
     },
     "metadata": {},
     "output_type": "display_data"
    },
    {
     "data": {
      "text/html": [
       "<table><tr style='text-align:left'><td style='vertical-align:top'><td style='color:rgba(0,85,194);'><strong>&#10095; Info</strong></td><td>Model converged with mu = 0.0984122 after 2.20 seconds.</td></tr></table>"
      ]
     },
     "metadata": {},
     "output_type": "display_data"
    },
    {
     "data": {
      "text/html": [
       "<table><tr style='text-align:left'><td style='vertical-align:top'><td style='color:rgba(0,85,194);'><strong>&#10095; Info</strong></td><td>Model converged with mu = 0.0976087 after 2.25 seconds.</td></tr></table>"
      ]
     },
     "metadata": {},
     "output_type": "display_data"
    },
    {
     "data": {
      "text/html": [
       "<table><tr style='text-align:left'><td style='vertical-align:top'><td style='color:rgba(0,85,194);'><strong>&#10095; Info</strong></td><td>Model converged with mu = 0.0967492 after 2.28 seconds.</td></tr></table>"
      ]
     },
     "metadata": {},
     "output_type": "display_data"
    },
    {
     "data": {
      "text/html": [
       "<table><tr style='text-align:left'><td style='vertical-align:top'><td style='color:rgba(0,85,194);'><strong>&#10095; Info</strong></td><td>Model converged with mu = 0.0958357 after 2.28 seconds.</td></tr></table>"
      ]
     },
     "metadata": {},
     "output_type": "display_data"
    },
    {
     "data": {
      "text/html": [
       "<table><tr style='text-align:left'><td style='vertical-align:top'><td style='color:rgba(0,85,194);'><strong>&#10095; Info</strong></td><td>Model converged with mu = 0.0948705 after 2.29 seconds.</td></tr></table>"
      ]
     },
     "metadata": {},
     "output_type": "display_data"
    },
    {
     "data": {
      "text/html": [
       "<table><tr style='text-align:left'><td style='vertical-align:top'><td style='color:rgba(0,85,194);'><strong>&#10095; Info</strong></td><td>Model converged with mu = 0.0938561 after 2.36 seconds.</td></tr></table>"
      ]
     },
     "metadata": {},
     "output_type": "display_data"
    },
    {
     "data": {
      "text/html": [
       "<table><tr style='text-align:left'><td style='vertical-align:top'><td style='color:rgba(0,85,194);'><strong>&#10095; Info</strong></td><td>Model converged with mu = 0.0927939 after 2.36 seconds.</td></tr></table>"
      ]
     },
     "metadata": {},
     "output_type": "display_data"
    },
    {
     "data": {
      "text/html": [
       "<table><tr style='text-align:left'><td style='vertical-align:top'><td style='color:rgba(0,85,194);'><strong>&#10095; Info</strong></td><td>Model converged with mu = 0.0916867 after 2.39 seconds.</td></tr></table>"
      ]
     },
     "metadata": {},
     "output_type": "display_data"
    },
    {
     "data": {
      "text/html": [
       "<table><tr style='text-align:left'><td style='vertical-align:top'><td style='color:rgba(0,85,194);'><strong>&#10095; Info</strong></td><td>Model converged with mu = 0.0905369 after 2.36 seconds.</td></tr></table>"
      ]
     },
     "metadata": {},
     "output_type": "display_data"
    },
    {
     "data": {
      "text/html": [
       "<table><tr style='text-align:left'><td style='vertical-align:top'><td style='color:rgba(0,85,194);'><strong>&#10095; Info</strong></td><td>Model converged with mu = 0.0893472 after 2.44 seconds.</td></tr></table>"
      ]
     },
     "metadata": {},
     "output_type": "display_data"
    },
    {
     "data": {
      "text/html": [
       "<table><tr style='text-align:left'><td style='vertical-align:top'><td style='color:rgba(0,85,194);'><strong>&#10095; Info</strong></td><td>Model converged with mu = 0.0881197 after 2.46 seconds.</td></tr></table>"
      ]
     },
     "metadata": {},
     "output_type": "display_data"
    },
    {
     "data": {
      "text/html": [
       "<table><tr style='text-align:left'><td style='vertical-align:top'><td style='color:rgba(0,85,194);'><strong>&#10095; Info</strong></td><td>Model converged with mu = 0.0868571 after 2.47 seconds.</td></tr></table>"
      ]
     },
     "metadata": {},
     "output_type": "display_data"
    },
    {
     "data": {
      "text/html": [
       "<table><tr style='text-align:left'><td style='vertical-align:top'><td style='color:rgba(0,85,194);'><strong>&#10095; Info</strong></td><td>Model converged with mu = 0.0855619 after 2.45 seconds.</td></tr></table>"
      ]
     },
     "metadata": {},
     "output_type": "display_data"
    },
    {
     "data": {
      "text/html": [
       "<table><tr style='text-align:left'><td style='vertical-align:top'><td style='color:rgba(0,85,194);'><strong>&#10095; Info</strong></td><td>Model converged with mu = 0.0842371 after 2.51 seconds.</td></tr></table>"
      ]
     },
     "metadata": {},
     "output_type": "display_data"
    },
    {
     "data": {
      "text/html": [
       "<table><tr style='text-align:left'><td style='vertical-align:top'><td style='color:rgba(0,85,194);'><strong>&#10095; Info</strong></td><td>Model converged with mu = 0.0828851 after 2.55 seconds.</td></tr></table>"
      ]
     },
     "metadata": {},
     "output_type": "display_data"
    },
    {
     "data": {
      "text/html": [
       "<table><tr style='text-align:left'><td style='vertical-align:top'><td style='color:rgba(0,85,194);'><strong>&#10095; Info</strong></td><td>Model converged with mu = 0.0815082 after 2.57 seconds.</td></tr></table>"
      ]
     },
     "metadata": {},
     "output_type": "display_data"
    },
    {
     "data": {
      "text/html": [
       "<table><tr style='text-align:left'><td style='vertical-align:top'><td style='color:rgba(0,85,194);'><strong>&#10095; Info</strong></td><td>Model converged with mu = 0.0801093 after 2.56 seconds.</td></tr></table>"
      ]
     },
     "metadata": {},
     "output_type": "display_data"
    },
    {
     "data": {
      "text/html": [
       "<table><tr style='text-align:left'><td style='vertical-align:top'><td style='color:rgba(0,85,194);'><strong>&#10095; Info</strong></td><td>Model converged with mu = 0.078691 after 2.59 seconds.</td></tr></table>"
      ]
     },
     "metadata": {},
     "output_type": "display_data"
    },
    {
     "data": {
      "text/html": [
       "<table><tr style='text-align:left'><td style='vertical-align:top'><td style='color:rgba(0,85,194);'><strong>&#10095; Info</strong></td><td>Model converged with mu = 0.0772559 after 2.74 seconds.</td></tr></table>"
      ]
     },
     "metadata": {},
     "output_type": "display_data"
    },
    {
     "data": {
      "text/html": [
       "<table><tr style='text-align:left'><td style='vertical-align:top'><td style='color:rgba(0,85,194);'><strong>&#10095; Info</strong></td><td>Model converged with mu = 0.0758062 after 2.67 seconds.</td></tr></table>"
      ]
     },
     "metadata": {},
     "output_type": "display_data"
    },
    {
     "data": {
      "text/html": [
       "<table><tr style='text-align:left'><td style='vertical-align:top'><td style='color:rgba(0,85,194);'><strong>&#10095; Info</strong></td><td>Model converged with mu = 0.0743447 after 2.66 seconds.</td></tr></table>"
      ]
     },
     "metadata": {},
     "output_type": "display_data"
    },
    {
     "data": {
      "text/html": [
       "<table><tr style='text-align:left'><td style='vertical-align:top'><td style='color:rgba(0,85,194);'><strong>&#10095; Info</strong></td><td>Model converged with mu = 0.0728736 after 2.66 seconds.</td></tr></table>"
      ]
     },
     "metadata": {},
     "output_type": "display_data"
    },
    {
     "data": {
      "text/html": [
       "<table><tr style='text-align:left'><td style='vertical-align:top'><td style='color:rgba(0,85,194);'><strong>&#10095; Info</strong></td><td>Model converged with mu = 0.0713953 after 2.71 seconds.</td></tr></table>"
      ]
     },
     "metadata": {},
     "output_type": "display_data"
    },
    {
     "data": {
      "text/html": [
       "<table><tr style='text-align:left'><td style='vertical-align:top'><td style='color:rgba(0,85,194);'><strong>&#10095; Info</strong></td><td>Model converged with mu = 0.0699121 after 2.70 seconds.</td></tr></table>"
      ]
     },
     "metadata": {},
     "output_type": "display_data"
    },
    {
     "data": {
      "text/html": [
       "<table><tr style='text-align:left'><td style='vertical-align:top'><td style='color:rgba(0,85,194);'><strong>&#10095; Info</strong></td><td>Model converged with mu = 0.0684262 after 2.72 seconds.</td></tr></table>"
      ]
     },
     "metadata": {},
     "output_type": "display_data"
    },
    {
     "data": {
      "text/html": [
       "<table><tr style='text-align:left'><td style='vertical-align:top'><td style='color:rgba(0,85,194);'><strong>&#10095; Info</strong></td><td>Model converged with mu = 0.0669397 after 2.72 seconds.</td></tr></table>"
      ]
     },
     "metadata": {},
     "output_type": "display_data"
    },
    {
     "data": {
      "text/html": [
       "<table><tr style='text-align:left'><td style='vertical-align:top'><td style='color:rgba(0,85,194);'><strong>&#10095; Info</strong></td><td>Model converged with mu = 0.0654546 after 2.75 seconds.</td></tr></table>"
      ]
     },
     "metadata": {},
     "output_type": "display_data"
    },
    {
     "data": {
      "text/html": [
       "<table><tr style='text-align:left'><td style='vertical-align:top'><td style='color:rgba(0,85,194);'><strong>&#10095; Info</strong></td><td>Model converged with mu = 0.063973 after 2.74 seconds.</td></tr></table>"
      ]
     },
     "metadata": {},
     "output_type": "display_data"
    },
    {
     "data": {
      "text/html": [
       "<table><tr style='text-align:left'><td style='vertical-align:top'><td style='color:rgba(0,85,194);'><strong>&#10095; Info</strong></td><td>Model converged with mu = 0.0624967 after 2.75 seconds.</td></tr></table>"
      ]
     },
     "metadata": {},
     "output_type": "display_data"
    },
    {
     "data": {
      "text/html": [
       "<table><tr style='text-align:left'><td style='vertical-align:top'><td style='color:rgba(0,85,194);'><strong>&#10095; Info</strong></td><td>Model converged with mu = 0.0610274 after 2.77 seconds.</td></tr></table>"
      ]
     },
     "metadata": {},
     "output_type": "display_data"
    },
    {
     "data": {
      "text/html": [
       "<table><tr style='text-align:left'><td style='vertical-align:top'><td style='color:rgba(0,85,194);'><strong>&#10095; Info</strong></td><td>Model converged with mu = 0.059567 after 2.80 seconds.</td></tr></table>"
      ]
     },
     "metadata": {},
     "output_type": "display_data"
    },
    {
     "data": {
      "text/html": [
       "<table><tr style='text-align:left'><td style='vertical-align:top'><td style='color:rgba(0,85,194);'><strong>&#10095; Info</strong></td><td>Model converged with mu = 0.0581169 after 2.78 seconds.</td></tr></table>"
      ]
     },
     "metadata": {},
     "output_type": "display_data"
    },
    {
     "data": {
      "text/html": [
       "<table><tr style='text-align:left'><td style='vertical-align:top'><td style='color:rgba(0,85,194);'><strong>&#10095; Info</strong></td><td>Model converged with mu = 0.0566787 after 2.81 seconds.</td></tr></table>"
      ]
     },
     "metadata": {},
     "output_type": "display_data"
    },
    {
     "data": {
      "text/html": [
       "<table><tr style='text-align:left'><td style='vertical-align:top'><td style='color:rgba(0,85,194);'><strong>&#10095; Info</strong></td><td>Model converged with mu = 0.0552537 after 2.80 seconds.</td></tr></table>"
      ]
     },
     "metadata": {},
     "output_type": "display_data"
    },
    {
     "data": {
      "text/html": [
       "<table><tr style='text-align:left'><td style='vertical-align:top'><td style='color:rgba(0,85,194);'><strong>&#10095; Info</strong></td><td>Model converged with mu = 0.0538433 after 2.81 seconds.</td></tr></table>"
      ]
     },
     "metadata": {},
     "output_type": "display_data"
    },
    {
     "data": {
      "text/html": [
       "<table><tr style='text-align:left'><td style='vertical-align:top'><td style='color:rgba(0,85,194);'><strong>&#10095; Info</strong></td><td>Model converged with mu = 0.0524487 after 2.83 seconds.</td></tr></table>"
      ]
     },
     "metadata": {},
     "output_type": "display_data"
    },
    {
     "data": {
      "text/html": [
       "<table><tr style='text-align:left'><td style='vertical-align:top'><td style='color:rgba(0,85,194);'><strong>&#10095; Info</strong></td><td>Model converged with mu = 0.0510711 after 2.82 seconds.</td></tr></table>"
      ]
     },
     "metadata": {},
     "output_type": "display_data"
    },
    {
     "data": {
      "text/html": [
       "<table><tr style='text-align:left'><td style='vertical-align:top'><td style='color:rgba(0,85,194);'><strong>&#10095; Info</strong></td><td>Model converged with mu = 0.0497114 after 2.97 seconds.</td></tr></table>"
      ]
     },
     "metadata": {},
     "output_type": "display_data"
    },
    {
     "data": {
      "text/html": [
       "<table><tr style='text-align:left'><td style='vertical-align:top'><td style='color:rgba(0,85,194);'><strong>&#10095; Info</strong></td><td>Model converged with mu = 0.0483706 after 3.18 seconds.</td></tr></table>"
      ]
     },
     "metadata": {},
     "output_type": "display_data"
    },
    {
     "data": {
      "text/html": [
       "<table><tr style='text-align:left'><td style='vertical-align:top'><td style='color:rgba(0,85,194);'><strong>&#10095; Info</strong></td><td>Model converged with mu = 0.0470496 after 2.91 seconds.</td></tr></table>"
      ]
     },
     "metadata": {},
     "output_type": "display_data"
    },
    {
     "data": {
      "text/html": [
       "<table><tr style='text-align:left'><td style='vertical-align:top'><td style='color:rgba(0,85,194);'><strong>&#10095; Info</strong></td><td>Model converged with mu = 0.0457492 after 3.09 seconds.</td></tr></table>"
      ]
     },
     "metadata": {},
     "output_type": "display_data"
    },
    {
     "data": {
      "text/html": [
       "<table><tr style='text-align:left'><td style='vertical-align:top'><td style='color:rgba(0,85,194);'><strong>&#10095; Info</strong></td><td>Model converged with mu = 0.04447 after 3.15 seconds.</td></tr></table>"
      ]
     },
     "metadata": {},
     "output_type": "display_data"
    },
    {
     "data": {
      "text/html": [
       "<table><tr style='text-align:left'><td style='vertical-align:top'><td style='color:rgba(0,85,194);'><strong>&#10095; Info</strong></td><td>Model converged with mu = 0.0432127 after 2.92 seconds.</td></tr></table>"
      ]
     },
     "metadata": {},
     "output_type": "display_data"
    },
    {
     "data": {
      "text/html": [
       "<table><tr style='text-align:left'><td style='vertical-align:top'><td style='color:rgba(0,85,194);'><strong>&#10095; Info</strong></td><td>Model converged with mu = 0.0419777 after 2.88 seconds.</td></tr></table>"
      ]
     },
     "metadata": {},
     "output_type": "display_data"
    },
    {
     "data": {
      "text/html": [
       "<table><tr style='text-align:left'><td style='vertical-align:top'><td style='color:rgba(0,85,194);'><strong>&#10095; Info</strong></td><td>Model converged with mu = 0.0407657 after 2.95 seconds.</td></tr></table>"
      ]
     },
     "metadata": {},
     "output_type": "display_data"
    },
    {
     "data": {
      "text/html": [
       "<table><tr style='text-align:left'><td style='vertical-align:top'><td style='color:rgba(0,85,194);'><strong>&#10095; Info</strong></td><td>Model converged with mu = 0.039577 after 2.83 seconds.</td></tr></table>"
      ]
     },
     "metadata": {},
     "output_type": "display_data"
    },
    {
     "data": {
      "text/html": [
       "<table><tr style='text-align:left'><td style='vertical-align:top'><td style='color:rgba(0,85,194);'><strong>&#10095; Info</strong></td><td>Model converged with mu = 0.0384118 after 2.81 seconds.</td></tr></table>"
      ]
     },
     "metadata": {},
     "output_type": "display_data"
    },
    {
     "data": {
      "text/html": [
       "<table><tr style='text-align:left'><td style='vertical-align:top'><td style='color:rgba(0,85,194);'><strong>&#10095; Info</strong></td><td>Model converged with mu = 0.0372706 after 2.82 seconds.</td></tr></table>"
      ]
     },
     "metadata": {},
     "output_type": "display_data"
    },
    {
     "data": {
      "text/html": [
       "<table><tr style='text-align:left'><td style='vertical-align:top'><td style='color:rgba(0,85,194);'><strong>&#10095; Info</strong></td><td>Model converged with mu = 0.0361534 after 2.89 seconds.</td></tr></table>"
      ]
     },
     "metadata": {},
     "output_type": "display_data"
    },
    {
     "data": {
      "text/html": [
       "<table><tr style='text-align:left'><td style='vertical-align:top'><td style='color:rgba(0,85,194);'><strong>&#10095; Info</strong></td><td>Model converged with mu = 0.0350604 after 3.19 seconds.</td></tr></table>"
      ]
     },
     "metadata": {},
     "output_type": "display_data"
    },
    {
     "data": {
      "text/html": [
       "<table><tr style='text-align:left'><td style='vertical-align:top'><td style='color:rgba(0,85,194);'><strong>&#10095; Info</strong></td><td>Model converged with mu = 0.0339917 after 2.96 seconds.</td></tr></table>"
      ]
     },
     "metadata": {},
     "output_type": "display_data"
    },
    {
     "data": {
      "text/html": [
       "<table><tr style='text-align:left'><td style='vertical-align:top'><td style='color:rgba(0,85,194);'><strong>&#10095; Info</strong></td><td>Model converged with mu = 0.0329473 after 2.89 seconds.</td></tr></table>"
      ]
     },
     "metadata": {},
     "output_type": "display_data"
    },
    {
     "data": {
      "text/html": [
       "<table><tr style='text-align:left'><td style='vertical-align:top'><td style='color:rgba(0,85,194);'><strong>&#10095; Info</strong></td><td>Model converged with mu = 0.0319274 after 2.88 seconds.</td></tr></table>"
      ]
     },
     "metadata": {},
     "output_type": "display_data"
    },
    {
     "data": {
      "text/html": [
       "<table><tr style='text-align:left'><td style='vertical-align:top'><td style='color:rgba(0,85,194);'><strong>&#10095; Info</strong></td><td>Model converged with mu = 0.0309318 after 2.78 seconds.</td></tr></table>"
      ]
     },
     "metadata": {},
     "output_type": "display_data"
    },
    {
     "data": {
      "text/html": [
       "<table><tr style='text-align:left'><td style='vertical-align:top'><td style='color:rgba(0,85,194);'><strong>&#10095; Info</strong></td><td>Model converged with mu = 0.0299603 after 2.69 seconds.</td></tr></table>"
      ]
     },
     "metadata": {},
     "output_type": "display_data"
    },
    {
     "data": {
      "text/html": [
       "<table><tr style='text-align:left'><td style='vertical-align:top'><td style='color:rgba(0,85,194);'><strong>&#10095; Info</strong></td><td>Model converged with mu = 0.0290129 after 2.71 seconds.</td></tr></table>"
      ]
     },
     "metadata": {},
     "output_type": "display_data"
    },
    {
     "data": {
      "text/html": [
       "<table><tr style='text-align:left'><td style='vertical-align:top'><td style='color:rgba(0,85,194);'><strong>&#10095; Info</strong></td><td>Model converged with mu = 0.0280895 after 2.79 seconds.</td></tr></table>"
      ]
     },
     "metadata": {},
     "output_type": "display_data"
    },
    {
     "data": {
      "text/html": [
       "<table><tr style='text-align:left'><td style='vertical-align:top'><td style='color:rgba(0,85,194);'><strong>&#10095; Info</strong></td><td>Model converged with mu = 0.0271898 after 2.67 seconds.</td></tr></table>"
      ]
     },
     "metadata": {},
     "output_type": "display_data"
    },
    {
     "data": {
      "text/html": [
       "<table><tr style='text-align:left'><td style='vertical-align:top'><td style='color:rgba(0,85,194);'><strong>&#10095; Info</strong></td><td>Model converged with mu = 0.0263135 after 2.69 seconds.</td></tr></table>"
      ]
     },
     "metadata": {},
     "output_type": "display_data"
    },
    {
     "data": {
      "text/html": [
       "<table><tr style='text-align:left'><td style='vertical-align:top'><td style='color:rgba(0,85,194);'><strong>&#10095; Info</strong></td><td>Model converged with mu = 0.0254605 after 2.61 seconds.</td></tr></table>"
      ]
     },
     "metadata": {},
     "output_type": "display_data"
    },
    {
     "data": {
      "text/html": [
       "<table><tr style='text-align:left'><td style='vertical-align:top'><td style='color:rgba(0,85,194);'><strong>&#10095; Info</strong></td><td>Model converged with mu = 0.0246306 after 2.56 seconds.</td></tr></table>"
      ]
     },
     "metadata": {},
     "output_type": "display_data"
    },
    {
     "data": {
      "text/html": [
       "<table><tr style='text-align:left'><td style='vertical-align:top'><td style='color:rgba(0,85,194);'><strong>&#10095; Info</strong></td><td>Model converged with mu = 0.0238233 after 2.62 seconds.</td></tr></table>"
      ]
     },
     "metadata": {},
     "output_type": "display_data"
    },
    {
     "data": {
      "text/html": [
       "<table><tr style='text-align:left'><td style='vertical-align:top'><td style='color:rgba(0,85,194);'><strong>&#10095; Info</strong></td><td>Model converged with mu = 0.0230383 after 2.54 seconds.</td></tr></table>"
      ]
     },
     "metadata": {},
     "output_type": "display_data"
    },
    {
     "data": {
      "text/html": [
       "<table><tr style='text-align:left'><td style='vertical-align:top'><td style='color:rgba(0,85,194);'><strong>&#10095; Info</strong></td><td>Model converged with mu = 0.0222753 after 2.89 seconds.</td></tr></table>"
      ]
     },
     "metadata": {},
     "output_type": "display_data"
    },
    {
     "data": {
      "text/html": [
       "<table><tr style='text-align:left'><td style='vertical-align:top'><td style='color:rgba(0,85,194);'><strong>&#10095; Info</strong></td><td>Model converged with mu = 0.0215341 after 2.87 seconds.</td></tr></table>"
      ]
     },
     "metadata": {},
     "output_type": "display_data"
    },
    {
     "data": {
      "text/html": [
       "<table><tr style='text-align:left'><td style='vertical-align:top'><td style='color:rgba(0,85,194);'><strong>&#10095; Info</strong></td><td>Model converged with mu = 0.0208141 after 2.64 seconds.</td></tr></table>"
      ]
     },
     "metadata": {},
     "output_type": "display_data"
    },
    {
     "data": {
      "text/html": [
       "<table><tr style='text-align:left'><td style='vertical-align:top'><td style='color:rgba(0,85,194);'><strong>&#10095; Info</strong></td><td>Model converged with mu = 0.0201149 after 2.64 seconds.</td></tr></table>"
      ]
     },
     "metadata": {},
     "output_type": "display_data"
    },
    {
     "data": {
      "text/html": [
       "<table><tr style='text-align:left'><td style='vertical-align:top'><td style='color:rgba(0,85,194);'><strong>&#10095; Info</strong></td><td>Model converged with mu = 0.0194364 after 2.48 seconds.</td></tr></table>"
      ]
     },
     "metadata": {},
     "output_type": "display_data"
    },
    {
     "data": {
      "text/html": [
       "<table><tr style='text-align:left'><td style='vertical-align:top'><td style='color:rgba(0,85,194);'><strong>&#10095; Info</strong></td><td>Model converged with mu = 0.0187779 after 2.49 seconds.</td></tr></table>"
      ]
     },
     "metadata": {},
     "output_type": "display_data"
    },
    {
     "data": {
      "text/html": [
       "<table><tr style='text-align:left'><td style='vertical-align:top'><td style='color:rgba(0,85,194);'><strong>&#10095; Info</strong></td><td>Model converged with mu = 0.0181391 after 2.34 seconds.</td></tr></table>"
      ]
     },
     "metadata": {},
     "output_type": "display_data"
    },
    {
     "data": {
      "text/html": [
       "<table><tr style='text-align:left'><td style='vertical-align:top'><td style='color:rgba(0,85,194);'><strong>&#10095; Info</strong></td><td>Model converged with mu = 0.0175197 after 2.33 seconds.</td></tr></table>"
      ]
     },
     "metadata": {},
     "output_type": "display_data"
    },
    {
     "data": {
      "text/html": [
       "<table><tr style='text-align:left'><td style='vertical-align:top'><td style='color:rgba(0,85,194);'><strong>&#10095; Info</strong></td><td>Model converged with mu = 0.0169191 after 2.58 seconds.</td></tr></table>"
      ]
     },
     "metadata": {},
     "output_type": "display_data"
    },
    {
     "data": {
      "text/html": [
       "<table><tr style='text-align:left'><td style='vertical-align:top'><td style='color:rgba(0,85,194);'><strong>&#10095; Info</strong></td><td>Model converged with mu = 0.016337 after 2.65 seconds.</td></tr></table>"
      ]
     },
     "metadata": {},
     "output_type": "display_data"
    },
    {
     "data": {
      "text/html": [
       "<table><tr style='text-align:left'><td style='vertical-align:top'><td style='color:rgba(0,85,194);'><strong>&#10095; Info</strong></td><td>Model converged with mu = 0.015773 after 2.53 seconds.</td></tr></table>"
      ]
     },
     "metadata": {},
     "output_type": "display_data"
    },
    {
     "data": {
      "text/html": [
       "<table><tr style='text-align:left'><td style='vertical-align:top'><td style='color:rgba(0,85,194);'><strong>&#10095; Info</strong></td><td>Model converged with mu = 0.0152265 after 2.38 seconds.</td></tr></table>"
      ]
     },
     "metadata": {},
     "output_type": "display_data"
    },
    {
     "data": {
      "text/html": [
       "<table><tr style='text-align:left'><td style='vertical-align:top'><td style='color:rgba(0,85,194);'><strong>&#10095; Info</strong></td><td>Model converged with mu = 0.0146973 after 2.52 seconds.</td></tr></table>"
      ]
     },
     "metadata": {},
     "output_type": "display_data"
    },
    {
     "data": {
      "text/html": [
       "<table><tr style='text-align:left'><td style='vertical-align:top'><td style='color:rgba(0,85,194);'><strong>&#10095; Info</strong></td><td>Model converged with mu = 0.0141848 after 2.39 seconds.</td></tr></table>"
      ]
     },
     "metadata": {},
     "output_type": "display_data"
    },
    {
     "data": {
      "text/html": [
       "<table><tr style='text-align:left'><td style='vertical-align:top'><td style='color:rgba(0,85,194);'><strong>&#10095; Info</strong></td><td>Model converged with mu = 0.0136887 after 2.27 seconds.</td></tr></table>"
      ]
     },
     "metadata": {},
     "output_type": "display_data"
    },
    {
     "data": {
      "text/html": [
       "<table><tr style='text-align:left'><td style='vertical-align:top'><td style='color:rgba(0,85,194);'><strong>&#10095; Info</strong></td><td>Model converged with mu = 0.0132085 after 2.31 seconds.</td></tr></table>"
      ]
     },
     "metadata": {},
     "output_type": "display_data"
    },
    {
     "data": {
      "text/html": [
       "<table><tr style='text-align:left'><td style='vertical-align:top'><td style='color:rgba(0,85,194);'><strong>&#10095; Info</strong></td><td>Model converged with mu = 0.0127439 after 2.22 seconds.</td></tr></table>"
      ]
     },
     "metadata": {},
     "output_type": "display_data"
    },
    {
     "data": {
      "text/html": [
       "<table><tr style='text-align:left'><td style='vertical-align:top'><td style='color:rgba(0,85,194);'><strong>&#10095; Info</strong></td><td>Model converged with mu = 0.0122943 after 2.17 seconds.</td></tr></table>"
      ]
     },
     "metadata": {},
     "output_type": "display_data"
    },
    {
     "data": {
      "text/html": [
       "<table><tr style='text-align:left'><td style='vertical-align:top'><td style='color:rgba(0,85,194);'><strong>&#10095; Info</strong></td><td>Model converged with mu = 0.0118595 after 2.08 seconds.</td></tr></table>"
      ]
     },
     "metadata": {},
     "output_type": "display_data"
    },
    {
     "data": {
      "text/html": [
       "<table><tr style='text-align:left'><td style='vertical-align:top'><td style='color:rgba(0,85,194);'><strong>&#10095; Info</strong></td><td>Model converged with mu = 0.011439 after 2.13 seconds.</td></tr></table>"
      ]
     },
     "metadata": {},
     "output_type": "display_data"
    },
    {
     "data": {
      "text/html": [
       "<table><tr style='text-align:left'><td style='vertical-align:top'><td style='color:rgba(0,85,194);'><strong>&#10095; Info</strong></td><td>Model converged with mu = 0.0110323 after 2.08 seconds.</td></tr></table>"
      ]
     },
     "metadata": {},
     "output_type": "display_data"
    },
    {
     "data": {
      "text/html": [
       "<table><tr style='text-align:left'><td style='vertical-align:top'><td style='color:rgba(0,85,194);'><strong>&#10095; Info</strong></td><td>Model converged with mu = 0.0106392 after 1.93 seconds.</td></tr></table>"
      ]
     },
     "metadata": {},
     "output_type": "display_data"
    },
    {
     "data": {
      "text/html": [
       "<table><tr style='text-align:left'><td style='vertical-align:top'><td style='color:rgba(0,85,194);'><strong>&#10095; Info</strong></td><td>Model converged with mu = 0.0102592 after 1.87 seconds.</td></tr></table>"
      ]
     },
     "metadata": {},
     "output_type": "display_data"
    },
    {
     "data": {
      "text/html": [
       "<table><tr style='text-align:left'><td style='vertical-align:top'><td style='color:rgba(0,85,194);'><strong>&#10095; Info</strong></td><td>Model converged with mu = 0.00989198 after 1.83 seconds.</td></tr></table>"
      ]
     },
     "metadata": {},
     "output_type": "display_data"
    },
    {
     "data": {
      "text/html": [
       "<table><tr style='text-align:left'><td style='vertical-align:top'><td style='color:rgba(0,85,194);'><strong>&#10095; Info</strong></td><td>Model converged with mu = 0.00953715 after 1.79 seconds.</td></tr></table>"
      ]
     },
     "metadata": {},
     "output_type": "display_data"
    },
    {
     "data": {
      "text/html": [
       "<table><tr style='text-align:left'><td style='vertical-align:top'><td style='color:rgba(0,85,194);'><strong>&#10095; Info</strong></td><td>Model converged with mu = 0.00919426 after 1.75 seconds.</td></tr></table>"
      ]
     },
     "metadata": {},
     "output_type": "display_data"
    },
    {
     "data": {
      "text/html": [
       "<table><tr style='text-align:left'><td style='vertical-align:top'><td style='color:rgba(0,85,194);'><strong>&#10095; Info</strong></td><td>Model converged with mu = 0.00886317 after 1.76 seconds.</td></tr></table>"
      ]
     },
     "metadata": {},
     "output_type": "display_data"
    },
    {
     "data": {
      "text/html": [
       "<table><tr style='text-align:left'><td style='vertical-align:top'><td style='color:rgba(0,85,194);'><strong>&#10095; Info</strong></td><td>Model converged with mu = 0.00854325 after 1.69 seconds.</td></tr></table>"
      ]
     },
     "metadata": {},
     "output_type": "display_data"
    },
    {
     "data": {
      "text/html": [
       "<table><tr style='text-align:left'><td style='vertical-align:top'><td style='color:rgba(0,85,194);'><strong>&#10095; Info</strong></td><td>Model converged with mu = 0.00823436 after 1.92 seconds.</td></tr></table>"
      ]
     },
     "metadata": {},
     "output_type": "display_data"
    },
    {
     "data": {
      "text/html": [
       "<table><tr style='text-align:left'><td style='vertical-align:top'><td style='color:rgba(0,85,194);'><strong>&#10095; Info</strong></td><td>Model converged with mu = 0.00793612 after 1.80 seconds.</td></tr></table>"
      ]
     },
     "metadata": {},
     "output_type": "display_data"
    },
    {
     "data": {
      "text/html": [
       "<table><tr style='text-align:left'><td style='vertical-align:top'><td style='color:rgba(0,85,194);'><strong>&#10095; Info</strong></td><td>Model converged with mu = 0.00764806 after 1.68 seconds.</td></tr></table>"
      ]
     },
     "metadata": {},
     "output_type": "display_data"
    },
    {
     "data": {
      "text/html": [
       "<table><tr style='text-align:left'><td style='vertical-align:top'><td style='color:rgba(0,85,194);'><strong>&#10095; Info</strong></td><td>Model converged with mu = 0.00737016 after 1.68 seconds.</td></tr></table>"
      ]
     },
     "metadata": {},
     "output_type": "display_data"
    },
    {
     "data": {
      "text/html": [
       "<table><tr style='text-align:left'><td style='vertical-align:top'><td style='color:rgba(0,85,194);'><strong>&#10095; Info</strong></td><td>Model converged with mu = 0.00710178 after 1.67 seconds.</td></tr></table>"
      ]
     },
     "metadata": {},
     "output_type": "display_data"
    },
    {
     "data": {
      "text/html": [
       "<table><tr style='text-align:left'><td style='vertical-align:top'><td style='color:rgba(0,85,194);'><strong>&#10095; Info</strong></td><td>Model converged with mu = 0.00684282 after 1.61 seconds.</td></tr></table>"
      ]
     },
     "metadata": {},
     "output_type": "display_data"
    },
    {
     "data": {
      "text/html": [
       "<table><tr style='text-align:left'><td style='vertical-align:top'><td style='color:rgba(0,85,194);'><strong>&#10095; Info</strong></td><td>Model converged with mu = 0.00659298 after 1.63 seconds.</td></tr></table>"
      ]
     },
     "metadata": {},
     "output_type": "display_data"
    },
    {
     "data": {
      "text/html": [
       "<table><tr style='text-align:left'><td style='vertical-align:top'><td style='color:rgba(0,85,194);'><strong>&#10095; Info</strong></td><td>Model converged with mu = 0.00635171 after 1.50 seconds.</td></tr></table>"
      ]
     },
     "metadata": {},
     "output_type": "display_data"
    },
    {
     "data": {
      "text/html": [
       "<table><tr style='text-align:left'><td style='vertical-align:top'><td style='color:rgba(0,85,194);'><strong>&#10095; Info</strong></td><td>Model converged with mu = 0.00611911 after 1.46 seconds.</td></tr></table>"
      ]
     },
     "metadata": {},
     "output_type": "display_data"
    },
    {
     "data": {
      "text/html": [
       "<table><tr style='text-align:left'><td style='vertical-align:top'><td style='color:rgba(0,85,194);'><strong>&#10095; Info</strong></td><td>Model converged with mu = 0.0058947 after 1.44 seconds.</td></tr></table>"
      ]
     },
     "metadata": {},
     "output_type": "display_data"
    },
    {
     "data": {
      "text/html": [
       "<table><tr style='text-align:left'><td style='vertical-align:top'><td style='color:rgba(0,85,194);'><strong>&#10095; Info</strong></td><td>Model converged with mu = 0.00567813 after 1.42 seconds.</td></tr></table>"
      ]
     },
     "metadata": {},
     "output_type": "display_data"
    },
    {
     "data": {
      "text/html": [
       "<table><tr style='text-align:left'><td style='vertical-align:top'><td style='color:rgba(0,85,194);'><strong>&#10095; Info</strong></td><td>Model converged with mu = 0.00546936 after 1.34 seconds.</td></tr></table>"
      ]
     },
     "metadata": {},
     "output_type": "display_data"
    },
    {
     "data": {
      "text/html": [
       "<table><tr style='text-align:left'><td style='vertical-align:top'><td style='color:rgba(0,85,194);'><strong>&#10095; Info</strong></td><td>Model converged with mu = 0.00526792 after 1.34 seconds.</td></tr></table>"
      ]
     },
     "metadata": {},
     "output_type": "display_data"
    },
    {
     "data": {
      "text/html": [
       "<table><tr style='text-align:left'><td style='vertical-align:top'><td style='color:rgba(0,85,194);'><strong>&#10095; Info</strong></td><td>Model converged with mu = 0.00507372 after 1.40 seconds.</td></tr></table>"
      ]
     },
     "metadata": {},
     "output_type": "display_data"
    },
    {
     "data": {
      "text/html": [
       "<table><tr style='text-align:left'><td style='vertical-align:top'><td style='color:rgba(0,85,194);'><strong>&#10095; Info</strong></td><td>Model converged with mu = 0.00488646 after 1.34 seconds.</td></tr></table>"
      ]
     },
     "metadata": {},
     "output_type": "display_data"
    },
    {
     "data": {
      "text/html": [
       "<table><tr style='text-align:left'><td style='vertical-align:top'><td style='color:rgba(0,85,194);'><strong>&#10095; Info</strong></td><td>Model converged with mu = 0.00470587 after 1.25 seconds.</td></tr></table>"
      ]
     },
     "metadata": {},
     "output_type": "display_data"
    },
    {
     "data": {
      "text/html": [
       "<table><tr style='text-align:left'><td style='vertical-align:top'><td style='color:rgba(0,85,194);'><strong>&#10095; Info</strong></td><td>Model converged with mu = 0.00453176 after 1.27 seconds.</td></tr></table>"
      ]
     },
     "metadata": {},
     "output_type": "display_data"
    },
    {
     "data": {
      "text/html": [
       "<table><tr style='text-align:left'><td style='vertical-align:top'><td style='color:rgba(0,85,194);'><strong>&#10095; Info</strong></td><td>Model converged with mu = 0.00436393 after 1.21 seconds.</td></tr></table>"
      ]
     },
     "metadata": {},
     "output_type": "display_data"
    },
    {
     "data": {
      "text/html": [
       "<table><tr style='text-align:left'><td style='vertical-align:top'><td style='color:rgba(0,85,194);'><strong>&#10095; Info</strong></td><td>Model converged with mu = 0.0042022 after 1.14 seconds.</td></tr></table>"
      ]
     },
     "metadata": {},
     "output_type": "display_data"
    },
    {
     "data": {
      "text/html": [
       "<table><tr style='text-align:left'><td style='vertical-align:top'><td style='color:rgba(0,85,194);'><strong>&#10095; Info</strong></td><td>Model converged with mu = 0.00404622 after 1.18 seconds.</td></tr></table>"
      ]
     },
     "metadata": {},
     "output_type": "display_data"
    },
    {
     "data": {
      "text/html": [
       "<table><tr style='text-align:left'><td style='vertical-align:top'><td style='color:rgba(0,85,194);'><strong>&#10095; Info</strong></td><td>Model converged with mu = 0.00389594 after 1.14 seconds.</td></tr></table>"
      ]
     },
     "metadata": {},
     "output_type": "display_data"
    },
    {
     "data": {
      "text/html": [
       "<table><tr style='text-align:left'><td style='vertical-align:top'><td style='color:rgba(0,85,194);'><strong>&#10095; Info</strong></td><td>Model converged with mu = 0.00375108 after 1.17 seconds.</td></tr></table>"
      ]
     },
     "metadata": {},
     "output_type": "display_data"
    },
    {
     "data": {
      "text/html": [
       "<table><tr style='text-align:left'><td style='vertical-align:top'><td style='color:rgba(0,85,194);'><strong>&#10095; Info</strong></td><td>Model converged with mu = 0.00361141 after 1.09 seconds.</td></tr></table>"
      ]
     },
     "metadata": {},
     "output_type": "display_data"
    },
    {
     "data": {
      "text/html": [
       "<table><tr style='text-align:left'><td style='vertical-align:top'><td style='color:rgba(0,85,194);'><strong>&#10095; Info</strong></td><td>Model converged with mu = 0.00347701 after 1.08 seconds.</td></tr></table>"
      ]
     },
     "metadata": {},
     "output_type": "display_data"
    },
    {
     "data": {
      "text/html": [
       "<table><tr style='text-align:left'><td style='vertical-align:top'><td style='color:rgba(0,85,194);'><strong>&#10095; Info</strong></td><td>Model converged with mu = 0.00334741 after 1.01 seconds.</td></tr></table>"
      ]
     },
     "metadata": {},
     "output_type": "display_data"
    },
    {
     "data": {
      "text/html": [
       "<table><tr style='text-align:left'><td style='vertical-align:top'><td style='color:rgba(0,85,194);'><strong>&#10095; Info</strong></td><td>Model converged with mu = 0.00322236 after 0.97 seconds.</td></tr></table>"
      ]
     },
     "metadata": {},
     "output_type": "display_data"
    },
    {
     "data": {
      "text/html": [
       "<table><tr style='text-align:left'><td style='vertical-align:top'><td style='color:rgba(0,85,194);'><strong>&#10095; Info</strong></td><td>Model converged with mu = 0.00310216 after 1.01 seconds.</td></tr></table>"
      ]
     },
     "metadata": {},
     "output_type": "display_data"
    },
    {
     "data": {
      "text/html": [
       "<table><tr style='text-align:left'><td style='vertical-align:top'><td style='color:rgba(0,85,194);'><strong>&#10095; Info</strong></td><td>Model converged with mu = 0.00298637 after 0.95 seconds.</td></tr></table>"
      ]
     },
     "metadata": {},
     "output_type": "display_data"
    },
    {
     "data": {
      "text/html": [
       "<table><tr style='text-align:left'><td style='vertical-align:top'><td style='color:rgba(0,85,194);'><strong>&#10095; Info</strong></td><td>Model converged with mu = 0.00287442 after 0.86 seconds.</td></tr></table>"
      ]
     },
     "metadata": {},
     "output_type": "display_data"
    },
    {
     "data": {
      "text/html": [
       "<table><tr style='text-align:left'><td style='vertical-align:top'><td style='color:rgba(0,85,194);'><strong>&#10095; Info</strong></td><td>Model converged with mu = 0.00276697 after 0.88 seconds.</td></tr></table>"
      ]
     },
     "metadata": {},
     "output_type": "display_data"
    },
    {
     "data": {
      "text/html": [
       "<table><tr style='text-align:left'><td style='vertical-align:top'><td style='color:rgba(0,85,194);'><strong>&#10095; Info</strong></td><td>Model converged with mu = 0.00266349 after 0.92 seconds.</td></tr></table>"
      ]
     },
     "metadata": {},
     "output_type": "display_data"
    },
    {
     "data": {
      "text/html": [
       "<table><tr style='text-align:left'><td style='vertical-align:top'><td style='color:rgba(0,85,194);'><strong>&#10095; Info</strong></td><td>Model converged with mu = 0.00256339 after 0.83 seconds.</td></tr></table>"
      ]
     },
     "metadata": {},
     "output_type": "display_data"
    },
    {
     "data": {
      "text/html": [
       "<table><tr style='text-align:left'><td style='vertical-align:top'><td style='color:rgba(0,85,194);'><strong>&#10095; Info</strong></td><td>Model converged with mu = 0.00246739 after 0.82 seconds.</td></tr></table>"
      ]
     },
     "metadata": {},
     "output_type": "display_data"
    },
    {
     "data": {
      "text/html": [
       "<table><tr style='text-align:left'><td style='vertical-align:top'><td style='color:rgba(0,85,194);'><strong>&#10095; Info</strong></td><td>Model converged with mu = 0.00237492 after 0.82 seconds.</td></tr></table>"
      ]
     },
     "metadata": {},
     "output_type": "display_data"
    },
    {
     "data": {
      "text/html": [
       "<table><tr style='text-align:left'><td style='vertical-align:top'><td style='color:rgba(0,85,194);'><strong>&#10095; Info</strong></td><td>Model converged with mu = 0.00228552 after 0.75 seconds.</td></tr></table>"
      ]
     },
     "metadata": {},
     "output_type": "display_data"
    },
    {
     "data": {
      "text/html": [
       "<table><tr style='text-align:left'><td style='vertical-align:top'><td style='color:rgba(0,85,194);'><strong>&#10095; Info</strong></td><td>Model converged with mu = 0.00219972 after 0.74 seconds.</td></tr></table>"
      ]
     },
     "metadata": {},
     "output_type": "display_data"
    },
    {
     "data": {
      "text/html": [
       "<table><tr style='text-align:left'><td style='vertical-align:top'><td style='color:rgba(0,85,194);'><strong>&#10095; Info</strong></td><td>Model converged with mu = 0.00211714 after 0.74 seconds.</td></tr></table>"
      ]
     },
     "metadata": {},
     "output_type": "display_data"
    },
    {
     "data": {
      "text/html": [
       "<table><tr style='text-align:left'><td style='vertical-align:top'><td style='color:rgba(0,85,194);'><strong>&#10095; Info</strong></td><td>Model converged with mu = 0.00203739 after 0.75 seconds.</td></tr></table>"
      ]
     },
     "metadata": {},
     "output_type": "display_data"
    },
    {
     "data": {
      "text/html": [
       "<table><tr style='text-align:left'><td style='vertical-align:top'><td style='color:rgba(0,85,194);'><strong>&#10095; Info</strong></td><td>Model converged with mu = 0.00196069 after 0.71 seconds.</td></tr></table>"
      ]
     },
     "metadata": {},
     "output_type": "display_data"
    },
    {
     "data": {
      "text/html": [
       "<table><tr style='text-align:left'><td style='vertical-align:top'><td style='color:rgba(0,85,194);'><strong>&#10095; Info</strong></td><td>Model converged with mu = 0.00188695 after 0.70 seconds.</td></tr></table>"
      ]
     },
     "metadata": {},
     "output_type": "display_data"
    },
    {
     "data": {
      "text/html": [
       "<table><tr style='text-align:left'><td style='vertical-align:top'><td style='color:rgba(0,85,194);'><strong>&#10095; Info</strong></td><td>Model converged with mu = 0.00181584 after 0.70 seconds.</td></tr></table>"
      ]
     },
     "metadata": {},
     "output_type": "display_data"
    },
    {
     "data": {
      "text/html": [
       "<table><tr style='text-align:left'><td style='vertical-align:top'><td style='color:rgba(0,85,194);'><strong>&#10095; Info</strong></td><td>Model converged with mu = 0.00174733 after 0.72 seconds.</td></tr></table>"
      ]
     },
     "metadata": {},
     "output_type": "display_data"
    },
    {
     "data": {
      "text/html": [
       "<table><tr style='text-align:left'><td style='vertical-align:top'><td style='color:rgba(0,85,194);'><strong>&#10095; Info</strong></td><td>Model converged with mu = 0.00168147 after 0.71 seconds.</td></tr></table>"
      ]
     },
     "metadata": {},
     "output_type": "display_data"
    },
    {
     "data": {
      "text/html": [
       "<table><tr style='text-align:left'><td style='vertical-align:top'><td style='color:rgba(0,85,194);'><strong>&#10095; Info</strong></td><td>Model converged with mu = 0.00161809 after 0.72 seconds.</td></tr></table>"
      ]
     },
     "metadata": {},
     "output_type": "display_data"
    },
    {
     "data": {
      "text/html": [
       "<table><tr style='text-align:left'><td style='vertical-align:top'><td style='color:rgba(0,85,194);'><strong>&#10095; Info</strong></td><td>Model converged with mu = 0.00155693 after 0.69 seconds.</td></tr></table>"
      ]
     },
     "metadata": {},
     "output_type": "display_data"
    },
    {
     "data": {
      "text/html": [
       "<table><tr style='text-align:left'><td style='vertical-align:top'><td style='color:rgba(0,85,194);'><strong>&#10095; Info</strong></td><td>Model converged with mu = 0.00149813 after 0.62 seconds.</td></tr></table>"
      ]
     },
     "metadata": {},
     "output_type": "display_data"
    },
    {
     "data": {
      "text/html": [
       "<table><tr style='text-align:left'><td style='vertical-align:top'><td style='color:rgba(0,85,194);'><strong>&#10095; Info</strong></td><td>Model converged with mu = 0.00144157 after 0.59 seconds.</td></tr></table>"
      ]
     },
     "metadata": {},
     "output_type": "display_data"
    },
    {
     "data": {
      "text/html": [
       "<table><tr style='text-align:left'><td style='vertical-align:top'><td style='color:rgba(0,85,194);'><strong>&#10095; Info</strong></td><td>Model converged with mu = 0.00138705 after 0.55 seconds.</td></tr></table>"
      ]
     },
     "metadata": {},
     "output_type": "display_data"
    },
    {
     "data": {
      "text/html": [
       "<table><tr style='text-align:left'><td style='vertical-align:top'><td style='color:rgba(0,85,194);'><strong>&#10095; Info</strong></td><td>Model converged with mu = 0.0013346 after 0.57 seconds.</td></tr></table>"
      ]
     },
     "metadata": {},
     "output_type": "display_data"
    },
    {
     "data": {
      "text/html": [
       "<table><tr style='text-align:left'><td style='vertical-align:top'><td style='color:rgba(0,85,194);'><strong>&#10095; Info</strong></td><td>Model converged with mu = 0.00128414 after 0.52 seconds.</td></tr></table>"
      ]
     },
     "metadata": {},
     "output_type": "display_data"
    },
    {
     "data": {
      "text/html": [
       "<table><tr style='text-align:left'><td style='vertical-align:top'><td style='color:rgba(0,85,194);'><strong>&#10095; Info</strong></td><td>Model converged with mu = 0.00123553 after 0.52 seconds.</td></tr></table>"
      ]
     },
     "metadata": {},
     "output_type": "display_data"
    },
    {
     "data": {
      "text/html": [
       "<table><tr style='text-align:left'><td style='vertical-align:top'><td style='color:rgba(0,85,194);'><strong>&#10095; Info</strong></td><td>Model converged with mu = 0.00118874 after 0.52 seconds.</td></tr></table>"
      ]
     },
     "metadata": {},
     "output_type": "display_data"
    },
    {
     "data": {
      "text/html": [
       "<table><tr style='text-align:left'><td style='vertical-align:top'><td style='color:rgba(0,85,194);'><strong>&#10095; Info</strong></td><td>Model converged with mu = 0.00114374 after 0.51 seconds.</td></tr></table>"
      ]
     },
     "metadata": {},
     "output_type": "display_data"
    },
    {
     "data": {
      "text/html": [
       "<table><tr style='text-align:left'><td style='vertical-align:top'><td style='color:rgba(0,85,194);'><strong>&#10095; Info</strong></td><td>Model converged with mu = 0.00110041 after 0.46 seconds.</td></tr></table>"
      ]
     },
     "metadata": {},
     "output_type": "display_data"
    },
    {
     "data": {
      "text/html": [
       "<table><tr style='text-align:left'><td style='vertical-align:top'><td style='color:rgba(0,85,194);'><strong>&#10095; Info</strong></td><td>Model converged with mu = 0.00105869 after 0.45 seconds.</td></tr></table>"
      ]
     },
     "metadata": {},
     "output_type": "display_data"
    },
    {
     "data": {
      "text/html": [
       "<table><tr style='text-align:left'><td style='vertical-align:top'><td style='color:rgba(0,85,194);'><strong>&#10095; Info</strong></td><td>Model converged with mu = 0.00101856 after 0.44 seconds.</td></tr></table>"
      ]
     },
     "metadata": {},
     "output_type": "display_data"
    },
    {
     "data": {
      "text/html": [
       "<table><tr style='text-align:left'><td style='vertical-align:top'><td style='color:rgba(0,85,194);'><strong>&#10095; Info</strong></td><td>Model converged with mu = 0.000979949 after 0.49 seconds.</td></tr></table>"
      ]
     },
     "metadata": {},
     "output_type": "display_data"
    },
    {
     "data": {
      "text/html": [
       "<table><tr style='text-align:left'><td style='vertical-align:top'><td style='color:rgba(0,85,194);'><strong>&#10095; Info</strong></td><td>Model converged with mu = 0.00094277 after 0.45 seconds.</td></tr></table>"
      ]
     },
     "metadata": {},
     "output_type": "display_data"
    },
    {
     "data": {
      "text/html": [
       "<table><tr style='text-align:left'><td style='vertical-align:top'><td style='color:rgba(0,85,194);'><strong>&#10095; Info</strong></td><td>Model converged with mu = 0.000906975 after 0.41 seconds.</td></tr></table>"
      ]
     },
     "metadata": {},
     "output_type": "display_data"
    },
    {
     "data": {
      "text/html": [
       "<table><tr style='text-align:left'><td style='vertical-align:top'><td style='color:rgba(0,85,194);'><strong>&#10095; Info</strong></td><td>Model converged with mu = 0.000872564 after 0.38 seconds.</td></tr></table>"
      ]
     },
     "metadata": {},
     "output_type": "display_data"
    },
    {
     "data": {
      "text/html": [
       "<table><tr style='text-align:left'><td style='vertical-align:top'><td style='color:rgba(0,85,194);'><strong>&#10095; Info</strong></td><td>Model converged with mu = 0.000839439 after 0.37 seconds.</td></tr></table>"
      ]
     },
     "metadata": {},
     "output_type": "display_data"
    },
    {
     "data": {
      "text/html": [
       "<table><tr style='text-align:left'><td style='vertical-align:top'><td style='color:rgba(0,85,194);'><strong>&#10095; Info</strong></td><td>Model converged with mu = 0.000807553 after 0.35 seconds.</td></tr></table>"
      ]
     },
     "metadata": {},
     "output_type": "display_data"
    },
    {
     "data": {
      "text/html": [
       "<table><tr style='text-align:left'><td style='vertical-align:top'><td style='color:rgba(0,85,194);'><strong>&#10095; Info</strong></td><td>Model converged with mu = 0.000776876 after 0.40 seconds.</td></tr></table>"
      ]
     },
     "metadata": {},
     "output_type": "display_data"
    },
    {
     "data": {
      "text/html": [
       "<table><tr style='text-align:left'><td style='vertical-align:top'><td style='color:rgba(0,85,194);'><strong>&#10095; Info</strong></td><td>Model converged with mu = 0.00074736 after 0.42 seconds.</td></tr></table>"
      ]
     },
     "metadata": {},
     "output_type": "display_data"
    },
    {
     "data": {
      "text/html": [
       "<table><tr style='text-align:left'><td style='vertical-align:top'><td style='color:rgba(0,85,194);'><strong>&#10095; Info</strong></td><td>Model converged with mu = 0.000718968 after 0.35 seconds.</td></tr></table>"
      ]
     },
     "metadata": {},
     "output_type": "display_data"
    },
    {
     "data": {
      "text/html": [
       "<table><tr style='text-align:left'><td style='vertical-align:top'><td style='color:rgba(0,85,194);'><strong>&#10095; Info</strong></td><td>Model converged with mu = 0.000691644 after 0.35 seconds.</td></tr></table>"
      ]
     },
     "metadata": {},
     "output_type": "display_data"
    },
    {
     "data": {
      "text/html": [
       "<table><tr style='text-align:left'><td style='vertical-align:top'><td style='color:rgba(0,85,194);'><strong>&#10095; Info</strong></td><td>Model converged with mu = 0.000665362 after 0.39 seconds.</td></tr></table>"
      ]
     },
     "metadata": {},
     "output_type": "display_data"
    },
    {
     "data": {
      "text/html": [
       "<table><tr style='text-align:left'><td style='vertical-align:top'><td style='color:rgba(0,85,194);'><strong>&#10095; Info</strong></td><td>Model converged with mu = 0.000640069 after 0.33 seconds.</td></tr></table>"
      ]
     },
     "metadata": {},
     "output_type": "display_data"
    },
    {
     "data": {
      "text/html": [
       "<table><tr style='text-align:left'><td style='vertical-align:top'><td style='color:rgba(0,85,194);'><strong>&#10095; Info</strong></td><td>Model converged with mu = 0.00061575 after 0.35 seconds.</td></tr></table>"
      ]
     },
     "metadata": {},
     "output_type": "display_data"
    },
    {
     "data": {
      "text/html": [
       "<table><tr style='text-align:left'><td style='vertical-align:top'><td style='color:rgba(0,85,194);'><strong>&#10095; Info</strong></td><td>Model converged with mu = 0.00059234 after 0.33 seconds.</td></tr></table>"
      ]
     },
     "metadata": {},
     "output_type": "display_data"
    },
    {
     "data": {
      "text/html": [
       "<table><tr style='text-align:left'><td style='vertical-align:top'><td style='color:rgba(0,85,194);'><strong>&#10095; Info</strong></td><td>Model converged with mu = 0.000569818 after 0.34 seconds.</td></tr></table>"
      ]
     },
     "metadata": {},
     "output_type": "display_data"
    },
    {
     "data": {
      "text/html": [
       "<table><tr style='text-align:left'><td style='vertical-align:top'><td style='color:rgba(0,85,194);'><strong>&#10095; Info</strong></td><td>Model converged with mu = 0.000548152 after 0.33 seconds.</td></tr></table>"
      ]
     },
     "metadata": {},
     "output_type": "display_data"
    },
    {
     "data": {
      "text/html": [
       "<table><tr style='text-align:left'><td style='vertical-align:top'><td style='color:rgba(0,85,194);'><strong>&#10095; Info</strong></td><td>Model converged with mu = 0.000527306 after 0.29 seconds.</td></tr></table>"
      ]
     },
     "metadata": {},
     "output_type": "display_data"
    },
    {
     "data": {
      "text/html": [
       "<table><tr style='text-align:left'><td style='vertical-align:top'><td style='color:rgba(0,85,194);'><strong>&#10095; Info</strong></td><td>Model converged with mu = 0.000507253 after 0.28 seconds.</td></tr></table>"
      ]
     },
     "metadata": {},
     "output_type": "display_data"
    },
    {
     "data": {
      "text/html": [
       "<table><tr style='text-align:left'><td style='vertical-align:top'><td style='color:rgba(0,85,194);'><strong>&#10095; Info</strong></td><td>Model converged with mu = 0.000487958 after 0.27 seconds.</td></tr></table>"
      ]
     },
     "metadata": {},
     "output_type": "display_data"
    },
    {
     "data": {
      "text/html": [
       "<table><tr style='text-align:left'><td style='vertical-align:top'><td style='color:rgba(0,85,194);'><strong>&#10095; Info</strong></td><td>Model converged with mu = 0.000469393 after 0.27 seconds.</td></tr></table>"
      ]
     },
     "metadata": {},
     "output_type": "display_data"
    },
    {
     "data": {
      "text/html": [
       "<table><tr style='text-align:left'><td style='vertical-align:top'><td style='color:rgba(0,85,194);'><strong>&#10095; Info</strong></td><td>Model converged with mu = 0.000451532 after 0.31 seconds.</td></tr></table>"
      ]
     },
     "metadata": {},
     "output_type": "display_data"
    },
    {
     "data": {
      "text/html": [
       "<table><tr style='text-align:left'><td style='vertical-align:top'><td style='color:rgba(0,85,194);'><strong>&#10095; Info</strong></td><td>Model converged with mu = 0.000434351 after 0.36 seconds.</td></tr></table>"
      ]
     },
     "metadata": {},
     "output_type": "display_data"
    },
    {
     "data": {
      "text/html": [
       "<table><tr style='text-align:left'><td style='vertical-align:top'><td style='color:rgba(0,85,194);'><strong>&#10095; Info</strong></td><td>Model converged with mu = 0.000417815 after 0.31 seconds.</td></tr></table>"
      ]
     },
     "metadata": {},
     "output_type": "display_data"
    }
   ],
   "source": [
    "# Load model\n",
    "model = gba.read_ods_model(path=\"../../gbamodels/ODS\", name=\"ExtendedModel\")\n",
    "\n",
    "# Generate accurate initial solution\n",
    "model.find_best_initial_solution(verbose=VERBOSE)\n",
    "\n",
    "# Find optimal solutions\n",
    "for condition_id in model.condition_ids:\n",
    "    model.set_condition(condition_id)\n",
    "    model.find_optimum(verbose=VERBOSE)\n",
    "\n",
    "# Modify infos\n",
    "model.add_info(category=\"Sheets\", key=\"q0\", content=\"Initial flux fraction vector\")\n",
    "model.add_info(category=\"Sheets\", key=\"qopt\", content=\"Optimal solutions per condition\")\n",
    "del model.info[\"Sheets\"][\"KA\"]\n",
    "\n",
    "# Save model\n",
    "model.write_to_ods(path=\"/Users/charlesrocabert/Desktop/new_models\", name=\"ExtendedModel\")\n",
    "model.write_to_csv(path=\"/Users/charlesrocabert/Desktop/new_models\", name=\"ExtendedModel\")"
   ]
  }
 ],
 "metadata": {
  "kernelspec": {
   "display_name": "Python 3",
   "language": "python",
   "name": "python3"
  },
  "language_info": {
   "codemirror_mode": {
    "name": "ipython",
    "version": 3
   },
   "file_extension": ".py",
   "mimetype": "text/x-python",
   "name": "python",
   "nbconvert_exporter": "python",
   "pygments_lexer": "ipython3",
   "version": "3.13.3"
  }
 },
 "nbformat": 4,
 "nbformat_minor": 2
}
