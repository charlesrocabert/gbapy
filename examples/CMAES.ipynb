{
 "cells": [
  {
   "cell_type": "code",
   "execution_count": 1,
   "metadata": {},
   "outputs": [],
   "source": [
    "import gba\n",
    "import cma"
   ]
  },
  {
   "cell_type": "code",
   "execution_count": null,
   "metadata": {},
   "outputs": [],
   "source": [
    "# Load model\n",
    "model = gba.read_ods_model(path=\"../../gbamodels/ODS\", name=\"G14\")\n",
    "\n"
   ]
  },
  {
   "cell_type": "code",
   "execution_count": 34,
   "metadata": {},
   "outputs": [
    {
     "data": {
      "text/html": [
       "<table><tr style='text-align:left'><td style='vertical-align:top'><td style='color:rgba(0,85,194);'><strong>&#10095; Info</strong></td><td>Model is inconsistent.</td></tr></table>"
      ]
     },
     "metadata": {},
     "output_type": "display_data"
    },
    {
     "data": {
      "text/plain": [
       "array([ 2.08416129e+00,  1.05016796e+00,  7.87625972e-01, -2.94948467e-02,\n",
       "        8.01569792e+01,  0.00000000e+00,  1.58874694e+01,  4.02929831e+00,\n",
       "        2.43984088e-01,  3.50608766e+00,  1.29022094e-01,  1.03973849e-01,\n",
       "        1.60446976e+01,  9.52060275e+01])"
      ]
     },
     "execution_count": 34,
     "metadata": {},
     "output_type": "execute_result"
    }
   ],
   "source": [
    "model.find_initial_solution(rhs_factor=50.0)\n",
    "model.p"
   ]
  },
  {
   "cell_type": "code",
   "execution_count": null,
   "metadata": {},
   "outputs": [],
   "source": []
  }
 ],
 "metadata": {
  "kernelspec": {
   "display_name": "Python 3",
   "language": "python",
   "name": "python3"
  },
  "language_info": {
   "codemirror_mode": {
    "name": "ipython",
    "version": 3
   },
   "file_extension": ".py",
   "mimetype": "text/x-python",
   "name": "python",
   "nbconvert_exporter": "python",
   "pygments_lexer": "ipython3",
   "version": "3.13.3"
  }
 },
 "nbformat": 4,
 "nbformat_minor": 2
}
