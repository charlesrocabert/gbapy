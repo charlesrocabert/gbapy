{
 "cells": [
  {
   "cell_type": "code",
   "execution_count": 1,
   "metadata": {},
   "outputs": [],
   "source": [
    "import gba\n",
    "import numpy as np\n",
    "import matplotlib.pyplot as plt"
   ]
  },
  {
   "cell_type": "code",
   "execution_count": 2,
   "metadata": {},
   "outputs": [],
   "source": [
    "model = gba.read_ods_model(path=\"../gba/data/models\", name=\"L3rev2\")"
   ]
  },
  {
   "cell_type": "code",
   "execution_count": 3,
   "metadata": {},
   "outputs": [
    {
     "name": "stdout",
     "output_type": "stream",
     "text": [
      "coucou RMM\n",
      "coucou RMM\n",
      "coucou RMM\n"
     ]
    },
    {
     "data": {
      "text/html": [
       "<table><tr style='text-align:left'><td style='vertical-align:top'><td style='color:rgba(0,85,194);'><strong>&#10095; Info</strong></td><td>Model is consistent with mu = 0.06822646196856656.</td></tr></table>"
      ]
     },
     "metadata": {},
     "output_type": "display_data"
    }
   ],
   "source": [
    "model.find_initial_solution(condition_id=\"15\", rhs_factor=50.0)"
   ]
  },
  {
   "cell_type": "code",
   "execution_count": 4,
   "metadata": {},
   "outputs": [
    {
     "name": "stderr",
     "output_type": "stream",
     "text": [
      "libc++abi: terminating due to uncaught exception of type std::runtime_error: > Error: The initial solution f0 is not consistent\n"
     ]
    },
    {
     "data": {
      "text/html": [
       "<table><tr style='text-align:left'><td style='vertical-align:top'><td style='color:rgba(240,147,1);'><strong>&#9888; Warning</strong></td><td>Solver failed.</td></tr></table>"
      ]
     },
     "metadata": {},
     "output_type": "display_data"
    },
    {
     "name": "stdout",
     "output_type": "stream",
     "text": [
      "Model inconsistent for conc = 0.7799999999999998\n",
      "[1.       0.98886  0.952213]\n",
      "True\n",
      "[0.01114  0.036647 0.952213]\n",
      "[  3.7876   12.45998 323.75242]\n",
      "[151.90402879  65.37100979 106.47738142]\n"
     ]
    }
   ],
   "source": [
    "mu_vec = []\n",
    "for conc in np.arange(1, 0.1, -0.01):\n",
    "    model.conditions[1,14] = conc\n",
    "    model.set_condition(condition_id=\"15\")\n",
    "    converged = model.find_optimum(verbose=False)\n",
    "    if converged:\n",
    "        mu_vec.append(model.mu)\n",
    "        model.set_f0(model.f.copy())\n",
    "    else:\n",
    "        print(\"Model inconsistent for conc =\", conc)\n",
    "        print(model.f)\n",
    "        model.calculate()\n",
    "        model.check_model_consistency()\n",
    "        print(model.consistent)\n",
    "        print(model.b)\n",
    "        print(model.c)\n",
    "        print(model.p)\n",
    "        break"
   ]
  },
  {
   "cell_type": "code",
   "execution_count": 5,
   "metadata": {},
   "outputs": [
    {
     "data": {
      "text/plain": [
       "False"
      ]
     },
     "execution_count": 5,
     "metadata": {},
     "output_type": "execute_result"
    }
   ],
   "source": [
    "model.adjust_concentrations"
   ]
  }
 ],
 "metadata": {
  "kernelspec": {
   "display_name": "Python 3",
   "language": "python",
   "name": "python3"
  },
  "language_info": {
   "codemirror_mode": {
    "name": "ipython",
    "version": 3
   },
   "file_extension": ".py",
   "mimetype": "text/x-python",
   "name": "python",
   "nbconvert_exporter": "python",
   "pygments_lexer": "ipython3",
   "version": "3.13.3"
  }
 },
 "nbformat": 4,
 "nbformat_minor": 2
}
