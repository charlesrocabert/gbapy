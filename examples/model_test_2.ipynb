{
 "cells": [
  {
   "cell_type": "code",
   "execution_count": 1,
   "metadata": {},
   "outputs": [],
   "source": [
    "import gba\n",
    "import numpy as np\n",
    "import matplotlib.pyplot as plt"
   ]
  },
  {
   "cell_type": "code",
   "execution_count": 2,
   "metadata": {},
   "outputs": [],
   "source": [
    "model = gba.read_ods_model(path=\"../gba/data/models\", name=\"GBAmodel\")"
   ]
  },
  {
   "cell_type": "code",
   "execution_count": 3,
   "metadata": {},
   "outputs": [
    {
     "name": "stdout",
     "output_type": "stream",
     "text": [
      "Condition: 1\n"
     ]
    },
    {
     "data": {
      "text/html": [
       "<table><tr style='text-align:left'><td style='vertical-align:top'><td style='color:rgba(0,85,194);'><strong>&#10095; Info</strong></td><td>Model is consistent with mu = 0.005528078502516681.</td></tr></table>"
      ]
     },
     "metadata": {},
     "output_type": "display_data"
    },
    {
     "data": {
      "text/html": [
       "<table><tr style='text-align:left'><td style='vertical-align:top'><td style='color:rgba(0,85,194);'><strong>&#10095; Info</strong></td><td>Model converged with mu = 2.03402 after 0.03 seconds.</td></tr></table>"
      ]
     },
     "metadata": {},
     "output_type": "display_data"
    },
    {
     "name": "stdout",
     "output_type": "stream",
     "text": [
      "Condition: 2\n"
     ]
    },
    {
     "data": {
      "text/html": [
       "<table><tr style='text-align:left'><td style='vertical-align:top'><td style='color:rgba(0,85,194);'><strong>&#10095; Info</strong></td><td>Model is consistent with mu = 0.00552791302302153.</td></tr></table>"
      ]
     },
     "metadata": {},
     "output_type": "display_data"
    },
    {
     "data": {
      "text/html": [
       "<table><tr style='text-align:left'><td style='vertical-align:top'><td style='color:rgba(0,85,194);'><strong>&#10095; Info</strong></td><td>Model converged with mu = 2.00209 after 0.03 seconds.</td></tr></table>"
      ]
     },
     "metadata": {},
     "output_type": "display_data"
    },
    {
     "name": "stdout",
     "output_type": "stream",
     "text": [
      "Condition: 3\n"
     ]
    },
    {
     "data": {
      "text/html": [
       "<table><tr style='text-align:left'><td style='vertical-align:top'><td style='color:rgba(0,85,194);'><strong>&#10095; Info</strong></td><td>Model is consistent with mu = 0.0055276648223536815.</td></tr></table>"
      ]
     },
     "metadata": {},
     "output_type": "display_data"
    },
    {
     "data": {
      "text/html": [
       "<table><tr style='text-align:left'><td style='vertical-align:top'><td style='color:rgba(0,85,194);'><strong>&#10095; Info</strong></td><td>Model converged with mu = 1.95659 after 0.03 seconds.</td></tr></table>"
      ]
     },
     "metadata": {},
     "output_type": "display_data"
    },
    {
     "name": "stdout",
     "output_type": "stream",
     "text": [
      "Condition: 4\n"
     ]
    },
    {
     "data": {
      "text/html": [
       "<table><tr style='text-align:left'><td style='vertical-align:top'><td style='color:rgba(0,85,194);'><strong>&#10095; Info</strong></td><td>Model is consistent with mu = 0.005527292563139438.</td></tr></table>"
      ]
     },
     "metadata": {},
     "output_type": "display_data"
    },
    {
     "data": {
      "text/html": [
       "<table><tr style='text-align:left'><td style='vertical-align:top'><td style='color:rgba(0,85,194);'><strong>&#10095; Info</strong></td><td>Model converged with mu = 1.89307 after 0.03 seconds.</td></tr></table>"
      ]
     },
     "metadata": {},
     "output_type": "display_data"
    },
    {
     "name": "stdout",
     "output_type": "stream",
     "text": [
      "Condition: 5\n"
     ]
    },
    {
     "data": {
      "text/html": [
       "<table><tr style='text-align:left'><td style='vertical-align:top'><td style='color:rgba(0,85,194);'><strong>&#10095; Info</strong></td><td>Model is consistent with mu = 0.0055267342683199714.</td></tr></table>"
      ]
     },
     "metadata": {},
     "output_type": "display_data"
    },
    {
     "data": {
      "text/html": [
       "<table><tr style='text-align:left'><td style='vertical-align:top'><td style='color:rgba(0,85,194);'><strong>&#10095; Info</strong></td><td>Model converged with mu = 1.80682 after 0.03 seconds.</td></tr></table>"
      ]
     },
     "metadata": {},
     "output_type": "display_data"
    },
    {
     "name": "stdout",
     "output_type": "stream",
     "text": [
      "Condition: 6\n"
     ]
    },
    {
     "data": {
      "text/html": [
       "<table><tr style='text-align:left'><td style='vertical-align:top'><td style='color:rgba(0,85,194);'><strong>&#10095; Info</strong></td><td>Model is consistent with mu = 0.005525897037527393.</td></tr></table>"
      ]
     },
     "metadata": {},
     "output_type": "display_data"
    },
    {
     "data": {
      "text/html": [
       "<table><tr style='text-align:left'><td style='vertical-align:top'><td style='color:rgba(0,85,194);'><strong>&#10095; Info</strong></td><td>Model converged with mu = 1.69377 after 0.03 seconds.</td></tr></table>"
      ]
     },
     "metadata": {},
     "output_type": "display_data"
    },
    {
     "name": "stdout",
     "output_type": "stream",
     "text": [
      "Condition: 7\n"
     ]
    },
    {
     "data": {
      "text/html": [
       "<table><tr style='text-align:left'><td style='vertical-align:top'><td style='color:rgba(0,85,194);'><strong>&#10095; Info</strong></td><td>Model is consistent with mu = 0.005524641666842767.</td></tr></table>"
      ]
     },
     "metadata": {},
     "output_type": "display_data"
    },
    {
     "data": {
      "text/html": [
       "<table><tr style='text-align:left'><td style='vertical-align:top'><td style='color:rgba(0,85,194);'><strong>&#10095; Info</strong></td><td>Model converged with mu = 1.55199 after 0.03 seconds.</td></tr></table>"
      ]
     },
     "metadata": {},
     "output_type": "display_data"
    },
    {
     "name": "stdout",
     "output_type": "stream",
     "text": [
      "Condition: 8\n"
     ]
    },
    {
     "data": {
      "text/html": [
       "<table><tr style='text-align:left'><td style='vertical-align:top'><td style='color:rgba(0,85,194);'><strong>&#10095; Info</strong></td><td>Model is consistent with mu = 0.00552275967993096.</td></tr></table>"
      ]
     },
     "metadata": {},
     "output_type": "display_data"
    },
    {
     "data": {
      "text/html": [
       "<table><tr style='text-align:left'><td style='vertical-align:top'><td style='color:rgba(0,85,194);'><strong>&#10095; Info</strong></td><td>Model converged with mu = 1.38324 after 0.03 seconds.</td></tr></table>"
      ]
     },
     "metadata": {},
     "output_type": "display_data"
    },
    {
     "name": "stdout",
     "output_type": "stream",
     "text": [
      "Condition: 9\n"
     ]
    },
    {
     "data": {
      "text/html": [
       "<table><tr style='text-align:left'><td style='vertical-align:top'><td style='color:rgba(0,85,194);'><strong>&#10095; Info</strong></td><td>Model is consistent with mu = 0.005519939102478711.</td></tr></table>"
      ]
     },
     "metadata": {},
     "output_type": "display_data"
    },
    {
     "data": {
      "text/html": [
       "<table><tr style='text-align:left'><td style='vertical-align:top'><td style='color:rgba(0,85,194);'><strong>&#10095; Info</strong></td><td>Model converged with mu = 1.21085 after 0.05 seconds.</td></tr></table>"
      ]
     },
     "metadata": {},
     "output_type": "display_data"
    },
    {
     "name": "stdout",
     "output_type": "stream",
     "text": [
      "Condition: 10\n"
     ]
    },
    {
     "data": {
      "text/html": [
       "<table><tr style='text-align:left'><td style='vertical-align:top'><td style='color:rgba(0,85,194);'><strong>&#10095; Info</strong></td><td>Model is consistent with mu = 0.005515713634122916.</td></tr></table>"
      ]
     },
     "metadata": {},
     "output_type": "display_data"
    },
    {
     "data": {
      "text/html": [
       "<table><tr style='text-align:left'><td style='vertical-align:top'><td style='color:rgba(0,85,194);'><strong>&#10095; Info</strong></td><td>Model converged with mu = 1.02133 after 0.05 seconds.</td></tr></table>"
      ]
     },
     "metadata": {},
     "output_type": "display_data"
    },
    {
     "name": "stdout",
     "output_type": "stream",
     "text": [
      "Condition: 11\n"
     ]
    },
    {
     "data": {
      "text/html": [
       "<table><tr style='text-align:left'><td style='vertical-align:top'><td style='color:rgba(0,85,194);'><strong>&#10095; Info</strong></td><td>Model is consistent with mu = 0.005509387547283369.</td></tr></table>"
      ]
     },
     "metadata": {},
     "output_type": "display_data"
    },
    {
     "data": {
      "text/html": [
       "<table><tr style='text-align:left'><td style='vertical-align:top'><td style='color:rgba(0,85,194);'><strong>&#10095; Info</strong></td><td>Model converged with mu = 0.832013 after 0.04 seconds.</td></tr></table>"
      ]
     },
     "metadata": {},
     "output_type": "display_data"
    },
    {
     "name": "stdout",
     "output_type": "stream",
     "text": [
      "Condition: 12\n"
     ]
    },
    {
     "data": {
      "text/html": [
       "<table><tr style='text-align:left'><td style='vertical-align:top'><td style='color:rgba(0,85,194);'><strong>&#10095; Info</strong></td><td>Model is consistent with mu = 0.005499925578498756.</td></tr></table>"
      ]
     },
     "metadata": {},
     "output_type": "display_data"
    },
    {
     "data": {
      "text/html": [
       "<table><tr style='text-align:left'><td style='vertical-align:top'><td style='color:rgba(0,85,194);'><strong>&#10095; Info</strong></td><td>Model converged with mu = 0.655014 after 0.04 seconds.</td></tr></table>"
      ]
     },
     "metadata": {},
     "output_type": "display_data"
    },
    {
     "name": "stdout",
     "output_type": "stream",
     "text": [
      "Condition: 13\n"
     ]
    },
    {
     "data": {
      "text/html": [
       "<table><tr style='text-align:left'><td style='vertical-align:top'><td style='color:rgba(0,85,194);'><strong>&#10095; Info</strong></td><td>Model is consistent with mu = 0.005485793407128089.</td></tr></table>"
      ]
     },
     "metadata": {},
     "output_type": "display_data"
    },
    {
     "data": {
      "text/html": [
       "<table><tr style='text-align:left'><td style='vertical-align:top'><td style='color:rgba(0,85,194);'><strong>&#10095; Info</strong></td><td>Model converged with mu = 0.499594 after 0.05 seconds.</td></tr></table>"
      ]
     },
     "metadata": {},
     "output_type": "display_data"
    },
    {
     "name": "stdout",
     "output_type": "stream",
     "text": [
      "Condition: 14\n"
     ]
    },
    {
     "data": {
      "text/html": [
       "<table><tr style='text-align:left'><td style='vertical-align:top'><td style='color:rgba(0,85,194);'><strong>&#10095; Info</strong></td><td>Model is consistent with mu = 0.00546473080062549.</td></tr></table>"
      ]
     },
     "metadata": {},
     "output_type": "display_data"
    },
    {
     "data": {
      "text/html": [
       "<table><tr style='text-align:left'><td style='vertical-align:top'><td style='color:rgba(0,85,194);'><strong>&#10095; Info</strong></td><td>Model converged with mu = 0.370587 after 0.05 seconds.</td></tr></table>"
      ]
     },
     "metadata": {},
     "output_type": "display_data"
    },
    {
     "name": "stdout",
     "output_type": "stream",
     "text": [
      "Condition: 15\n"
     ]
    },
    {
     "data": {
      "text/html": [
       "<table><tr style='text-align:left'><td style='vertical-align:top'><td style='color:rgba(0,85,194);'><strong>&#10095; Info</strong></td><td>Model is consistent with mu = 0.0054334384149675105.</td></tr></table>"
      ]
     },
     "metadata": {},
     "output_type": "display_data"
    },
    {
     "data": {
      "text/html": [
       "<table><tr style='text-align:left'><td style='vertical-align:top'><td style='color:rgba(0,85,194);'><strong>&#10095; Info</strong></td><td>Model converged with mu = 0.268533 after 0.05 seconds.</td></tr></table>"
      ]
     },
     "metadata": {},
     "output_type": "display_data"
    }
   ],
   "source": [
    "for cond in model.condition_ids:\n",
    "    print(f\"Condition: {cond}\")\n",
    "    model.find_initial_solution(condition_id=cond)\n",
    "    model.set_condition(condition_id=cond)\n",
    "    model.find_optimum()"
   ]
  }
 ],
 "metadata": {
  "kernelspec": {
   "display_name": "Python 3",
   "language": "python",
   "name": "python3"
  },
  "language_info": {
   "codemirror_mode": {
    "name": "ipython",
    "version": 3
   },
   "file_extension": ".py",
   "mimetype": "text/x-python",
   "name": "python",
   "nbconvert_exporter": "python",
   "pygments_lexer": "ipython3",
   "version": "3.13.3"
  }
 },
 "nbformat": 4,
 "nbformat_minor": 2
}
