{
 "cells": [
  {
   "cell_type": "markdown",
   "metadata": {},
   "source": [
    "### 1) Load the necessary packages"
   ]
  },
  {
   "cell_type": "code",
   "execution_count": 4,
   "metadata": {},
   "outputs": [],
   "source": [
    "import os\n",
    "import sys\n",
    "import plotly\n",
    "import plotly.graph_objs as go\n",
    "import matplotlib.pyplot as plt\n",
    "from mpl_toolkits import mplot3d\n",
    "\n",
    "sys.path.append('./src/')\n",
    "from Model import *"
   ]
  },
  {
   "cell_type": "code",
   "execution_count": 5,
   "metadata": {},
   "outputs": [
    {
     "name": "stdout",
     "output_type": "stream",
     "text": [
      " Model FCR_EFM2\n",
      "---------------\n",
      "> Number of reactions: 5\n",
      "> Matrix rank:         4\n"
     ]
    }
   ],
   "source": [
    "model = load_model(\"FCR_EFM2\")\n",
    "print(\" Model FCR_EFM2\")\n",
    "print(\"---------------\")\n",
    "print(\"> Number of reactions: \"+str(model.nj))\n",
    "print(\"> Matrix rank:         \"+str(np.linalg.matrix_rank(model.M)))"
   ]
  },
  {
   "cell_type": "code",
   "execution_count": 6,
   "metadata": {},
   "outputs": [
    {
     "name": "stdout",
     "output_type": "stream",
     "text": [
      " Model NFCR_EFM2\n",
      "----------------\n",
      "> Number of reactions: 5\n",
      "> Matrix rank:         4\n"
     ]
    }
   ],
   "source": [
    "model = load_model(\"NFCR_EFM2\")\n",
    "print(\" Model NFCR_EFM2\")\n",
    "print(\"----------------\")\n",
    "print(\"> Number of reactions: \"+str(model.nj))\n",
    "print(\"> Matrix rank:         \"+str(np.linalg.matrix_rank(model.M)))"
   ]
  }
 ],
 "metadata": {
  "kernelspec": {
   "display_name": "Python 3",
   "language": "python",
   "name": "python3"
  },
  "language_info": {
   "codemirror_mode": {
    "name": "ipython",
    "version": 3
   },
   "file_extension": ".py",
   "mimetype": "text/x-python",
   "name": "python",
   "nbconvert_exporter": "python",
   "pygments_lexer": "ipython3",
   "version": "3.12.6"
  }
 },
 "nbformat": 4,
 "nbformat_minor": 2
}
