{
 "cells": [
  {
   "cell_type": "code",
   "execution_count": 1,
   "metadata": {},
   "outputs": [],
   "source": [
    "# Imports for non-released version\n",
    "import os\n",
    "import sys\n",
    "import matplotlib.pyplot as plt\n",
    "\n",
    "# Add the local src directory to the path\n",
    "sys.path.append('../gbapy/')\n",
    "\n",
    "# Load the GBA_model class\n",
    "from GbaModel import *"
   ]
  },
  {
   "cell_type": "code",
   "execution_count": 2,
   "metadata": {},
   "outputs": [],
   "source": [
    "# Load model directly from csv folder\n",
    "model = read_csv_model(\"../examples/toy_models/D\")"
   ]
  },
  {
   "cell_type": "code",
   "execution_count": 3,
   "metadata": {},
   "outputs": [],
   "source": [
    "# Clean up previous trajectory data\n",
    "model.clear_MC_trajectory()\n",
    "\n",
    "# Read first f0 from csv\n",
    "model.read_LP_from_csv()"
   ]
  },
  {
   "cell_type": "code",
   "execution_count": 4,
   "metadata": {},
   "outputs": [
    {
     "data": {
      "text/html": [
       "<div>\n",
       "<style scoped>\n",
       "    .dataframe tbody tr th:only-of-type {\n",
       "        vertical-align: middle;\n",
       "    }\n",
       "\n",
       "    .dataframe tbody tr th {\n",
       "        vertical-align: top;\n",
       "    }\n",
       "\n",
       "    .dataframe thead th {\n",
       "        text-align: right;\n",
       "    }\n",
       "</style>\n",
       "<table border=\"1\" class=\"dataframe\">\n",
       "  <thead>\n",
       "    <tr style=\"text-align: right;\">\n",
       "      <th></th>\n",
       "    </tr>\n",
       "  </thead>\n",
       "  <tbody>\n",
       "  </tbody>\n",
       "</table>\n",
       "</div>"
      ],
      "text/plain": [
       "Empty DataFrame\n",
       "Columns: []\n",
       "Index: []"
      ]
     },
     "execution_count": 4,
     "metadata": {},
     "output_type": "execute_result"
    }
   ],
   "source": [
    "# Check if cleared\n",
    "model.MC_tracker"
   ]
  },
  {
   "cell_type": "markdown",
   "metadata": {},
   "source": [
    "### MC population size comparison N_e = 100 to N_e = 1000"
   ]
  },
  {
   "cell_type": "code",
   "execution_count": 5,
   "metadata": {},
   "outputs": [
    {
     "ename": "UFuncTypeError",
     "evalue": "ufunc 'subtract' did not contain a loop with signature matching types (dtype('float64'), dtype('<U1')) -> None",
     "output_type": "error",
     "traceback": [
      "\u001b[1;31m---------------------------------------------------------------------------\u001b[0m",
      "\u001b[1;31mUFuncTypeError\u001b[0m                            Traceback (most recent call last)",
      "Cell \u001b[1;32mIn[5], line 4\u001b[0m\n\u001b[0;32m      2\u001b[0m model\u001b[38;5;241m.\u001b[39mclear_MC_trajectory()\n\u001b[0;32m      3\u001b[0m model\u001b[38;5;241m.\u001b[39mset_f0(model\u001b[38;5;241m.\u001b[39mLP_solution)\n\u001b[1;32m----> 4\u001b[0m \u001b[43mmodel\u001b[49m\u001b[38;5;241;43m.\u001b[39;49m\u001b[43mMC_simulation\u001b[49m\u001b[43m(\u001b[49m\u001b[43mcondition\u001b[49m\u001b[38;5;241;43m=\u001b[39;49m\u001b[38;5;124;43m\"\u001b[39;49m\u001b[38;5;124;43m1\u001b[39;49m\u001b[38;5;124;43m\"\u001b[39;49m\u001b[43m,\u001b[49m\u001b[43m \u001b[49m\u001b[43mmax_iter\u001b[49m\u001b[38;5;241;43m=\u001b[39;49m\u001b[38;5;241;43m10000\u001b[39;49m\u001b[43m,\u001b[49m\u001b[43m \u001b[49m\u001b[43msigma\u001b[49m\u001b[38;5;241;43m=\u001b[39;49m\u001b[38;5;241;43m0.0001\u001b[39;49m\u001b[43m,\u001b[49m\u001b[43m \u001b[49m\u001b[43mN_e\u001b[49m\u001b[38;5;241;43m=\u001b[39;49m\u001b[38;5;241;43m100\u001b[39;49m\u001b[43m,\u001b[49m\u001b[43m \u001b[49m\u001b[43mtrack\u001b[49m\u001b[38;5;241;43m=\u001b[39;49m\u001b[38;5;28;43;01mTrue\u001b[39;49;00m\u001b[43m,\u001b[49m\u001b[43m \u001b[49m\u001b[43msaved_values\u001b[49m\u001b[38;5;241;43m=\u001b[39;49m\u001b[43m[\u001b[49m\u001b[38;5;124;43m'\u001b[39;49m\u001b[38;5;124;43mv\u001b[39;49m\u001b[38;5;124;43m'\u001b[39;49m\u001b[43m]\u001b[49m\u001b[43m,\u001b[49m\u001b[43m \u001b[49m\u001b[43mlabel\u001b[49m\u001b[38;5;241;43m=\u001b[39;49m\u001b[38;5;241;43m1\u001b[39;49m\u001b[43m)\u001b[49m\n\u001b[0;32m      6\u001b[0m \u001b[38;5;66;03m# Extract data for N_e = 100\u001b[39;00m\n\u001b[0;32m      7\u001b[0m DfluxCon1_Ne100 \u001b[38;5;241m=\u001b[39m model\u001b[38;5;241m.\u001b[39mMC_tracker[[\u001b[38;5;124m\"\u001b[39m\u001b[38;5;124mrxn1.v\u001b[39m\u001b[38;5;124m\"\u001b[39m, \u001b[38;5;124m\"\u001b[39m\u001b[38;5;124mrxn2.v\u001b[39m\u001b[38;5;124m\"\u001b[39m, \u001b[38;5;124m\"\u001b[39m\u001b[38;5;124mrxn3.v\u001b[39m\u001b[38;5;124m\"\u001b[39m, \u001b[38;5;124m\"\u001b[39m\u001b[38;5;124mrxn4.v\u001b[39m\u001b[38;5;124m\"\u001b[39m, \u001b[38;5;124m\"\u001b[39m\u001b[38;5;124mRibosome.v\u001b[39m\u001b[38;5;124m\"\u001b[39m]]\n",
      "File \u001b[1;32mc:\\Users\\Furkan Mert\\GBA\\gbapy\\plotting_scripts\\../gbapy\\GbaModel.py:1073\u001b[0m, in \u001b[0;36mGbaModel.MC_simulation\u001b[1;34m(self, condition, max_time, max_iter, sigma, N_e, track, saved_values, label)\u001b[0m\n\u001b[0;32m   1071\u001b[0m         \u001b[38;5;66;03m#columns = columns + self.reaction_ids\u001b[39;00m\n\u001b[0;32m   1072\u001b[0m     data_dict \u001b[38;5;241m=\u001b[39m {\u001b[38;5;124m\"\u001b[39m\u001b[38;5;124mlabel\u001b[39m\u001b[38;5;124m\"\u001b[39m: label, \u001b[38;5;124m\"\u001b[39m\u001b[38;5;124mcondition\u001b[39m\u001b[38;5;124m\"\u001b[39m: condition, \u001b[38;5;124m\"\u001b[39m\u001b[38;5;124mt\u001b[39m\u001b[38;5;124m\"\u001b[39m: \u001b[38;5;241m0.0\u001b[39m, \u001b[38;5;124m\"\u001b[39m\u001b[38;5;124mmu\u001b[39m\u001b[38;5;124m\"\u001b[39m: \u001b[38;5;28mself\u001b[39m\u001b[38;5;241m.\u001b[39mmu, \u001b[38;5;124m\"\u001b[39m\u001b[38;5;124mdmu\u001b[39m\u001b[38;5;124m\"\u001b[39m: \u001b[38;5;241m0.0\u001b[39m, \u001b[38;5;124m\"\u001b[39m\u001b[38;5;124mfixed\u001b[39m\u001b[38;5;124m\"\u001b[39m:\u001b[38;5;241m0\u001b[39m}\n\u001b[1;32m-> 1073\u001b[0m     \u001b[38;5;28;43mself\u001b[39;49m\u001b[38;5;241;43m.\u001b[39;49m\u001b[43msave_tracker_data\u001b[49m\u001b[43m(\u001b[49m\u001b[43mlabel\u001b[49m\u001b[43m,\u001b[49m\u001b[43m \u001b[49m\u001b[43mcondition\u001b[49m\u001b[43m,\u001b[49m\u001b[43m \u001b[49m\u001b[38;5;241;43m0.0\u001b[39;49m\u001b[43m,\u001b[49m\u001b[43m \u001b[49m\u001b[38;5;28;43;01mNone\u001b[39;49;00m\u001b[43m,\u001b[49m\u001b[43m \u001b[49m\u001b[43msaved_values\u001b[49m\u001b[43m,\u001b[49m\u001b[43m \u001b[49m\u001b[43mdata_dict\u001b[49m\u001b[43m)\u001b[49m\n\u001b[0;32m   1074\u001b[0m \u001b[38;5;66;03m#~~~~~~~~~~~~~~~~~~~~~~~~~~~~~#\u001b[39;00m\n\u001b[0;32m   1075\u001b[0m \u001b[38;5;66;03m# 3) Initialize the algorithm #\u001b[39;00m\n\u001b[0;32m   1076\u001b[0m \u001b[38;5;66;03m#~~~~~~~~~~~~~~~~~~~~~~~~~~~~~#\u001b[39;00m\n\u001b[0;32m   1077\u001b[0m t             \u001b[38;5;241m=\u001b[39m \u001b[38;5;241m0.0\u001b[39m\n",
      "File \u001b[1;32mc:\\Users\\Furkan Mert\\GBA\\gbapy\\plotting_scripts\\../gbapy\\GbaModel.py:904\u001b[0m, in \u001b[0;36mGbaModel.save_tracker_data\u001b[1;34m(self, label, condition, t, dt, previous_mu, saved_values, data_dict)\u001b[0m\n\u001b[0;32m    902\u001b[0m \u001b[38;5;28;01mdef\u001b[39;00m \u001b[38;5;21msave_tracker_data\u001b[39m(\u001b[38;5;28mself\u001b[39m, label, condition, t, dt\u001b[38;5;241m=\u001b[39m\u001b[38;5;28;01mNone\u001b[39;00m, previous_mu \u001b[38;5;241m=\u001b[39m \u001b[38;5;28;01mNone\u001b[39;00m, saved_values\u001b[38;5;241m=\u001b[39m\u001b[38;5;28;01mNone\u001b[39;00m, data_dict\u001b[38;5;241m=\u001b[39m\u001b[38;5;28;01mNone\u001b[39;00m):\n\u001b[0;32m    903\u001b[0m     \u001b[38;5;28;01mif\u001b[39;00m data_dict \u001b[38;5;129;01mis\u001b[39;00m \u001b[38;5;28;01mNone\u001b[39;00m:\n\u001b[1;32m--> 904\u001b[0m         data_dict \u001b[38;5;241m=\u001b[39m {\u001b[38;5;124m\"\u001b[39m\u001b[38;5;124mlabel\u001b[39m\u001b[38;5;124m\"\u001b[39m: label, \u001b[38;5;124m\"\u001b[39m\u001b[38;5;124mcondition\u001b[39m\u001b[38;5;124m\"\u001b[39m: condition, \u001b[38;5;124m\"\u001b[39m\u001b[38;5;124mt\u001b[39m\u001b[38;5;124m\"\u001b[39m: t, \u001b[38;5;124m\"\u001b[39m\u001b[38;5;124mdt\u001b[39m\u001b[38;5;124m\"\u001b[39m: dt, \u001b[38;5;124m\"\u001b[39m\u001b[38;5;124mmu\u001b[39m\u001b[38;5;124m\"\u001b[39m: \u001b[38;5;28mself\u001b[39m\u001b[38;5;241m.\u001b[39mmu, \u001b[38;5;124m\"\u001b[39m\u001b[38;5;124mdmu\u001b[39m\u001b[38;5;124m\"\u001b[39m: np\u001b[38;5;241m.\u001b[39mabs(\u001b[38;5;28;43mself\u001b[39;49m\u001b[38;5;241;43m.\u001b[39;49m\u001b[43mmu\u001b[49m\u001b[38;5;241;43m-\u001b[39;49m\u001b[43mprevious_mu\u001b[49m)}\n\u001b[0;32m    906\u001b[0m     \u001b[38;5;28;01mif\u001b[39;00m \u001b[38;5;124m'\u001b[39m\u001b[38;5;124mf\u001b[39m\u001b[38;5;124m'\u001b[39m \u001b[38;5;129;01min\u001b[39;00m saved_values:\n\u001b[0;32m    907\u001b[0m         \u001b[38;5;28;01mfor\u001b[39;00m reaction_id, fluxfraction \u001b[38;5;129;01min\u001b[39;00m \u001b[38;5;28mzip\u001b[39m([rid \u001b[38;5;241m+\u001b[39m \u001b[38;5;124m\"\u001b[39m\u001b[38;5;124m.f\u001b[39m\u001b[38;5;124m\"\u001b[39m \u001b[38;5;28;01mfor\u001b[39;00m rid \u001b[38;5;129;01min\u001b[39;00m \u001b[38;5;28mself\u001b[39m\u001b[38;5;241m.\u001b[39mreaction_ids], \u001b[38;5;28mself\u001b[39m\u001b[38;5;241m.\u001b[39mf):\n",
      "\u001b[1;31mUFuncTypeError\u001b[0m: ufunc 'subtract' did not contain a loop with signature matching types (dtype('float64'), dtype('<U1')) -> None"
     ]
    }
   ],
   "source": [
    "# First simulation: N_e = 100\n",
    "model.clear_MC_trajectory()\n",
    "model.set_f0(model.LP_solution)\n",
    "model.MC_simulation(condition=\"1\", max_iter=10000, sigma=0.0001, N_e=100, track=True, saved_values=['v'], label=1)\n",
    "\n",
    "# Extract data for N_e = 100\n",
    "DfluxCon1_Ne100 = model.MC_tracker[[\"rxn1.v\", \"rxn2.v\", \"rxn3.v\", \"rxn4.v\", \"Ribosome.v\"]]\n",
    "time_Ne100 = model.MC_tracker[\"t\"]\n",
    "growthrate_Ne100 = model.MC_tracker[\"mu\"]\n",
    "\n",
    "# Second simulation: N_e = 1000\n",
    "model.clear_MC_trajectory()\n",
    "model.set_f0(model.LP_solution)\n",
    "model.MC_simulation(condition=\"1\", max_iter=10000, sigma=0.0001, N_e=1000, track=True, saved_values=['v'], label=1)\n",
    "\n",
    "# Extract data for N_e = 1000\n",
    "DfluxCon1_Ne1000 = model.MC_tracker[[\"rxn1.v\", \"rxn2.v\", \"rxn3.v\", \"rxn4.v\", \"Ribosome.v\"]]\n",
    "time_Ne1000 = model.MC_tracker[\"t\"]\n",
    "growthrate_Ne1000 = model.MC_tracker[\"mu\"]\n",
    "\n",
    "fig, (ax1, ax2) = plt.subplots(1, 2, figsize=(8, 6), dpi=300)\n",
    "\n",
    "# First subplot (N_e = 100)\n",
    "for column in DfluxCon1_Ne100:\n",
    "    label = column.replace('.v', '')  \n",
    "    ax1.plot(time_Ne100, DfluxCon1_Ne100[column], label=label)\n",
    "\n",
    "ax1.set_xlabel('Time')\n",
    "ax1.set_ylabel('Reaction flux (v)')\n",
    "\n",
    "ax3 = ax1.twinx()\n",
    "ax3.plot(time_Ne100, growthrate_Ne100, label='Growth rate', color='black', linewidth=2)\n",
    "ax3.set_ylabel('Growth rate', color='black')\n",
    "\n",
    "lines_1, labels_1 = ax1.get_legend_handles_labels()\n",
    "lines_2, labels_2 = ax3.get_legend_handles_labels()\n",
    "ax1.legend(lines_1 + lines_2, labels_1 + labels_2, loc='lower right')\n",
    "\n",
    "ax1.text(0.5, -0.2, 'a) N$_e$ = 100', transform=ax1.transAxes, fontsize=12, ha='center')\n",
    "\n",
    "# Second subplot (N_e = 1000)\n",
    "for column in DfluxCon1_Ne1000:\n",
    "    label = column.replace('.v', '')  \n",
    "    ax2.plot(time_Ne1000, DfluxCon1_Ne1000[column], label=label)\n",
    "\n",
    "ax2.set_xlabel('Time')\n",
    "ax2.set_ylabel('Reaction flux (v)')\n",
    "\n",
    "ax4 = ax2.twinx()\n",
    "ax4.plot(time_Ne1000, growthrate_Ne1000, label='Growth rate', color='black', linewidth=2)\n",
    "ax4.set_ylabel('Growth rate', color='black')\n",
    "\n",
    "lines_3, labels_3 = ax2.get_legend_handles_labels()\n",
    "lines_4, labels_4 = ax4.get_legend_handles_labels()\n",
    "\n",
    "ax2.legend(lines_3 + lines_4, labels_3 + labels_4, loc='lower right')\n",
    "ax2.text(0.5, -0.2, 'b) N$_e$ = 1000', transform=ax2.transAxes, fontsize=12, ha='center')\n",
    "\n",
    "\n",
    "plt.tight_layout(rect=[0, 0.1, 1, 1])\n",
    "plt.savefig(\"MCMC_Pop_reaction_flux_growthrate_comparison.png\", dpi=300)\n",
    "plt.show()"
   ]
  }
 ],
 "metadata": {
  "kernelspec": {
   "display_name": "Python 3",
   "language": "python",
   "name": "python3"
  },
  "language_info": {
   "codemirror_mode": {
    "name": "ipython",
    "version": 3
   },
   "file_extension": ".py",
   "mimetype": "text/x-python",
   "name": "python",
   "nbconvert_exporter": "python",
   "pygments_lexer": "ipython3",
   "version": "3.9.10"
  }
 },
 "nbformat": 4,
 "nbformat_minor": 2
}
