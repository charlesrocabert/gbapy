{
 "cells": [
  {
   "cell_type": "code",
   "execution_count": 1,
   "metadata": {},
   "outputs": [],
   "source": [
    "import os\n",
    "import sys\n",
    "import dill\n",
    "import matplotlib.pyplot as plt\n",
    "# Add the local src directory to the path\n",
    "sys.path.append('./src/')\n",
    "\n",
    "# Load the GBA_model class\n",
    "from GBA_model import *\n",
    "from GBA_trajectory import *\n",
    "from GBA_MCMC import *"
   ]
  },
  {
   "cell_type": "code",
   "execution_count": 2,
   "metadata": {},
   "outputs": [
    {
     "name": "stdout",
     "output_type": "stream",
     "text": [
      "choose enzyme:  10\n",
      "selection coefficient for this mutation:  0.6639098615115809\n",
      "for pi = 0.734945475948797 the mutation is fixated\n",
      "f after fixation : [0.55858606 0.22070697 0.22070697 0.         0.26137255 0.04166667\n",
      " 0.68301864 0.22732994 0.00833333 0.59805011 0.96060387 0.97205882]\n",
      "choose enzyme:  6\n",
      "selection coefficient for this mutation:  0.9290581422131609\n",
      "for pi = 0.8440338503071145 the mutation is fixated\n",
      "f after fixation : [0.55858606 0.22070697 0.22070697 0.         0.26137255 0.04166667\n",
      " 0.61781504 0.22732994 0.00833333 0.59805011 0.96060387 0.97205882]\n",
      "choose enzyme:  5\n",
      "selection coefficient for this mutation:  0.8663175713365292\n",
      "for pi = 0.8231821447549906 the mutation is fixated\n",
      "f after fixation : [0.55858606 0.22070697 0.22070697 0.         0.26137255 0.10575382\n",
      " 0.61781504 0.22732994 0.00833333 0.59805011 0.96060387 0.97205882]\n",
      "choose enzyme:  6\n",
      "selection coefficient for this mutation:  0.964180759983298\n",
      "for pi = 0.8546137841511748 the mutation is fixated\n",
      "f after fixation : [0.55858606 0.22070697 0.22070697 0.         0.26137255 0.10575382\n",
      " 0.87475473 0.22732994 0.00833333 0.59805011 0.96060387 0.97205882]\n",
      "choose enzyme:  7\n",
      "selection coefficient for this mutation:  1.0053842995208828\n",
      "for pi = 0.8661142693317551 the mutation is fixated\n",
      "f after fixation : [0.55858606 0.22070697 0.22070697 0.         0.26137255 0.10575382\n",
      " 0.87475473 0.43609377 0.00833333 0.59805011 0.96060387 0.97205882]\n",
      "choose enzyme:  2\n",
      "selection coefficient for this mutation:  0.9920183316513137\n",
      "for pi = 0.8624869783296714 the mutation is fixated\n",
      "f after fixation : [0.46807765 0.22070697 0.31121538 0.         0.26137255 0.10575382\n",
      " 0.87475473 0.43609377 0.00833333 0.59805011 0.96060387 0.97205882]\n",
      "choose enzyme:  3\n",
      "selection coefficient for this mutation:  0.9920183316513137\n",
      "for pi = 0.8624869783296714 the mutation is fixated\n",
      "f after fixation : [0.46807765 0.22070697 0.31121538 0.         0.26137255 0.10575382\n",
      " 0.87475473 0.43609377 0.00833333 0.59805011 0.96060387 0.97205882]\n",
      "choose enzyme:  6\n",
      "selection coefficient for this mutation:  0.9615854040705946\n",
      "for pi = 0.8538571642020897 the mutation is fixated\n",
      "f after fixation : [0.46807765 0.22070697 0.31121538 0.         0.26137255 0.10575382\n",
      " 1.76656324 0.43609377 0.00833333 0.59805011 0.96060387 0.97205882]\n",
      "choose enzyme:  7\n",
      "selection coefficient for this mutation:  0.9614659427283145\n",
      "for pi = 0.8538222431918869 the mutation is fixated\n",
      "f after fixation : [0.46807765 0.22070697 0.31121538 0.         0.26137255 0.10575382\n",
      " 1.76656324 0.41249071 0.00833333 0.59805011 0.96060387 0.97205882]\n",
      "choose enzyme:  6\n",
      "selection coefficient for this mutation:  0.9547505396392849\n",
      "for pi = 0.8518457145979377 the mutation is fixated\n",
      "f after fixation : [0.46807765 0.22070697 0.31121538 0.         0.26137255 0.10575382\n",
      " 2.30132729 0.41249071 0.00833333 0.59805011 0.96060387 0.97205882]\n"
     ]
    }
   ],
   "source": [
    "MCMC(model_name = \"EC12b\", condition = \"1\", max_time= 10, population_N = 2.5e735 )"
   ]
  }
 ],
 "metadata": {
  "kernelspec": {
   "display_name": "Python 3",
   "language": "python",
   "name": "python3"
  },
  "language_info": {
   "codemirror_mode": {
    "name": "ipython",
    "version": 3
   },
   "file_extension": ".py",
   "mimetype": "text/x-python",
   "name": "python",
   "nbconvert_exporter": "python",
   "pygments_lexer": "ipython3",
   "version": "3.9.10"
  }
 },
 "nbformat": 4,
 "nbformat_minor": 2
}
