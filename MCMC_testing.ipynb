{
 "cells": [
  {
   "cell_type": "code",
   "execution_count": 1,
   "metadata": {},
   "outputs": [],
   "source": [
    "import os\n",
    "import sys\n",
    "import dill\n",
    "import matplotlib.pyplot as plt\n",
    "# Add the local src directory to the path\n",
    "sys.path.append('./src/')\n",
    "\n",
    "# Load the GBA_model class\n",
    "from GBA_model import *\n",
    "from GBA_trajectory import *\n",
    "from GBA_MCMC import *"
   ]
  },
  {
   "cell_type": "code",
   "execution_count": 2,
   "metadata": {},
   "outputs": [
    {
     "name": "stdout",
     "output_type": "stream",
     "text": [
      "choose enzyme:  1\n",
      "[0.55858606 0.22070697 0.22070697 0.         0.26137255 0.04166667\n",
      " 0.68301864 0.22732994 0.00833333 0.59805011 0.98131808 0.97205882]\n"
     ]
    },
    {
     "ename": "ValueError",
     "evalue": "all the input arrays must have same number of dimensions, but the array at index 0 has 2 dimension(s) and the array at index 1 has 0 dimension(s)",
     "output_type": "error",
     "traceback": [
      "\u001b[1;31m---------------------------------------------------------------------------\u001b[0m",
      "\u001b[1;31mValueError\u001b[0m                                Traceback (most recent call last)",
      "Cell \u001b[1;32mIn[2], line 1\u001b[0m\n\u001b[1;32m----> 1\u001b[0m \u001b[43mMCMC\u001b[49m\u001b[43m(\u001b[49m\u001b[43mmodel_name\u001b[49m\u001b[43m \u001b[49m\u001b[38;5;241;43m=\u001b[39;49m\u001b[43m \u001b[49m\u001b[38;5;124;43m\"\u001b[39;49m\u001b[38;5;124;43mEC12b\u001b[39;49m\u001b[38;5;124;43m\"\u001b[39;49m\u001b[43m,\u001b[49m\u001b[43m \u001b[49m\u001b[43mcondition\u001b[49m\u001b[43m \u001b[49m\u001b[38;5;241;43m=\u001b[39;49m\u001b[43m \u001b[49m\u001b[38;5;124;43m\"\u001b[39;49m\u001b[38;5;124;43m1\u001b[39;49m\u001b[38;5;124;43m\"\u001b[39;49m\u001b[43m,\u001b[49m\u001b[43m \u001b[49m\u001b[43mmax_time\u001b[49m\u001b[38;5;241;43m=\u001b[39;49m\u001b[43m \u001b[49m\u001b[38;5;241;43m10\u001b[39;49m\u001b[43m,\u001b[49m\u001b[43m \u001b[49m\u001b[43mpopulation_N\u001b[49m\u001b[43m \u001b[49m\u001b[38;5;241;43m=\u001b[39;49m\u001b[43m \u001b[49m\u001b[38;5;241;43m2.5e735\u001b[39;49m\u001b[43m \u001b[49m\u001b[43m)\u001b[49m\n",
      "File \u001b[1;32mc:\\Users\\Furkan Mert\\GBA\\./src\\GBA_MCMC.py:66\u001b[0m, in \u001b[0;36mMCMC\u001b[1;34m(model_name, condition, max_time, population_N)\u001b[0m\n\u001b[0;32m     64\u001b[0m reaction_index \u001b[38;5;241m=\u001b[39m np\u001b[38;5;241m.\u001b[39mrandom\u001b[38;5;241m.\u001b[39mrandint(\u001b[38;5;28mlen\u001b[39m(model\u001b[38;5;241m.\u001b[39mf))                \u001b[38;5;66;03m# generate index to draw f of a random reaction\u001b[39;00m\n\u001b[0;32m     65\u001b[0m \u001b[38;5;28mprint\u001b[39m(\u001b[38;5;124m\"\u001b[39m\u001b[38;5;124mchoose enzyme: \u001b[39m\u001b[38;5;124m\"\u001b[39m, reaction_index \u001b[38;5;241m+\u001b[39m \u001b[38;5;241m1\u001b[39m)\n\u001b[1;32m---> 66\u001b[0m last_f \u001b[38;5;241m=\u001b[39m \u001b[43mmutate_f\u001b[49m\u001b[43m(\u001b[49m\u001b[43mmodel\u001b[49m\u001b[43m,\u001b[49m\u001b[43mreaction_index\u001b[49m\u001b[43m)\u001b[49m \u001b[38;5;66;03m# mutates f temporarily and saves backed up f, for the case if it doesnt fixate.\u001b[39;00m\n\u001b[0;32m     67\u001b[0m model\u001b[38;5;241m.\u001b[39mcalculate()                                            \u001b[38;5;66;03m# calculate mu with mutated f\u001b[39;00m\n\u001b[0;32m     68\u001b[0m mutated_mu \u001b[38;5;241m=\u001b[39m model\u001b[38;5;241m.\u001b[39mmu                 \n",
      "File \u001b[1;32mc:\\Users\\Furkan Mert\\GBA\\./src\\GBA_MCMC.py:38\u001b[0m, in \u001b[0;36mmutate_f\u001b[1;34m(model, index)\u001b[0m\n\u001b[0;32m     35\u001b[0m mutated_f \u001b[38;5;241m=\u001b[39m model\u001b[38;5;241m.\u001b[39mf_trunc[index] \u001b[38;5;241m*\u001b[39m alpha \u001b[38;5;66;03m#mutate_f\u001b[39;00m\n\u001b[0;32m     36\u001b[0m \u001b[38;5;28mprint\u001b[39m(model\u001b[38;5;241m.\u001b[39mf)\n\u001b[1;32m---> 38\u001b[0m \u001b[43mmodel\u001b[49m\u001b[38;5;241;43m.\u001b[39;49m\u001b[43mset_f\u001b[49m\u001b[43m(\u001b[49m\u001b[43mmutated_f\u001b[49m\u001b[43m)\u001b[49m\n\u001b[0;32m     39\u001b[0m \u001b[38;5;28;01mreturn\u001b[39;00m last_f\n",
      "File \u001b[1;32mc:\\Users\\Furkan Mert\\GBA\\./src\\GBA_model.py:406\u001b[0m, in \u001b[0;36mGBA_model.set_f\u001b[1;34m(self, f_trunc)\u001b[0m\n\u001b[0;32m    404\u001b[0m \u001b[38;5;28mself\u001b[39m\u001b[38;5;241m.\u001b[39mf_trunc \u001b[38;5;241m=\u001b[39m np\u001b[38;5;241m.\u001b[39mcopy(f_trunc)\n\u001b[0;32m    405\u001b[0m term1        \u001b[38;5;241m=\u001b[39m (\u001b[38;5;241m1\u001b[39m\u001b[38;5;241m-\u001b[39m\u001b[38;5;28mself\u001b[39m\u001b[38;5;241m.\u001b[39msM[\u001b[38;5;241m1\u001b[39m:\u001b[38;5;28mself\u001b[39m\u001b[38;5;241m.\u001b[39mnj]\u001b[38;5;241m.\u001b[39mdot(\u001b[38;5;28mself\u001b[39m\u001b[38;5;241m.\u001b[39mf_trunc))\u001b[38;5;241m/\u001b[39m\u001b[38;5;28mself\u001b[39m\u001b[38;5;241m.\u001b[39msM[\u001b[38;5;241m0\u001b[39m]\n\u001b[1;32m--> 406\u001b[0m \u001b[38;5;28mself\u001b[39m\u001b[38;5;241m.\u001b[39mf       \u001b[38;5;241m=\u001b[39m np\u001b[38;5;241m.\u001b[39mcopy(\u001b[43mnp\u001b[49m\u001b[38;5;241;43m.\u001b[39;49m\u001b[43mconcatenate\u001b[49m\u001b[43m(\u001b[49m\u001b[43m[\u001b[49m\u001b[43mnp\u001b[49m\u001b[38;5;241;43m.\u001b[39;49m\u001b[43marray\u001b[49m\u001b[43m(\u001b[49m\u001b[43m[\u001b[49m\u001b[43mterm1\u001b[49m\u001b[43m]\u001b[49m\u001b[43m)\u001b[49m\u001b[43m,\u001b[49m\u001b[43m \u001b[49m\u001b[38;5;28;43mself\u001b[39;49m\u001b[38;5;241;43m.\u001b[39;49m\u001b[43mf_trunc\u001b[49m\u001b[43m]\u001b[49m\u001b[43m)\u001b[49m)\n",
      "\u001b[1;31mValueError\u001b[0m: all the input arrays must have same number of dimensions, but the array at index 0 has 2 dimension(s) and the array at index 1 has 0 dimension(s)"
     ]
    }
   ],
   "source": [
    "MCMC(model_name = \"EC12b\", condition = \"1\", max_time= 10, population_N = 2.5e735 )"
   ]
  }
 ],
 "metadata": {
  "kernelspec": {
   "display_name": "Python 3",
   "language": "python",
   "name": "python3"
  },
  "language_info": {
   "codemirror_mode": {
    "name": "ipython",
    "version": 3
   },
   "file_extension": ".py",
   "mimetype": "text/x-python",
   "name": "python",
   "nbconvert_exporter": "python",
   "pygments_lexer": "ipython3",
   "version": "3.9.10"
  }
 },
 "nbformat": 4,
 "nbformat_minor": 2
}
