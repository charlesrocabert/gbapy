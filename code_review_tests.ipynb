{
 "cells": [
  {
   "cell_type": "code",
   "execution_count": 1,
   "metadata": {},
   "outputs": [],
   "source": [
    "import os\n",
    "import sys\n",
    "import dill\n",
    "import argparse\n",
    "\n",
    "sys.path.append('./src/')\n",
    "\n",
    "from GBA_tol import *\n",
    "from GBA_model import *\n",
    "from GBA_trajectory import *"
   ]
  },
  {
   "cell_type": "code",
   "execution_count": 2,
   "metadata": {},
   "outputs": [
    {
     "name": "stdout",
     "output_type": "stream",
     "text": [
      "Maximum was found, Model is consistent for condition:  1\n"
     ]
    },
    {
     "data": {
      "text/plain": [
       "('1',\n",
       " 2.683105890451421,\n",
       " 1.0,\n",
       " array([1.      , 0.812691]),\n",
       " True,\n",
       " 0.19697093963623047)"
      ]
     },
     "execution_count": 2,
     "metadata": {},
     "output_type": "execute_result"
    }
   ],
   "source": [
    "trajectory(model_name = \"EC12b\", condition = \"1\", max_time=5, first_dt = 0.01, dt_changeRate=0.1, nameOfCSV = None)"
   ]
  }
 ],
 "metadata": {
  "kernelspec": {
   "display_name": "Python 3",
   "language": "python",
   "name": "python3"
  },
  "language_info": {
   "codemirror_mode": {
    "name": "ipython",
    "version": 3
   },
   "file_extension": ".py",
   "mimetype": "text/x-python",
   "name": "python",
   "nbconvert_exporter": "python",
   "pygments_lexer": "ipython3",
   "version": "3.12.4"
  }
 },
 "nbformat": 4,
 "nbformat_minor": 2
}
