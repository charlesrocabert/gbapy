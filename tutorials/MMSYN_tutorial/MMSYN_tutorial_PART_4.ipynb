{
 "cells": [
  {
   "cell_type": "markdown",
   "metadata": {},
   "source": [
    "<h1 align=\"center\" style=\"font-variant: small-caps\"><strong>GBApy</strong> Tutorial: How to build a genome-scale GBA model</h1>\n",
    "<h2 align=\"center\">PART 4: Build a first version of the GBA model</h2>\n",
    "<h5 align=\"center\"><code>Version 4</code> (January 2025, Charles Rocabert)</h5>\n",
    "\n",
    "## Table of content\n",
    "\n",
    "- [1) Objective](#objective)\n",
    "- [2) Load the model builder](#load)\n",
    "- [3) Check and adjust mass balance for every reactions](#mass_balance)\n",
    "- [4) Convert model units](#convert)\n",
    "- [5) Build the GBA model](#build_GBA)\n",
    "- [6) Create external conditions](#conditions)\n",
    "- [7) Add activation reactions](#activation)\n",
    "- [8) Make water transport constant](#water)\n",
    "- [9) Enforce the directionality of reactions based on the FBA solution](#direction)\n",
    "- [10) Export the GBA model](#export)\n",
    "- [11) Test for an initial solution](#initial_solution)"
   ]
  },
  {
   "cell_type": "markdown",
   "metadata": {},
   "source": [
    "## 1) Objective <a id=\"objective\"></a>\n",
    "\n",
    "Now that we have checked the structure of the model and made a first round of simplifications, we can convert it. <strong>GBApy</strong> provides automated methods for this task. The conversion steps are fully described in Dourado et al. (2023).\n",
    "See also [section 4](#convert).\n"
   ]
  },
  {
   "cell_type": "markdown",
   "metadata": {},
   "source": [
    "## 2) Load the model builder <a id=\"load\"></a>\n",
    "\n",
    "The model builder \"GBA_MMSYN\" is loaded from the backup created in the previous tutorial.\n",
    "We also re-load the original SBML model of a minimal cell."
   ]
  },
  {
   "cell_type": "code",
   "execution_count": 1,
   "metadata": {},
   "outputs": [
    {
     "name": "stdout",
     "output_type": "stream",
     "text": [
      "Set parameter Username\n",
      "Academic license - for non-commercial use only - expires 2025-06-06\n",
      "Read LP format model from file /var/folders/5h/n0xqh1xj2zg6yyd747k95bc80000gn/T/tmpb5ony_dd.lp\n",
      "Reading time = 0.00 seconds\n",
      ": 156 rows, 376 columns, 1558 nonzeros\n"
     ]
    }
   ],
   "source": [
    "import os\n",
    "import sys\n",
    "import cobra\n",
    "\n",
    "sys.path.append('./src/gba/')\n",
    "\n",
    "from GbaBuilder import *\n",
    "from GbaModel import *\n",
    "\n",
    "builder    = load_GBA_builder(\"./backup/mmsyn_build_3.gbabuild\")\n",
    "sbml_model = cobra.io.read_sbml_model(\"./data/manual_curation/MMSYN_annotated.xml\")"
   ]
  },
  {
   "cell_type": "markdown",
   "metadata": {},
   "source": [
    "## 3) Check and adjust mass balance for every reactions <a id=\"mass_balance\"></a>\n",
    "\n",
    "But first, we need to check the mass balance of each reaction, <em>i.e.</em> the total mass of the reactants equals the total mass of the products. By default, <strong>GBApy</strong> uses a threshold of <strong>0.1 Da</strong>, which represents One tenth of a proton mass."
   ]
  },
  {
   "cell_type": "code",
   "execution_count": 2,
   "metadata": {},
   "outputs": [
    {
     "name": "stdout",
     "output_type": "stream",
     "text": [
      "> Warning: No mass balance for reaction '5FTHFPGS' (diff = 292.2431019999999Da, threshold = 0.1Da)\n",
      "> Warning: No mass balance for reaction 'ACPPAT' (diff = -5.095126000000164Da, threshold = 0.1Da)\n",
      "> Warning: No mass balance for reaction 'ACP_transl' (diff = -1754.3832864002325Da, threshold = 0.1Da)\n",
      "> Warning: No mass balance for reaction 'AGPAT' (diff = 5.112448998001128Da, threshold = 0.1Da)\n",
      "> Warning: No mass balance for reaction 'DAGPST' (diff = -7.5569999999988795Da, threshold = 0.1Da)\n",
      "> Warning: No mass balance for reaction 'DASYN' (diff = -0.13765799800012246Da, threshold = 0.1Da)\n",
      "> Warning: No mass balance for reaction 'FMETTRS' (diff = -28.45612345000336Da, threshold = 0.1Da)\n",
      "> Warning: No mass balance for reaction 'GHMT' (diff = 30.026026999999885Da, threshold = 0.1Da)\n",
      "> Warning: No mass balance for reaction 'LIPTA' (diff = -10.295351549997577Da, threshold = 0.1Da)\n",
      "> Warning: No mass balance for reaction 'NADS' (diff = 0.31494099599990477Da, threshold = 0.1Da)\n",
      "> Warning: No mass balance for reaction 'NNATr' (diff = -0.31494099600001846Da, threshold = 0.1Da)\n",
      "> Warning: No mass balance for reaction 'PdhC_transl' (diff = -12942.361475998536Da, threshold = 0.1Da)\n",
      "> Warning: No mass balance for reaction 'dUTPase_transl' (diff = -2602.2091667000204Da, threshold = 0.1Da)\n",
      "> Warning: No mass balance for reaction 'rRNAP' (diff = 1546.343817033805Da, threshold = 0.1Da)\n",
      "> Warning: No mass balance for reaction 'rRNA_degrad' (diff = -1546.2463255306939Da, threshold = 0.1Da)\n",
      "> Warning: No mass balance for reaction 'tRNAP' (diff = 94.58300315200177Da, threshold = 0.1Da)\n",
      "> Warning: No mass balance for reaction 'AATRS' (diff = 17.007345999998506Da, threshold = 0.1Da)\n",
      "> Warning: No mass balance for reaction 'Ribosome' (diff = -8934.50590525195Da, threshold = 0.1Da)\n"
     ]
    }
   ],
   "source": [
    "builder.check_mass_balance(verbose=True)"
   ]
  },
  {
   "cell_type": "markdown",
   "metadata": {},
   "source": [
    "We must correct the molecular mass of a few metabolites to reach a mass balance:"
   ]
  },
  {
   "cell_type": "code",
   "execution_count": 3,
   "metadata": {},
   "outputs": [
    {
     "name": "stdout",
     "output_type": "stream",
     "text": [
      "> Info: Model build 'GBA_MMSYN' is mass balanced\n"
     ]
    }
   ],
   "source": [
    "# Amino-acid and tRNA metabolism\n",
    "builder.metabolites[\"x_AA\"].mass   += 17.007345999998506\n",
    "builder.metabolites[\"AA\"].mass     += 17.007345999998506\n",
    "builder.metabolites[\"tRNA\"].mass   -= 94.58300315200177\n",
    "builder.metabolites[\"AAtRNA\"].mass -= 94.58300315200177\n",
    "\n",
    "# Macro-molecules\n",
    "builder.metabolites[\"rRNA\"].mass         -= 1546.343817033805\n",
    "builder.metabolites[\"dUTPase\"].mass      += 2600.639\n",
    "builder.metabolites[\"apoACP\"].mass       += 1752.813\n",
    "builder.metabolites[\"ACP\"].mass          += 1752.813\n",
    "builder.metabolites[\"ACP_R\"].mass        += 1757.909\n",
    "builder.metabolites[\"PdhC\"].mass         += 12940.79\n",
    "builder.metabolites[\"lpl_PdhC\"].mass     += 12934.08\n",
    "builder.metabolites[\"acdhlpl_PdhC\"].mass += 12934.08\n",
    "builder.metabolites[\"dhlpl_PdhC\"].mass   += 12934.08\n",
    "builder.metabolites[\"Protein\"].mass      += 8932.936\n",
    "\n",
    "# Small molecules\n",
    "builder.metabolites[\"x_5fthf\"].mass  += 292.2431019999999\n",
    "builder.metabolites[\"5fthf\"].mass    += 292.2431019999999\n",
    "builder.metabolites[\"fmettrna\"].mass -= 96.15291\n",
    "builder.metabolites[\"lgltn\"].mass    += 7.5569999999988795\n",
    "builder.metabolites[\"cdpdag\"].mass   += 0.13765799800012246\n",
    "builder.metabolites[\"dnad\"].mass     += 0.31494099599990477\n",
    "builder.metabolites[\"thfglu3\"].mass  += 30.026026999999885\n",
    "\n",
    "builder.check_mass_balance(verbose=True)"
   ]
  },
  {
   "cell_type": "markdown",
   "metadata": {},
   "source": [
    "The model is now mass-balanced (with a threshold of 0.1 Da)."
   ]
  },
  {
   "cell_type": "markdown",
   "metadata": {},
   "source": [
    "## 4) Convert model units <a id=\"convert\"></a>\n",
    "\n",
    "<strong>GBApy</strong> provides automatized methods to convert a model into mass units (this implies the conversion of stoichiometric coefficients and kinetic parameters; see Dourado et al. 2023 for a description).\n",
    "\n",
    "- <strong>(i)</strong> The stoichiometry of each reaction is converted. For each metabolite $i$ and reaction $j$:\n",
    "  - Each stoichiometric coefficient is multiplied by the mass of the metabolite $m_i$,\n",
    "    $$S_{i,j} = S_{i,\\cdot} \\times m_i$$\n",
    "  - The calculated mass stoichiometry is then normalized (the sum of reactant coefficients is equal to -1, the sum of product coefficients is equal to 1),\n",
    "    $$\n",
    "    M_{i,j} =\n",
    "    \\left\\{\n",
    "    \\begin{array}{rl}\n",
    "    \\dfrac{S_{i,j}}{\\sum_{i \\in \\text{reactants}} \\lvert S_{i,j} \\rvert} & \\text{ if $i$ reactant}\\\\\\\\\n",
    "    \\dfrac{S_{i,j}}{\\sum_{i \\in \\text{products}} S_{i,j}} & \\text{ if $i$ product}\n",
    "    \\end{array}\n",
    "    \\right.\n",
    "    $$\n",
    "  - For each steps, <strong>GBApy</strong> check calculations.\n",
    "\n",
    "- <strong>(ii)</strong> $K_\\text{M}$ values are converted to mass units:\n",
    "  - Each $K_\\text{M}$ value is multiplied by the mass of the metabolite\n",
    "    $$K_\\text{M,i} = K_\\text{M,i} \\times m_i \\text{ for each metabolite }i$$\n",
    "\n",
    "- <strong>(iii)</strong> $k_\\text{cat}$ values are converted to mass units:\n",
    "  - Each $k_\\text{cat}$ value is multipled by the sum of the product masses times their stoichiometric coefficient, and divided by the mass of the enzyme $e$. Therefore for the forward $k_\\text{cat,j}^f$ of reaction $j$:\n",
    "    $$k_\\text{cat,j}^f = k_\\text{cat,j}^f \\times \\dfrac{\\sum_{i \\in \\text{products}} S_{ij} \\times m_i}{e_j}$$\n",
    "  - And for the backward $k_\\text{cat,j}^b$:\n",
    "    $$k_\\text{cat,j}^b = k_\\text{cat,j}^b \\times \\dfrac{\\sum_{i \\in \\text{reactants}} S_{ij} \\times m_i}{e_j}$$\n",
    "\n",
    "- <strong>(iv)</strong> We also need to parametrize the mass $k_\\text{cat}$ of the ribosomal reaction `Ribosome`. By default, this value is set to $4.55\\ h^{-1}$. "
   ]
  },
  {
   "cell_type": "code",
   "execution_count": 4,
   "metadata": {},
   "outputs": [],
   "source": [
    "builder.convert(ribosome_byproducts=False)"
   ]
  },
  {
   "cell_type": "markdown",
   "metadata": {},
   "source": [
    "## 5) Build the GBA variables <a id=\"build_GBA\"></a>\n",
    "\n",
    "A GBA model is a set of matrices and vectors:\n",
    "- The mass fraction matrix $M$, which is the pendant in normalized mass units of the stoichiometric matrix,\n",
    "- The forward and backward $k_\\text{cat}$ vectors,\n",
    "- The forward and backward $K_\\text{M}$ matrices,\n",
    "- The activation matrix $K_\\text{A}$,\n",
    "- The inhibition matrix $K_\\text{I}$.\n",
    "\n",
    "All these objects are created through the method `builder.build_GBA_variables()`."
   ]
  },
  {
   "cell_type": "code",
   "execution_count": 5,
   "metadata": {},
   "outputs": [],
   "source": [
    "builder.build_GBA_variables()"
   ]
  },
  {
   "cell_type": "markdown",
   "metadata": {},
   "source": [
    "## 6) Create external conditions <a id=\"conditions\"></a>\n",
    "\n",
    "To run a GBA model, it is necessary to define the external conditions, that is, the concentration of external metabolites. We also need to define the total density of the cell $\\rho$.\n",
    "\n",
    "As stated in Breuer et al. (2019), we will assume that all concentrations are saturating, except for glucose, which is the only sugar source in the medium:\n",
    "- In the SP4 medium, 5 g/L of glucose are added. However, the broth also contains glucose, leading to an additional amount of glucose that must be quantified. For our modeling approach, we will create a range of glucose concentration between 0 and 6 g/L.\n",
    "- As water is included in our model, we will assume a constration of 1,000 g/L for water,\n",
    "- We will also assume a pH of 7, that is, a concentration of $10^{-7}$ g/L of protons.\n",
    "- Every other external metabolites will be set up to the saturating concentration of 1 g/L.\n",
    "\n",
    "Regarding the total density, as water is included in the model, we must define the buoyant density. This value is unknown for the minimal cell. We will use <em>E. coli</em> mean buoyant density of 1,100 g/L.\n",
    "\n"
   ]
  },
  {
   "cell_type": "code",
   "execution_count": 6,
   "metadata": {},
   "outputs": [],
   "source": [
    "glucose   = 6.0\n",
    "step      = 0.1\n",
    "condition = 1\n",
    "rho       = 1100.0\n",
    "builder.clear_conditions()\n",
    "while glucose > step/2:\n",
    "    builder.add_condition(condition_id=condition, rho=1100.0, default_concentration=1.0,\n",
    "                          metabolites={\"x_glc__D\": glucose, \"x_h2o\": 1000.0, \"x_h\": 1e-7})\n",
    "    glucose -= step\n",
    "    condition += 1"
   ]
  },
  {
   "cell_type": "markdown",
   "metadata": {},
   "source": [
    "## 7) Add activator metabolites <a id=\"activators\"></a>\n",
    "\n",
    "To make the model more realistic, we will design specific metabolites as activators of important reactions in the model:\n",
    "- DNA is an activator of its own production, as well as an activator of the transcription of RNA molecules (<em>i.e.</em> rRNAs and tRNAs).\n",
    "- rRNA is an activator of the translation of proteins through the ribosomal reaction `Ribosome`.\n",
    "\n",
    "According to Breuer et al. (2019), the mass fractions of these metabolites are:\n",
    "- DNA: 5.5% of dry mass,\n",
    "- rRNA: 16.274% of dry mass.\n",
    "\n",
    "As the buoyant density of the cell is $\\rho = 1100$ g/L, and minimal cells contain 72% of water, the expected mass concentration of DNA and rRNA in the cell are:\n",
    "- DNA = $\\rho \\times (1-0.72) \\times 0.055 = 16.94$ g/L,\n",
    "- rRNA = $\\rho \\times (1-0.72) \\times 0.16274 = 50.12392$ g/L.\n",
    "\n",
    "We can therefore set the $K_\\text{A}$ constants with these mass concentrations, as an approximation:"
   ]
  },
  {
   "cell_type": "code",
   "execution_count": 7,
   "metadata": {},
   "outputs": [],
   "source": [
    "# DNA is a self-activator\n",
    "builder.add_activation_constant(\"DNA\", \"DNAP\", 16.94)\n",
    "\n",
    "# DNA activates the transcription of rRNAs\n",
    "builder.add_activation_constant(\"DNA\", \"rRNAP\", 16.94)\n",
    "\n",
    "# DNA activates the transcription of tRNA\n",
    "#builder.add_activation_constant(\"DNA\", \"tRNAP\", 16.94)\n",
    "\n",
    "# rRNAs activate the translation of proteins\n",
    "builder.add_activation_constant(\"rRNA\", \"Ribosome\", 50.12392)"
   ]
  },
  {
   "cell_type": "markdown",
   "metadata": {},
   "source": [
    "## 8) Make water transport constant <a id=\"water\"></a>\n",
    "\n",
    "According to Breuer et al. (2019), minimal cells contain 72% of water. We will then enforce water transport to this value to ensure the maintenance of this quantity. As the buoyant density $\\rho = 1100$, the influx of water should be:\n",
    "\n",
    "$$f_{H_2O} = \\rho \\times 0.72 = 792 \\text{ g/L}$$"
   ]
  },
  {
   "cell_type": "code",
   "execution_count": 8,
   "metadata": {},
   "outputs": [],
   "source": [
    "builder.define_constant_reaction(\"H2Ot\", 0.72)"
   ]
  },
  {
   "cell_type": "markdown",
   "metadata": {},
   "source": [
    "## 8) Enforce the directionality of reactions based on the FBA solution <a id=\"direction\"></a>\n",
    "\n",
    "To facilitate the research of an initial solution, it is usually better to define irreversible reactions (where fluxes are positive or null). A majority of JCVI-syn3A reactions are forward irreversible (<strong>73.58%</strong>), only one is backward irreversible, and <strong>25.94%</strong> of reactions are reversible:"
   ]
  },
  {
   "cell_type": "code",
   "execution_count": 9,
   "metadata": {},
   "outputs": [
    {
     "data": {
      "text/html": [
       "<h1>GBA build GBA_MMSYN summary</h1><table><tr style='text-align:left'><td style='vertical-align:top'><h2 style='text-align: left;'>General</h2><table border=\"1\" class=\"dataframe\">\n",
       "  <thead>\n",
       "    <tr style=\"text-align: right;\">\n",
       "      <th>Category</th>\n",
       "      <th>Count</th>\n",
       "    </tr>\n",
       "  </thead>\n",
       "  <tbody>\n",
       "    <tr>\n",
       "      <td>Proteins</td>\n",
       "      <td>460</td>\n",
       "    </tr>\n",
       "    <tr>\n",
       "      <td>Metabolites</td>\n",
       "      <td>156</td>\n",
       "    </tr>\n",
       "    <tr>\n",
       "      <td>Reactions</td>\n",
       "      <td>154</td>\n",
       "    </tr>\n",
       "  </tbody>\n",
       "</table></td><td style='vertical-align:top'><h2 style='text-align: left;'>Metabolites</h2><table border=\"1\" class=\"dataframe\">\n",
       "  <thead>\n",
       "    <tr style=\"text-align: right;\">\n",
       "      <th>Category</th>\n",
       "      <th>Count</th>\n",
       "      <th>Percentage</th>\n",
       "    </tr>\n",
       "  </thead>\n",
       "  <tbody>\n",
       "    <tr>\n",
       "      <td>Small molecules</td>\n",
       "      <td>133</td>\n",
       "      <td>85.26%</td>\n",
       "    </tr>\n",
       "    <tr>\n",
       "      <td>Macro-molecules</td>\n",
       "      <td>19</td>\n",
       "      <td>12.18%</td>\n",
       "    </tr>\n",
       "    <tr>\n",
       "      <td>DNA(s)</td>\n",
       "      <td>1</td>\n",
       "      <td>0.64%</td>\n",
       "    </tr>\n",
       "    <tr>\n",
       "      <td>RNA(s)</td>\n",
       "      <td>3</td>\n",
       "      <td>1.92%</td>\n",
       "    </tr>\n",
       "    <tr>\n",
       "      <td>Proteins</td>\n",
       "      <td>0</td>\n",
       "      <td>0.00%</td>\n",
       "    </tr>\n",
       "    <tr>\n",
       "      <td>Unknown</td>\n",
       "      <td>0</td>\n",
       "      <td>0.00%</td>\n",
       "    </tr>\n",
       "  </tbody>\n",
       "</table></td><td style='vertical-align:top'><h2 style='text-align: left;'>Reaction types</h2><table border=\"1\" class=\"dataframe\">\n",
       "  <thead>\n",
       "    <tr style=\"text-align: right;\">\n",
       "      <th>Category</th>\n",
       "      <th>Count</th>\n",
       "      <th>Percentage</th>\n",
       "    </tr>\n",
       "  </thead>\n",
       "  <tbody>\n",
       "    <tr>\n",
       "      <td>Metabolic</td>\n",
       "      <td>119</td>\n",
       "      <td>77.27%</td>\n",
       "    </tr>\n",
       "    <tr>\n",
       "      <td>Transport</td>\n",
       "      <td>35</td>\n",
       "      <td>22.73%</td>\n",
       "    </tr>\n",
       "    <tr>\n",
       "      <td>Exchange</td>\n",
       "      <td>0</td>\n",
       "      <td>0.00%</td>\n",
       "    </tr>\n",
       "  </tbody>\n",
       "</table></td><td style='vertical-align:top'><h2 style='text-align: left;'>Reaction directions</h2><table border=\"1\" class=\"dataframe\">\n",
       "  <thead>\n",
       "    <tr style=\"text-align: right;\">\n",
       "      <th>Category</th>\n",
       "      <th>Count</th>\n",
       "      <th>Percentage</th>\n",
       "    </tr>\n",
       "  </thead>\n",
       "  <tbody>\n",
       "    <tr>\n",
       "      <td>Forward</td>\n",
       "      <td>97</td>\n",
       "      <td>62.99%</td>\n",
       "    </tr>\n",
       "    <tr>\n",
       "      <td>Backward</td>\n",
       "      <td>1</td>\n",
       "      <td>0.65%</td>\n",
       "    </tr>\n",
       "    <tr>\n",
       "      <td>Reversible</td>\n",
       "      <td>56</td>\n",
       "      <td>36.36%</td>\n",
       "    </tr>\n",
       "  </tbody>\n",
       "</table></td></tr></table>"
      ]
     },
     "metadata": {},
     "output_type": "display_data"
    }
   ],
   "source": [
    "builder.summary()"
   ]
  },
  {
   "cell_type": "markdown",
   "metadata": {},
   "source": [
    "To define the direction of reversible reactions, we will use the flux directions from the FBA solution. The backward reaction will also be converted into a forward reaction:"
   ]
  },
  {
   "cell_type": "code",
   "execution_count": 10,
   "metadata": {},
   "outputs": [],
   "source": [
    "sol = sbml_model.optimize()\n",
    "sol = builder.FBA_solution\n",
    "builder.enforce_directionality(sol.fluxes)"
   ]
  },
  {
   "cell_type": "markdown",
   "metadata": {},
   "source": [
    "## 9) Export the GBA model <a id=\"export\"></a>\n",
    "\n",
    "We will now save the builder, and export the GBA model with just built in the standard format of a set of CSV files."
   ]
  },
  {
   "cell_type": "code",
   "execution_count": 11,
   "metadata": {},
   "outputs": [],
   "source": [
    "backup_GBA_builder(builder, \"mmsyn_build_4\", \"./backup\")\n",
    "builder.export_GBA_model(\"./models/\")"
   ]
  },
  {
   "cell_type": "markdown",
   "metadata": {},
   "source": [
    "## 10) Test for an initial solution <a id=\"initial_solution\"></a>\n",
    "\n",
    "To test for an initial solution, we will load the freshly created GBA model as a `GbaModel` object.\n",
    "This class is optimized for GBA algorithms, and is separated from the GBA builder (class `GbaBuilder`) for practical reasons.\n",
    "\n",
    "First, we load the GBA model from the CSV files:"
   ]
  },
  {
   "cell_type": "code",
   "execution_count": 12,
   "metadata": {},
   "outputs": [],
   "source": [
    "model = GbaModel(builder.name)\n",
    "model.read_from_csv(path=\"./models/\")"
   ]
  },
  {
   "cell_type": "markdown",
   "metadata": {},
   "source": [
    "Then, we look for an initial solution. This is done in two steps:\n",
    "- 1) A linear routine is calculated to generate an initial flux fraction vector `GbaModel.LP_solution`,\n",
    "- 2) The state of the model is calculated from this solution,\n",
    "- 3) The consistency of the model is checked (mainly, positivity of main variables and a total density of 1). If the model is consistent we save the initial solution.\n",
    "\n",
    "#### Note\n",
    "The RHS factor (`rhs_factor`) is a weighting factor used to adjust the right-hand side of the linear problem. One can adjust its value to find a solution (usually, a smaller RHS factor increases the chance to find a consistent solution). Here, we choose `rhs_factor = 7` after testing different values by hand."
   ]
  },
  {
   "cell_type": "code",
   "execution_count": 13,
   "metadata": {},
   "outputs": [
    {
     "name": "stdout",
     "output_type": "stream",
     "text": [
      "> Model is consistent with mu = 0.00035896830087001346\n"
     ]
    }
   ],
   "source": [
    "solved = model.solve_local_linear_problem(rhs_factor=6)\n",
    "if solved:\n",
    "    model.set_condition(\"1\")\n",
    "    model.set_f0(model.LP_solution)\n",
    "    model.calculate_state()\n",
    "    model.check_model_consistency()\n",
    "    if model.consistent:\n",
    "        print(\"> Model is consistent with mu =\", model.mu)\n",
    "        model.save_f0(path=\"./models/\")\n",
    "    else:\n",
    "        print(\"> Model is inconsistent\")\n",
    "else:\n",
    "    print(\"> Impossible to find an initial solution\")"
   ]
  },
  {
   "cell_type": "code",
   "execution_count": null,
   "metadata": {},
   "outputs": [],
   "source": [
    "builder."
   ]
  },
  {
   "cell_type": "markdown",
   "metadata": {},
   "source": [
    "We see that our linear routine can find one consistent initial solution, with a very low growth rate ($\\mu \\approx 4 \\times 10^{-4}$)."
   ]
  }
 ],
 "metadata": {
  "kernelspec": {
   "display_name": "Python 3",
   "language": "python",
   "name": "python3"
  },
  "language_info": {
   "codemirror_mode": {
    "name": "ipython",
    "version": 3
   },
   "file_extension": ".py",
   "mimetype": "text/x-python",
   "name": "python",
   "nbconvert_exporter": "python",
   "pygments_lexer": "ipython3",
   "version": "3.12.6"
  }
 },
 "nbformat": 4,
 "nbformat_minor": 2
}
