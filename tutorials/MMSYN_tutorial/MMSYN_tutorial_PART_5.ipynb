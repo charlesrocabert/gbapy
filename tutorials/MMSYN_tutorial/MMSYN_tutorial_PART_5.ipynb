{
 "cells": [
  {
   "cell_type": "markdown",
   "metadata": {},
   "source": [
    "<h1 align=\"center\" style=\"font-variant: small-caps\"><strong>GBApy</strong> Tutorial: How to build a genome-scale GBA model</h1>\n",
    "<h2 align=\"center\">PART 5: Model size reduction</h2>\n",
    "\n",
    "## Table of content\n",
    "\n",
    "- [1) Objective](#objective)\n",
    "- [2) Load the model builder](#load)"
   ]
  },
  {
   "cell_type": "markdown",
   "metadata": {},
   "source": [
    "## 1) Objective <a id=\"objective\"></a>\n",
    "\n",
    "In the previous tutorial (part 4), we finalized a near complete version of the minimal cell and obtained what appears to be a correct initial solution. However, such a model cannot be optimized easily as its matrix is not full column rank (see below).\n",
    "It has been shown that if the matrix is full column rank, the problem is expected to be convex. This is usually the case when the matrix represents a single elementary flux mode (EFM).\n",
    "\n",
    "In this tutorial, we will then reduce the model to obtain a full column rank and consistent GBA model. Many approaches can be used to obtain an accurate EFM:\n",
    "- Standard FBA optimization,\n",
    "- More elaborated linear approaches, such as Gecko, or resource balance analysis (RBA).\n",
    "\n",
    "As a first approach, we will use our reconstructed FBA model using the original biomass reaction to generate an EFM."
   ]
  },
  {
   "cell_type": "markdown",
   "metadata": {},
   "source": [
    "## 2) Load the model builder <a id=\"load\"></a>\n",
    "\n",
    "The model builder \"GBA_MMSYN\" is loaded from the backup created in the previous tutorial."
   ]
  },
  {
   "cell_type": "code",
   "execution_count": 1,
   "metadata": {},
   "outputs": [
    {
     "name": "stdout",
     "output_type": "stream",
     "text": [
      "Set parameter Username\n",
      "Academic license - for non-commercial use only - expires 2025-06-06\n",
      "Read LP format model from file /var/folders/5h/n0xqh1xj2zg6yyd747k95bc80000gn/T/tmp3c8n6dt1.lp\n",
      "Reading time = 0.00 seconds\n",
      ": 156 rows, 376 columns, 1558 nonzeros\n"
     ]
    }
   ],
   "source": [
    "import os\n",
    "import sys\n",
    "import cobra\n",
    "import numpy as np\n",
    "\n",
    "sys.path.append('./src/gba/')\n",
    "\n",
    "from GbaBuilder import *\n",
    "from GbaModel import *\n",
    "\n",
    "builder    = load_GBA_builder(\"./backup/mmsyn_build_4.gbabuild\")\n",
    "sbml_model = cobra.io.read_sbml_model(\"./data/manual_curation/MMSYN_annotated.xml\")"
   ]
  },
  {
   "cell_type": "markdown",
   "metadata": {},
   "source": [
    "## 3) Create a routine to check the model structure, the FBA growth rate and the mass fraction column rank"
   ]
  },
  {
   "cell_type": "code",
   "execution_count": 2,
   "metadata": {},
   "outputs": [],
   "source": [
    "def check_compression( builder ):\n",
    "    builder.check_model(test_structure=True)\n",
    "    builder.build_FBA_model()\n",
    "    builder.convert(ribosome_byproducts=False)\n",
    "    builder.build_GBA_variables()\n",
    "    growth = builder.FBA_solution.objective_value\n",
    "    rank   = np.linalg.matrix_rank(builder.GBA_intM)\n",
    "    nbcol  = builder.GBA_intM.shape[1]\n",
    "    print(\"> Growth rate: \", growth)\n",
    "    print(\"> Rank: \", rank, \"/\", nbcol, \"(diff = %d)\" % (nbcol-rank))\n",
    "    print(\"(M shape: %s)\" % str(builder.GBA_intM.shape))\n",
    "    sol       = builder.FBA_solution.fluxes.to_dict()\n",
    "    to_remove = [r_id for r_id in sol if sol[r_id] == 0.0 and not r_id.startswith(\"EX_\")]\n",
    "    print(\">\", len(to_remove), \"reactions to remove\")\n",
    "    print(to_remove)"
   ]
  },
  {
   "cell_type": "markdown",
   "metadata": {},
   "source": [
    "## 4) Detect inactive reactions in the FBA solution"
   ]
  },
  {
   "cell_type": "code",
   "execution_count": 3,
   "metadata": {},
   "outputs": [
    {
     "name": "stdout",
     "output_type": "stream",
     "text": [
      "> 40 reactions to remove\n"
     ]
    },
    {
     "data": {
      "text/plain": [
       "['ACALDt',\n",
       " 'ADEt2',\n",
       " 'ADNabc',\n",
       " 'CTPDP',\n",
       " 'CTPSDUMP',\n",
       " 'DCDPMP',\n",
       " 'DCMPDA',\n",
       " 'DCTPDP',\n",
       " 'DCTPMP',\n",
       " 'DRPA',\n",
       " 'DURIK1',\n",
       " 'DURIabc',\n",
       " 'DUTPDP',\n",
       " 'GAPDP',\n",
       " 'GUAt2',\n",
       " 'LDH_L',\n",
       " 'LIPTA',\n",
       " 'L_LACt2r',\n",
       " 'NADHK',\n",
       " 'NAt3',\n",
       " 'NTD1',\n",
       " 'NTD5',\n",
       " 'NTD6',\n",
       " 'NTD8',\n",
       " 'NTD9',\n",
       " 'PDH_acald',\n",
       " 'PGK3',\n",
       " 'PGK4',\n",
       " 'PPM2',\n",
       " 'PUNP1',\n",
       " 'PYK',\n",
       " 'PYK9',\n",
       " 'PdhC_transl',\n",
       " 'RNDR1',\n",
       " 'RNDR2',\n",
       " 'RNDR3',\n",
       " 'RNDR4',\n",
       " 'rRNAP',\n",
       " 'rRNA_degrad',\n",
       " 'tRNAP']"
      ]
     },
     "execution_count": 3,
     "metadata": {},
     "output_type": "execute_result"
    }
   ],
   "source": [
    "sol       = builder.FBA_solution.fluxes.to_dict()\n",
    "to_remove = [r_id for r_id in sol if sol[r_id] == 0.0 and not r_id.startswith(\"EX_\")]\n",
    "print(\">\", len(to_remove), \"reactions to remove\")\n",
    "to_remove"
   ]
  },
  {
   "cell_type": "markdown",
   "metadata": {},
   "source": [
    "We see that we should, in principle, remove 59 reactions to reach an EFM. However, we must proceed carefully because some inactive reactions in FBA are production reactions, and cannot be removed rom the GBA model (<em>e.g.</em> RNA and tRNA production reactions).\n",
    "\n",
    "There is thus some inconsistencies here. To get a more realistic estimate, we will enforce the production of trdox and RNA molecules by modifying FBA boundaries, and recalculate the solution. We will then proceed pathway by pathway, by using the map provided in Breuer et al. (2019)."
   ]
  },
  {
   "cell_type": "code",
   "execution_count": 4,
   "metadata": {},
   "outputs": [
    {
     "name": "stdout",
     "output_type": "stream",
     "text": [
      "> 34 reactions to remove\n"
     ]
    },
    {
     "data": {
      "text/plain": [
       "['ACALDt',\n",
       " 'ADEt2',\n",
       " 'CTPDP',\n",
       " 'CTPSDUMP',\n",
       " 'DCDPMP',\n",
       " 'DCMPDA',\n",
       " 'DCTPDP',\n",
       " 'DCTPMP',\n",
       " 'DRPA',\n",
       " 'DURIK1',\n",
       " 'DURIabc',\n",
       " 'DUTPDP',\n",
       " 'GAPDP',\n",
       " 'GUAt2',\n",
       " 'NADK',\n",
       " 'NAt3',\n",
       " 'NTD1',\n",
       " 'NTD5',\n",
       " 'NTD6',\n",
       " 'NTD8',\n",
       " 'NTD9',\n",
       " 'PDH_acald',\n",
       " 'PGK4',\n",
       " 'PPM2',\n",
       " 'PUNP2',\n",
       " 'PUNP4',\n",
       " 'PYK3',\n",
       " 'PYK5',\n",
       " 'PYK9',\n",
       " 'PYRt2r',\n",
       " 'RNDR1',\n",
       " 'RNDR2',\n",
       " 'RNDR3',\n",
       " 'RNDR4']"
      ]
     },
     "execution_count": 4,
     "metadata": {},
     "output_type": "execute_result"
    }
   ],
   "source": [
    "production_reactions = ['tRNAP',\n",
    "                        'rRNAP',\n",
    "                        'PdhC_transl',\n",
    "                        'dUTPase_transl']\n",
    "min_flux = 1e-8\n",
    "for r_id in production_reactions:\n",
    "    builder.reactions[r_id].lb = min_flux\n",
    "builder.build_FBA_model()\n",
    "\n",
    "sol       = builder.FBA_solution.fluxes.to_dict()\n",
    "to_remove = [r_id for r_id in sol if sol[r_id] == 0.0 and not r_id.startswith(\"EX_\")]\n",
    "print(\">\", len(to_remove), \"reactions to remove\")\n",
    "to_remove"
   ]
  },
  {
   "cell_type": "markdown",
   "metadata": {},
   "source": [
    "We see that despite PDH_acald and trdoxt are still zero (we want them to be active), we have much less inactive reactions to consider."
   ]
  },
  {
   "cell_type": "markdown",
   "metadata": {},
   "source": [
    "## 5) Remove reactions pathway by pathway"
   ]
  },
  {
   "cell_type": "code",
   "execution_count": 5,
   "metadata": {},
   "outputs": [
    {
     "name": "stdout",
     "output_type": "stream",
     "text": [
      "> Info: No missing mass in the model\n",
      "> Info: No missing kinetic parameters in the model\n",
      "> Info: No connectivity issues in the model\n",
      "> Info: No unproduced metabolites in the model\n",
      "> Info: No isolated metabolites in the model\n"
     ]
    }
   ],
   "source": [
    "builder.reset_conversion()\n",
    "###########################\n",
    "FBA_inactive_reactions = [\"ADEt2\", \"NAt3\", \"GUAt2\",# \"PYRt2r\",\n",
    "                          \"RNDR1\", \"RNDR2\", \"RNDR3\", #\"TRDR\",# \"RNDR4\",\n",
    "                          \"PUNP2\", \"PUNP4\",\n",
    "                          \"PYK\", \"PYK5\",# \"PYK9\",\n",
    "                          \"NTD5\", \"NTD6\", \"NTD8\", \"NTD9\",\n",
    "                          \"CTPDP\", \"DCDPMP\", \"DCTPDP\", #\"DUTPDP\",\n",
    "                          \"NADK\", \"PGK3\",\n",
    "                          \"GAPDP\",\n",
    "                          \"FMETTRS\", \"GHMT\", \"MTHFD\", \"MTHFC\",\n",
    "                          \"RNDR4\", \"PYK9\", \"DUTPDP\",\n",
    "                          \"GHMT2\",\n",
    "                          \"FMNAT\", \"Ht\", \"TRDR\", \"NADHK\",\n",
    "                          \"PDH_acald\", \"PPM2\", \"DRPA\", \"ACALDt\",\n",
    "                          \"DCTPMP\", \"trdoxt\", \"trdrdt\",\n",
    "                          \"NAt\"]\n",
    "FBA_inactive_metabolites = [\"x_ade\", \"x_gua\",# \"x_pyr\",\n",
    "                            \"2dr1p\", \"trdrd\", \"trdox\", \"x_trdox\", \"x_trdrd\",\n",
    "                            \"fmettrna\", \"thfglu3\", \"mlthfglu3\", \"10fthfglu3\",\n",
    "                            \"dudp\", \"dump\", \"dutp\",\n",
    "                            \"fad\", \"nadp\", \"nadph\",\n",
    "                            \"x_acald\", \"acald\", \"2dr5p\",\n",
    "                            \"x_na1\", \"na1\"]\n",
    "###########################\n",
    "GBA_non_independent_reactions   = [\"ATPase\"]#, \"L_LACt2r\"]\n",
    "GBA_non_independent_metabolites = []#\"x_lac__L\"]\n",
    "###########################\n",
    "builder.remove_reactions(FBA_inactive_reactions)\n",
    "builder.remove_metabolites(FBA_inactive_metabolites)\n",
    "#if remove_non_independent_GBA_reactions:\n",
    "builder.remove_reactions(GBA_non_independent_reactions)\n",
    "builder.remove_metabolites(GBA_non_independent_metabolites)\n",
    "builder.check_model(test_structure=True)\n",
    "    "
   ]
  },
  {
   "cell_type": "code",
   "execution_count": 6,
   "metadata": {},
   "outputs": [
    {
     "name": "stdout",
     "output_type": "stream",
     "text": [
      "> Info: No missing mass in the model\n",
      "> Info: No missing kinetic parameters in the model\n",
      "> Info: No connectivity issues in the model\n",
      "> Info: No unproduced metabolites in the model\n",
      "> Info: No isolated metabolites in the model\n",
      "> Growth rate:  None\n",
      "> Rank:  106 / 113 (diff = 7)\n",
      "(M shape: (106, 113))\n",
      "> 14 reactions to remove\n",
      "['DCYTK', 'DCYTabc', 'DURIK1', 'DURIabc', 'LIPTA', 'NACabc', 'NADS', 'NCTPPRT', 'NNATr', 'NTD1', 'PYRt2r', 'PdhC_transl', 'RBFK', 'RIBFLVabc']\n"
     ]
    },
    {
     "name": "stderr",
     "output_type": "stream",
     "text": [
      "/usr/local/lib/python3.12/site-packages/cobra/util/solver.py:554: UserWarning: Solver status is 'infeasible'.\n",
      "  warn(f\"Solver status is '{status}'.\", UserWarning)\n"
     ]
    }
   ],
   "source": [
    "check_compression(builder)"
   ]
  },
  {
   "cell_type": "markdown",
   "metadata": {},
   "source": [
    "### 5.6) Additional reactions to remove to reach full column rank\n",
    "\n",
    "We see that the internal mass fraction matrix is almost full column rank.\n",
    "We need to remove 4 more duplicate reactions:"
   ]
  },
  {
   "cell_type": "code",
   "execution_count": 7,
   "metadata": {},
   "outputs": [
    {
     "name": "stdout",
     "output_type": "stream",
     "text": [
      "> Warning: No mass balance for reaction 'ACP_transl' (diff = 24532.74671044806Da, threshold = 0.1Da)\n",
      "> Warning: No mass balance for reaction 'CTPSDUMP' (diff = 306.18959899799995Da, threshold = 0.1Da)\n",
      "> Warning: No mass balance for reaction 'DCMPDA' (diff = -306.166418998Da, threshold = 0.1Da)\n",
      "> Warning: No mass balance for reaction 'DURIK1' (diff = -306.166418998Da, threshold = 0.1Da)\n",
      "> Warning: No mass balance for reaction 'NTD1' (diff = 306.166418998Da, threshold = 0.1Da)\n",
      "> Warning: No mass balance for reaction 'PdhC_transl' (diff = 24532.74552084878Da, threshold = 0.1Da)\n",
      "> Warning: No mass balance for reaction 'dUTPase_transl' (diff = 24532.74683014769Da, threshold = 0.1Da)\n",
      "> Warning: No mass balance for reaction 'Ribosome' (diff = -9860829.227723354Da, threshold = 0.1Da)\n"
     ]
    }
   ],
   "source": [
    "builder.check_mass_balance(verbose=True)\n",
    "builder.convert(ribosome_byproducts=False)\n",
    "builder.build_GBA_variables()"
   ]
  },
  {
   "cell_type": "code",
   "execution_count": 8,
   "metadata": {},
   "outputs": [
    {
     "name": "stdout",
     "output_type": "stream",
     "text": [
      "CO2t -6.9\n",
      "FORt -1.5873771676905557e-07\n",
      "NH3t -0.7945049848876744\n",
      "PGK4 -3.0844392418210775\n"
     ]
    }
   ],
   "source": [
    "#sbml_model = cobra.io.read_sbml_model(\"./data/manual_curation/MMSYN_annotated.xml\")\n",
    "#sol = sbml_model.optimize()\n",
    "sol = builder.FBA_solution\n",
    "for item in sol.fluxes.items():\n",
    "    r_id  = item[0]\n",
    "    f_val = item[1]\n",
    "    if r_id != \"BIOMASS\" and not r_id.startswith(\"EX_\") and r_id in builder.reactions:\n",
    "        if f_val >= 0.0 or r_id == \"H2Ot\":\n",
    "            builder.convert_GBA_reaction_to_forward_irreversible(r_id, ReactionDirection.Forward)\n",
    "        elif f_val < 0.0 and r_id != \"H2Ot\":\n",
    "            print(r_id, f_val)\n",
    "            builder.convert_GBA_reaction_to_forward_irreversible(r_id, ReactionDirection.Backward)\n",
    "\n",
    "glucose   = 5.0\n",
    "step      = 0.1\n",
    "condition = 1\n",
    "rho       = 1100.0\n",
    "builder.clear_conditions()\n",
    "while glucose > step/2:\n",
    "    builder.add_condition(condition_id=condition, rho=1100.0, default_concentration=1.0,\n",
    "                          metabolites={\"x_glc__D\": glucose, \"x_h2o\": 1000.0, \"x_h\": 1e-7})\n",
    "    glucose -= step\n",
    "    condition += 1\n",
    "\n",
    "builder.clear_constant_reactions()\n",
    "builder.define_constant_reaction(\"H2Ot\", 0.72)\n",
    "\n",
    "# DNA is a self-activator\n",
    "builder.add_activation_constant(\"DNA\", \"DNAP\", 16.94)\n",
    "\n",
    "# DNA activates the transcription of rRNAs\n",
    "builder.add_activation_constant(\"DNA\", \"rRNAP\", 16.94)\n",
    "\n",
    "# DNA activates the transcription of tRNAs\n",
    "builder.add_activation_constant(\"DNA\", \"tRNAP\", 16.94)\n",
    "\n",
    "# rRNAs activate the translation of proteins\n",
    "builder.add_activation_constant(\"rRNA\", \"Ribosome\", 50.12392)"
   ]
  },
  {
   "cell_type": "code",
   "execution_count": 9,
   "metadata": {},
   "outputs": [
    {
     "name": "stdout",
     "output_type": "stream",
     "text": [
      "> Model is consistent with mu = 0.0003693449915986038\n"
     ]
    }
   ],
   "source": [
    "builder.export_GBA_model(\"./models/\")\n",
    "model = GbaModel(builder.name)\n",
    "model.read_from_csv(path=\"./models/\")\n",
    "solved = model.solve_local_linear_problem(rhs_factor=7)\n",
    "if solved:\n",
    "    model.set_condition(\"1\")\n",
    "    model.set_f0(model.LP_solution)\n",
    "    model.calculate_state()\n",
    "    model.check_model_consistency()\n",
    "    if model.consistent:\n",
    "        print(\"> Model is consistent with mu =\", model.mu)\n",
    "        model.save_f0(path=\"./models/\")\n",
    "    else:\n",
    "        print(\"> Model is inconsistent\")\n",
    "else:\n",
    "    print(\"> Model could not be solved\")"
   ]
  },
  {
   "cell_type": "code",
   "execution_count": null,
   "metadata": {},
   "outputs": [],
   "source": []
  }
 ],
 "metadata": {
  "kernelspec": {
   "display_name": "Python 3",
   "language": "python",
   "name": "python3"
  },
  "language_info": {
   "codemirror_mode": {
    "name": "ipython",
    "version": 3
   },
   "file_extension": ".py",
   "mimetype": "text/x-python",
   "name": "python",
   "nbconvert_exporter": "python",
   "pygments_lexer": "ipython3",
   "version": "3.12.6"
  }
 },
 "nbformat": 4,
 "nbformat_minor": 2
}
