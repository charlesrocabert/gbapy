{
 "cells": [
  {
   "cell_type": "code",
   "execution_count": 1,
   "metadata": {},
   "outputs": [],
   "source": [
    "# Import GBApy\n",
    "#import gba\n",
    "\n",
    "import sys\n",
    "import gba\n",
    "\n",
    "import numpy as np\n",
    "import pandas as pd\n",
    "import plotly.express as px\n",
    "import plotly.graph_objects as go\n",
    "from plotly.subplots import make_subplots"
   ]
  },
  {
   "cell_type": "markdown",
   "metadata": {},
   "source": [
    "# 1. Create a non full column rank model\n",
    "\n",
    "To create a non full-column-rank toy model, use the script `./scripts/generate_toy_model.py` (see Github project note).\n",
    "\n",
    "E.g. here, I used equal kcat values:\n",
    "\n",
    "```bash\n",
    "python ./scripts/generate_toy_model.py -path ./toy_models -name efm2 -efms 2 -kcat 10 -gradient 0.0\n",
    "```"
   ]
  },
  {
   "cell_type": "markdown",
   "metadata": {},
   "source": [
    "# 2. Load the model + basic manipulations\n",
    "\n",
    "## 2.1. Load the model"
   ]
  },
  {
   "cell_type": "code",
   "execution_count": 2,
   "metadata": {},
   "outputs": [
    {
     "data": {
      "text/html": [
       "<h1>GBA model efm2 summary</h1><table><tr style='text-align:left'><td style='vertical-align:top'><h2 style='text-align: left;'>Metabolites</h2><table border=\"1\" class=\"dataframe\">\n",
       "  <thead>\n",
       "    <tr style=\"text-align: right;\">\n",
       "      <th>Category</th>\n",
       "      <th>Count</th>\n",
       "    </tr>\n",
       "  </thead>\n",
       "  <tbody>\n",
       "    <tr>\n",
       "      <td>Nb metabolites</td>\n",
       "      <td>6</td>\n",
       "    </tr>\n",
       "    <tr>\n",
       "      <td>Nb external metabolites</td>\n",
       "      <td>2</td>\n",
       "    </tr>\n",
       "    <tr>\n",
       "      <td>Nb internal metabolites</td>\n",
       "      <td>4</td>\n",
       "    </tr>\n",
       "  </tbody>\n",
       "</table></td><td style='vertical-align:top'><h2 style='text-align: left;'>Reactions</h2><table border=\"1\" class=\"dataframe\">\n",
       "  <thead>\n",
       "    <tr style=\"text-align: right;\">\n",
       "      <th>Category</th>\n",
       "      <th>Count</th>\n",
       "    </tr>\n",
       "  </thead>\n",
       "  <tbody>\n",
       "    <tr>\n",
       "      <td>Nb reactions</td>\n",
       "      <td>5</td>\n",
       "    </tr>\n",
       "    <tr>\n",
       "      <td>Nb exchange reactions</td>\n",
       "      <td>2</td>\n",
       "    </tr>\n",
       "    <tr>\n",
       "      <td>Nb internal reactions</td>\n",
       "      <td>2</td>\n",
       "    </tr>\n",
       "  </tbody>\n",
       "</table></td><td style='vertical-align:top'><h2 style='text-align: left;'>Matrix rank</h2><table border=\"1\" class=\"dataframe\">\n",
       "  <thead>\n",
       "    <tr style=\"text-align: right;\">\n",
       "      <th>Category</th>\n",
       "      <th>Count</th>\n",
       "    </tr>\n",
       "  </thead>\n",
       "  <tbody>\n",
       "    <tr>\n",
       "      <td>Column rank</td>\n",
       "      <td>4</td>\n",
       "    </tr>\n",
       "    <tr>\n",
       "      <td>Is full column rank?</td>\n",
       "      <td>False</td>\n",
       "    </tr>\n",
       "  </tbody>\n",
       "</table></td></tr></table>"
      ]
     },
     "metadata": {},
     "output_type": "display_data"
    }
   ],
   "source": [
    "model = gba.read_csv_model(\"efm2\", \"../toy_models\")\n",
    "model.summary()"
   ]
  },
  {
   "cell_type": "markdown",
   "metadata": {},
   "source": [
    "Note that the model is not full column rank (table \"Matrix rank\")."
   ]
  },
  {
   "cell_type": "code",
   "execution_count": 3,
   "metadata": {},
   "outputs": [
    {
     "data": {
      "text/plain": [
       "array([10.  , 10.  , 10.  , 10.  ,  4.55])"
      ]
     },
     "execution_count": 3,
     "metadata": {},
     "output_type": "execute_result"
    }
   ],
   "source": [
    "model.kcat_f"
   ]
  },
  {
   "cell_type": "markdown",
   "metadata": {},
   "source": [
    "For this model, the $k_\\text{cat}$ value of the reaction `rxn1` (10 h<sup>-1</sup>) is slightly higher than for `rxn2` (9.99 h<sup>-1</sup>). We can expect both EFMs to have very close optimal growth rates."
   ]
  },
  {
   "cell_type": "markdown",
   "metadata": {},
   "source": [
    "## 2.2. Explore the fitness landscape of the model\n",
    "\n",
    "We will now vary the flux of the reaction `rxn2` between 0.0 and 1.0.\n",
    "As `rxn1` and `rxn2` are transporters, their `f` value will always vary between 0 and 1 thanks to the normalization of mass conservation.\n",
    "By doing so, we can vizualise the fitness landscape of a flux depending on `rxn2`.\n",
    "\n",
    "In the example below, for each new value of `rxn2`, the steps are:\n",
    "- to clear the list of constant reactions,\n",
    "- to set up the constant value of `rxn2`,\n",
    "- to find an initial solution given this value,\n",
    "- to set the initial point $f_0$,\n",
    "- to run the gradient ascent.\n",
    "\n",
    "The trick here to avoid very long solving times is to set up the maximal time of the gradient ascent to a small value (here, `max_time = 10`).\n",
    "\n",
    "<strong>WARNING:</strong> For some reasons, the gradient ascent does not work for values close to 0.0 or 1.0. Here, `rxn2` ranges from 0.1 to 0.9."
   ]
  },
  {
   "cell_type": "code",
   "execution_count": 35,
   "metadata": {},
   "outputs": [
    {
     "data": {
      "text/html": [
       "<div>\n",
       "<style scoped>\n",
       "    .dataframe tbody tr th:only-of-type {\n",
       "        vertical-align: middle;\n",
       "    }\n",
       "\n",
       "    .dataframe tbody tr th {\n",
       "        vertical-align: top;\n",
       "    }\n",
       "\n",
       "    .dataframe thead th {\n",
       "        text-align: right;\n",
       "    }\n",
       "</style>\n",
       "<table border=\"1\" class=\"dataframe\">\n",
       "  <thead>\n",
       "    <tr style=\"text-align: right;\">\n",
       "      <th></th>\n",
       "      <th>label</th>\n",
       "      <th>condition</th>\n",
       "      <th>iter</th>\n",
       "      <th>dt</th>\n",
       "      <th>t</th>\n",
       "      <th>mu</th>\n",
       "      <th>fixed</th>\n",
       "      <th>f_rxn1</th>\n",
       "      <th>f_rxn2</th>\n",
       "      <th>f_rxn3</th>\n",
       "      <th>...</th>\n",
       "      <th>p_rxn4</th>\n",
       "      <th>p_Ribosome</th>\n",
       "      <th>b_C1</th>\n",
       "      <th>b_C2</th>\n",
       "      <th>b_AA</th>\n",
       "      <th>b_Protein</th>\n",
       "      <th>c_C1</th>\n",
       "      <th>c_C2</th>\n",
       "      <th>c_AA</th>\n",
       "      <th>c_Protein</th>\n",
       "    </tr>\n",
       "  </thead>\n",
       "  <tbody>\n",
       "    <tr>\n",
       "      <th>259</th>\n",
       "      <td>1</td>\n",
       "      <td>1</td>\n",
       "      <td>271</td>\n",
       "      <td>0.0</td>\n",
       "      <td>0.976001</td>\n",
       "      <td>0.611144</td>\n",
       "      <td>259</td>\n",
       "      <td>0.9</td>\n",
       "      <td>0.1</td>\n",
       "      <td>0.885321</td>\n",
       "      <td>...</td>\n",
       "      <td>3.164101</td>\n",
       "      <td>58.812525</td>\n",
       "      <td>0.014679</td>\n",
       "      <td>0.004893</td>\n",
       "      <td>0.060939</td>\n",
       "      <td>0.919489</td>\n",
       "      <td>4.990929</td>\n",
       "      <td>1.663643</td>\n",
       "      <td>20.719197</td>\n",
       "      <td>312.62623</td>\n",
       "    </tr>\n",
       "    <tr>\n",
       "      <th>513</th>\n",
       "      <td>2</td>\n",
       "      <td>1</td>\n",
       "      <td>254</td>\n",
       "      <td>0.008</td>\n",
       "      <td>1.024</td>\n",
       "      <td>0.60996</td>\n",
       "      <td>253</td>\n",
       "      <td>0.8</td>\n",
       "      <td>0.2</td>\n",
       "      <td>0.786177</td>\n",
       "      <td>...</td>\n",
       "      <td>5.708497</td>\n",
       "      <td>58.659825</td>\n",
       "      <td>0.013823</td>\n",
       "      <td>0.006911</td>\n",
       "      <td>0.060835</td>\n",
       "      <td>0.918431</td>\n",
       "      <td>4.69971</td>\n",
       "      <td>2.349855</td>\n",
       "      <td>20.683741</td>\n",
       "      <td>312.266694</td>\n",
       "    </tr>\n",
       "    <tr>\n",
       "      <th>763</th>\n",
       "      <td>3</td>\n",
       "      <td>1</td>\n",
       "      <td>250</td>\n",
       "      <td>0.008</td>\n",
       "      <td>0.992</td>\n",
       "      <td>0.609301</td>\n",
       "      <td>249</td>\n",
       "      <td>0.7</td>\n",
       "      <td>0.3</td>\n",
       "      <td>0.687079</td>\n",
       "      <td>...</td>\n",
       "      <td>8.139645</td>\n",
       "      <td>58.574965</td>\n",
       "      <td>0.012921</td>\n",
       "      <td>0.008459</td>\n",
       "      <td>0.060777</td>\n",
       "      <td>0.917844</td>\n",
       "      <td>4.393165</td>\n",
       "      <td>2.876002</td>\n",
       "      <td>20.664023</td>\n",
       "      <td>312.06681</td>\n",
       "    </tr>\n",
       "    <tr>\n",
       "      <th>1009</th>\n",
       "      <td>4</td>\n",
       "      <td>1</td>\n",
       "      <td>246</td>\n",
       "      <td>0.008</td>\n",
       "      <td>0.96</td>\n",
       "      <td>0.608952</td>\n",
       "      <td>245</td>\n",
       "      <td>0.6</td>\n",
       "      <td>0.4</td>\n",
       "      <td>0.588042</td>\n",
       "      <td>...</td>\n",
       "      <td>10.51341</td>\n",
       "      <td>58.530015</td>\n",
       "      <td>0.011958</td>\n",
       "      <td>0.009764</td>\n",
       "      <td>0.060746</td>\n",
       "      <td>0.917532</td>\n",
       "      <td>4.065803</td>\n",
       "      <td>3.319715</td>\n",
       "      <td>20.653574</td>\n",
       "      <td>311.960908</td>\n",
       "    </tr>\n",
       "    <tr>\n",
       "      <th>1254</th>\n",
       "      <td>5</td>\n",
       "      <td>1</td>\n",
       "      <td>255</td>\n",
       "      <td>0.0</td>\n",
       "      <td>0.912003</td>\n",
       "      <td>0.608841</td>\n",
       "      <td>244</td>\n",
       "      <td>0.5</td>\n",
       "      <td>0.5</td>\n",
       "      <td>0.489085</td>\n",
       "      <td>...</td>\n",
       "      <td>12.852464</td>\n",
       "      <td>58.515823</td>\n",
       "      <td>0.010915</td>\n",
       "      <td>0.010915</td>\n",
       "      <td>0.060736</td>\n",
       "      <td>0.917434</td>\n",
       "      <td>3.711128</td>\n",
       "      <td>3.711128</td>\n",
       "      <td>20.650275</td>\n",
       "      <td>311.927469</td>\n",
       "    </tr>\n",
       "    <tr>\n",
       "      <th>1500</th>\n",
       "      <td>6</td>\n",
       "      <td>1</td>\n",
       "      <td>246</td>\n",
       "      <td>0.008</td>\n",
       "      <td>0.96</td>\n",
       "      <td>0.608952</td>\n",
       "      <td>245</td>\n",
       "      <td>0.4</td>\n",
       "      <td>0.6</td>\n",
       "      <td>0.390236</td>\n",
       "      <td>...</td>\n",
       "      <td>15.169523</td>\n",
       "      <td>58.530015</td>\n",
       "      <td>0.009764</td>\n",
       "      <td>0.011958</td>\n",
       "      <td>0.060746</td>\n",
       "      <td>0.917532</td>\n",
       "      <td>3.319715</td>\n",
       "      <td>4.065803</td>\n",
       "      <td>20.653574</td>\n",
       "      <td>311.960908</td>\n",
       "    </tr>\n",
       "    <tr>\n",
       "      <th>1750</th>\n",
       "      <td>7</td>\n",
       "      <td>1</td>\n",
       "      <td>250</td>\n",
       "      <td>0.008</td>\n",
       "      <td>0.992</td>\n",
       "      <td>0.609301</td>\n",
       "      <td>249</td>\n",
       "      <td>0.3</td>\n",
       "      <td>0.7</td>\n",
       "      <td>0.291541</td>\n",
       "      <td>...</td>\n",
       "      <td>17.473648</td>\n",
       "      <td>58.574965</td>\n",
       "      <td>0.008459</td>\n",
       "      <td>0.012921</td>\n",
       "      <td>0.060777</td>\n",
       "      <td>0.917844</td>\n",
       "      <td>2.876002</td>\n",
       "      <td>4.393165</td>\n",
       "      <td>20.664023</td>\n",
       "      <td>312.06681</td>\n",
       "    </tr>\n",
       "    <tr>\n",
       "      <th>2004</th>\n",
       "      <td>8</td>\n",
       "      <td>1</td>\n",
       "      <td>255</td>\n",
       "      <td>0.0016</td>\n",
       "      <td>1.0176</td>\n",
       "      <td>0.60996</td>\n",
       "      <td>253</td>\n",
       "      <td>0.2</td>\n",
       "      <td>0.8</td>\n",
       "      <td>0.193089</td>\n",
       "      <td>...</td>\n",
       "      <td>19.773442</td>\n",
       "      <td>58.659825</td>\n",
       "      <td>0.006911</td>\n",
       "      <td>0.013823</td>\n",
       "      <td>0.060835</td>\n",
       "      <td>0.918431</td>\n",
       "      <td>2.349855</td>\n",
       "      <td>4.69971</td>\n",
       "      <td>20.683741</td>\n",
       "      <td>312.266694</td>\n",
       "    </tr>\n",
       "    <tr>\n",
       "      <th>2264</th>\n",
       "      <td>9</td>\n",
       "      <td>1</td>\n",
       "      <td>270</td>\n",
       "      <td>0.0</td>\n",
       "      <td>0.992013</td>\n",
       "      <td>0.611144</td>\n",
       "      <td>259</td>\n",
       "      <td>0.1</td>\n",
       "      <td>0.9</td>\n",
       "      <td>0.095107</td>\n",
       "      <td>...</td>\n",
       "      <td>22.081862</td>\n",
       "      <td>58.812525</td>\n",
       "      <td>0.004893</td>\n",
       "      <td>0.014679</td>\n",
       "      <td>0.060939</td>\n",
       "      <td>0.919489</td>\n",
       "      <td>1.663643</td>\n",
       "      <td>4.990929</td>\n",
       "      <td>20.719197</td>\n",
       "      <td>312.626231</td>\n",
       "    </tr>\n",
       "  </tbody>\n",
       "</table>\n",
       "<p>9 rows × 30 columns</p>\n",
       "</div>"
      ],
      "text/plain": [
       "     label condition iter      dt         t        mu fixed f_rxn1 f_rxn2  \\\n",
       "259      1         1  271     0.0  0.976001  0.611144   259    0.9    0.1   \n",
       "513      2         1  254   0.008     1.024   0.60996   253    0.8    0.2   \n",
       "763      3         1  250   0.008     0.992  0.609301   249    0.7    0.3   \n",
       "1009     4         1  246   0.008      0.96  0.608952   245    0.6    0.4   \n",
       "1254     5         1  255     0.0  0.912003  0.608841   244    0.5    0.5   \n",
       "1500     6         1  246   0.008      0.96  0.608952   245    0.4    0.6   \n",
       "1750     7         1  250   0.008     0.992  0.609301   249    0.3    0.7   \n",
       "2004     8         1  255  0.0016    1.0176   0.60996   253    0.2    0.8   \n",
       "2264     9         1  270     0.0  0.992013  0.611144   259    0.1    0.9   \n",
       "\n",
       "        f_rxn3  ...     p_rxn4 p_Ribosome      b_C1      b_C2      b_AA  \\\n",
       "259   0.885321  ...   3.164101  58.812525  0.014679  0.004893  0.060939   \n",
       "513   0.786177  ...   5.708497  58.659825  0.013823  0.006911  0.060835   \n",
       "763   0.687079  ...   8.139645  58.574965  0.012921  0.008459  0.060777   \n",
       "1009  0.588042  ...   10.51341  58.530015  0.011958  0.009764  0.060746   \n",
       "1254  0.489085  ...  12.852464  58.515823  0.010915  0.010915  0.060736   \n",
       "1500  0.390236  ...  15.169523  58.530015  0.009764  0.011958  0.060746   \n",
       "1750  0.291541  ...  17.473648  58.574965  0.008459  0.012921  0.060777   \n",
       "2004  0.193089  ...  19.773442  58.659825  0.006911  0.013823  0.060835   \n",
       "2264  0.095107  ...  22.081862  58.812525  0.004893  0.014679  0.060939   \n",
       "\n",
       "     b_Protein      c_C1      c_C2       c_AA   c_Protein  \n",
       "259   0.919489  4.990929  1.663643  20.719197   312.62623  \n",
       "513   0.918431   4.69971  2.349855  20.683741  312.266694  \n",
       "763   0.917844  4.393165  2.876002  20.664023   312.06681  \n",
       "1009  0.917532  4.065803  3.319715  20.653574  311.960908  \n",
       "1254  0.917434  3.711128  3.711128  20.650275  311.927469  \n",
       "1500  0.917532  3.319715  4.065803  20.653574  311.960908  \n",
       "1750  0.917844  2.876002  4.393165  20.664023   312.06681  \n",
       "2004  0.918431  2.349855   4.69971  20.683741  312.266694  \n",
       "2264  0.919489  1.663643  4.990929  20.719197  312.626231  \n",
       "\n",
       "[9 rows x 30 columns]"
      ]
     },
     "execution_count": 35,
     "metadata": {},
     "output_type": "execute_result"
    }
   ],
   "source": [
    "res   = pd.DataFrame()\n",
    "label = 1\n",
    "model.clear_all_trajectories()\n",
    "for rxn2 in np.arange(0.1, 1.0, 0.1):\n",
    "    model.clear_constant_reactions()\n",
    "    model.add_constant_reaction(\"rxn2\", rxn2)\n",
    "    model.solve_local_linear_problem()\n",
    "    model.set_f0(model.LP_solution)\n",
    "    model.gradient_ascent(label=label, condition_id=\"1\", max_time=10, track=True, variables=[\"f\", \"v\", \"p\", \"b\", \"c\"])\n",
    "    # Get the last line of model.GA_tracker\n",
    "    res = pd.concat([res, model.GA_tracker.iloc[-1:]])\n",
    "    label += 1\n",
    "res"
   ]
  },
  {
   "cell_type": "markdown",
   "metadata": {},
   "source": [
    "We can vizualize a beautiful fitness landscape with two optima."
   ]
  },
  {
   "cell_type": "code",
   "execution_count": 36,
   "metadata": {},
   "outputs": [
    {
     "data": {
      "application/vnd.plotly.v1+json": {
       "config": {
        "plotlyServerURL": "https://plot.ly"
       },
       "data": [
        {
         "mode": "lines",
         "name": "Fitness landscape of rxn3",
         "type": "scatter",
         "x": [
          0.8853207962081772,
          0.7861773245075769,
          0.6870789254331068,
          0.5880417548657259,
          0.4890849179327675,
          0.3902361337553444,
          0.29154117113316286,
          0.19308866225807098,
          0.09510693222067218
         ],
         "y": [
          0.6111436968389484,
          0.6099597053706545,
          0.6093009398641986,
          0.6089517638823053,
          0.6088414909488776,
          0.6089517638823053,
          0.6093009398641986,
          0.6099597053706545,
          0.6111436968389485
         ]
        }
       ],
       "layout": {
        "legend": {
         "orientation": "h",
         "x": 1,
         "xanchor": "right",
         "y": 1.02,
         "yanchor": "bottom"
        },
        "plot_bgcolor": "white",
        "template": {
         "data": {
          "bar": [
           {
            "error_x": {
             "color": "#2a3f5f"
            },
            "error_y": {
             "color": "#2a3f5f"
            },
            "marker": {
             "line": {
              "color": "white",
              "width": 0.5
             },
             "pattern": {
              "fillmode": "overlay",
              "size": 10,
              "solidity": 0.2
             }
            },
            "type": "bar"
           }
          ],
          "barpolar": [
           {
            "marker": {
             "line": {
              "color": "white",
              "width": 0.5
             },
             "pattern": {
              "fillmode": "overlay",
              "size": 10,
              "solidity": 0.2
             }
            },
            "type": "barpolar"
           }
          ],
          "carpet": [
           {
            "aaxis": {
             "endlinecolor": "#2a3f5f",
             "gridcolor": "#C8D4E3",
             "linecolor": "#C8D4E3",
             "minorgridcolor": "#C8D4E3",
             "startlinecolor": "#2a3f5f"
            },
            "baxis": {
             "endlinecolor": "#2a3f5f",
             "gridcolor": "#C8D4E3",
             "linecolor": "#C8D4E3",
             "minorgridcolor": "#C8D4E3",
             "startlinecolor": "#2a3f5f"
            },
            "type": "carpet"
           }
          ],
          "choropleth": [
           {
            "colorbar": {
             "outlinewidth": 0,
             "ticks": ""
            },
            "type": "choropleth"
           }
          ],
          "contour": [
           {
            "colorbar": {
             "outlinewidth": 0,
             "ticks": ""
            },
            "colorscale": [
             [
              0,
              "#0d0887"
             ],
             [
              0.1111111111111111,
              "#46039f"
             ],
             [
              0.2222222222222222,
              "#7201a8"
             ],
             [
              0.3333333333333333,
              "#9c179e"
             ],
             [
              0.4444444444444444,
              "#bd3786"
             ],
             [
              0.5555555555555556,
              "#d8576b"
             ],
             [
              0.6666666666666666,
              "#ed7953"
             ],
             [
              0.7777777777777778,
              "#fb9f3a"
             ],
             [
              0.8888888888888888,
              "#fdca26"
             ],
             [
              1,
              "#f0f921"
             ]
            ],
            "type": "contour"
           }
          ],
          "contourcarpet": [
           {
            "colorbar": {
             "outlinewidth": 0,
             "ticks": ""
            },
            "type": "contourcarpet"
           }
          ],
          "heatmap": [
           {
            "colorbar": {
             "outlinewidth": 0,
             "ticks": ""
            },
            "colorscale": [
             [
              0,
              "#0d0887"
             ],
             [
              0.1111111111111111,
              "#46039f"
             ],
             [
              0.2222222222222222,
              "#7201a8"
             ],
             [
              0.3333333333333333,
              "#9c179e"
             ],
             [
              0.4444444444444444,
              "#bd3786"
             ],
             [
              0.5555555555555556,
              "#d8576b"
             ],
             [
              0.6666666666666666,
              "#ed7953"
             ],
             [
              0.7777777777777778,
              "#fb9f3a"
             ],
             [
              0.8888888888888888,
              "#fdca26"
             ],
             [
              1,
              "#f0f921"
             ]
            ],
            "type": "heatmap"
           }
          ],
          "heatmapgl": [
           {
            "colorbar": {
             "outlinewidth": 0,
             "ticks": ""
            },
            "colorscale": [
             [
              0,
              "#0d0887"
             ],
             [
              0.1111111111111111,
              "#46039f"
             ],
             [
              0.2222222222222222,
              "#7201a8"
             ],
             [
              0.3333333333333333,
              "#9c179e"
             ],
             [
              0.4444444444444444,
              "#bd3786"
             ],
             [
              0.5555555555555556,
              "#d8576b"
             ],
             [
              0.6666666666666666,
              "#ed7953"
             ],
             [
              0.7777777777777778,
              "#fb9f3a"
             ],
             [
              0.8888888888888888,
              "#fdca26"
             ],
             [
              1,
              "#f0f921"
             ]
            ],
            "type": "heatmapgl"
           }
          ],
          "histogram": [
           {
            "marker": {
             "pattern": {
              "fillmode": "overlay",
              "size": 10,
              "solidity": 0.2
             }
            },
            "type": "histogram"
           }
          ],
          "histogram2d": [
           {
            "colorbar": {
             "outlinewidth": 0,
             "ticks": ""
            },
            "colorscale": [
             [
              0,
              "#0d0887"
             ],
             [
              0.1111111111111111,
              "#46039f"
             ],
             [
              0.2222222222222222,
              "#7201a8"
             ],
             [
              0.3333333333333333,
              "#9c179e"
             ],
             [
              0.4444444444444444,
              "#bd3786"
             ],
             [
              0.5555555555555556,
              "#d8576b"
             ],
             [
              0.6666666666666666,
              "#ed7953"
             ],
             [
              0.7777777777777778,
              "#fb9f3a"
             ],
             [
              0.8888888888888888,
              "#fdca26"
             ],
             [
              1,
              "#f0f921"
             ]
            ],
            "type": "histogram2d"
           }
          ],
          "histogram2dcontour": [
           {
            "colorbar": {
             "outlinewidth": 0,
             "ticks": ""
            },
            "colorscale": [
             [
              0,
              "#0d0887"
             ],
             [
              0.1111111111111111,
              "#46039f"
             ],
             [
              0.2222222222222222,
              "#7201a8"
             ],
             [
              0.3333333333333333,
              "#9c179e"
             ],
             [
              0.4444444444444444,
              "#bd3786"
             ],
             [
              0.5555555555555556,
              "#d8576b"
             ],
             [
              0.6666666666666666,
              "#ed7953"
             ],
             [
              0.7777777777777778,
              "#fb9f3a"
             ],
             [
              0.8888888888888888,
              "#fdca26"
             ],
             [
              1,
              "#f0f921"
             ]
            ],
            "type": "histogram2dcontour"
           }
          ],
          "mesh3d": [
           {
            "colorbar": {
             "outlinewidth": 0,
             "ticks": ""
            },
            "type": "mesh3d"
           }
          ],
          "parcoords": [
           {
            "line": {
             "colorbar": {
              "outlinewidth": 0,
              "ticks": ""
             }
            },
            "type": "parcoords"
           }
          ],
          "pie": [
           {
            "automargin": true,
            "type": "pie"
           }
          ],
          "scatter": [
           {
            "fillpattern": {
             "fillmode": "overlay",
             "size": 10,
             "solidity": 0.2
            },
            "type": "scatter"
           }
          ],
          "scatter3d": [
           {
            "line": {
             "colorbar": {
              "outlinewidth": 0,
              "ticks": ""
             }
            },
            "marker": {
             "colorbar": {
              "outlinewidth": 0,
              "ticks": ""
             }
            },
            "type": "scatter3d"
           }
          ],
          "scattercarpet": [
           {
            "marker": {
             "colorbar": {
              "outlinewidth": 0,
              "ticks": ""
             }
            },
            "type": "scattercarpet"
           }
          ],
          "scattergeo": [
           {
            "marker": {
             "colorbar": {
              "outlinewidth": 0,
              "ticks": ""
             }
            },
            "type": "scattergeo"
           }
          ],
          "scattergl": [
           {
            "marker": {
             "colorbar": {
              "outlinewidth": 0,
              "ticks": ""
             }
            },
            "type": "scattergl"
           }
          ],
          "scattermapbox": [
           {
            "marker": {
             "colorbar": {
              "outlinewidth": 0,
              "ticks": ""
             }
            },
            "type": "scattermapbox"
           }
          ],
          "scatterpolar": [
           {
            "marker": {
             "colorbar": {
              "outlinewidth": 0,
              "ticks": ""
             }
            },
            "type": "scatterpolar"
           }
          ],
          "scatterpolargl": [
           {
            "marker": {
             "colorbar": {
              "outlinewidth": 0,
              "ticks": ""
             }
            },
            "type": "scatterpolargl"
           }
          ],
          "scatterternary": [
           {
            "marker": {
             "colorbar": {
              "outlinewidth": 0,
              "ticks": ""
             }
            },
            "type": "scatterternary"
           }
          ],
          "surface": [
           {
            "colorbar": {
             "outlinewidth": 0,
             "ticks": ""
            },
            "colorscale": [
             [
              0,
              "#0d0887"
             ],
             [
              0.1111111111111111,
              "#46039f"
             ],
             [
              0.2222222222222222,
              "#7201a8"
             ],
             [
              0.3333333333333333,
              "#9c179e"
             ],
             [
              0.4444444444444444,
              "#bd3786"
             ],
             [
              0.5555555555555556,
              "#d8576b"
             ],
             [
              0.6666666666666666,
              "#ed7953"
             ],
             [
              0.7777777777777778,
              "#fb9f3a"
             ],
             [
              0.8888888888888888,
              "#fdca26"
             ],
             [
              1,
              "#f0f921"
             ]
            ],
            "type": "surface"
           }
          ],
          "table": [
           {
            "cells": {
             "fill": {
              "color": "#EBF0F8"
             },
             "line": {
              "color": "white"
             }
            },
            "header": {
             "fill": {
              "color": "#C8D4E3"
             },
             "line": {
              "color": "white"
             }
            },
            "type": "table"
           }
          ]
         },
         "layout": {
          "annotationdefaults": {
           "arrowcolor": "#2a3f5f",
           "arrowhead": 0,
           "arrowwidth": 1
          },
          "autotypenumbers": "strict",
          "coloraxis": {
           "colorbar": {
            "outlinewidth": 0,
            "ticks": ""
           }
          },
          "colorscale": {
           "diverging": [
            [
             0,
             "#8e0152"
            ],
            [
             0.1,
             "#c51b7d"
            ],
            [
             0.2,
             "#de77ae"
            ],
            [
             0.3,
             "#f1b6da"
            ],
            [
             0.4,
             "#fde0ef"
            ],
            [
             0.5,
             "#f7f7f7"
            ],
            [
             0.6,
             "#e6f5d0"
            ],
            [
             0.7,
             "#b8e186"
            ],
            [
             0.8,
             "#7fbc41"
            ],
            [
             0.9,
             "#4d9221"
            ],
            [
             1,
             "#276419"
            ]
           ],
           "sequential": [
            [
             0,
             "#0d0887"
            ],
            [
             0.1111111111111111,
             "#46039f"
            ],
            [
             0.2222222222222222,
             "#7201a8"
            ],
            [
             0.3333333333333333,
             "#9c179e"
            ],
            [
             0.4444444444444444,
             "#bd3786"
            ],
            [
             0.5555555555555556,
             "#d8576b"
            ],
            [
             0.6666666666666666,
             "#ed7953"
            ],
            [
             0.7777777777777778,
             "#fb9f3a"
            ],
            [
             0.8888888888888888,
             "#fdca26"
            ],
            [
             1,
             "#f0f921"
            ]
           ],
           "sequentialminus": [
            [
             0,
             "#0d0887"
            ],
            [
             0.1111111111111111,
             "#46039f"
            ],
            [
             0.2222222222222222,
             "#7201a8"
            ],
            [
             0.3333333333333333,
             "#9c179e"
            ],
            [
             0.4444444444444444,
             "#bd3786"
            ],
            [
             0.5555555555555556,
             "#d8576b"
            ],
            [
             0.6666666666666666,
             "#ed7953"
            ],
            [
             0.7777777777777778,
             "#fb9f3a"
            ],
            [
             0.8888888888888888,
             "#fdca26"
            ],
            [
             1,
             "#f0f921"
            ]
           ]
          },
          "colorway": [
           "#636efa",
           "#EF553B",
           "#00cc96",
           "#ab63fa",
           "#FFA15A",
           "#19d3f3",
           "#FF6692",
           "#B6E880",
           "#FF97FF",
           "#FECB52"
          ],
          "font": {
           "color": "#2a3f5f"
          },
          "geo": {
           "bgcolor": "white",
           "lakecolor": "white",
           "landcolor": "white",
           "showlakes": true,
           "showland": true,
           "subunitcolor": "#C8D4E3"
          },
          "hoverlabel": {
           "align": "left"
          },
          "hovermode": "closest",
          "mapbox": {
           "style": "light"
          },
          "paper_bgcolor": "white",
          "plot_bgcolor": "white",
          "polar": {
           "angularaxis": {
            "gridcolor": "#EBF0F8",
            "linecolor": "#EBF0F8",
            "ticks": ""
           },
           "bgcolor": "white",
           "radialaxis": {
            "gridcolor": "#EBF0F8",
            "linecolor": "#EBF0F8",
            "ticks": ""
           }
          },
          "scene": {
           "xaxis": {
            "backgroundcolor": "white",
            "gridcolor": "#DFE8F3",
            "gridwidth": 2,
            "linecolor": "#EBF0F8",
            "showbackground": true,
            "ticks": "",
            "zerolinecolor": "#EBF0F8"
           },
           "yaxis": {
            "backgroundcolor": "white",
            "gridcolor": "#DFE8F3",
            "gridwidth": 2,
            "linecolor": "#EBF0F8",
            "showbackground": true,
            "ticks": "",
            "zerolinecolor": "#EBF0F8"
           },
           "zaxis": {
            "backgroundcolor": "white",
            "gridcolor": "#DFE8F3",
            "gridwidth": 2,
            "linecolor": "#EBF0F8",
            "showbackground": true,
            "ticks": "",
            "zerolinecolor": "#EBF0F8"
           }
          },
          "shapedefaults": {
           "line": {
            "color": "#2a3f5f"
           }
          },
          "ternary": {
           "aaxis": {
            "gridcolor": "#DFE8F3",
            "linecolor": "#A2B1C6",
            "ticks": ""
           },
           "baxis": {
            "gridcolor": "#DFE8F3",
            "linecolor": "#A2B1C6",
            "ticks": ""
           },
           "bgcolor": "white",
           "caxis": {
            "gridcolor": "#DFE8F3",
            "linecolor": "#A2B1C6",
            "ticks": ""
           }
          },
          "title": {
           "x": 0.05
          },
          "xaxis": {
           "automargin": true,
           "gridcolor": "#EBF0F8",
           "linecolor": "#EBF0F8",
           "ticks": "",
           "title": {
            "standoff": 15
           },
           "zerolinecolor": "#EBF0F8",
           "zerolinewidth": 2
          },
          "yaxis": {
           "automargin": true,
           "gridcolor": "#EBF0F8",
           "linecolor": "#EBF0F8",
           "ticks": "",
           "title": {
            "standoff": 15
           },
           "zerolinecolor": "#EBF0F8",
           "zerolinewidth": 2
          }
         }
        },
        "title": {
         "text": "Fitness landscape of rxn3",
         "x": 0.5
        }
       }
      }
     },
     "metadata": {},
     "output_type": "display_data"
    }
   ],
   "source": [
    "fig = model.create_figure(\"Fitness landscape of rxn3\")\n",
    "model.add_trajectory(fig, source=\"data\", x_var=\"f_rxn3\", y_var=\"mu\", name=\"Fitness landscape of rxn3\", data=res)\n",
    "fig.show()"
   ]
  }
 ],
 "metadata": {
  "kernelspec": {
   "display_name": "Python 3",
   "language": "python",
   "name": "python3"
  },
  "language_info": {
   "codemirror_mode": {
    "name": "ipython",
    "version": 3
   },
   "file_extension": ".py",
   "mimetype": "text/x-python",
   "name": "python",
   "nbconvert_exporter": "python",
   "pygments_lexer": "ipython3",
   "version": "3.12.6"
  }
 },
 "nbformat": 4,
 "nbformat_minor": 2
}
