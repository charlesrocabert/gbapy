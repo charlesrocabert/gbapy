{
 "cells": [
  {
   "cell_type": "code",
   "execution_count": 1,
   "metadata": {},
   "outputs": [],
   "source": [
    "# Import GBApy\n",
    "#import gba\n",
    "\n",
    "import os\n",
    "import sys\n",
    "sys.path.append('../gba/')\n",
    "import GbaModel as gba\n",
    "\n",
    "import numpy as np\n",
    "import pandas as pd\n",
    "import plotly.express as px\n",
    "import plotly.graph_objects as go\n",
    "from plotly.subplots import make_subplots"
   ]
  },
  {
   "cell_type": "markdown",
   "metadata": {},
   "source": [
    "# 1. Create a non full column rank model\n",
    "\n",
    "To create a non full-column-rank toy model, use the script `./scripts/generate_toy_model.py` (see Github project note).\n",
    "\n",
    "E.g. here, I used equal kcat values:\n",
    "\n",
    "```bash\n",
    "python ./scripts/generate_toy_model.py -path ./toy_models -name efm2 -efms 2 -kcat 10 -gradient 0.0\n",
    "```"
   ]
  },
  {
   "cell_type": "markdown",
   "metadata": {},
   "source": [
    "# 2. Load the model + basic manipulations\n",
    "\n",
    "## 2.1. Load the model"
   ]
  },
  {
   "cell_type": "code",
   "execution_count": 2,
   "metadata": {},
   "outputs": [
    {
     "data": {
      "text/html": [
       "<table><tr style='text-align:left'><td style='vertical-align:top'><td style='color:rgba(0,85,194);'><strong>&#10095; Info</strong></td><td>KM backward constants not loaded.</td></tr></table>"
      ]
     },
     "metadata": {},
     "output_type": "display_data"
    },
    {
     "data": {
      "text/html": [
       "<table><tr style='text-align:left'><td style='vertical-align:top'><td style='color:rgba(0,85,194);'><strong>&#10095; Info</strong></td><td>KA constants not loaded.</td></tr></table>"
      ]
     },
     "metadata": {},
     "output_type": "display_data"
    },
    {
     "data": {
      "text/html": [
       "<table><tr style='text-align:left'><td style='vertical-align:top'><td style='color:rgba(0,85,194);'><strong>&#10095; Info</strong></td><td>KI constants not loaded.</td></tr></table>"
      ]
     },
     "metadata": {},
     "output_type": "display_data"
    },
    {
     "data": {
      "text/html": [
       "<table><tr style='text-align:left'><td style='vertical-align:top'><td style='color:rgba(0,85,194);'><strong>&#10095; Info</strong></td><td>Constant reactions not loaded.</td></tr></table>"
      ]
     },
     "metadata": {},
     "output_type": "display_data"
    },
    {
     "data": {
      "text/html": [
       "<table><tr style='text-align:left'><td style='vertical-align:top'><td style='color:rgba(0,85,194);'><strong>&#10095; Info</strong></td><td>Protein contributions not loaded.</td></tr></table>"
      ]
     },
     "metadata": {},
     "output_type": "display_data"
    },
    {
     "data": {
      "text/html": [
       "<table><tr style='text-align:left'><td style='vertical-align:top'><td style='color:rgba(0,85,194);'><strong>&#10095; Info</strong></td><td>LP solution not loaded.</td></tr></table>"
      ]
     },
     "metadata": {},
     "output_type": "display_data"
    },
    {
     "data": {
      "text/html": [
       "<h1>GBA model efm2 summary</h1><table><tr style='text-align:left'><td style='vertical-align:top'><h2 style='text-align: left;'>Metabolites</h2><table border=\"1\" class=\"dataframe\">\n",
       "  <thead>\n",
       "    <tr style=\"text-align: right;\">\n",
       "      <th>Category</th>\n",
       "      <th>Count</th>\n",
       "    </tr>\n",
       "  </thead>\n",
       "  <tbody>\n",
       "    <tr>\n",
       "      <td>Nb metabolites</td>\n",
       "      <td>6</td>\n",
       "    </tr>\n",
       "    <tr>\n",
       "      <td>Nb external metabolites</td>\n",
       "      <td>2</td>\n",
       "    </tr>\n",
       "    <tr>\n",
       "      <td>Nb internal metabolites</td>\n",
       "      <td>4</td>\n",
       "    </tr>\n",
       "  </tbody>\n",
       "</table></td><td style='vertical-align:top'><h2 style='text-align: left;'>Reactions</h2><table border=\"1\" class=\"dataframe\">\n",
       "  <thead>\n",
       "    <tr style=\"text-align: right;\">\n",
       "      <th>Category</th>\n",
       "      <th>Count</th>\n",
       "    </tr>\n",
       "  </thead>\n",
       "  <tbody>\n",
       "    <tr>\n",
       "      <td>Nb reactions</td>\n",
       "      <td>5</td>\n",
       "    </tr>\n",
       "    <tr>\n",
       "      <td>Nb exchange reactions</td>\n",
       "      <td>2</td>\n",
       "    </tr>\n",
       "    <tr>\n",
       "      <td>Nb internal reactions</td>\n",
       "      <td>2</td>\n",
       "    </tr>\n",
       "  </tbody>\n",
       "</table></td><td style='vertical-align:top'><h2 style='text-align: left;'>Matrix rank</h2><table border=\"1\" class=\"dataframe\">\n",
       "  <thead>\n",
       "    <tr style=\"text-align: right;\">\n",
       "      <th>Category</th>\n",
       "      <th>Count</th>\n",
       "    </tr>\n",
       "  </thead>\n",
       "  <tbody>\n",
       "    <tr>\n",
       "      <td>Column rank</td>\n",
       "      <td>4</td>\n",
       "    </tr>\n",
       "    <tr>\n",
       "      <td>Is full column rank?</td>\n",
       "      <td>False</td>\n",
       "    </tr>\n",
       "  </tbody>\n",
       "</table></td></tr></table>"
      ]
     },
     "metadata": {},
     "output_type": "display_data"
    }
   ],
   "source": [
    "model = gba.read_csv_model(\"efm2\", \"../toy_models\")\n",
    "model.summary()"
   ]
  },
  {
   "cell_type": "markdown",
   "metadata": {},
   "source": [
    "Note that the model is not full column rank (table \"Matrix rank\")."
   ]
  },
  {
   "cell_type": "code",
   "execution_count": 3,
   "metadata": {},
   "outputs": [
    {
     "data": {
      "text/plain": [
       "array([10.  , 10.  , 10.  , 10.  ,  4.55])"
      ]
     },
     "execution_count": 3,
     "metadata": {},
     "output_type": "execute_result"
    }
   ],
   "source": [
    "model.kcat_f"
   ]
  },
  {
   "cell_type": "markdown",
   "metadata": {},
   "source": [
    "For this model, the $k_\\text{cat}$ value of the reaction `rxn1` (10 h<sup>-1</sup>) is slightly higher than for `rxn2` (9.99 h<sup>-1</sup>). We can expect both EFMs to have very close optimal growth rates."
   ]
  },
  {
   "cell_type": "markdown",
   "metadata": {},
   "source": [
    "## 2.2. Explore the fitness landscape of the model\n",
    "\n",
    "We will now vary the flux of the reaction `rxn2` between 0.0 and 1.0.\n",
    "As `rxn1` and `rxn2` are transporters, their `f` value will always vary between 0 and 1 thanks to the normalization of mass conservation.\n",
    "By doing so, we can vizualise the fitness landscape of a flux depending on `rxn2`.\n",
    "\n",
    "In the example below, for each new value of `rxn2`, the steps are:\n",
    "- to clear the list of constant reactions,\n",
    "- to set up the constant value of `rxn2`,\n",
    "- to find an initial solution given this value,\n",
    "- to set the initial point $f_0$,\n",
    "- to run the gradient ascent.\n",
    "\n",
    "The trick here to avoid very long solving times is to set up the maximal time of the gradient ascent to a small value (here, `max_time = 10`). For this duration, I expect the trajectory to have reached the top of the solution space, where most of the constraints appear.\n",
    "\n",
    "<strong>WARNING:</strong> For some reasons, the gradient ascent does not work for values close to 0.0 or 1.0. Here, `rxn2` ranges from 0.1 to 0.9."
   ]
  },
  {
   "cell_type": "code",
   "execution_count": 5,
   "metadata": {},
   "outputs": [
    {
     "data": {
      "text/html": [
       "<table><tr style='text-align:left'><td style='vertical-align:top'><td style='color:rgba(236,3,3);'><strong>&#10006; Error</strong></td><td>Local linear problem could not be solved.</td></tr></table>"
      ]
     },
     "metadata": {},
     "output_type": "display_data"
    },
    {
     "name": "stdout",
     "output_type": "stream",
     "text": [
      "[]\n"
     ]
    },
    {
     "data": {
      "text/html": [
       "<table><tr style='text-align:left'><td style='vertical-align:top'><td style='color:rgba(236,3,3);'><strong>&#10006; Error</strong></td><td>Incorrect f0 length.</td></tr></table>"
      ]
     },
     "metadata": {},
     "output_type": "display_data"
    },
    {
     "ename": "AssertionError",
     "evalue": "None",
     "output_type": "error",
     "traceback": [
      "\u001b[0;31m---------------------------------------------------------------------------\u001b[0m",
      "\u001b[0;31mAssertionError\u001b[0m                            Traceback (most recent call last)",
      "Cell \u001b[0;32mIn[5], line 9\u001b[0m\n\u001b[1;32m      7\u001b[0m model\u001b[38;5;241m.\u001b[39msolve_local_linear_problem(rhs_factor\u001b[38;5;241m=\u001b[39m\u001b[38;5;241m100.0\u001b[39m)\n\u001b[1;32m      8\u001b[0m \u001b[38;5;28mprint\u001b[39m(model\u001b[38;5;241m.\u001b[39mLP_solution)\n\u001b[0;32m----> 9\u001b[0m \u001b[43mmodel\u001b[49m\u001b[38;5;241;43m.\u001b[39;49m\u001b[43mset_f0\u001b[49m\u001b[43m(\u001b[49m\u001b[43mmodel\u001b[49m\u001b[38;5;241;43m.\u001b[39;49m\u001b[43mLP_solution\u001b[49m\u001b[43m)\u001b[49m\n\u001b[1;32m     10\u001b[0m model\u001b[38;5;241m.\u001b[39mgradient_ascent(label\u001b[38;5;241m=\u001b[39mlabel, condition_id\u001b[38;5;241m=\u001b[39m\u001b[38;5;124m\"\u001b[39m\u001b[38;5;124m1\u001b[39m\u001b[38;5;124m\"\u001b[39m, max_time\u001b[38;5;241m=\u001b[39m\u001b[38;5;241m10\u001b[39m, track\u001b[38;5;241m=\u001b[39m\u001b[38;5;28;01mTrue\u001b[39;00m, variables\u001b[38;5;241m=\u001b[39m[\u001b[38;5;124m\"\u001b[39m\u001b[38;5;124mf\u001b[39m\u001b[38;5;124m\"\u001b[39m, \u001b[38;5;124m\"\u001b[39m\u001b[38;5;124mv\u001b[39m\u001b[38;5;124m\"\u001b[39m, \u001b[38;5;124m\"\u001b[39m\u001b[38;5;124mp\u001b[39m\u001b[38;5;124m\"\u001b[39m, \u001b[38;5;124m\"\u001b[39m\u001b[38;5;124mb\u001b[39m\u001b[38;5;124m\"\u001b[39m, \u001b[38;5;124m\"\u001b[39m\u001b[38;5;124mc\u001b[39m\u001b[38;5;124m\"\u001b[39m])\n\u001b[1;32m     11\u001b[0m \u001b[38;5;66;03m# Get the last line of model.GA_tracker\u001b[39;00m\n",
      "File \u001b[0;32m~/git/charlesrocabert/gbapy/tutorials/../gba/GbaModel.py:761\u001b[0m, in \u001b[0;36mGbaModel.set_f0\u001b[0;34m(self, f0)\u001b[0m\n\u001b[1;32m    752\u001b[0m \u001b[38;5;28;01mdef\u001b[39;00m \u001b[38;5;21mset_f0\u001b[39m( \u001b[38;5;28mself\u001b[39m, f0: np\u001b[38;5;241m.\u001b[39marray ) \u001b[38;5;241m-\u001b[39m\u001b[38;5;241m>\u001b[39m \u001b[38;5;28;01mNone\u001b[39;00m:\n\u001b[1;32m    753\u001b[0m \u001b[38;5;250m    \u001b[39m\u001b[38;5;124;03m\"\"\"\u001b[39;00m\n\u001b[1;32m    754\u001b[0m \u001b[38;5;124;03m    Set the initial flux fraction vector f0.\u001b[39;00m\n\u001b[1;32m    755\u001b[0m \u001b[38;5;124;03m    \u001b[39;00m\n\u001b[0;32m   (...)\u001b[0m\n\u001b[1;32m    759\u001b[0m \u001b[38;5;124;03m        Initial flux fraction vector.\u001b[39;00m\n\u001b[1;32m    760\u001b[0m \u001b[38;5;124;03m    \"\"\"\u001b[39;00m\n\u001b[0;32m--> 761\u001b[0m     \u001b[38;5;28;01massert\u001b[39;00m \u001b[38;5;28mlen\u001b[39m(f0) \u001b[38;5;241m==\u001b[39m \u001b[38;5;28mself\u001b[39m\u001b[38;5;241m.\u001b[39mnj, throw_message(MessageType\u001b[38;5;241m.\u001b[39mError, \u001b[38;5;124m\"\u001b[39m\u001b[38;5;124mIncorrect f0 length.\u001b[39m\u001b[38;5;124m\"\u001b[39m)\n\u001b[1;32m    762\u001b[0m     \u001b[38;5;28mself\u001b[39m\u001b[38;5;241m.\u001b[39mf0      \u001b[38;5;241m=\u001b[39m np\u001b[38;5;241m.\u001b[39mcopy(f0)\n\u001b[1;32m    763\u001b[0m     \u001b[38;5;28mself\u001b[39m\u001b[38;5;241m.\u001b[39mf_trunc \u001b[38;5;241m=\u001b[39m np\u001b[38;5;241m.\u001b[39mcopy(\u001b[38;5;28mself\u001b[39m\u001b[38;5;241m.\u001b[39mf0[\u001b[38;5;241m1\u001b[39m:\u001b[38;5;28mself\u001b[39m\u001b[38;5;241m.\u001b[39mnj])\n",
      "\u001b[0;31mAssertionError\u001b[0m: None"
     ]
    }
   ],
   "source": [
    "res   = pd.DataFrame()\n",
    "label = 1\n",
    "model.clear_all_trajectories()\n",
    "for rxn2 in np.arange(0.0, 1.0, 0.1):\n",
    "    model.clear_constant_reactions()\n",
    "    model.add_constant_reaction(\"rxn2\", rxn2)\n",
    "    model.solve_local_linear_problem(rhs_factor=100.0)\n",
    "    print(model.LP_solution)\n",
    "    model.set_f0(model.LP_solution)\n",
    "    model.gradient_ascent(label=label, condition_id=\"1\", max_time=10, track=True, variables=[\"f\", \"v\", \"p\", \"b\", \"c\"])\n",
    "    # Get the last line of model.GA_tracker\n",
    "    res = pd.concat([res, model.GA_tracker.iloc[-1:]])\n",
    "    label += 1\n",
    "res"
   ]
  },
  {
   "cell_type": "markdown",
   "metadata": {},
   "source": [
    "We can vizualize a beautiful fitness landscape with two optima."
   ]
  },
  {
   "cell_type": "code",
   "execution_count": null,
   "metadata": {},
   "outputs": [
    {
     "data": {
      "image/png": "[encoded data removed]"
     },
     "metadata": {},
     "output_type": "display_data"
    }
   ],
   "source": [
    "fig = model.create_figure(\"Fitness landscape of rxn3\")\n",
    "model.add_trajectory(fig, source=\"data\", x_var=\"f_rxn3\", y_var=\"mu\", name=\"Fitness landscape of rxn3\", data=res)\n",
    "fig.show(\"png\")"
   ]
  }
 ],
 "metadata": {
  "kernelspec": {
   "display_name": "Python 3",
   "language": "python",
   "name": "python3"
  },
  "language_info": {
   "codemirror_mode": {
    "name": "ipython",
    "version": 3
   },
   "file_extension": ".py",
   "mimetype": "text/x-python",
   "name": "python",
   "nbconvert_exporter": "python",
   "pygments_lexer": "ipython3",
   "version": "3.12.6"
  }
 },
 "nbformat": 4,
 "nbformat_minor": 2
}
