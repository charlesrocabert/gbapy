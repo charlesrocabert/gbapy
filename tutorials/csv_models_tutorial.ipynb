{
 "cells": [
  {
   "cell_type": "markdown",
   "metadata": {},
   "source": [
    "<h1 align=\"center\"><strong>gbapy</strong></h1>\n",
    "<h5 align=\"center\">Growth Balance Analysis for Python</h5>\n",
    "<h3 align=\"center\"><strong>Tutorial:</strong> standard organization of a GBA model in CSV format</h3>"
   ]
  },
  {
   "cell_type": "markdown",
   "metadata": {},
   "source": [
    "## Table of contents\n",
    "* [1) Files organisation](#files_organisation)\n",
    "* [2) Detailed content](#detailed_content)\n",
    "  * [2.1) File `Infos.csv`](#infos)\n",
    "  * [2.2) File `directions.csv`](#infos)\n",
    "  * [2.3) File `M.csv`](#M)\n",
    "  * [2.4) File `KM_forward.csv`](#km_forward)\n",
    "  * [2.5) File `kcat.csv`](#kcat)\n",
    "  * [2.6) File `conditions.csv`](#conditions)"
   ]
  },
  {
   "cell_type": "markdown",
   "metadata": {},
   "source": [
    "## 1) Files organisation <a class=\"anchor\" id=\"files_organisation\"></a>"
   ]
  },
  {
   "cell_type": "markdown",
   "metadata": {},
   "source": [
    "The default format developed for GBA models is a set of CSV files, containing each a variable of the model. The user may refer to <a href=\"https://doi.org/10.1371/journal.pcbi.1011156\" target=\"_blank\">Dourado et al. (2023)</a> to get the detail of the construction of the GBA model.\n",
    "\n",
    "\n",
    "The list of the minimal set of CSV files (describing a model with irreversible Michaelis-Menten forward reactions only) is:\n",
    "- `Infos.csv`: A description of the model, including its name,\n",
    "- `directions.csv`: A list of reactions' directions (`forward`, `backward`, or `reversible`),\n",
    "- `M.csv`: The mass fraction matrix $\\mathbf{M}$ (in g.L<sup>-1</sup>),\n",
    "- `KM_forward.csv`: The matrix of Michaelis constants $K_\\text{M}$ for forward reactions (in g.L<sup>-1</sup>),\n",
    "- `kcat.csv`: Vectors of turnover rates $k_\\text{cat}$ for forward and backward directions (in h<sup>-1</sup>),\n",
    "- `conditions.csv`: The list of external conditions and total density $\\rho$.\n",
    "\n",
    "Additional files can be included depending on modeling choices:\n",
    "- `KM_backward.csv`: The matrix of Michaelis constants $K_\\text{M}$ for backward reactions (in g.L<sup>-1</sup>),\n",
    "- `KA.csv`: The matrix of activation constants $K_\\text{A}$ for forward reactions <strong>only</strong> (in g.L<sup>-1</sup>),\n",
    "- `KI.csv`: The matrix of inhibition constants $K_\\text{I}$ for forward reactions <strong>only</strong> (in g.L<sup>-1</sup>).\n",
    "\n",
    "Note that activation and inhibition can only be used for irreversible forward reactions.\n",
    "\n",
    "All the CSV files of a model must be included in one folder (usually, with the name of the model). <em>E.g.</em> for a model named \"A\":\n",
    "\n",
    "      └── A\n",
    "          ├── Infos.csv\n",
    "          ├── directions.csv\n",
    "          ├── M.csv\n",
    "          ├── KM_forward.csv\n",
    "          ├── kcat.csv\n",
    "          └── conditions.csv\n",
    "\n",
    "When calling the function `read_csv_model(\"A\")`, <strong>gbapy</strong> will parse the CSV files and automatically decide of the kinetic model (irreversible/reversible Michaelis-Menten kinetics, with or without activation or/and inhibition)."
   ]
  },
  {
   "cell_type": "markdown",
   "metadata": {},
   "source": [
    "## 2) Detailed content <a class=\"anchor\" id=\"detailed_content\"></a>\n",
    "For the following, we will use the toy model \"A\", furnished with <strong>gbapy</strong>, to review the content of the main CSV files.\n",
    "To locate the toy model, we can use the function `gbapy.get_toy_model_path(\"A\")`:"
   ]
  },
  {
   "cell_type": "code",
   "execution_count": 1,
   "metadata": {},
   "outputs": [],
   "source": [
    "# Import gbapy, os and pandas modules\n",
    "import gbapy\n",
    "import os\n",
    "import pandas as pd"
   ]
  },
  {
   "cell_type": "code",
   "execution_count": 2,
   "metadata": {},
   "outputs": [
    {
     "data": {
      "text/plain": [
       "'/usr/local/lib/python3.12/site-packages/gbapy/data/toy_models/A'"
      ]
     },
     "execution_count": 2,
     "metadata": {},
     "output_type": "execute_result"
    }
   ],
   "source": [
    "# Get toy model A path\n",
    "A_path = gbapy.get_toy_model_path(\"A\")\n",
    "A_path"
   ]
  },
  {
   "cell_type": "markdown",
   "metadata": {},
   "source": [
    "The content of toy model A folder is the following:"
   ]
  },
  {
   "cell_type": "code",
   "execution_count": 3,
   "metadata": {},
   "outputs": [
    {
     "name": "stdout",
     "output_type": "stream",
     "text": [
      "total 64\n",
      "-rw-r--r--  1 charlesrocabert  admin   353 Oct 19 15:47 Infos.csv\n",
      "-rw-r--r--  1 charlesrocabert  admin    44 Oct 19 15:47 KM_forward.csv\n",
      "-rw-r--r--  1 charlesrocabert  admin    44 Oct 19 15:47 M.csv\n",
      "-rw-r--r--  1 charlesrocabert  admin   466 Oct 19 15:47 conditions.csv\n",
      "-rw-r--r--  1 charlesrocabert  admin    49 Oct 19 15:47 directions.csv\n",
      "-rw-r--r--  1 charlesrocabert  admin    35 Oct 19 15:47 f0.csv\n",
      "-rw-r--r--  1 charlesrocabert  admin    54 Oct 19 15:47 kcat.csv\n",
      "-rw-r--r--  1 charlesrocabert  admin  1805 Oct 19 15:47 optimums.csv\n"
     ]
    },
    {
     "data": {
      "text/plain": [
       "0"
      ]
     },
     "execution_count": 3,
     "metadata": {},
     "output_type": "execute_result"
    }
   ],
   "source": [
    "os.system(\"ls -l \"+A_path)"
   ]
  },
  {
   "cell_type": "markdown",
   "metadata": {},
   "source": [
    "We note that two additional files are present:\n",
    "- `optimums.csv`: contains the list of optima for each condition of the model,\n",
    "- `f0.csv`: initial sub-optimal solution for the $\\mathbf{f}$ vector.\n",
    "\n",
    "This files are generated when using <strong>gbapy</strong> routine functions (see tutorial `basic_manipulations_tutorial.ipynb`)."
   ]
  },
  {
   "cell_type": "markdown",
   "metadata": {},
   "source": [
    "### 2.1) File `Infos.csv` <a class=\"anchor\" id=\"infos\"></a>\n",
    "\n",
    "The file `Infos.csv` contains various information about the model (units, file description, ...).\n",
    "\n",
    "$\\Rightarrow$ Note that the variable \"Name\" is <strong>mandatory</strong>, as <strong>gbapy</strong> relies on it to name the loaded model."
   ]
  },
  {
   "cell_type": "code",
   "execution_count": 4,
   "metadata": {},
   "outputs": [
    {
     "data": {
      "text/html": [
       "<div>\n",
       "<style scoped>\n",
       "    .dataframe tbody tr th:only-of-type {\n",
       "        vertical-align: middle;\n",
       "    }\n",
       "\n",
       "    .dataframe tbody tr th {\n",
       "        vertical-align: top;\n",
       "    }\n",
       "\n",
       "    .dataframe thead th {\n",
       "        text-align: right;\n",
       "    }\n",
       "</style>\n",
       "<table border=\"1\" class=\"dataframe\">\n",
       "  <thead>\n",
       "    <tr style=\"text-align: right;\">\n",
       "      <th></th>\n",
       "      <th>0</th>\n",
       "      <th>1</th>\n",
       "    </tr>\n",
       "  </thead>\n",
       "  <tbody>\n",
       "    <tr>\n",
       "      <th>0</th>\n",
       "      <td>Name</td>\n",
       "      <td>A</td>\n",
       "    </tr>\n",
       "    <tr>\n",
       "      <th>1</th>\n",
       "      <td>Description</td>\n",
       "      <td>Simplest GBA model with two reactions</td>\n",
       "    </tr>\n",
       "    <tr>\n",
       "      <th>2</th>\n",
       "      <td>Units</td>\n",
       "      <td>Km: g/L</td>\n",
       "    </tr>\n",
       "    <tr>\n",
       "      <th>3</th>\n",
       "      <td>Units</td>\n",
       "      <td>kcat: 1/h ([mass of products]/[mass of protein...</td>\n",
       "    </tr>\n",
       "    <tr>\n",
       "      <th>4</th>\n",
       "      <td>Units</td>\n",
       "      <td>rho: g/L</td>\n",
       "    </tr>\n",
       "    <tr>\n",
       "      <th>5</th>\n",
       "      <td>Files</td>\n",
       "      <td>M: Mass fraction matrix</td>\n",
       "    </tr>\n",
       "    <tr>\n",
       "      <th>6</th>\n",
       "      <td>Files</td>\n",
       "      <td>KM_forward: Forward Michaelis constant matrix</td>\n",
       "    </tr>\n",
       "    <tr>\n",
       "      <th>7</th>\n",
       "      <td>Files</td>\n",
       "      <td>kcat: Turnover numbers</td>\n",
       "    </tr>\n",
       "    <tr>\n",
       "      <th>8</th>\n",
       "      <td>Files</td>\n",
       "      <td>conditions: Value of rho and external concentr...</td>\n",
       "    </tr>\n",
       "  </tbody>\n",
       "</table>\n",
       "</div>"
      ],
      "text/plain": [
       "             0                                                  1\n",
       "0         Name                                                  A\n",
       "1  Description              Simplest GBA model with two reactions\n",
       "2        Units                                            Km: g/L\n",
       "3        Units  kcat: 1/h ([mass of products]/[mass of protein...\n",
       "4        Units                                           rho: g/L\n",
       "5        Files                            M: Mass fraction matrix\n",
       "6        Files      KM_forward: Forward Michaelis constant matrix\n",
       "7        Files                             kcat: Turnover numbers\n",
       "8        Files  conditions: Value of rho and external concentr..."
      ]
     },
     "execution_count": 4,
     "metadata": {},
     "output_type": "execute_result"
    }
   ],
   "source": [
    "pd.read_csv(A_path+\"/Infos.csv\", sep=\";\", header=None)"
   ]
  },
  {
   "cell_type": "markdown",
   "metadata": {},
   "source": [
    "### 2.2) File `directions.csv` <a class=\"anchor\" id=\"directions\"></a>\n",
    "\n",
    "This file contains the list of directions for all reactions."
   ]
  },
  {
   "cell_type": "code",
   "execution_count": 5,
   "metadata": {},
   "outputs": [
    {
     "data": {
      "text/html": [
       "<div>\n",
       "<style scoped>\n",
       "    .dataframe tbody tr th:only-of-type {\n",
       "        vertical-align: middle;\n",
       "    }\n",
       "\n",
       "    .dataframe tbody tr th {\n",
       "        vertical-align: top;\n",
       "    }\n",
       "\n",
       "    .dataframe thead th {\n",
       "        text-align: right;\n",
       "    }\n",
       "</style>\n",
       "<table border=\"1\" class=\"dataframe\">\n",
       "  <thead>\n",
       "    <tr style=\"text-align: right;\">\n",
       "      <th></th>\n",
       "      <th>reaction</th>\n",
       "      <th>direction</th>\n",
       "    </tr>\n",
       "  </thead>\n",
       "  <tbody>\n",
       "    <tr>\n",
       "      <th>0</th>\n",
       "      <td>rxn1</td>\n",
       "      <td>forward</td>\n",
       "    </tr>\n",
       "    <tr>\n",
       "      <th>1</th>\n",
       "      <td>Ribosome</td>\n",
       "      <td>forward</td>\n",
       "    </tr>\n",
       "  </tbody>\n",
       "</table>\n",
       "</div>"
      ],
      "text/plain": [
       "   reaction direction\n",
       "0      rxn1   forward\n",
       "1  Ribosome   forward"
      ]
     },
     "execution_count": 5,
     "metadata": {},
     "output_type": "execute_result"
    }
   ],
   "source": [
    "pd.read_csv(A_path+\"/directions.csv\", sep=\";\")"
   ]
  },
  {
   "cell_type": "markdown",
   "metadata": {},
   "source": [
    "### 2.3) File `M.csv` <a class=\"anchor\" id=\"M\"></a>\n",
    "\n",
    "This file contains the mass fraction matrix (see <a href=\"https://doi.org/10.1371/journal.pcbi.1011156\" target=\"_blank\">Dourado et al., 2023</a>). Metabolites are in row, reactions in columns. The last row corresponds to total protein amount. The last column corresponds to the ribosome reaction, producing the total protein amount.\n",
    "\n",
    "All metabolites starting with `x_` are external metabolites with constant concentration."
   ]
  },
  {
   "cell_type": "code",
   "execution_count": 6,
   "metadata": {},
   "outputs": [
    {
     "data": {
      "text/html": [
       "<div>\n",
       "<style scoped>\n",
       "    .dataframe tbody tr th:only-of-type {\n",
       "        vertical-align: middle;\n",
       "    }\n",
       "\n",
       "    .dataframe tbody tr th {\n",
       "        vertical-align: top;\n",
       "    }\n",
       "\n",
       "    .dataframe thead th {\n",
       "        text-align: right;\n",
       "    }\n",
       "</style>\n",
       "<table border=\"1\" class=\"dataframe\">\n",
       "  <thead>\n",
       "    <tr style=\"text-align: right;\">\n",
       "      <th></th>\n",
       "      <th>Unnamed: 0</th>\n",
       "      <th>rxn1</th>\n",
       "      <th>Ribosome</th>\n",
       "    </tr>\n",
       "  </thead>\n",
       "  <tbody>\n",
       "    <tr>\n",
       "      <th>0</th>\n",
       "      <td>x_G</td>\n",
       "      <td>-1</td>\n",
       "      <td>0</td>\n",
       "    </tr>\n",
       "    <tr>\n",
       "      <th>1</th>\n",
       "      <td>AA</td>\n",
       "      <td>1</td>\n",
       "      <td>-1</td>\n",
       "    </tr>\n",
       "    <tr>\n",
       "      <th>2</th>\n",
       "      <td>Protein</td>\n",
       "      <td>0</td>\n",
       "      <td>1</td>\n",
       "    </tr>\n",
       "  </tbody>\n",
       "</table>\n",
       "</div>"
      ],
      "text/plain": [
       "  Unnamed: 0  rxn1  Ribosome\n",
       "0        x_G    -1         0\n",
       "1         AA     1        -1\n",
       "2    Protein     0         1"
      ]
     },
     "execution_count": 6,
     "metadata": {},
     "output_type": "execute_result"
    }
   ],
   "source": [
    "pd.read_csv(A_path+\"/M.csv\", sep=\";\")"
   ]
  },
  {
   "cell_type": "markdown",
   "metadata": {},
   "source": [
    "### 2.4) File `KM_forward.csv` <a class=\"anchor\" id=\"km_forward\"></a>\n",
    "\n",
    "This file contains the matrix of forward Michaelis constants $K_\\text{M}$. This file is mandatory for the minimal kinetics (<em>i.e.</em> irreversible forward Michaelis-Menten kinetics).\n",
    "One can add a second matrix for backward Michaelis constants (`KM_backward.csv`) if backward or reversible reactions are present in the model."
   ]
  },
  {
   "cell_type": "code",
   "execution_count": 7,
   "metadata": {},
   "outputs": [
    {
     "data": {
      "text/html": [
       "<div>\n",
       "<style scoped>\n",
       "    .dataframe tbody tr th:only-of-type {\n",
       "        vertical-align: middle;\n",
       "    }\n",
       "\n",
       "    .dataframe tbody tr th {\n",
       "        vertical-align: top;\n",
       "    }\n",
       "\n",
       "    .dataframe thead th {\n",
       "        text-align: right;\n",
       "    }\n",
       "</style>\n",
       "<table border=\"1\" class=\"dataframe\">\n",
       "  <thead>\n",
       "    <tr style=\"text-align: right;\">\n",
       "      <th></th>\n",
       "      <th>Unnamed: 0</th>\n",
       "      <th>rxn1</th>\n",
       "      <th>Ribosome</th>\n",
       "    </tr>\n",
       "  </thead>\n",
       "  <tbody>\n",
       "    <tr>\n",
       "      <th>0</th>\n",
       "      <td>x_G</td>\n",
       "      <td>1</td>\n",
       "      <td>0.0</td>\n",
       "    </tr>\n",
       "    <tr>\n",
       "      <th>1</th>\n",
       "      <td>AA</td>\n",
       "      <td>0</td>\n",
       "      <td>8.3</td>\n",
       "    </tr>\n",
       "    <tr>\n",
       "      <th>2</th>\n",
       "      <td>Protein</td>\n",
       "      <td>0</td>\n",
       "      <td>0.0</td>\n",
       "    </tr>\n",
       "  </tbody>\n",
       "</table>\n",
       "</div>"
      ],
      "text/plain": [
       "  Unnamed: 0  rxn1  Ribosome\n",
       "0        x_G     1       0.0\n",
       "1         AA     0       8.3\n",
       "2    Protein     0       0.0"
      ]
     },
     "execution_count": 7,
     "metadata": {},
     "output_type": "execute_result"
    }
   ],
   "source": [
    "pd.read_csv(A_path+\"/KM_forward.csv\", sep=\";\")"
   ]
  },
  {
   "cell_type": "markdown",
   "metadata": {},
   "source": [
    "### 2.5) File `kcat.csv` <a class=\"anchor\" id=\"kcat\"></a>\n",
    "\n",
    "This file contains the vectors of forward and backward turnover rates $k_\\text{cat}$. If all reactions are forward irreversible, all backward values will be zero (which is the case here)."
   ]
  },
  {
   "cell_type": "code",
   "execution_count": 8,
   "metadata": {},
   "outputs": [
    {
     "data": {
      "text/html": [
       "<div>\n",
       "<style scoped>\n",
       "    .dataframe tbody tr th:only-of-type {\n",
       "        vertical-align: middle;\n",
       "    }\n",
       "\n",
       "    .dataframe tbody tr th {\n",
       "        vertical-align: top;\n",
       "    }\n",
       "\n",
       "    .dataframe thead th {\n",
       "        text-align: right;\n",
       "    }\n",
       "</style>\n",
       "<table border=\"1\" class=\"dataframe\">\n",
       "  <thead>\n",
       "    <tr style=\"text-align: right;\">\n",
       "      <th></th>\n",
       "      <th>Unnamed: 0</th>\n",
       "      <th>rxn1</th>\n",
       "      <th>Ribosome</th>\n",
       "    </tr>\n",
       "  </thead>\n",
       "  <tbody>\n",
       "    <tr>\n",
       "      <th>0</th>\n",
       "      <td>kcat_forward</td>\n",
       "      <td>10</td>\n",
       "      <td>4.55</td>\n",
       "    </tr>\n",
       "    <tr>\n",
       "      <th>1</th>\n",
       "      <td>kcat_backward</td>\n",
       "      <td>0</td>\n",
       "      <td>0.00</td>\n",
       "    </tr>\n",
       "  </tbody>\n",
       "</table>\n",
       "</div>"
      ],
      "text/plain": [
       "      Unnamed: 0  rxn1  Ribosome\n",
       "0   kcat_forward    10      4.55\n",
       "1  kcat_backward     0      0.00"
      ]
     },
     "execution_count": 8,
     "metadata": {},
     "output_type": "execute_result"
    }
   ],
   "source": [
    "pd.read_csv(A_path+\"/kcat.csv\", sep=\";\")"
   ]
  },
  {
   "cell_type": "markdown",
   "metadata": {},
   "source": [
    "### 2.6) File `conditions.csv` <a class=\"anchor\" id=\"conditions\"></a>\n",
    "\n",
    "This file contains the list of external conditions. Each condition contains:\n",
    "- The concentration of every external metabolite,\n",
    "- The total density $\\rho$ (here 340 g.L<sup>-1</sup> for <em>Escherichia coli</em>)."
   ]
  },
  {
   "cell_type": "code",
   "execution_count": 9,
   "metadata": {},
   "outputs": [
    {
     "data": {
      "text/html": [
       "<div>\n",
       "<style scoped>\n",
       "    .dataframe tbody tr th:only-of-type {\n",
       "        vertical-align: middle;\n",
       "    }\n",
       "\n",
       "    .dataframe tbody tr th {\n",
       "        vertical-align: top;\n",
       "    }\n",
       "\n",
       "    .dataframe thead th {\n",
       "        text-align: right;\n",
       "    }\n",
       "</style>\n",
       "<table border=\"1\" class=\"dataframe\">\n",
       "  <thead>\n",
       "    <tr style=\"text-align: right;\">\n",
       "      <th></th>\n",
       "      <th>Unnamed: 0</th>\n",
       "      <th>1</th>\n",
       "      <th>2</th>\n",
       "      <th>3</th>\n",
       "      <th>4</th>\n",
       "      <th>5</th>\n",
       "      <th>6</th>\n",
       "      <th>7</th>\n",
       "      <th>8</th>\n",
       "      <th>9</th>\n",
       "      <th>...</th>\n",
       "      <th>16</th>\n",
       "      <th>17</th>\n",
       "      <th>18</th>\n",
       "      <th>19</th>\n",
       "      <th>20</th>\n",
       "      <th>21</th>\n",
       "      <th>22</th>\n",
       "      <th>23</th>\n",
       "      <th>24</th>\n",
       "      <th>25</th>\n",
       "    </tr>\n",
       "  </thead>\n",
       "  <tbody>\n",
       "    <tr>\n",
       "      <th>0</th>\n",
       "      <td>rho</td>\n",
       "      <td>340</td>\n",
       "      <td>340.000000</td>\n",
       "      <td>340.000000</td>\n",
       "      <td>340.00000</td>\n",
       "      <td>340.000000</td>\n",
       "      <td>340.000000</td>\n",
       "      <td>340.00000</td>\n",
       "      <td>340.000000</td>\n",
       "      <td>340.000000</td>\n",
       "      <td>...</td>\n",
       "      <td>340.000000</td>\n",
       "      <td>340.000000</td>\n",
       "      <td>340.000000</td>\n",
       "      <td>340.000000</td>\n",
       "      <td>340.000000</td>\n",
       "      <td>340.000000</td>\n",
       "      <td>340.000000</td>\n",
       "      <td>340.000000</td>\n",
       "      <td>340.00000</td>\n",
       "      <td>340.00000</td>\n",
       "    </tr>\n",
       "    <tr>\n",
       "      <th>1</th>\n",
       "      <td>x_G</td>\n",
       "      <td>100</td>\n",
       "      <td>66.666667</td>\n",
       "      <td>44.444444</td>\n",
       "      <td>29.62963</td>\n",
       "      <td>19.753086</td>\n",
       "      <td>13.168724</td>\n",
       "      <td>8.77915</td>\n",
       "      <td>5.852766</td>\n",
       "      <td>3.901844</td>\n",
       "      <td>...</td>\n",
       "      <td>0.228366</td>\n",
       "      <td>0.152244</td>\n",
       "      <td>0.101496</td>\n",
       "      <td>0.067664</td>\n",
       "      <td>0.045109</td>\n",
       "      <td>0.030073</td>\n",
       "      <td>0.020049</td>\n",
       "      <td>0.013366</td>\n",
       "      <td>0.00891</td>\n",
       "      <td>0.00594</td>\n",
       "    </tr>\n",
       "  </tbody>\n",
       "</table>\n",
       "<p>2 rows × 26 columns</p>\n",
       "</div>"
      ],
      "text/plain": [
       "  Unnamed: 0    1           2           3          4           5           6  \\\n",
       "0        rho  340  340.000000  340.000000  340.00000  340.000000  340.000000   \n",
       "1        x_G  100   66.666667   44.444444   29.62963   19.753086   13.168724   \n",
       "\n",
       "           7           8           9  ...          16          17          18  \\\n",
       "0  340.00000  340.000000  340.000000  ...  340.000000  340.000000  340.000000   \n",
       "1    8.77915    5.852766    3.901844  ...    0.228366    0.152244    0.101496   \n",
       "\n",
       "           19          20          21          22          23         24  \\\n",
       "0  340.000000  340.000000  340.000000  340.000000  340.000000  340.00000   \n",
       "1    0.067664    0.045109    0.030073    0.020049    0.013366    0.00891   \n",
       "\n",
       "          25  \n",
       "0  340.00000  \n",
       "1    0.00594  \n",
       "\n",
       "[2 rows x 26 columns]"
      ]
     },
     "execution_count": 9,
     "metadata": {},
     "output_type": "execute_result"
    }
   ],
   "source": [
    "pd.read_csv(A_path+\"/conditions.csv\", sep=\";\")"
   ]
  },
  {
   "cell_type": "markdown",
   "metadata": {},
   "source": []
  }
 ],
 "metadata": {
  "kernelspec": {
   "display_name": "Python 3",
   "language": "python",
   "name": "python3"
  },
  "language_info": {
   "codemirror_mode": {
    "name": "ipython",
    "version": 3
   },
   "file_extension": ".py",
   "mimetype": "text/x-python",
   "name": "python",
   "nbconvert_exporter": "python",
   "pygments_lexer": "ipython3",
   "version": "3.12.6"
  }
 },
 "nbformat": 4,
 "nbformat_minor": 2
}
